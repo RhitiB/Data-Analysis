{
 "cells": [
  {
   "cell_type": "code",
   "execution_count": 1,
   "id": "7ebe42c5",
   "metadata": {
    "_cell_guid": "b1076dfc-b9ad-4769-8c92-a6c4dae69d19",
    "_uuid": "8f2839f25d086af736a60e9eeb907d3b93b6e0e5",
    "execution": {
     "iopub.execute_input": "2025-02-26T21:27:53.694492Z",
     "iopub.status.busy": "2025-02-26T21:27:53.693989Z",
     "iopub.status.idle": "2025-02-26T21:27:54.802880Z",
     "shell.execute_reply": "2025-02-26T21:27:54.801608Z"
    },
    "papermill": {
     "duration": 1.121763,
     "end_time": "2025-02-26T21:27:54.804983",
     "exception": false,
     "start_time": "2025-02-26T21:27:53.683220",
     "status": "completed"
    },
    "tags": []
   },
   "outputs": [
    {
     "name": "stdout",
     "output_type": "stream",
     "text": [
      "/kaggle/input/nasaexoplanets/cleaned_5250.csv\n"
     ]
    }
   ],
   "source": [
    "# This Python 3 environment comes with many helpful analytics libraries installed\n",
    "# It is defined by the kaggle/python Docker image: https://github.com/kaggle/docker-python\n",
    "# For example, here's several helpful packages to load\n",
    "\n",
    "import numpy as np # linear algebra\n",
    "import pandas as pd # data processing, CSV file I/O (e.g. pd.read_csv)\n",
    "\n",
    "# Input data files are available in the read-only \"../input/\" directory\n",
    "# For example, running this (by clicking run or pressing Shift+Enter) will list all files under the input directory\n",
    "\n",
    "import os\n",
    "for dirname, _, filenames in os.walk('/kaggle/input'):\n",
    "    for filename in filenames:\n",
    "        print(os.path.join(dirname, filename))\n",
    "\n",
    "# You can write up to 20GB to the current directory (/kaggle/working/) that gets preserved as output when you create a version using \"Save & Run All\" \n",
    "# You can also write temporary files to /kaggle/temp/, but they won't be saved outside of the current session"
   ]
  },
  {
   "cell_type": "code",
   "execution_count": 2,
   "id": "d76a1725",
   "metadata": {
    "execution": {
     "iopub.execute_input": "2025-02-26T21:27:54.823220Z",
     "iopub.status.busy": "2025-02-26T21:27:54.822750Z",
     "iopub.status.idle": "2025-02-26T21:28:00.644825Z",
     "shell.execute_reply": "2025-02-26T21:28:00.642988Z"
    },
    "papermill": {
     "duration": 5.833881,
     "end_time": "2025-02-26T21:28:00.647580",
     "exception": false,
     "start_time": "2025-02-26T21:27:54.813699",
     "status": "completed"
    },
    "tags": []
   },
   "outputs": [
    {
     "name": "stdout",
     "output_type": "stream",
     "text": [
      "Requirement already satisfied: kaggle in /usr/local/lib/python3.10/dist-packages (1.6.17)\r\n",
      "Requirement already satisfied: six>=1.10 in /usr/local/lib/python3.10/dist-packages (from kaggle) (1.17.0)\r\n",
      "Requirement already satisfied: certifi>=2023.7.22 in /usr/local/lib/python3.10/dist-packages (from kaggle) (2025.1.31)\r\n",
      "Requirement already satisfied: python-dateutil in /usr/local/lib/python3.10/dist-packages (from kaggle) (2.9.0.post0)\r\n",
      "Requirement already satisfied: requests in /usr/local/lib/python3.10/dist-packages (from kaggle) (2.32.3)\r\n",
      "Requirement already satisfied: tqdm in /usr/local/lib/python3.10/dist-packages (from kaggle) (4.67.1)\r\n",
      "Requirement already satisfied: python-slugify in /usr/local/lib/python3.10/dist-packages (from kaggle) (8.0.4)\r\n",
      "Requirement already satisfied: urllib3 in /usr/local/lib/python3.10/dist-packages (from kaggle) (2.3.0)\r\n",
      "Requirement already satisfied: bleach in /usr/local/lib/python3.10/dist-packages (from kaggle) (6.2.0)\r\n",
      "Requirement already satisfied: webencodings in /usr/local/lib/python3.10/dist-packages (from bleach->kaggle) (0.5.1)\r\n",
      "Requirement already satisfied: text-unidecode>=1.3 in /usr/local/lib/python3.10/dist-packages (from python-slugify->kaggle) (1.3)\r\n",
      "Requirement already satisfied: charset-normalizer<4,>=2 in /usr/local/lib/python3.10/dist-packages (from requests->kaggle) (3.4.1)\r\n",
      "Requirement already satisfied: idna<4,>=2.5 in /usr/local/lib/python3.10/dist-packages (from requests->kaggle) (3.10)\r\n"
     ]
    }
   ],
   "source": [
    "!pip install kaggle"
   ]
  },
  {
   "cell_type": "code",
   "execution_count": 3,
   "id": "afb47508",
   "metadata": {
    "execution": {
     "iopub.execute_input": "2025-02-26T21:28:00.666046Z",
     "iopub.status.busy": "2025-02-26T21:28:00.665631Z",
     "iopub.status.idle": "2025-02-26T21:28:00.708993Z",
     "shell.execute_reply": "2025-02-26T21:28:00.707850Z"
    },
    "papermill": {
     "duration": 0.0544,
     "end_time": "2025-02-26T21:28:00.710800",
     "exception": false,
     "start_time": "2025-02-26T21:28:00.656400",
     "status": "completed"
    },
    "tags": []
   },
   "outputs": [],
   "source": [
    "df=pd.read_csv(\"/kaggle/input/nasaexoplanets/cleaned_5250.csv\")"
   ]
  },
  {
   "cell_type": "code",
   "execution_count": 4,
   "id": "096db5c0",
   "metadata": {
    "execution": {
     "iopub.execute_input": "2025-02-26T21:28:00.729321Z",
     "iopub.status.busy": "2025-02-26T21:28:00.728930Z",
     "iopub.status.idle": "2025-02-26T21:28:00.766455Z",
     "shell.execute_reply": "2025-02-26T21:28:00.765379Z"
    },
    "papermill": {
     "duration": 0.048757,
     "end_time": "2025-02-26T21:28:00.768393",
     "exception": false,
     "start_time": "2025-02-26T21:28:00.719636",
     "status": "completed"
    },
    "tags": []
   },
   "outputs": [
    {
     "data": {
      "text/html": [
       "<div>\n",
       "<style scoped>\n",
       "    .dataframe tbody tr th:only-of-type {\n",
       "        vertical-align: middle;\n",
       "    }\n",
       "\n",
       "    .dataframe tbody tr th {\n",
       "        vertical-align: top;\n",
       "    }\n",
       "\n",
       "    .dataframe thead th {\n",
       "        text-align: right;\n",
       "    }\n",
       "</style>\n",
       "<table border=\"1\" class=\"dataframe\">\n",
       "  <thead>\n",
       "    <tr style=\"text-align: right;\">\n",
       "      <th></th>\n",
       "      <th>name</th>\n",
       "      <th>distance</th>\n",
       "      <th>stellar_magnitude</th>\n",
       "      <th>planet_type</th>\n",
       "      <th>discovery_year</th>\n",
       "      <th>mass_multiplier</th>\n",
       "      <th>mass_wrt</th>\n",
       "      <th>radius_multiplier</th>\n",
       "      <th>radius_wrt</th>\n",
       "      <th>orbital_radius</th>\n",
       "      <th>orbital_period</th>\n",
       "      <th>eccentricity</th>\n",
       "      <th>detection_method</th>\n",
       "    </tr>\n",
       "  </thead>\n",
       "  <tbody>\n",
       "    <tr>\n",
       "      <th>0</th>\n",
       "      <td>11 Comae Berenices b</td>\n",
       "      <td>304.0</td>\n",
       "      <td>4.72307</td>\n",
       "      <td>Gas Giant</td>\n",
       "      <td>2007</td>\n",
       "      <td>19.40000</td>\n",
       "      <td>Jupiter</td>\n",
       "      <td>1.08</td>\n",
       "      <td>Jupiter</td>\n",
       "      <td>1.290000</td>\n",
       "      <td>0.892539</td>\n",
       "      <td>0.23</td>\n",
       "      <td>Radial Velocity</td>\n",
       "    </tr>\n",
       "    <tr>\n",
       "      <th>1</th>\n",
       "      <td>11 Ursae Minoris b</td>\n",
       "      <td>409.0</td>\n",
       "      <td>5.01300</td>\n",
       "      <td>Gas Giant</td>\n",
       "      <td>2009</td>\n",
       "      <td>14.74000</td>\n",
       "      <td>Jupiter</td>\n",
       "      <td>1.09</td>\n",
       "      <td>Jupiter</td>\n",
       "      <td>1.530000</td>\n",
       "      <td>1.400000</td>\n",
       "      <td>0.08</td>\n",
       "      <td>Radial Velocity</td>\n",
       "    </tr>\n",
       "    <tr>\n",
       "      <th>2</th>\n",
       "      <td>14 Andromedae b</td>\n",
       "      <td>246.0</td>\n",
       "      <td>5.23133</td>\n",
       "      <td>Gas Giant</td>\n",
       "      <td>2008</td>\n",
       "      <td>4.80000</td>\n",
       "      <td>Jupiter</td>\n",
       "      <td>1.15</td>\n",
       "      <td>Jupiter</td>\n",
       "      <td>0.830000</td>\n",
       "      <td>0.508693</td>\n",
       "      <td>0.00</td>\n",
       "      <td>Radial Velocity</td>\n",
       "    </tr>\n",
       "    <tr>\n",
       "      <th>3</th>\n",
       "      <td>14 Herculis b</td>\n",
       "      <td>58.0</td>\n",
       "      <td>6.61935</td>\n",
       "      <td>Gas Giant</td>\n",
       "      <td>2002</td>\n",
       "      <td>8.13881</td>\n",
       "      <td>Jupiter</td>\n",
       "      <td>1.12</td>\n",
       "      <td>Jupiter</td>\n",
       "      <td>2.773069</td>\n",
       "      <td>4.800000</td>\n",
       "      <td>0.37</td>\n",
       "      <td>Radial Velocity</td>\n",
       "    </tr>\n",
       "    <tr>\n",
       "      <th>4</th>\n",
       "      <td>16 Cygni B b</td>\n",
       "      <td>69.0</td>\n",
       "      <td>6.21500</td>\n",
       "      <td>Gas Giant</td>\n",
       "      <td>1996</td>\n",
       "      <td>1.78000</td>\n",
       "      <td>Jupiter</td>\n",
       "      <td>1.20</td>\n",
       "      <td>Jupiter</td>\n",
       "      <td>1.660000</td>\n",
       "      <td>2.200000</td>\n",
       "      <td>0.68</td>\n",
       "      <td>Radial Velocity</td>\n",
       "    </tr>\n",
       "  </tbody>\n",
       "</table>\n",
       "</div>"
      ],
      "text/plain": [
       "                   name  distance  stellar_magnitude planet_type  \\\n",
       "0  11 Comae Berenices b     304.0            4.72307   Gas Giant   \n",
       "1    11 Ursae Minoris b     409.0            5.01300   Gas Giant   \n",
       "2       14 Andromedae b     246.0            5.23133   Gas Giant   \n",
       "3         14 Herculis b      58.0            6.61935   Gas Giant   \n",
       "4          16 Cygni B b      69.0            6.21500   Gas Giant   \n",
       "\n",
       "   discovery_year  mass_multiplier mass_wrt  radius_multiplier radius_wrt  \\\n",
       "0            2007         19.40000  Jupiter               1.08    Jupiter   \n",
       "1            2009         14.74000  Jupiter               1.09    Jupiter   \n",
       "2            2008          4.80000  Jupiter               1.15    Jupiter   \n",
       "3            2002          8.13881  Jupiter               1.12    Jupiter   \n",
       "4            1996          1.78000  Jupiter               1.20    Jupiter   \n",
       "\n",
       "   orbital_radius  orbital_period  eccentricity detection_method  \n",
       "0        1.290000        0.892539          0.23  Radial Velocity  \n",
       "1        1.530000        1.400000          0.08  Radial Velocity  \n",
       "2        0.830000        0.508693          0.00  Radial Velocity  \n",
       "3        2.773069        4.800000          0.37  Radial Velocity  \n",
       "4        1.660000        2.200000          0.68  Radial Velocity  "
      ]
     },
     "execution_count": 4,
     "metadata": {},
     "output_type": "execute_result"
    }
   ],
   "source": [
    "df.head()"
   ]
  },
  {
   "cell_type": "code",
   "execution_count": 5,
   "id": "bfab93bb",
   "metadata": {
    "execution": {
     "iopub.execute_input": "2025-02-26T21:28:00.787033Z",
     "iopub.status.busy": "2025-02-26T21:28:00.786634Z",
     "iopub.status.idle": "2025-02-26T21:28:00.803056Z",
     "shell.execute_reply": "2025-02-26T21:28:00.801872Z"
    },
    "papermill": {
     "duration": 0.027728,
     "end_time": "2025-02-26T21:28:00.804879",
     "exception": false,
     "start_time": "2025-02-26T21:28:00.777151",
     "status": "completed"
    },
    "tags": []
   },
   "outputs": [
    {
     "data": {
      "text/html": [
       "<div>\n",
       "<style scoped>\n",
       "    .dataframe tbody tr th:only-of-type {\n",
       "        vertical-align: middle;\n",
       "    }\n",
       "\n",
       "    .dataframe tbody tr th {\n",
       "        vertical-align: top;\n",
       "    }\n",
       "\n",
       "    .dataframe thead th {\n",
       "        text-align: right;\n",
       "    }\n",
       "</style>\n",
       "<table border=\"1\" class=\"dataframe\">\n",
       "  <thead>\n",
       "    <tr style=\"text-align: right;\">\n",
       "      <th></th>\n",
       "      <th>name</th>\n",
       "      <th>distance</th>\n",
       "      <th>stellar_magnitude</th>\n",
       "      <th>planet_type</th>\n",
       "      <th>discovery_year</th>\n",
       "      <th>mass_multiplier</th>\n",
       "      <th>mass_wrt</th>\n",
       "      <th>radius_multiplier</th>\n",
       "      <th>radius_wrt</th>\n",
       "      <th>orbital_radius</th>\n",
       "      <th>orbital_period</th>\n",
       "      <th>eccentricity</th>\n",
       "      <th>detection_method</th>\n",
       "    </tr>\n",
       "  </thead>\n",
       "  <tbody>\n",
       "    <tr>\n",
       "      <th>5245</th>\n",
       "      <td>XO-7 b</td>\n",
       "      <td>764.0</td>\n",
       "      <td>10.521</td>\n",
       "      <td>Gas Giant</td>\n",
       "      <td>2019</td>\n",
       "      <td>0.709</td>\n",
       "      <td>Jupiter</td>\n",
       "      <td>1.373</td>\n",
       "      <td>Jupiter</td>\n",
       "      <td>0.04421</td>\n",
       "      <td>0.007940</td>\n",
       "      <td>0.04</td>\n",
       "      <td>Transit</td>\n",
       "    </tr>\n",
       "    <tr>\n",
       "      <th>5246</th>\n",
       "      <td>YSES 2 b</td>\n",
       "      <td>357.0</td>\n",
       "      <td>10.885</td>\n",
       "      <td>Gas Giant</td>\n",
       "      <td>2021</td>\n",
       "      <td>6.300</td>\n",
       "      <td>Jupiter</td>\n",
       "      <td>1.140</td>\n",
       "      <td>Jupiter</td>\n",
       "      <td>115.00000</td>\n",
       "      <td>1176.500000</td>\n",
       "      <td>0.00</td>\n",
       "      <td>Direct Imaging</td>\n",
       "    </tr>\n",
       "    <tr>\n",
       "      <th>5247</th>\n",
       "      <td>YZ Ceti b</td>\n",
       "      <td>12.0</td>\n",
       "      <td>12.074</td>\n",
       "      <td>Terrestrial</td>\n",
       "      <td>2017</td>\n",
       "      <td>0.700</td>\n",
       "      <td>Earth</td>\n",
       "      <td>0.913</td>\n",
       "      <td>Earth</td>\n",
       "      <td>0.01634</td>\n",
       "      <td>0.005476</td>\n",
       "      <td>0.06</td>\n",
       "      <td>Radial Velocity</td>\n",
       "    </tr>\n",
       "    <tr>\n",
       "      <th>5248</th>\n",
       "      <td>YZ Ceti c</td>\n",
       "      <td>12.0</td>\n",
       "      <td>12.074</td>\n",
       "      <td>Super Earth</td>\n",
       "      <td>2017</td>\n",
       "      <td>1.140</td>\n",
       "      <td>Earth</td>\n",
       "      <td>1.050</td>\n",
       "      <td>Earth</td>\n",
       "      <td>0.02156</td>\n",
       "      <td>0.008487</td>\n",
       "      <td>0.00</td>\n",
       "      <td>Radial Velocity</td>\n",
       "    </tr>\n",
       "    <tr>\n",
       "      <th>5249</th>\n",
       "      <td>YZ Ceti d</td>\n",
       "      <td>12.0</td>\n",
       "      <td>12.074</td>\n",
       "      <td>Super Earth</td>\n",
       "      <td>2017</td>\n",
       "      <td>1.090</td>\n",
       "      <td>Earth</td>\n",
       "      <td>1.030</td>\n",
       "      <td>Earth</td>\n",
       "      <td>0.02851</td>\n",
       "      <td>0.012868</td>\n",
       "      <td>0.07</td>\n",
       "      <td>Radial Velocity</td>\n",
       "    </tr>\n",
       "  </tbody>\n",
       "</table>\n",
       "</div>"
      ],
      "text/plain": [
       "           name  distance  stellar_magnitude  planet_type  discovery_year  \\\n",
       "5245     XO-7 b     764.0             10.521    Gas Giant            2019   \n",
       "5246   YSES 2 b     357.0             10.885    Gas Giant            2021   \n",
       "5247  YZ Ceti b      12.0             12.074  Terrestrial            2017   \n",
       "5248  YZ Ceti c      12.0             12.074  Super Earth            2017   \n",
       "5249  YZ Ceti d      12.0             12.074  Super Earth            2017   \n",
       "\n",
       "      mass_multiplier mass_wrt  radius_multiplier radius_wrt  orbital_radius  \\\n",
       "5245            0.709  Jupiter              1.373    Jupiter         0.04421   \n",
       "5246            6.300  Jupiter              1.140    Jupiter       115.00000   \n",
       "5247            0.700    Earth              0.913      Earth         0.01634   \n",
       "5248            1.140    Earth              1.050      Earth         0.02156   \n",
       "5249            1.090    Earth              1.030      Earth         0.02851   \n",
       "\n",
       "      orbital_period  eccentricity detection_method  \n",
       "5245        0.007940          0.04          Transit  \n",
       "5246     1176.500000          0.00   Direct Imaging  \n",
       "5247        0.005476          0.06  Radial Velocity  \n",
       "5248        0.008487          0.00  Radial Velocity  \n",
       "5249        0.012868          0.07  Radial Velocity  "
      ]
     },
     "execution_count": 5,
     "metadata": {},
     "output_type": "execute_result"
    }
   ],
   "source": [
    "df.tail()"
   ]
  },
  {
   "cell_type": "markdown",
   "id": "372e91bf",
   "metadata": {
    "papermill": {
     "duration": 0.008378,
     "end_time": "2025-02-26T21:28:00.822188",
     "exception": false,
     "start_time": "2025-02-26T21:28:00.813810",
     "status": "completed"
    },
    "tags": []
   },
   "source": [
    "# A Small Description of Each of the columns\n",
    "- name: Name of the exoplanet\n",
    "- distance: Distance of the planet from Earth(in light years)\n",
    "- stellar magnitude: Absolute magnitude of the planet\n",
    "- planet-type: type of the planet(compared with our solar system)\n",
    "- discovery_year: Year on which the planet was discovered\n",
    "- Finish it after completing the code"
   ]
  },
  {
   "cell_type": "markdown",
   "id": "c5abff90",
   "metadata": {
    "papermill": {
     "duration": 0.008776,
     "end_time": "2025-02-26T21:28:00.839648",
     "exception": false,
     "start_time": "2025-02-26T21:28:00.830872",
     "status": "completed"
    },
    "tags": []
   },
   "source": [
    "We are changing the mass of the exoplanets to a fixed planet mass which is the mass of Earth. *Jupiter is 318 times the mass of Earth*.\n",
    "\n",
    "Therefore, the planets with masses equal to Jupiter should be multiplied by 318."
   ]
  },
  {
   "cell_type": "code",
   "execution_count": 6,
   "id": "9b5de44f",
   "metadata": {
    "execution": {
     "iopub.execute_input": "2025-02-26T21:28:00.858560Z",
     "iopub.status.busy": "2025-02-26T21:28:00.858105Z",
     "iopub.status.idle": "2025-02-26T21:28:00.971690Z",
     "shell.execute_reply": "2025-02-26T21:28:00.970036Z"
    },
    "papermill": {
     "duration": 0.125381,
     "end_time": "2025-02-26T21:28:00.973744",
     "exception": false,
     "start_time": "2025-02-26T21:28:00.848363",
     "status": "completed"
    },
    "tags": []
   },
   "outputs": [],
   "source": [
    "#Mass with respect to the mass of Earth\n",
    "def mass_earth(a):\n",
    "    if a[\"mass_wrt\"]==\"Earth\":\n",
    "        return a[\"mass_multiplier\"]\n",
    "    elif a[\"mass_wrt\"]==\"Jupiter\":\n",
    "        return a[\"mass_multiplier\"]*318\n",
    "#Radius with respect to the radius of Earth\n",
    "def rad_earth(b):\n",
    "    if b[\"radius_wrt\"]==\"Earth\":\n",
    "        return b[\"radius_multiplier\"]\n",
    "    elif b[\"radius_wrt\"]==\"Jupiter\":\n",
    "        return b[\"radius_multiplier\"]*11.2\n",
    "\n",
    "df[\"mass_multiplier\"]=df.apply(mass_earth, axis=1)\n",
    "df[\"radius_multiplier\"]=df.apply(rad_earth, axis=1)        "
   ]
  },
  {
   "cell_type": "code",
   "execution_count": 7,
   "id": "89edfe1e",
   "metadata": {
    "execution": {
     "iopub.execute_input": "2025-02-26T21:28:00.992528Z",
     "iopub.status.busy": "2025-02-26T21:28:00.992099Z",
     "iopub.status.idle": "2025-02-26T21:28:01.007900Z",
     "shell.execute_reply": "2025-02-26T21:28:01.006818Z"
    },
    "papermill": {
     "duration": 0.027263,
     "end_time": "2025-02-26T21:28:01.009759",
     "exception": false,
     "start_time": "2025-02-26T21:28:00.982496",
     "status": "completed"
    },
    "tags": []
   },
   "outputs": [
    {
     "data": {
      "text/html": [
       "<div>\n",
       "<style scoped>\n",
       "    .dataframe tbody tr th:only-of-type {\n",
       "        vertical-align: middle;\n",
       "    }\n",
       "\n",
       "    .dataframe tbody tr th {\n",
       "        vertical-align: top;\n",
       "    }\n",
       "\n",
       "    .dataframe thead th {\n",
       "        text-align: right;\n",
       "    }\n",
       "</style>\n",
       "<table border=\"1\" class=\"dataframe\">\n",
       "  <thead>\n",
       "    <tr style=\"text-align: right;\">\n",
       "      <th></th>\n",
       "      <th>name</th>\n",
       "      <th>distance</th>\n",
       "      <th>stellar_magnitude</th>\n",
       "      <th>planet_type</th>\n",
       "      <th>discovery_year</th>\n",
       "      <th>mass_multiplier</th>\n",
       "      <th>mass_wrt</th>\n",
       "      <th>radius_multiplier</th>\n",
       "      <th>radius_wrt</th>\n",
       "      <th>orbital_radius</th>\n",
       "      <th>orbital_period</th>\n",
       "      <th>eccentricity</th>\n",
       "      <th>detection_method</th>\n",
       "    </tr>\n",
       "  </thead>\n",
       "  <tbody>\n",
       "    <tr>\n",
       "      <th>0</th>\n",
       "      <td>11 Comae Berenices b</td>\n",
       "      <td>304.0</td>\n",
       "      <td>4.72307</td>\n",
       "      <td>Gas Giant</td>\n",
       "      <td>2007</td>\n",
       "      <td>6169.20000</td>\n",
       "      <td>Jupiter</td>\n",
       "      <td>12.096</td>\n",
       "      <td>Jupiter</td>\n",
       "      <td>1.290000</td>\n",
       "      <td>0.892539</td>\n",
       "      <td>0.23</td>\n",
       "      <td>Radial Velocity</td>\n",
       "    </tr>\n",
       "    <tr>\n",
       "      <th>1</th>\n",
       "      <td>11 Ursae Minoris b</td>\n",
       "      <td>409.0</td>\n",
       "      <td>5.01300</td>\n",
       "      <td>Gas Giant</td>\n",
       "      <td>2009</td>\n",
       "      <td>4687.32000</td>\n",
       "      <td>Jupiter</td>\n",
       "      <td>12.208</td>\n",
       "      <td>Jupiter</td>\n",
       "      <td>1.530000</td>\n",
       "      <td>1.400000</td>\n",
       "      <td>0.08</td>\n",
       "      <td>Radial Velocity</td>\n",
       "    </tr>\n",
       "    <tr>\n",
       "      <th>2</th>\n",
       "      <td>14 Andromedae b</td>\n",
       "      <td>246.0</td>\n",
       "      <td>5.23133</td>\n",
       "      <td>Gas Giant</td>\n",
       "      <td>2008</td>\n",
       "      <td>1526.40000</td>\n",
       "      <td>Jupiter</td>\n",
       "      <td>12.880</td>\n",
       "      <td>Jupiter</td>\n",
       "      <td>0.830000</td>\n",
       "      <td>0.508693</td>\n",
       "      <td>0.00</td>\n",
       "      <td>Radial Velocity</td>\n",
       "    </tr>\n",
       "    <tr>\n",
       "      <th>3</th>\n",
       "      <td>14 Herculis b</td>\n",
       "      <td>58.0</td>\n",
       "      <td>6.61935</td>\n",
       "      <td>Gas Giant</td>\n",
       "      <td>2002</td>\n",
       "      <td>2588.14158</td>\n",
       "      <td>Jupiter</td>\n",
       "      <td>12.544</td>\n",
       "      <td>Jupiter</td>\n",
       "      <td>2.773069</td>\n",
       "      <td>4.800000</td>\n",
       "      <td>0.37</td>\n",
       "      <td>Radial Velocity</td>\n",
       "    </tr>\n",
       "  </tbody>\n",
       "</table>\n",
       "</div>"
      ],
      "text/plain": [
       "                   name  distance  stellar_magnitude planet_type  \\\n",
       "0  11 Comae Berenices b     304.0            4.72307   Gas Giant   \n",
       "1    11 Ursae Minoris b     409.0            5.01300   Gas Giant   \n",
       "2       14 Andromedae b     246.0            5.23133   Gas Giant   \n",
       "3         14 Herculis b      58.0            6.61935   Gas Giant   \n",
       "\n",
       "   discovery_year  mass_multiplier mass_wrt  radius_multiplier radius_wrt  \\\n",
       "0            2007       6169.20000  Jupiter             12.096    Jupiter   \n",
       "1            2009       4687.32000  Jupiter             12.208    Jupiter   \n",
       "2            2008       1526.40000  Jupiter             12.880    Jupiter   \n",
       "3            2002       2588.14158  Jupiter             12.544    Jupiter   \n",
       "\n",
       "   orbital_radius  orbital_period  eccentricity detection_method  \n",
       "0        1.290000        0.892539          0.23  Radial Velocity  \n",
       "1        1.530000        1.400000          0.08  Radial Velocity  \n",
       "2        0.830000        0.508693          0.00  Radial Velocity  \n",
       "3        2.773069        4.800000          0.37  Radial Velocity  "
      ]
     },
     "execution_count": 7,
     "metadata": {},
     "output_type": "execute_result"
    }
   ],
   "source": [
    "df.head(4)"
   ]
  },
  {
   "cell_type": "code",
   "execution_count": 8,
   "id": "fa54dac3",
   "metadata": {
    "execution": {
     "iopub.execute_input": "2025-02-26T21:28:01.029940Z",
     "iopub.status.busy": "2025-02-26T21:28:01.029599Z",
     "iopub.status.idle": "2025-02-26T21:28:01.036394Z",
     "shell.execute_reply": "2025-02-26T21:28:01.035120Z"
    },
    "papermill": {
     "duration": 0.019503,
     "end_time": "2025-02-26T21:28:01.038464",
     "exception": false,
     "start_time": "2025-02-26T21:28:01.018961",
     "status": "completed"
    },
    "tags": []
   },
   "outputs": [],
   "source": [
    "df=df.rename(columns={\"mass_multiplier\": \"mass_earth\", \"radius_multiplier\":\"radius_earth\"})"
   ]
  },
  {
   "cell_type": "code",
   "execution_count": 9,
   "id": "de7b7e99",
   "metadata": {
    "execution": {
     "iopub.execute_input": "2025-02-26T21:28:01.058066Z",
     "iopub.status.busy": "2025-02-26T21:28:01.057660Z",
     "iopub.status.idle": "2025-02-26T21:28:01.074427Z",
     "shell.execute_reply": "2025-02-26T21:28:01.072931Z"
    },
    "papermill": {
     "duration": 0.028567,
     "end_time": "2025-02-26T21:28:01.076261",
     "exception": false,
     "start_time": "2025-02-26T21:28:01.047694",
     "status": "completed"
    },
    "tags": []
   },
   "outputs": [
    {
     "data": {
      "text/html": [
       "<div>\n",
       "<style scoped>\n",
       "    .dataframe tbody tr th:only-of-type {\n",
       "        vertical-align: middle;\n",
       "    }\n",
       "\n",
       "    .dataframe tbody tr th {\n",
       "        vertical-align: top;\n",
       "    }\n",
       "\n",
       "    .dataframe thead th {\n",
       "        text-align: right;\n",
       "    }\n",
       "</style>\n",
       "<table border=\"1\" class=\"dataframe\">\n",
       "  <thead>\n",
       "    <tr style=\"text-align: right;\">\n",
       "      <th></th>\n",
       "      <th>name</th>\n",
       "      <th>distance</th>\n",
       "      <th>stellar_magnitude</th>\n",
       "      <th>planet_type</th>\n",
       "      <th>discovery_year</th>\n",
       "      <th>mass_earth</th>\n",
       "      <th>mass_wrt</th>\n",
       "      <th>radius_earth</th>\n",
       "      <th>radius_wrt</th>\n",
       "      <th>orbital_radius</th>\n",
       "      <th>orbital_period</th>\n",
       "      <th>eccentricity</th>\n",
       "      <th>detection_method</th>\n",
       "    </tr>\n",
       "  </thead>\n",
       "  <tbody>\n",
       "    <tr>\n",
       "      <th>0</th>\n",
       "      <td>11 Comae Berenices b</td>\n",
       "      <td>304.0</td>\n",
       "      <td>4.72307</td>\n",
       "      <td>Gas Giant</td>\n",
       "      <td>2007</td>\n",
       "      <td>6169.20000</td>\n",
       "      <td>Jupiter</td>\n",
       "      <td>12.096</td>\n",
       "      <td>Jupiter</td>\n",
       "      <td>1.290000</td>\n",
       "      <td>0.892539</td>\n",
       "      <td>0.23</td>\n",
       "      <td>Radial Velocity</td>\n",
       "    </tr>\n",
       "    <tr>\n",
       "      <th>1</th>\n",
       "      <td>11 Ursae Minoris b</td>\n",
       "      <td>409.0</td>\n",
       "      <td>5.01300</td>\n",
       "      <td>Gas Giant</td>\n",
       "      <td>2009</td>\n",
       "      <td>4687.32000</td>\n",
       "      <td>Jupiter</td>\n",
       "      <td>12.208</td>\n",
       "      <td>Jupiter</td>\n",
       "      <td>1.530000</td>\n",
       "      <td>1.400000</td>\n",
       "      <td>0.08</td>\n",
       "      <td>Radial Velocity</td>\n",
       "    </tr>\n",
       "    <tr>\n",
       "      <th>2</th>\n",
       "      <td>14 Andromedae b</td>\n",
       "      <td>246.0</td>\n",
       "      <td>5.23133</td>\n",
       "      <td>Gas Giant</td>\n",
       "      <td>2008</td>\n",
       "      <td>1526.40000</td>\n",
       "      <td>Jupiter</td>\n",
       "      <td>12.880</td>\n",
       "      <td>Jupiter</td>\n",
       "      <td>0.830000</td>\n",
       "      <td>0.508693</td>\n",
       "      <td>0.00</td>\n",
       "      <td>Radial Velocity</td>\n",
       "    </tr>\n",
       "    <tr>\n",
       "      <th>3</th>\n",
       "      <td>14 Herculis b</td>\n",
       "      <td>58.0</td>\n",
       "      <td>6.61935</td>\n",
       "      <td>Gas Giant</td>\n",
       "      <td>2002</td>\n",
       "      <td>2588.14158</td>\n",
       "      <td>Jupiter</td>\n",
       "      <td>12.544</td>\n",
       "      <td>Jupiter</td>\n",
       "      <td>2.773069</td>\n",
       "      <td>4.800000</td>\n",
       "      <td>0.37</td>\n",
       "      <td>Radial Velocity</td>\n",
       "    </tr>\n",
       "  </tbody>\n",
       "</table>\n",
       "</div>"
      ],
      "text/plain": [
       "                   name  distance  stellar_magnitude planet_type  \\\n",
       "0  11 Comae Berenices b     304.0            4.72307   Gas Giant   \n",
       "1    11 Ursae Minoris b     409.0            5.01300   Gas Giant   \n",
       "2       14 Andromedae b     246.0            5.23133   Gas Giant   \n",
       "3         14 Herculis b      58.0            6.61935   Gas Giant   \n",
       "\n",
       "   discovery_year  mass_earth mass_wrt  radius_earth radius_wrt  \\\n",
       "0            2007  6169.20000  Jupiter        12.096    Jupiter   \n",
       "1            2009  4687.32000  Jupiter        12.208    Jupiter   \n",
       "2            2008  1526.40000  Jupiter        12.880    Jupiter   \n",
       "3            2002  2588.14158  Jupiter        12.544    Jupiter   \n",
       "\n",
       "   orbital_radius  orbital_period  eccentricity detection_method  \n",
       "0        1.290000        0.892539          0.23  Radial Velocity  \n",
       "1        1.530000        1.400000          0.08  Radial Velocity  \n",
       "2        0.830000        0.508693          0.00  Radial Velocity  \n",
       "3        2.773069        4.800000          0.37  Radial Velocity  "
      ]
     },
     "execution_count": 9,
     "metadata": {},
     "output_type": "execute_result"
    }
   ],
   "source": [
    "df.head(4)"
   ]
  },
  {
   "cell_type": "code",
   "execution_count": 10,
   "id": "e09bcb7c",
   "metadata": {
    "execution": {
     "iopub.execute_input": "2025-02-26T21:28:01.096155Z",
     "iopub.status.busy": "2025-02-26T21:28:01.095806Z",
     "iopub.status.idle": "2025-02-26T21:28:01.107953Z",
     "shell.execute_reply": "2025-02-26T21:28:01.106895Z"
    },
    "papermill": {
     "duration": 0.024286,
     "end_time": "2025-02-26T21:28:01.109937",
     "exception": false,
     "start_time": "2025-02-26T21:28:01.085651",
     "status": "completed"
    },
    "tags": []
   },
   "outputs": [
    {
     "data": {
      "text/plain": [
       "name                 False\n",
       "distance              True\n",
       "stellar_magnitude     True\n",
       "planet_type          False\n",
       "discovery_year       False\n",
       "mass_earth            True\n",
       "mass_wrt              True\n",
       "radius_earth          True\n",
       "radius_wrt            True\n",
       "orbital_radius        True\n",
       "orbital_period       False\n",
       "eccentricity         False\n",
       "detection_method     False\n",
       "dtype: bool"
      ]
     },
     "execution_count": 10,
     "metadata": {},
     "output_type": "execute_result"
    }
   ],
   "source": [
    "df.isnull().any()"
   ]
  },
  {
   "cell_type": "code",
   "execution_count": 11,
   "id": "f8d8fb30",
   "metadata": {
    "execution": {
     "iopub.execute_input": "2025-02-26T21:28:01.130471Z",
     "iopub.status.busy": "2025-02-26T21:28:01.130093Z",
     "iopub.status.idle": "2025-02-26T21:28:01.140628Z",
     "shell.execute_reply": "2025-02-26T21:28:01.139677Z"
    },
    "papermill": {
     "duration": 0.023239,
     "end_time": "2025-02-26T21:28:01.142681",
     "exception": false,
     "start_time": "2025-02-26T21:28:01.119442",
     "status": "completed"
    },
    "tags": []
   },
   "outputs": [
    {
     "data": {
      "text/plain": [
       "name                   0\n",
       "distance              17\n",
       "stellar_magnitude    161\n",
       "planet_type            0\n",
       "discovery_year         0\n",
       "mass_earth            23\n",
       "mass_wrt              23\n",
       "radius_earth          17\n",
       "radius_wrt            17\n",
       "orbital_radius       289\n",
       "orbital_period         0\n",
       "eccentricity           0\n",
       "detection_method       0\n",
       "dtype: int64"
      ]
     },
     "execution_count": 11,
     "metadata": {},
     "output_type": "execute_result"
    }
   ],
   "source": [
    "df.isnull().sum()"
   ]
  },
  {
   "cell_type": "code",
   "execution_count": 12,
   "id": "5f5b3b3a",
   "metadata": {
    "execution": {
     "iopub.execute_input": "2025-02-26T21:28:01.163244Z",
     "iopub.status.busy": "2025-02-26T21:28:01.162885Z",
     "iopub.status.idle": "2025-02-26T21:28:01.175708Z",
     "shell.execute_reply": "2025-02-26T21:28:01.174777Z"
    },
    "papermill": {
     "duration": 0.025572,
     "end_time": "2025-02-26T21:28:01.177705",
     "exception": false,
     "start_time": "2025-02-26T21:28:01.152133",
     "status": "completed"
    },
    "tags": []
   },
   "outputs": [],
   "source": [
    "df.drop([\"mass_wrt\", \"radius_wrt\"], axis=1, inplace=True)"
   ]
  },
  {
   "cell_type": "code",
   "execution_count": 13,
   "id": "18f93eda",
   "metadata": {
    "execution": {
     "iopub.execute_input": "2025-02-26T21:28:01.198148Z",
     "iopub.status.busy": "2025-02-26T21:28:01.197786Z",
     "iopub.status.idle": "2025-02-26T21:28:01.213122Z",
     "shell.execute_reply": "2025-02-26T21:28:01.212029Z"
    },
    "papermill": {
     "duration": 0.028024,
     "end_time": "2025-02-26T21:28:01.215224",
     "exception": false,
     "start_time": "2025-02-26T21:28:01.187200",
     "status": "completed"
    },
    "tags": []
   },
   "outputs": [
    {
     "data": {
      "text/html": [
       "<div>\n",
       "<style scoped>\n",
       "    .dataframe tbody tr th:only-of-type {\n",
       "        vertical-align: middle;\n",
       "    }\n",
       "\n",
       "    .dataframe tbody tr th {\n",
       "        vertical-align: top;\n",
       "    }\n",
       "\n",
       "    .dataframe thead th {\n",
       "        text-align: right;\n",
       "    }\n",
       "</style>\n",
       "<table border=\"1\" class=\"dataframe\">\n",
       "  <thead>\n",
       "    <tr style=\"text-align: right;\">\n",
       "      <th></th>\n",
       "      <th>name</th>\n",
       "      <th>distance</th>\n",
       "      <th>stellar_magnitude</th>\n",
       "      <th>planet_type</th>\n",
       "      <th>discovery_year</th>\n",
       "      <th>mass_earth</th>\n",
       "      <th>radius_earth</th>\n",
       "      <th>orbital_radius</th>\n",
       "      <th>orbital_period</th>\n",
       "      <th>eccentricity</th>\n",
       "      <th>detection_method</th>\n",
       "    </tr>\n",
       "  </thead>\n",
       "  <tbody>\n",
       "    <tr>\n",
       "      <th>0</th>\n",
       "      <td>11 Comae Berenices b</td>\n",
       "      <td>304.0</td>\n",
       "      <td>4.72307</td>\n",
       "      <td>Gas Giant</td>\n",
       "      <td>2007</td>\n",
       "      <td>6169.20000</td>\n",
       "      <td>12.096</td>\n",
       "      <td>1.290000</td>\n",
       "      <td>0.892539</td>\n",
       "      <td>0.23</td>\n",
       "      <td>Radial Velocity</td>\n",
       "    </tr>\n",
       "    <tr>\n",
       "      <th>1</th>\n",
       "      <td>11 Ursae Minoris b</td>\n",
       "      <td>409.0</td>\n",
       "      <td>5.01300</td>\n",
       "      <td>Gas Giant</td>\n",
       "      <td>2009</td>\n",
       "      <td>4687.32000</td>\n",
       "      <td>12.208</td>\n",
       "      <td>1.530000</td>\n",
       "      <td>1.400000</td>\n",
       "      <td>0.08</td>\n",
       "      <td>Radial Velocity</td>\n",
       "    </tr>\n",
       "    <tr>\n",
       "      <th>2</th>\n",
       "      <td>14 Andromedae b</td>\n",
       "      <td>246.0</td>\n",
       "      <td>5.23133</td>\n",
       "      <td>Gas Giant</td>\n",
       "      <td>2008</td>\n",
       "      <td>1526.40000</td>\n",
       "      <td>12.880</td>\n",
       "      <td>0.830000</td>\n",
       "      <td>0.508693</td>\n",
       "      <td>0.00</td>\n",
       "      <td>Radial Velocity</td>\n",
       "    </tr>\n",
       "    <tr>\n",
       "      <th>3</th>\n",
       "      <td>14 Herculis b</td>\n",
       "      <td>58.0</td>\n",
       "      <td>6.61935</td>\n",
       "      <td>Gas Giant</td>\n",
       "      <td>2002</td>\n",
       "      <td>2588.14158</td>\n",
       "      <td>12.544</td>\n",
       "      <td>2.773069</td>\n",
       "      <td>4.800000</td>\n",
       "      <td>0.37</td>\n",
       "      <td>Radial Velocity</td>\n",
       "    </tr>\n",
       "    <tr>\n",
       "      <th>4</th>\n",
       "      <td>16 Cygni B b</td>\n",
       "      <td>69.0</td>\n",
       "      <td>6.21500</td>\n",
       "      <td>Gas Giant</td>\n",
       "      <td>1996</td>\n",
       "      <td>566.04000</td>\n",
       "      <td>13.440</td>\n",
       "      <td>1.660000</td>\n",
       "      <td>2.200000</td>\n",
       "      <td>0.68</td>\n",
       "      <td>Radial Velocity</td>\n",
       "    </tr>\n",
       "  </tbody>\n",
       "</table>\n",
       "</div>"
      ],
      "text/plain": [
       "                   name  distance  stellar_magnitude planet_type  \\\n",
       "0  11 Comae Berenices b     304.0            4.72307   Gas Giant   \n",
       "1    11 Ursae Minoris b     409.0            5.01300   Gas Giant   \n",
       "2       14 Andromedae b     246.0            5.23133   Gas Giant   \n",
       "3         14 Herculis b      58.0            6.61935   Gas Giant   \n",
       "4          16 Cygni B b      69.0            6.21500   Gas Giant   \n",
       "\n",
       "   discovery_year  mass_earth  radius_earth  orbital_radius  orbital_period  \\\n",
       "0            2007  6169.20000        12.096        1.290000        0.892539   \n",
       "1            2009  4687.32000        12.208        1.530000        1.400000   \n",
       "2            2008  1526.40000        12.880        0.830000        0.508693   \n",
       "3            2002  2588.14158        12.544        2.773069        4.800000   \n",
       "4            1996   566.04000        13.440        1.660000        2.200000   \n",
       "\n",
       "   eccentricity detection_method  \n",
       "0          0.23  Radial Velocity  \n",
       "1          0.08  Radial Velocity  \n",
       "2          0.00  Radial Velocity  \n",
       "3          0.37  Radial Velocity  \n",
       "4          0.68  Radial Velocity  "
      ]
     },
     "execution_count": 13,
     "metadata": {},
     "output_type": "execute_result"
    }
   ],
   "source": [
    "df.head()"
   ]
  },
  {
   "cell_type": "code",
   "execution_count": 14,
   "id": "928c2a26",
   "metadata": {
    "execution": {
     "iopub.execute_input": "2025-02-26T21:28:01.237060Z",
     "iopub.status.busy": "2025-02-26T21:28:01.236704Z",
     "iopub.status.idle": "2025-02-26T21:28:01.293267Z",
     "shell.execute_reply": "2025-02-26T21:28:01.292126Z"
    },
    "papermill": {
     "duration": 0.069396,
     "end_time": "2025-02-26T21:28:01.295347",
     "exception": false,
     "start_time": "2025-02-26T21:28:01.225951",
     "status": "completed"
    },
    "tags": []
   },
   "outputs": [
    {
     "name": "stderr",
     "output_type": "stream",
     "text": [
      "/usr/local/lib/python3.10/dist-packages/pandas/io/formats/format.py:1458: RuntimeWarning: invalid value encountered in greater\n",
      "  has_large_values = (abs_vals > 1e6).any()\n",
      "/usr/local/lib/python3.10/dist-packages/pandas/io/formats/format.py:1459: RuntimeWarning: invalid value encountered in less\n",
      "  has_small_values = ((abs_vals < 10 ** (-self.digits)) & (abs_vals > 0)).any()\n",
      "/usr/local/lib/python3.10/dist-packages/pandas/io/formats/format.py:1459: RuntimeWarning: invalid value encountered in greater\n",
      "  has_small_values = ((abs_vals < 10 ** (-self.digits)) & (abs_vals > 0)).any()\n"
     ]
    },
    {
     "data": {
      "text/html": [
       "<div>\n",
       "<style scoped>\n",
       "    .dataframe tbody tr th:only-of-type {\n",
       "        vertical-align: middle;\n",
       "    }\n",
       "\n",
       "    .dataframe tbody tr th {\n",
       "        vertical-align: top;\n",
       "    }\n",
       "\n",
       "    .dataframe thead th {\n",
       "        text-align: right;\n",
       "    }\n",
       "</style>\n",
       "<table border=\"1\" class=\"dataframe\">\n",
       "  <thead>\n",
       "    <tr style=\"text-align: right;\">\n",
       "      <th></th>\n",
       "      <th>name</th>\n",
       "      <th>distance</th>\n",
       "      <th>stellar_magnitude</th>\n",
       "      <th>planet_type</th>\n",
       "      <th>discovery_year</th>\n",
       "      <th>mass_earth</th>\n",
       "      <th>radius_earth</th>\n",
       "      <th>orbital_radius</th>\n",
       "      <th>orbital_period</th>\n",
       "      <th>eccentricity</th>\n",
       "      <th>detection_method</th>\n",
       "    </tr>\n",
       "  </thead>\n",
       "  <tbody>\n",
       "    <tr>\n",
       "      <th>count</th>\n",
       "      <td>5250</td>\n",
       "      <td>5233.000000</td>\n",
       "      <td>5089.000000</td>\n",
       "      <td>5250</td>\n",
       "      <td>5250.000000</td>\n",
       "      <td>5227.000000</td>\n",
       "      <td>5233.000000</td>\n",
       "      <td>4961.000000</td>\n",
       "      <td>5.250000e+03</td>\n",
       "      <td>5250.000000</td>\n",
       "      <td>5250</td>\n",
       "    </tr>\n",
       "    <tr>\n",
       "      <th>unique</th>\n",
       "      <td>5250</td>\n",
       "      <td>NaN</td>\n",
       "      <td>NaN</td>\n",
       "      <td>5</td>\n",
       "      <td>NaN</td>\n",
       "      <td>NaN</td>\n",
       "      <td>NaN</td>\n",
       "      <td>NaN</td>\n",
       "      <td>NaN</td>\n",
       "      <td>NaN</td>\n",
       "      <td>11</td>\n",
       "    </tr>\n",
       "    <tr>\n",
       "      <th>top</th>\n",
       "      <td>11 Comae Berenices b</td>\n",
       "      <td>NaN</td>\n",
       "      <td>NaN</td>\n",
       "      <td>Neptune-like</td>\n",
       "      <td>NaN</td>\n",
       "      <td>NaN</td>\n",
       "      <td>NaN</td>\n",
       "      <td>NaN</td>\n",
       "      <td>NaN</td>\n",
       "      <td>NaN</td>\n",
       "      <td>Transit</td>\n",
       "    </tr>\n",
       "    <tr>\n",
       "      <th>freq</th>\n",
       "      <td>1</td>\n",
       "      <td>NaN</td>\n",
       "      <td>NaN</td>\n",
       "      <td>1825</td>\n",
       "      <td>NaN</td>\n",
       "      <td>NaN</td>\n",
       "      <td>NaN</td>\n",
       "      <td>NaN</td>\n",
       "      <td>NaN</td>\n",
       "      <td>NaN</td>\n",
       "      <td>3945</td>\n",
       "    </tr>\n",
       "    <tr>\n",
       "      <th>mean</th>\n",
       "      <td>NaN</td>\n",
       "      <td>2167.168737</td>\n",
       "      <td>12.683738</td>\n",
       "      <td>NaN</td>\n",
       "      <td>2015.732190</td>\n",
       "      <td>460.035228</td>\n",
       "      <td>5.627083</td>\n",
       "      <td>6.962942</td>\n",
       "      <td>4.791509e+02</td>\n",
       "      <td>0.063568</td>\n",
       "      <td>NaN</td>\n",
       "    </tr>\n",
       "    <tr>\n",
       "      <th>std</th>\n",
       "      <td>NaN</td>\n",
       "      <td>3245.522087</td>\n",
       "      <td>3.107571</td>\n",
       "      <td>NaN</td>\n",
       "      <td>4.307336</td>\n",
       "      <td>3761.458717</td>\n",
       "      <td>5.315522</td>\n",
       "      <td>138.673600</td>\n",
       "      <td>1.680445e+04</td>\n",
       "      <td>0.141424</td>\n",
       "      <td>NaN</td>\n",
       "    </tr>\n",
       "    <tr>\n",
       "      <th>min</th>\n",
       "      <td>NaN</td>\n",
       "      <td>4.000000</td>\n",
       "      <td>0.872000</td>\n",
       "      <td>NaN</td>\n",
       "      <td>1992.000000</td>\n",
       "      <td>0.020000</td>\n",
       "      <td>0.296000</td>\n",
       "      <td>0.004400</td>\n",
       "      <td>2.737851e-04</td>\n",
       "      <td>-0.520000</td>\n",
       "      <td>NaN</td>\n",
       "    </tr>\n",
       "    <tr>\n",
       "      <th>25%</th>\n",
       "      <td>NaN</td>\n",
       "      <td>389.000000</td>\n",
       "      <td>10.939000</td>\n",
       "      <td>NaN</td>\n",
       "      <td>2014.000000</td>\n",
       "      <td>3.970000</td>\n",
       "      <td>1.760000</td>\n",
       "      <td>0.053000</td>\n",
       "      <td>1.259411e-02</td>\n",
       "      <td>0.000000</td>\n",
       "      <td>NaN</td>\n",
       "    </tr>\n",
       "    <tr>\n",
       "      <th>50%</th>\n",
       "      <td>NaN</td>\n",
       "      <td>1371.000000</td>\n",
       "      <td>13.543000</td>\n",
       "      <td>NaN</td>\n",
       "      <td>2016.000000</td>\n",
       "      <td>8.470000</td>\n",
       "      <td>2.732800</td>\n",
       "      <td>0.102800</td>\n",
       "      <td>3.449692e-02</td>\n",
       "      <td>0.000000</td>\n",
       "      <td>NaN</td>\n",
       "    </tr>\n",
       "    <tr>\n",
       "      <th>75%</th>\n",
       "      <td>NaN</td>\n",
       "      <td>2779.000000</td>\n",
       "      <td>15.021000</td>\n",
       "      <td>NaN</td>\n",
       "      <td>2018.000000</td>\n",
       "      <td>159.000000</td>\n",
       "      <td>11.715200</td>\n",
       "      <td>0.286000</td>\n",
       "      <td>1.442163e-01</td>\n",
       "      <td>0.060000</td>\n",
       "      <td>NaN</td>\n",
       "    </tr>\n",
       "    <tr>\n",
       "      <th>max</th>\n",
       "      <td>NaN</td>\n",
       "      <td>27727.000000</td>\n",
       "      <td>44.610000</td>\n",
       "      <td>NaN</td>\n",
       "      <td>2023.000000</td>\n",
       "      <td>239136.000000</td>\n",
       "      <td>77.280000</td>\n",
       "      <td>7506.000000</td>\n",
       "      <td>1.101370e+06</td>\n",
       "      <td>0.950000</td>\n",
       "      <td>NaN</td>\n",
       "    </tr>\n",
       "  </tbody>\n",
       "</table>\n",
       "</div>"
      ],
      "text/plain": [
       "                        name      distance  stellar_magnitude   planet_type  \\\n",
       "count                   5250   5233.000000        5089.000000          5250   \n",
       "unique                  5250           NaN                NaN             5   \n",
       "top     11 Comae Berenices b           NaN                NaN  Neptune-like   \n",
       "freq                       1           NaN                NaN          1825   \n",
       "mean                     NaN   2167.168737          12.683738           NaN   \n",
       "std                      NaN   3245.522087           3.107571           NaN   \n",
       "min                      NaN      4.000000           0.872000           NaN   \n",
       "25%                      NaN    389.000000          10.939000           NaN   \n",
       "50%                      NaN   1371.000000          13.543000           NaN   \n",
       "75%                      NaN   2779.000000          15.021000           NaN   \n",
       "max                      NaN  27727.000000          44.610000           NaN   \n",
       "\n",
       "        discovery_year     mass_earth  radius_earth  orbital_radius  \\\n",
       "count      5250.000000    5227.000000   5233.000000     4961.000000   \n",
       "unique             NaN            NaN           NaN             NaN   \n",
       "top                NaN            NaN           NaN             NaN   \n",
       "freq               NaN            NaN           NaN             NaN   \n",
       "mean       2015.732190     460.035228      5.627083        6.962942   \n",
       "std           4.307336    3761.458717      5.315522      138.673600   \n",
       "min        1992.000000       0.020000      0.296000        0.004400   \n",
       "25%        2014.000000       3.970000      1.760000        0.053000   \n",
       "50%        2016.000000       8.470000      2.732800        0.102800   \n",
       "75%        2018.000000     159.000000     11.715200        0.286000   \n",
       "max        2023.000000  239136.000000     77.280000     7506.000000   \n",
       "\n",
       "        orbital_period  eccentricity detection_method  \n",
       "count     5.250000e+03   5250.000000             5250  \n",
       "unique             NaN           NaN               11  \n",
       "top                NaN           NaN          Transit  \n",
       "freq               NaN           NaN             3945  \n",
       "mean      4.791509e+02      0.063568              NaN  \n",
       "std       1.680445e+04      0.141424              NaN  \n",
       "min       2.737851e-04     -0.520000              NaN  \n",
       "25%       1.259411e-02      0.000000              NaN  \n",
       "50%       3.449692e-02      0.000000              NaN  \n",
       "75%       1.442163e-01      0.060000              NaN  \n",
       "max       1.101370e+06      0.950000              NaN  "
      ]
     },
     "execution_count": 14,
     "metadata": {},
     "output_type": "execute_result"
    }
   ],
   "source": [
    "df.dropna(subset=[\"mass_earth\", \"radius_earth\"])\n",
    "df.describe(include=\"all\")"
   ]
  },
  {
   "cell_type": "code",
   "execution_count": 15,
   "id": "5734feb3",
   "metadata": {
    "execution": {
     "iopub.execute_input": "2025-02-26T21:28:01.317141Z",
     "iopub.status.busy": "2025-02-26T21:28:01.316796Z",
     "iopub.status.idle": "2025-02-26T21:28:01.325841Z",
     "shell.execute_reply": "2025-02-26T21:28:01.324706Z"
    },
    "papermill": {
     "duration": 0.021711,
     "end_time": "2025-02-26T21:28:01.327666",
     "exception": false,
     "start_time": "2025-02-26T21:28:01.305955",
     "status": "completed"
    },
    "tags": []
   },
   "outputs": [
    {
     "data": {
      "text/plain": [
       "name                   0\n",
       "distance              17\n",
       "stellar_magnitude    161\n",
       "planet_type            0\n",
       "discovery_year         0\n",
       "mass_earth            23\n",
       "radius_earth          17\n",
       "orbital_radius       289\n",
       "orbital_period         0\n",
       "eccentricity           0\n",
       "detection_method       0\n",
       "dtype: int64"
      ]
     },
     "execution_count": 15,
     "metadata": {},
     "output_type": "execute_result"
    }
   ],
   "source": [
    "df.isnull().sum()"
   ]
  },
  {
   "cell_type": "code",
   "execution_count": 16,
   "id": "1f4b2c0d",
   "metadata": {
    "execution": {
     "iopub.execute_input": "2025-02-26T21:28:01.348946Z",
     "iopub.status.busy": "2025-02-26T21:28:01.348579Z",
     "iopub.status.idle": "2025-02-26T21:28:01.357723Z",
     "shell.execute_reply": "2025-02-26T21:28:01.356544Z"
    },
    "papermill": {
     "duration": 0.02156,
     "end_time": "2025-02-26T21:28:01.359360",
     "exception": false,
     "start_time": "2025-02-26T21:28:01.337800",
     "status": "completed"
    },
    "tags": []
   },
   "outputs": [
    {
     "name": "stderr",
     "output_type": "stream",
     "text": [
      "<ipython-input-16-50e46635d652>:2: FutureWarning: A value is trying to be set on a copy of a DataFrame or Series through chained assignment using an inplace method.\n",
      "The behavior will change in pandas 3.0. This inplace method will never work because the intermediate object on which we are setting values always behaves as a copy.\n",
      "\n",
      "For example, when doing 'df[col].method(value, inplace=True)', try using 'df.method({col: value}, inplace=True)' or df[col] = df[col].method(value) instead, to perform the operation inplace on the original object.\n",
      "\n",
      "\n",
      "  df[\"distance\"].fillna(df[\"distance\"].mode()[0], inplace=True)\n"
     ]
    }
   ],
   "source": [
    "#Considering the most frequently occurring distance for the exoplanets\n",
    "df[\"distance\"].fillna(df[\"distance\"].mode()[0], inplace=True)"
   ]
  },
  {
   "cell_type": "code",
   "execution_count": 17,
   "id": "dc20cc03",
   "metadata": {
    "execution": {
     "iopub.execute_input": "2025-02-26T21:28:01.381116Z",
     "iopub.status.busy": "2025-02-26T21:28:01.380700Z",
     "iopub.status.idle": "2025-02-26T21:28:01.387539Z",
     "shell.execute_reply": "2025-02-26T21:28:01.386418Z"
    },
    "papermill": {
     "duration": 0.019608,
     "end_time": "2025-02-26T21:28:01.389364",
     "exception": false,
     "start_time": "2025-02-26T21:28:01.369756",
     "status": "completed"
    },
    "tags": []
   },
   "outputs": [
    {
     "data": {
      "text/plain": [
       "0"
      ]
     },
     "execution_count": 17,
     "metadata": {},
     "output_type": "execute_result"
    }
   ],
   "source": [
    "df[\"distance\"].isnull().sum()"
   ]
  },
  {
   "cell_type": "code",
   "execution_count": 18,
   "id": "8ea968bc",
   "metadata": {
    "execution": {
     "iopub.execute_input": "2025-02-26T21:28:01.411108Z",
     "iopub.status.busy": "2025-02-26T21:28:01.410765Z",
     "iopub.status.idle": "2025-02-26T21:28:01.416982Z",
     "shell.execute_reply": "2025-02-26T21:28:01.415759Z"
    },
    "papermill": {
     "duration": 0.018874,
     "end_time": "2025-02-26T21:28:01.418554",
     "exception": false,
     "start_time": "2025-02-26T21:28:01.399680",
     "status": "completed"
    },
    "tags": []
   },
   "outputs": [
    {
     "name": "stdout",
     "output_type": "stream",
     "text": [
      "12.683737796030655\n"
     ]
    }
   ],
   "source": [
    "#Considering an average value for the stellar magnitude\n",
    "print(df[\"stellar_magnitude\"].mean())"
   ]
  },
  {
   "cell_type": "code",
   "execution_count": 19,
   "id": "648d6c14",
   "metadata": {
    "execution": {
     "iopub.execute_input": "2025-02-26T21:28:01.440822Z",
     "iopub.status.busy": "2025-02-26T21:28:01.440385Z",
     "iopub.status.idle": "2025-02-26T21:28:01.447128Z",
     "shell.execute_reply": "2025-02-26T21:28:01.445940Z"
    },
    "papermill": {
     "duration": 0.02002,
     "end_time": "2025-02-26T21:28:01.448988",
     "exception": false,
     "start_time": "2025-02-26T21:28:01.428968",
     "status": "completed"
    },
    "tags": []
   },
   "outputs": [
    {
     "name": "stderr",
     "output_type": "stream",
     "text": [
      "<ipython-input-19-ffed50c7c9cc>:1: FutureWarning: A value is trying to be set on a copy of a DataFrame or Series through chained assignment using an inplace method.\n",
      "The behavior will change in pandas 3.0. This inplace method will never work because the intermediate object on which we are setting values always behaves as a copy.\n",
      "\n",
      "For example, when doing 'df[col].method(value, inplace=True)', try using 'df.method({col: value}, inplace=True)' or df[col] = df[col].method(value) instead, to perform the operation inplace on the original object.\n",
      "\n",
      "\n",
      "  df[\"stellar_magnitude\"].fillna(df[\"stellar_magnitude\"].mean(), inplace=True)\n"
     ]
    }
   ],
   "source": [
    "df[\"stellar_magnitude\"].fillna(df[\"stellar_magnitude\"].mean(), inplace=True)"
   ]
  },
  {
   "cell_type": "code",
   "execution_count": 20,
   "id": "843175e4",
   "metadata": {
    "execution": {
     "iopub.execute_input": "2025-02-26T21:28:01.472427Z",
     "iopub.status.busy": "2025-02-26T21:28:01.472019Z",
     "iopub.status.idle": "2025-02-26T21:28:01.478932Z",
     "shell.execute_reply": "2025-02-26T21:28:01.477656Z"
    },
    "papermill": {
     "duration": 0.02145,
     "end_time": "2025-02-26T21:28:01.480931",
     "exception": false,
     "start_time": "2025-02-26T21:28:01.459481",
     "status": "completed"
    },
    "tags": []
   },
   "outputs": [
    {
     "data": {
      "text/plain": [
       "0"
      ]
     },
     "execution_count": 20,
     "metadata": {},
     "output_type": "execute_result"
    }
   ],
   "source": [
    "df[\"stellar_magnitude\"].isnull().sum()"
   ]
  },
  {
   "cell_type": "code",
   "execution_count": 21,
   "id": "fd4ef417",
   "metadata": {
    "execution": {
     "iopub.execute_input": "2025-02-26T21:28:01.503477Z",
     "iopub.status.busy": "2025-02-26T21:28:01.503083Z",
     "iopub.status.idle": "2025-02-26T21:28:01.512424Z",
     "shell.execute_reply": "2025-02-26T21:28:01.511113Z"
    },
    "papermill": {
     "duration": 0.022978,
     "end_time": "2025-02-26T21:28:01.514698",
     "exception": false,
     "start_time": "2025-02-26T21:28:01.491720",
     "status": "completed"
    },
    "tags": []
   },
   "outputs": [
    {
     "name": "stderr",
     "output_type": "stream",
     "text": [
      "<ipython-input-21-9d79c2d9c681>:2: FutureWarning: A value is trying to be set on a copy of a DataFrame or Series through chained assignment using an inplace method.\n",
      "The behavior will change in pandas 3.0. This inplace method will never work because the intermediate object on which we are setting values always behaves as a copy.\n",
      "\n",
      "For example, when doing 'df[col].method(value, inplace=True)', try using 'df.method({col: value}, inplace=True)' or df[col] = df[col].method(value) instead, to perform the operation inplace on the original object.\n",
      "\n",
      "\n",
      "  df[\"mass_earth\"].fillna(df[\"mass_earth\"].mean(), inplace=True)\n",
      "<ipython-input-21-9d79c2d9c681>:3: FutureWarning: A value is trying to be set on a copy of a DataFrame or Series through chained assignment using an inplace method.\n",
      "The behavior will change in pandas 3.0. This inplace method will never work because the intermediate object on which we are setting values always behaves as a copy.\n",
      "\n",
      "For example, when doing 'df[col].method(value, inplace=True)', try using 'df.method({col: value}, inplace=True)' or df[col] = df[col].method(value) instead, to perform the operation inplace on the original object.\n",
      "\n",
      "\n",
      "  df[\"orbital_radius\"].fillna(df[\"orbital_radius\"].mode()[0], inplace=True)\n",
      "<ipython-input-21-9d79c2d9c681>:4: FutureWarning: A value is trying to be set on a copy of a DataFrame or Series through chained assignment using an inplace method.\n",
      "The behavior will change in pandas 3.0. This inplace method will never work because the intermediate object on which we are setting values always behaves as a copy.\n",
      "\n",
      "For example, when doing 'df[col].method(value, inplace=True)', try using 'df.method({col: value}, inplace=True)' or df[col] = df[col].method(value) instead, to perform the operation inplace on the original object.\n",
      "\n",
      "\n",
      "  df[\"radius_earth\"].fillna(df[\"radius_earth\"].mean(), inplace=True)\n"
     ]
    }
   ],
   "source": [
    "#Considering the mean and mode for the orbital_radius, mass_earth and radius_earth respectively\n",
    "df[\"mass_earth\"].fillna(df[\"mass_earth\"].mean(), inplace=True)\n",
    "df[\"orbital_radius\"].fillna(df[\"orbital_radius\"].mode()[0], inplace=True)\n",
    "df[\"radius_earth\"].fillna(df[\"radius_earth\"].mean(), inplace=True)"
   ]
  },
  {
   "cell_type": "code",
   "execution_count": 22,
   "id": "db7eec08",
   "metadata": {
    "execution": {
     "iopub.execute_input": "2025-02-26T21:28:01.537373Z",
     "iopub.status.busy": "2025-02-26T21:28:01.537000Z",
     "iopub.status.idle": "2025-02-26T21:28:01.546045Z",
     "shell.execute_reply": "2025-02-26T21:28:01.544996Z"
    },
    "papermill": {
     "duration": 0.022368,
     "end_time": "2025-02-26T21:28:01.547780",
     "exception": false,
     "start_time": "2025-02-26T21:28:01.525412",
     "status": "completed"
    },
    "tags": []
   },
   "outputs": [
    {
     "data": {
      "text/plain": [
       "name                 0\n",
       "distance             0\n",
       "stellar_magnitude    0\n",
       "planet_type          0\n",
       "discovery_year       0\n",
       "mass_earth           0\n",
       "radius_earth         0\n",
       "orbital_radius       0\n",
       "orbital_period       0\n",
       "eccentricity         0\n",
       "detection_method     0\n",
       "dtype: int64"
      ]
     },
     "execution_count": 22,
     "metadata": {},
     "output_type": "execute_result"
    }
   ],
   "source": [
    "df.isnull().sum()"
   ]
  },
  {
   "cell_type": "code",
   "execution_count": 23,
   "id": "d53c7d15",
   "metadata": {
    "execution": {
     "iopub.execute_input": "2025-02-26T21:28:01.570383Z",
     "iopub.status.busy": "2025-02-26T21:28:01.570007Z",
     "iopub.status.idle": "2025-02-26T21:28:01.576057Z",
     "shell.execute_reply": "2025-02-26T21:28:01.574940Z"
    },
    "papermill": {
     "duration": 0.01935,
     "end_time": "2025-02-26T21:28:01.577845",
     "exception": false,
     "start_time": "2025-02-26T21:28:01.558495",
     "status": "completed"
    },
    "tags": []
   },
   "outputs": [],
   "source": [
    "#Applying absolute value for eccentricity as it cannot be negative\n",
    "df[\"eccentricity\"]=df[\"eccentricity\"].apply(abs)"
   ]
  },
  {
   "cell_type": "code",
   "execution_count": 24,
   "id": "309aac93",
   "metadata": {
    "execution": {
     "iopub.execute_input": "2025-02-26T21:28:01.600625Z",
     "iopub.status.busy": "2025-02-26T21:28:01.600192Z",
     "iopub.status.idle": "2025-02-26T21:28:01.606223Z",
     "shell.execute_reply": "2025-02-26T21:28:01.605105Z"
    },
    "papermill": {
     "duration": 0.019368,
     "end_time": "2025-02-26T21:28:01.608048",
     "exception": false,
     "start_time": "2025-02-26T21:28:01.588680",
     "status": "completed"
    },
    "tags": []
   },
   "outputs": [
    {
     "data": {
      "text/plain": [
       "['name',\n",
       " 'distance',\n",
       " 'stellar_magnitude',\n",
       " 'planet_type',\n",
       " 'discovery_year',\n",
       " 'mass_earth',\n",
       " 'radius_earth',\n",
       " 'orbital_radius',\n",
       " 'orbital_period',\n",
       " 'eccentricity',\n",
       " 'detection_method']"
      ]
     },
     "execution_count": 24,
     "metadata": {},
     "output_type": "execute_result"
    }
   ],
   "source": [
    "df.columns.tolist()"
   ]
  },
  {
   "cell_type": "markdown",
   "id": "cc82d838",
   "metadata": {
    "papermill": {
     "duration": 0.010261,
     "end_time": "2025-02-26T21:28:01.629093",
     "exception": false,
     "start_time": "2025-02-26T21:28:01.618832",
     "status": "completed"
    },
    "tags": []
   },
   "source": [
    "**Data Visualization**"
   ]
  },
  {
   "cell_type": "code",
   "execution_count": 25,
   "id": "13052a5d",
   "metadata": {
    "execution": {
     "iopub.execute_input": "2025-02-26T21:28:01.651592Z",
     "iopub.status.busy": "2025-02-26T21:28:01.651204Z",
     "iopub.status.idle": "2025-02-26T21:28:03.596985Z",
     "shell.execute_reply": "2025-02-26T21:28:03.595024Z"
    },
    "papermill": {
     "duration": 1.959267,
     "end_time": "2025-02-26T21:28:03.598925",
     "exception": true,
     "start_time": "2025-02-26T21:28:01.639658",
     "status": "failed"
    },
    "tags": []
   },
   "outputs": [
    {
     "ename": "NameError",
     "evalue": "name 'plt' is not defined",
     "output_type": "error",
     "traceback": [
      "\u001b[0;31m---------------------------------------------------------------------------\u001b[0m",
      "\u001b[0;31mNameError\u001b[0m                                 Traceback (most recent call last)",
      "\u001b[0;32m<ipython-input-25-d7ff7b6c3de4>\u001b[0m in \u001b[0;36m<cell line: 2>\u001b[0;34m()\u001b[0m\n\u001b[1;32m      1\u001b[0m \u001b[0;32mimport\u001b[0m \u001b[0mseaborn\u001b[0m \u001b[0;32mas\u001b[0m \u001b[0msns\u001b[0m\u001b[0;34m\u001b[0m\u001b[0;34m\u001b[0m\u001b[0m\n\u001b[0;32m----> 2\u001b[0;31m \u001b[0mplt\u001b[0m\u001b[0;34m.\u001b[0m\u001b[0mfigure\u001b[0m\u001b[0;34m(\u001b[0m\u001b[0mfigsize\u001b[0m\u001b[0;34m=\u001b[0m\u001b[0;34m(\u001b[0m\u001b[0;36m12\u001b[0m\u001b[0;34m,\u001b[0m\u001b[0;36m6\u001b[0m\u001b[0;34m)\u001b[0m\u001b[0;34m)\u001b[0m\u001b[0;34m\u001b[0m\u001b[0;34m\u001b[0m\u001b[0m\n\u001b[0m\u001b[1;32m      3\u001b[0m \u001b[0msns\u001b[0m\u001b[0;34m.\u001b[0m\u001b[0mcountplot\u001b[0m\u001b[0;34m(\u001b[0m\u001b[0mx\u001b[0m\u001b[0;34m=\u001b[0m\u001b[0;34m\"discovery_year\"\u001b[0m\u001b[0;34m,\u001b[0m \u001b[0mdata\u001b[0m\u001b[0;34m=\u001b[0m\u001b[0mdf\u001b[0m\u001b[0;34m,\u001b[0m \u001b[0mpalette\u001b[0m\u001b[0;34m=\u001b[0m\u001b[0;34m\"crest\"\u001b[0m\u001b[0;34m)\u001b[0m\u001b[0;34m\u001b[0m\u001b[0;34m\u001b[0m\u001b[0m\n\u001b[1;32m      4\u001b[0m \u001b[0mplt\u001b[0m\u001b[0;34m.\u001b[0m\u001b[0mxticks\u001b[0m\u001b[0;34m(\u001b[0m\u001b[0mrotation\u001b[0m\u001b[0;34m=\u001b[0m\u001b[0;36m45\u001b[0m\u001b[0;34m)\u001b[0m\u001b[0;34m\u001b[0m\u001b[0;34m\u001b[0m\u001b[0m\n\u001b[1;32m      5\u001b[0m \u001b[0mplt\u001b[0m\u001b[0;34m.\u001b[0m\u001b[0mtitle\u001b[0m\u001b[0;34m(\u001b[0m\u001b[0;34m\"Discovery of Planet over the years (1992-2023)\"\u001b[0m\u001b[0;34m)\u001b[0m\u001b[0;34m\u001b[0m\u001b[0;34m\u001b[0m\u001b[0m\n",
      "\u001b[0;31mNameError\u001b[0m: name 'plt' is not defined"
     ]
    }
   ],
   "source": [
    "import seaborn as sns\n",
    "plt.figure(figsize=(12,6))\n",
    "sns.countplot(x=\"discovery_year\", data=df, palette=\"crest\")\n",
    "plt.xticks(rotation=45)\n",
    "plt.title(\"Discovery of Planet over the years (1992-2023)\")\n",
    "plt.show()"
   ]
  },
  {
   "cell_type": "markdown",
   "id": "68e0df8a",
   "metadata": {
    "papermill": {
     "duration": null,
     "end_time": null,
     "exception": null,
     "start_time": null,
     "status": "pending"
    },
    "tags": []
   },
   "source": [
    "- Maximum number of exoplanets were observed during the year 2014 and 2016\n",
    "- The first confirmed exoplanet was discovered in the year 1992 around a pulsar.\n",
    "- Kepler space telescope observed the largest number of exoplanets in 2016 in one sweep"
   ]
  },
  {
   "cell_type": "code",
   "execution_count": null,
   "id": "f2491dbb",
   "metadata": {
    "execution": {
     "iopub.execute_input": "2025-02-26T21:27:19.075293Z",
     "iopub.status.busy": "2025-02-26T21:27:19.074973Z",
     "iopub.status.idle": "2025-02-26T21:27:19.421170Z",
     "shell.execute_reply": "2025-02-26T21:27:19.420003Z",
     "shell.execute_reply.started": "2025-02-26T21:27:19.075258Z"
    },
    "papermill": {
     "duration": null,
     "end_time": null,
     "exception": null,
     "start_time": null,
     "status": "pending"
    },
    "tags": []
   },
   "outputs": [],
   "source": [
    "#Pie chart to visualize the different categories of exoplanets\n",
    "df[\"planet_type\"].value_counts().plot.pie(autopct=\"%1.1f%%\",figsize=(10,6))\n",
    "plt.legend(bbox_to_anchor=(1.2, 0.5), loc=\"center left\")\n",
    "plt.title(\"Categories of exoplanets\")\n",
    "plt.ylabel(\"\")\n",
    "plt.show()"
   ]
  },
  {
   "cell_type": "markdown",
   "id": "27f4da5d",
   "metadata": {
    "papermill": {
     "duration": null,
     "end_time": null,
     "exception": null,
     "start_time": null,
     "status": "pending"
    },
    "tags": []
   },
   "source": [
    "- Super Earth and Terrestial can be considered as habitable planets\n",
    "- Gas Giant and Neptune can be considered as non-habitable planets"
   ]
  },
  {
   "cell_type": "code",
   "execution_count": null,
   "id": "4029aa53",
   "metadata": {
    "execution": {
     "iopub.execute_input": "2025-02-26T21:27:19.425378Z",
     "iopub.status.busy": "2025-02-26T21:27:19.425087Z",
     "iopub.status.idle": "2025-02-26T21:27:19.438814Z",
     "shell.execute_reply": "2025-02-26T21:27:19.437291Z",
     "shell.execute_reply.started": "2025-02-26T21:27:19.425352Z"
    },
    "papermill": {
     "duration": null,
     "end_time": null,
     "exception": null,
     "start_time": null,
     "status": "pending"
    },
    "tags": []
   },
   "outputs": [],
   "source": [
    "df.head()"
   ]
  },
  {
   "cell_type": "code",
   "execution_count": null,
   "id": "3873b6f4",
   "metadata": {
    "execution": {
     "iopub.execute_input": "2025-02-26T21:27:19.440655Z",
     "iopub.status.busy": "2025-02-26T21:27:19.440298Z",
     "iopub.status.idle": "2025-02-26T21:27:19.463420Z",
     "shell.execute_reply": "2025-02-26T21:27:19.462335Z",
     "shell.execute_reply.started": "2025-02-26T21:27:19.440618Z"
    },
    "papermill": {
     "duration": null,
     "end_time": null,
     "exception": null,
     "start_time": null,
     "status": "pending"
    },
    "tags": []
   },
   "outputs": [],
   "source": [
    "print(df[\"detection_method\"].unique())"
   ]
  },
  {
   "cell_type": "code",
   "execution_count": null,
   "id": "54768136",
   "metadata": {
    "execution": {
     "iopub.execute_input": "2025-02-26T21:27:19.465375Z",
     "iopub.status.busy": "2025-02-26T21:27:19.465003Z",
     "iopub.status.idle": "2025-02-26T21:27:19.488833Z",
     "shell.execute_reply": "2025-02-26T21:27:19.487913Z",
     "shell.execute_reply.started": "2025-02-26T21:27:19.465346Z"
    },
    "papermill": {
     "duration": null,
     "end_time": null,
     "exception": null,
     "start_time": null,
     "status": "pending"
    },
    "tags": []
   },
   "outputs": [],
   "source": [
    "#Bar chart to see the detection of planets\n",
    "df_bar=df.groupby(\"detection_method\")[\"planet_type\"].value_counts().reset_index()\n",
    "df_bar = df_bar.sort_values(by=\"count\", ascending=True)\n",
    "df_bar.head()"
   ]
  },
  {
   "cell_type": "code",
   "execution_count": null,
   "id": "199393b7",
   "metadata": {
    "execution": {
     "iopub.execute_input": "2025-02-26T21:27:19.489602Z",
     "iopub.status.busy": "2025-02-26T21:27:19.489369Z",
     "iopub.status.idle": "2025-02-26T21:27:19.844344Z",
     "shell.execute_reply": "2025-02-26T21:27:19.842885Z",
     "shell.execute_reply.started": "2025-02-26T21:27:19.489582Z"
    },
    "papermill": {
     "duration": null,
     "end_time": null,
     "exception": null,
     "start_time": null,
     "status": "pending"
    },
    "tags": []
   },
   "outputs": [],
   "source": [
    "plt.figure(figsize=(12,12))\n",
    "plt.barh(df_bar[\"detection_method\"] + \" - \" + df_bar[\"planet_type\"], df_bar[\"count\"], color=\"brown\")  # Horizontal bar chart\n",
    "plt.xlabel(\"Count\")\n",
    "plt.ylabel(\"Detection Method - Planet Type\")\n",
    "plt.title(\"Number of Exoplanets by Detection Method and Type\")\n",
    "plt.show()"
   ]
  },
  {
   "cell_type": "markdown",
   "id": "a6e99afa",
   "metadata": {
    "papermill": {
     "duration": null,
     "end_time": null,
     "exception": null,
     "start_time": null,
     "status": "pending"
    },
    "tags": []
   },
   "source": [
    "- planets closer to the host star are easily detected by trasit surveys than radial velocity method and is most sensitive to the planet with small orbits."
   ]
  },
  {
   "cell_type": "code",
   "execution_count": null,
   "id": "952ad03a",
   "metadata": {
    "execution": {
     "iopub.execute_input": "2025-02-26T21:27:19.845672Z",
     "iopub.status.busy": "2025-02-26T21:27:19.845359Z",
     "iopub.status.idle": "2025-02-26T21:27:19.852284Z",
     "shell.execute_reply": "2025-02-26T21:27:19.850472Z",
     "shell.execute_reply.started": "2025-02-26T21:27:19.845642Z"
    },
    "papermill": {
     "duration": null,
     "end_time": null,
     "exception": null,
     "start_time": null,
     "status": "pending"
    },
    "tags": []
   },
   "outputs": [],
   "source": [
    "log_mass = np.log10(df[\"mass_earth\"])\n",
    "def log_to_lin(x, pos):\n",
    "    return f\"{10**x:.2f}\""
   ]
  },
  {
   "cell_type": "code",
   "execution_count": null,
   "id": "a81dd6b0",
   "metadata": {
    "execution": {
     "iopub.execute_input": "2025-02-26T21:27:19.853788Z",
     "iopub.status.busy": "2025-02-26T21:27:19.853436Z",
     "iopub.status.idle": "2025-02-26T21:27:20.141782Z",
     "shell.execute_reply": "2025-02-26T21:27:20.140724Z",
     "shell.execute_reply.started": "2025-02-26T21:27:19.853757Z"
    },
    "papermill": {
     "duration": null,
     "end_time": null,
     "exception": null,
     "start_time": null,
     "status": "pending"
    },
    "tags": []
   },
   "outputs": [],
   "source": [
    "from matplotlib.ticker import FuncFormatter\n",
    "plt.hist(log_mass, bins=150, color=\"purple\")\n",
    "plt.xlim(-1,5)\n",
    "plt.xlabel(\"Earth Mass\")\n",
    "plt.ylabel(\"Frequency\")\n",
    "plt.title(\"Distribution of planet mass\")\n",
    "plt.gca().xaxis.set_major_formatter(FuncFormatter(log_to_lin))\n",
    "plt.show()"
   ]
  },
  {
   "cell_type": "markdown",
   "id": "b6600d88",
   "metadata": {
    "papermill": {
     "duration": null,
     "end_time": null,
     "exception": null,
     "start_time": null,
     "status": "pending"
    },
    "tags": []
   },
   "source": [
    "- the bimodal curve's first peak by Super Earths and Neptunian planets\n",
    "- Second curve by gas giants"
   ]
  },
  {
   "cell_type": "code",
   "execution_count": null,
   "id": "dfed47f4",
   "metadata": {
    "execution": {
     "iopub.execute_input": "2025-02-26T21:27:20.142980Z",
     "iopub.status.busy": "2025-02-26T21:27:20.142632Z",
     "iopub.status.idle": "2025-02-26T21:27:20.158973Z",
     "shell.execute_reply": "2025-02-26T21:27:20.157612Z",
     "shell.execute_reply.started": "2025-02-26T21:27:20.142948Z"
    },
    "papermill": {
     "duration": null,
     "end_time": null,
     "exception": null,
     "start_time": null,
     "status": "pending"
    },
    "tags": []
   },
   "outputs": [],
   "source": [
    "log_radius = np.log10(df[\"radius_earth\"])\n",
    "def log_to_lin(x, pos):\n",
    "    return f\"{10**x:.2f}\"\n",
    "df.head()"
   ]
  },
  {
   "cell_type": "code",
   "execution_count": null,
   "id": "f93e9ec5",
   "metadata": {
    "execution": {
     "iopub.execute_input": "2025-02-26T21:27:20.160103Z",
     "iopub.status.busy": "2025-02-26T21:27:20.159835Z",
     "iopub.status.idle": "2025-02-26T21:27:20.348351Z",
     "shell.execute_reply": "2025-02-26T21:27:20.347064Z",
     "shell.execute_reply.started": "2025-02-26T21:27:20.160078Z"
    },
    "papermill": {
     "duration": null,
     "end_time": null,
     "exception": null,
     "start_time": null,
     "status": "pending"
    },
    "tags": []
   },
   "outputs": [],
   "source": [
    "sns.kdeplot(log_radius, fill=True, color=\"purple\")\n",
    "plt.xlabel(\"Earth Radius\")\n",
    "plt.ylabel(\"Density\")\n",
    "plt.title(\"KDE Plot of Exoplanet radius\")\n",
    "plt.gca().xaxis.set_major_formatter(FuncFormatter(log_to_lin))\n",
    "plt.show()"
   ]
  },
  {
   "cell_type": "code",
   "execution_count": null,
   "id": "23bba8ba",
   "metadata": {
    "execution": {
     "iopub.execute_input": "2025-02-26T21:27:20.349540Z",
     "iopub.status.busy": "2025-02-26T21:27:20.349251Z",
     "iopub.status.idle": "2025-02-26T21:27:20.736873Z",
     "shell.execute_reply": "2025-02-26T21:27:20.735615Z",
     "shell.execute_reply.started": "2025-02-26T21:27:20.349514Z"
    },
    "papermill": {
     "duration": null,
     "end_time": null,
     "exception": null,
     "start_time": null,
     "status": "pending"
    },
    "tags": []
   },
   "outputs": [],
   "source": [
    "#Relation between planet mass and radius\n",
    "sns.scatterplot(x=log_mass, y=log_radius, data=df, hue=\"planet_type\", alpha=0.7,s=70)\n",
    "plt.gca().xaxis.set_major_formatter(FuncFormatter(log_to_lin))\n",
    "plt.gca().yaxis.set_major_formatter(FuncFormatter(log_to_lin))\n",
    "plt.title(\"Relation between planet mass and radius\")\n",
    "plt.show()"
   ]
  },
  {
   "cell_type": "code",
   "execution_count": null,
   "id": "256548f3",
   "metadata": {
    "execution": {
     "iopub.execute_input": "2025-02-26T21:27:20.738210Z",
     "iopub.status.busy": "2025-02-26T21:27:20.737898Z",
     "iopub.status.idle": "2025-02-26T21:27:20.756061Z",
     "shell.execute_reply": "2025-02-26T21:27:20.754189Z",
     "shell.execute_reply.started": "2025-02-26T21:27:20.738179Z"
    },
    "papermill": {
     "duration": null,
     "end_time": null,
     "exception": null,
     "start_time": null,
     "status": "pending"
    },
    "tags": []
   },
   "outputs": [],
   "source": [
    "log_period = np.log10(df[\"orbital_period\"])\n",
    "log_orbital_radius=np.log10(df[\"orbital_radius\"])\n",
    "def log_to_lin(x, pos):\n",
    "    return f\"{10**x:.2f}\"\n",
    "df.head()"
   ]
  },
  {
   "cell_type": "code",
   "execution_count": null,
   "id": "44f0d965",
   "metadata": {
    "execution": {
     "iopub.execute_input": "2025-02-26T21:27:20.757753Z",
     "iopub.status.busy": "2025-02-26T21:27:20.757382Z",
     "iopub.status.idle": "2025-02-26T21:27:20.946543Z",
     "shell.execute_reply": "2025-02-26T21:27:20.945191Z",
     "shell.execute_reply.started": "2025-02-26T21:27:20.757706Z"
    },
    "papermill": {
     "duration": null,
     "end_time": null,
     "exception": null,
     "start_time": null,
     "status": "pending"
    },
    "tags": []
   },
   "outputs": [],
   "source": [
    "#Orbital Period and Radius\n",
    "sns.scatterplot(x=log_orbital_radius, y=log_period, data=df, alpha=0.7,s=50, color=\"orange\")\n",
    "plt.gca().xaxis.set_major_formatter(FuncFormatter(log_to_lin))\n",
    "plt.gca().yaxis.set_major_formatter(FuncFormatter(log_to_lin))\n",
    "plt.title(\"Relation between orbital period and radius\")\n",
    "plt.show()"
   ]
  },
  {
   "cell_type": "markdown",
   "id": "b9a0b3fc",
   "metadata": {
    "papermill": {
     "duration": null,
     "end_time": null,
     "exception": null,
     "start_time": null,
     "status": "pending"
    },
    "tags": []
   },
   "source": [
    "- greater the distance from the primary star larger is the orbital period\n",
    "- linear relationship, increase in orbital radius means greater orbital period\n",
    "- the straight line is the fault is the data that is covered my replacing the missing values and can be ignored"
   ]
  }
 ],
 "metadata": {
  "kaggle": {
   "accelerator": "none",
   "dataSources": [
    {
     "datasetId": 2904279,
     "sourceId": 5005519,
     "sourceType": "datasetVersion"
    }
   ],
   "dockerImageVersionId": 30918,
   "isGpuEnabled": false,
   "isInternetEnabled": true,
   "language": "python",
   "sourceType": "notebook"
  },
  "kernelspec": {
   "display_name": "Python 3",
   "language": "python",
   "name": "python3"
  },
  "language_info": {
   "codemirror_mode": {
    "name": "ipython",
    "version": 3
   },
   "file_extension": ".py",
   "mimetype": "text/x-python",
   "name": "python",
   "nbconvert_exporter": "python",
   "pygments_lexer": "ipython3",
   "version": "3.10.12"
  },
  "papermill": {
   "default_parameters": {},
   "duration": 13.605768,
   "end_time": "2025-02-26T21:28:04.332278",
   "environment_variables": {},
   "exception": true,
   "input_path": "__notebook__.ipynb",
   "output_path": "__notebook__.ipynb",
   "parameters": {},
   "start_time": "2025-02-26T21:27:50.726510",
   "version": "2.6.0"
  }
 },
 "nbformat": 4,
 "nbformat_minor": 5
}
