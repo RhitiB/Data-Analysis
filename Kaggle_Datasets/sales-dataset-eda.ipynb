{
 "cells": [
  {
   "cell_type": "code",
   "execution_count": 1,
   "id": "526b0357",
   "metadata": {
    "_cell_guid": "b1076dfc-b9ad-4769-8c92-a6c4dae69d19",
    "_uuid": "8f2839f25d086af736a60e9eeb907d3b93b6e0e5",
    "execution": {
     "iopub.execute_input": "2025-02-25T23:25:51.329245Z",
     "iopub.status.busy": "2025-02-25T23:25:51.328882Z",
     "iopub.status.idle": "2025-02-25T23:25:52.341188Z",
     "shell.execute_reply": "2025-02-25T23:25:52.339676Z"
    },
    "papermill": {
     "duration": 1.021668,
     "end_time": "2025-02-25T23:25:52.343028",
     "exception": false,
     "start_time": "2025-02-25T23:25:51.321360",
     "status": "completed"
    },
    "tags": []
   },
   "outputs": [
    {
     "name": "stdout",
     "output_type": "stream",
     "text": [
      "/kaggle/input/top-spotify-songs-in-73-countries/Top_spotify_songs.csv\n"
     ]
    }
   ],
   "source": [
    "# This Python 3 environment comes with many helpful analytics libraries installed\n",
    "# It is defined by the kaggle/python Docker image: https://github.com/kaggle/docker-python\n",
    "# For example, here's several helpful packages to load\n",
    "\n",
    "import numpy as np # linear algebra\n",
    "import pandas as pd # data processing, CSV file I/O (e.g. pd.read_csv)\n",
    "\n",
    "# Input data files are available in the read-only \"../input/\" directory\n",
    "# For example, running this (by clicking run or pressing Shift+Enter) will list all files under the input directory\n",
    "\n",
    "import os\n",
    "for dirname, _, filenames in os.walk('/kaggle/input'):\n",
    "    for filename in filenames:\n",
    "        print(os.path.join(dirname, filename))\n",
    "\n",
    "# You can write up to 20GB to the current directory (/kaggle/working/) that gets preserved as output when you create a version using \"Save & Run All\" \n",
    "# You can also write temporary files to /kaggle/temp/, but they won't be saved outside of the current session"
   ]
  },
  {
   "cell_type": "code",
   "execution_count": 2,
   "id": "5ad50683",
   "metadata": {
    "execution": {
     "iopub.execute_input": "2025-02-25T23:25:52.350988Z",
     "iopub.status.busy": "2025-02-25T23:25:52.350513Z",
     "iopub.status.idle": "2025-02-25T23:25:57.980959Z",
     "shell.execute_reply": "2025-02-25T23:25:57.979651Z"
    },
    "papermill": {
     "duration": 5.637197,
     "end_time": "2025-02-25T23:25:57.983769",
     "exception": false,
     "start_time": "2025-02-25T23:25:52.346572",
     "status": "completed"
    },
    "tags": []
   },
   "outputs": [
    {
     "name": "stdout",
     "output_type": "stream",
     "text": [
      "Requirement already satisfied: kaggle in /usr/local/lib/python3.10/dist-packages (1.6.17)\r\n",
      "Requirement already satisfied: six>=1.10 in /usr/local/lib/python3.10/dist-packages (from kaggle) (1.17.0)\r\n",
      "Requirement already satisfied: certifi>=2023.7.22 in /usr/local/lib/python3.10/dist-packages (from kaggle) (2025.1.31)\r\n",
      "Requirement already satisfied: python-dateutil in /usr/local/lib/python3.10/dist-packages (from kaggle) (2.9.0.post0)\r\n",
      "Requirement already satisfied: requests in /usr/local/lib/python3.10/dist-packages (from kaggle) (2.32.3)\r\n",
      "Requirement already satisfied: tqdm in /usr/local/lib/python3.10/dist-packages (from kaggle) (4.67.1)\r\n",
      "Requirement already satisfied: python-slugify in /usr/local/lib/python3.10/dist-packages (from kaggle) (8.0.4)\r\n",
      "Requirement already satisfied: urllib3 in /usr/local/lib/python3.10/dist-packages (from kaggle) (2.3.0)\r\n",
      "Requirement already satisfied: bleach in /usr/local/lib/python3.10/dist-packages (from kaggle) (6.2.0)\r\n",
      "Requirement already satisfied: webencodings in /usr/local/lib/python3.10/dist-packages (from bleach->kaggle) (0.5.1)\r\n",
      "Requirement already satisfied: text-unidecode>=1.3 in /usr/local/lib/python3.10/dist-packages (from python-slugify->kaggle) (1.3)\r\n",
      "Requirement already satisfied: charset-normalizer<4,>=2 in /usr/local/lib/python3.10/dist-packages (from requests->kaggle) (3.4.1)\r\n",
      "Requirement already satisfied: idna<4,>=2.5 in /usr/local/lib/python3.10/dist-packages (from requests->kaggle) (3.10)\r\n"
     ]
    }
   ],
   "source": [
    "!pip install kaggle"
   ]
  },
  {
   "cell_type": "code",
   "execution_count": 3,
   "id": "5dfe6554",
   "metadata": {
    "execution": {
     "iopub.execute_input": "2025-02-25T23:25:57.991874Z",
     "iopub.status.busy": "2025-02-25T23:25:57.991518Z",
     "iopub.status.idle": "2025-02-25T23:26:11.813386Z",
     "shell.execute_reply": "2025-02-25T23:26:11.812279Z"
    },
    "papermill": {
     "duration": 13.82808,
     "end_time": "2025-02-25T23:26:11.815361",
     "exception": false,
     "start_time": "2025-02-25T23:25:57.987281",
     "status": "completed"
    },
    "tags": []
   },
   "outputs": [],
   "source": [
    "df=pd.read_csv(\"/kaggle/input/top-spotify-songs-in-73-countries/Top_spotify_songs.csv\")"
   ]
  },
  {
   "cell_type": "code",
   "execution_count": 4,
   "id": "50cd3126",
   "metadata": {
    "execution": {
     "iopub.execute_input": "2025-02-25T23:26:11.822875Z",
     "iopub.status.busy": "2025-02-25T23:26:11.822510Z",
     "iopub.status.idle": "2025-02-25T23:26:11.871821Z",
     "shell.execute_reply": "2025-02-25T23:26:11.870567Z"
    },
    "papermill": {
     "duration": 0.055141,
     "end_time": "2025-02-25T23:26:11.873787",
     "exception": false,
     "start_time": "2025-02-25T23:26:11.818646",
     "status": "completed"
    },
    "tags": []
   },
   "outputs": [
    {
     "data": {
      "text/html": [
       "<div>\n",
       "<style scoped>\n",
       "    .dataframe tbody tr th:only-of-type {\n",
       "        vertical-align: middle;\n",
       "    }\n",
       "\n",
       "    .dataframe tbody tr th {\n",
       "        vertical-align: top;\n",
       "    }\n",
       "\n",
       "    .dataframe thead th {\n",
       "        text-align: right;\n",
       "    }\n",
       "</style>\n",
       "<table border=\"1\" class=\"dataframe\">\n",
       "  <thead>\n",
       "    <tr style=\"text-align: right;\">\n",
       "      <th></th>\n",
       "      <th>spotify_id</th>\n",
       "      <th>name</th>\n",
       "      <th>artists</th>\n",
       "      <th>daily_rank</th>\n",
       "      <th>daily_movement</th>\n",
       "      <th>weekly_movement</th>\n",
       "      <th>country</th>\n",
       "      <th>snapshot_date</th>\n",
       "      <th>popularity</th>\n",
       "      <th>is_explicit</th>\n",
       "      <th>...</th>\n",
       "      <th>key</th>\n",
       "      <th>loudness</th>\n",
       "      <th>mode</th>\n",
       "      <th>speechiness</th>\n",
       "      <th>acousticness</th>\n",
       "      <th>instrumentalness</th>\n",
       "      <th>liveness</th>\n",
       "      <th>valence</th>\n",
       "      <th>tempo</th>\n",
       "      <th>time_signature</th>\n",
       "    </tr>\n",
       "  </thead>\n",
       "  <tbody>\n",
       "    <tr>\n",
       "      <th>0</th>\n",
       "      <td>2plbrEY59IikOBgBGLjaoe</td>\n",
       "      <td>Die With A Smile</td>\n",
       "      <td>Lady Gaga, Bruno Mars</td>\n",
       "      <td>1</td>\n",
       "      <td>1</td>\n",
       "      <td>0</td>\n",
       "      <td>NaN</td>\n",
       "      <td>2025-02-17</td>\n",
       "      <td>98</td>\n",
       "      <td>False</td>\n",
       "      <td>...</td>\n",
       "      <td>6</td>\n",
       "      <td>-7.777</td>\n",
       "      <td>0</td>\n",
       "      <td>0.0304</td>\n",
       "      <td>0.3080</td>\n",
       "      <td>0.0</td>\n",
       "      <td>0.122</td>\n",
       "      <td>0.535</td>\n",
       "      <td>157.969</td>\n",
       "      <td>3</td>\n",
       "    </tr>\n",
       "    <tr>\n",
       "      <th>1</th>\n",
       "      <td>2CGNAOSuO1MEFCbBRgUzjd</td>\n",
       "      <td>luther (with sza)</td>\n",
       "      <td>Kendrick Lamar, SZA</td>\n",
       "      <td>2</td>\n",
       "      <td>1</td>\n",
       "      <td>4</td>\n",
       "      <td>NaN</td>\n",
       "      <td>2025-02-17</td>\n",
       "      <td>90</td>\n",
       "      <td>False</td>\n",
       "      <td>...</td>\n",
       "      <td>2</td>\n",
       "      <td>-7.546</td>\n",
       "      <td>1</td>\n",
       "      <td>0.1250</td>\n",
       "      <td>0.2510</td>\n",
       "      <td>0.0</td>\n",
       "      <td>0.248</td>\n",
       "      <td>0.576</td>\n",
       "      <td>138.008</td>\n",
       "      <td>4</td>\n",
       "    </tr>\n",
       "    <tr>\n",
       "      <th>2</th>\n",
       "      <td>6AI3ezQ4o3HUoP6Dhudph3</td>\n",
       "      <td>Not Like Us</td>\n",
       "      <td>Kendrick Lamar</td>\n",
       "      <td>3</td>\n",
       "      <td>-2</td>\n",
       "      <td>8</td>\n",
       "      <td>NaN</td>\n",
       "      <td>2025-02-17</td>\n",
       "      <td>92</td>\n",
       "      <td>True</td>\n",
       "      <td>...</td>\n",
       "      <td>1</td>\n",
       "      <td>-7.001</td>\n",
       "      <td>1</td>\n",
       "      <td>0.0776</td>\n",
       "      <td>0.0107</td>\n",
       "      <td>0.0</td>\n",
       "      <td>0.141</td>\n",
       "      <td>0.214</td>\n",
       "      <td>101.061</td>\n",
       "      <td>4</td>\n",
       "    </tr>\n",
       "  </tbody>\n",
       "</table>\n",
       "<p>3 rows × 25 columns</p>\n",
       "</div>"
      ],
      "text/plain": [
       "               spotify_id               name                artists  \\\n",
       "0  2plbrEY59IikOBgBGLjaoe   Die With A Smile  Lady Gaga, Bruno Mars   \n",
       "1  2CGNAOSuO1MEFCbBRgUzjd  luther (with sza)    Kendrick Lamar, SZA   \n",
       "2  6AI3ezQ4o3HUoP6Dhudph3        Not Like Us         Kendrick Lamar   \n",
       "\n",
       "   daily_rank  daily_movement  weekly_movement country snapshot_date  \\\n",
       "0           1               1                0     NaN    2025-02-17   \n",
       "1           2               1                4     NaN    2025-02-17   \n",
       "2           3              -2                8     NaN    2025-02-17   \n",
       "\n",
       "   popularity  is_explicit  ...  key loudness mode  speechiness  acousticness  \\\n",
       "0          98        False  ...    6   -7.777    0       0.0304        0.3080   \n",
       "1          90        False  ...    2   -7.546    1       0.1250        0.2510   \n",
       "2          92         True  ...    1   -7.001    1       0.0776        0.0107   \n",
       "\n",
       "   instrumentalness  liveness  valence    tempo  time_signature  \n",
       "0               0.0     0.122    0.535  157.969               3  \n",
       "1               0.0     0.248    0.576  138.008               4  \n",
       "2               0.0     0.141    0.214  101.061               4  \n",
       "\n",
       "[3 rows x 25 columns]"
      ]
     },
     "execution_count": 4,
     "metadata": {},
     "output_type": "execute_result"
    }
   ],
   "source": [
    "df.head(3)"
   ]
  },
  {
   "cell_type": "code",
   "execution_count": 5,
   "id": "eca5dbda",
   "metadata": {
    "execution": {
     "iopub.execute_input": "2025-02-25T23:26:11.881946Z",
     "iopub.status.busy": "2025-02-25T23:26:11.881628Z",
     "iopub.status.idle": "2025-02-25T23:26:11.887729Z",
     "shell.execute_reply": "2025-02-25T23:26:11.886651Z"
    },
    "papermill": {
     "duration": 0.011793,
     "end_time": "2025-02-25T23:26:11.889181",
     "exception": false,
     "start_time": "2025-02-25T23:26:11.877388",
     "status": "completed"
    },
    "tags": []
   },
   "outputs": [
    {
     "data": {
      "text/plain": [
       "['spotify_id',\n",
       " 'name',\n",
       " 'artists',\n",
       " 'daily_rank',\n",
       " 'daily_movement',\n",
       " 'weekly_movement',\n",
       " 'country',\n",
       " 'snapshot_date',\n",
       " 'popularity',\n",
       " 'is_explicit',\n",
       " 'duration_ms',\n",
       " 'album_name',\n",
       " 'album_release_date',\n",
       " 'danceability',\n",
       " 'energy',\n",
       " 'key',\n",
       " 'loudness',\n",
       " 'mode',\n",
       " 'speechiness',\n",
       " 'acousticness',\n",
       " 'instrumentalness',\n",
       " 'liveness',\n",
       " 'valence',\n",
       " 'tempo',\n",
       " 'time_signature']"
      ]
     },
     "execution_count": 5,
     "metadata": {},
     "output_type": "execute_result"
    }
   ],
   "source": [
    "df.columns.tolist()"
   ]
  },
  {
   "cell_type": "code",
   "execution_count": 6,
   "id": "c6eb7541",
   "metadata": {
    "execution": {
     "iopub.execute_input": "2025-02-25T23:26:11.897403Z",
     "iopub.status.busy": "2025-02-25T23:26:11.897018Z",
     "iopub.status.idle": "2025-02-25T23:26:14.272325Z",
     "shell.execute_reply": "2025-02-25T23:26:14.270943Z"
    },
    "papermill": {
     "duration": 2.381243,
     "end_time": "2025-02-25T23:26:14.274092",
     "exception": false,
     "start_time": "2025-02-25T23:26:11.892849",
     "status": "completed"
    },
    "tags": []
   },
   "outputs": [
    {
     "data": {
      "text/plain": [
       "0          False\n",
       "1          False\n",
       "2          False\n",
       "3          False\n",
       "4          False\n",
       "           ...  \n",
       "1728377    False\n",
       "1728378    False\n",
       "1728379    False\n",
       "1728380    False\n",
       "1728381    False\n",
       "Length: 1728382, dtype: bool"
      ]
     },
     "execution_count": 6,
     "metadata": {},
     "output_type": "execute_result"
    }
   ],
   "source": [
    "df.duplicated()"
   ]
  },
  {
   "cell_type": "code",
   "execution_count": 7,
   "id": "7dfa857b",
   "metadata": {
    "execution": {
     "iopub.execute_input": "2025-02-25T23:26:14.282743Z",
     "iopub.status.busy": "2025-02-25T23:26:14.282361Z",
     "iopub.status.idle": "2025-02-25T23:26:14.929589Z",
     "shell.execute_reply": "2025-02-25T23:26:14.928591Z"
    },
    "papermill": {
     "duration": 0.653326,
     "end_time": "2025-02-25T23:26:14.931209",
     "exception": false,
     "start_time": "2025-02-25T23:26:14.277883",
     "status": "completed"
    },
    "tags": []
   },
   "outputs": [
    {
     "data": {
      "text/plain": [
       "spotify_id                0\n",
       "name                     30\n",
       "artists                  29\n",
       "daily_rank                0\n",
       "daily_movement            0\n",
       "weekly_movement           0\n",
       "country               23607\n",
       "snapshot_date             0\n",
       "popularity                0\n",
       "is_explicit               0\n",
       "duration_ms               0\n",
       "album_name              821\n",
       "album_release_date      658\n",
       "danceability              0\n",
       "energy                    0\n",
       "key                       0\n",
       "loudness                  0\n",
       "mode                      0\n",
       "speechiness               0\n",
       "acousticness              0\n",
       "instrumentalness          0\n",
       "liveness                  0\n",
       "valence                   0\n",
       "tempo                     0\n",
       "time_signature            0\n",
       "dtype: int64"
      ]
     },
     "execution_count": 7,
     "metadata": {},
     "output_type": "execute_result"
    }
   ],
   "source": [
    "df.isnull().sum()"
   ]
  },
  {
   "cell_type": "code",
   "execution_count": 8,
   "id": "e7f8adf4",
   "metadata": {
    "execution": {
     "iopub.execute_input": "2025-02-25T23:26:14.940383Z",
     "iopub.status.busy": "2025-02-25T23:26:14.940005Z",
     "iopub.status.idle": "2025-02-25T23:26:15.070690Z",
     "shell.execute_reply": "2025-02-25T23:26:15.069417Z"
    },
    "papermill": {
     "duration": 0.13724,
     "end_time": "2025-02-25T23:26:15.072356",
     "exception": false,
     "start_time": "2025-02-25T23:26:14.935116",
     "status": "completed"
    },
    "tags": []
   },
   "outputs": [
    {
     "name": "stdout",
     "output_type": "stream",
     "text": [
      "The most famous country is: DO\n"
     ]
    }
   ],
   "source": [
    "x=df[\"country\"].mode()[0]\n",
    "print(\"The most famous country is:\", x)"
   ]
  },
  {
   "cell_type": "code",
   "execution_count": 9,
   "id": "cf9ed3f5",
   "metadata": {
    "execution": {
     "iopub.execute_input": "2025-02-25T23:26:15.081598Z",
     "iopub.status.busy": "2025-02-25T23:26:15.081189Z",
     "iopub.status.idle": "2025-02-25T23:26:15.182289Z",
     "shell.execute_reply": "2025-02-25T23:26:15.181196Z"
    },
    "papermill": {
     "duration": 0.107667,
     "end_time": "2025-02-25T23:26:15.184086",
     "exception": false,
     "start_time": "2025-02-25T23:26:15.076419",
     "status": "completed"
    },
    "tags": []
   },
   "outputs": [
    {
     "name": "stderr",
     "output_type": "stream",
     "text": [
      "<ipython-input-9-cda460f05f9e>:1: FutureWarning: A value is trying to be set on a copy of a DataFrame or Series through chained assignment using an inplace method.\n",
      "The behavior will change in pandas 3.0. This inplace method will never work because the intermediate object on which we are setting values always behaves as a copy.\n",
      "\n",
      "For example, when doing 'df[col].method(value, inplace=True)', try using 'df.method({col: value}, inplace=True)' or df[col] = df[col].method(value) instead, to perform the operation inplace on the original object.\n",
      "\n",
      "\n",
      "  df[\"country\"].fillna(x, inplace=True)\n"
     ]
    }
   ],
   "source": [
    "df[\"country\"].fillna(x, inplace=True)"
   ]
  },
  {
   "cell_type": "code",
   "execution_count": 10,
   "id": "a4db32ff",
   "metadata": {
    "execution": {
     "iopub.execute_input": "2025-02-25T23:26:15.193049Z",
     "iopub.status.busy": "2025-02-25T23:26:15.192715Z",
     "iopub.status.idle": "2025-02-25T23:26:15.278585Z",
     "shell.execute_reply": "2025-02-25T23:26:15.277417Z"
    },
    "papermill": {
     "duration": 0.092542,
     "end_time": "2025-02-25T23:26:15.280607",
     "exception": false,
     "start_time": "2025-02-25T23:26:15.188065",
     "status": "completed"
    },
    "tags": []
   },
   "outputs": [
    {
     "data": {
      "text/plain": [
       "0"
      ]
     },
     "execution_count": 10,
     "metadata": {},
     "output_type": "execute_result"
    }
   ],
   "source": [
    "df[\"country\"].isnull().sum()"
   ]
  },
  {
   "cell_type": "code",
   "execution_count": null,
   "id": "2be3f206",
   "metadata": {
    "papermill": {
     "duration": 0.003797,
     "end_time": "2025-02-25T23:26:15.289001",
     "exception": false,
     "start_time": "2025-02-25T23:26:15.285204",
     "status": "completed"
    },
    "tags": []
   },
   "outputs": [],
   "source": []
  }
 ],
 "metadata": {
  "kaggle": {
   "accelerator": "none",
   "dataSources": [
    {
     "datasetId": 6693356,
     "sourceId": 10786014,
     "sourceType": "datasetVersion"
    }
   ],
   "dockerImageVersionId": 30918,
   "isGpuEnabled": false,
   "isInternetEnabled": true,
   "language": "python",
   "sourceType": "notebook"
  },
  "kernelspec": {
   "display_name": "Python 3",
   "language": "python",
   "name": "python3"
  },
  "language_info": {
   "codemirror_mode": {
    "name": "ipython",
    "version": 3
   },
   "file_extension": ".py",
   "mimetype": "text/x-python",
   "name": "python",
   "nbconvert_exporter": "python",
   "pygments_lexer": "ipython3",
   "version": "3.10.12"
  },
  "papermill": {
   "default_parameters": {},
   "duration": 27.581352,
   "end_time": "2025-02-25T23:26:16.014972",
   "environment_variables": {},
   "exception": null,
   "input_path": "__notebook__.ipynb",
   "output_path": "__notebook__.ipynb",
   "parameters": {},
   "start_time": "2025-02-25T23:25:48.433620",
   "version": "2.6.0"
  }
 },
 "nbformat": 4,
 "nbformat_minor": 5
}
