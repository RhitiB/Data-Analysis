{
 "cells": [
  {
   "cell_type": "code",
   "execution_count": 1,
   "id": "a8e818a7",
   "metadata": {
    "_cell_guid": "b1076dfc-b9ad-4769-8c92-a6c4dae69d19",
    "_uuid": "8f2839f25d086af736a60e9eeb907d3b93b6e0e5",
    "execution": {
     "iopub.execute_input": "2025-02-20T00:03:26.440799Z",
     "iopub.status.busy": "2025-02-20T00:03:26.440286Z",
     "iopub.status.idle": "2025-02-20T00:03:27.327146Z",
     "shell.execute_reply": "2025-02-20T00:03:27.325884Z"
    },
    "papermill": {
     "duration": 0.895674,
     "end_time": "2025-02-20T00:03:27.328907",
     "exception": false,
     "start_time": "2025-02-20T00:03:26.433233",
     "status": "completed"
    },
    "tags": []
   },
   "outputs": [
    {
     "name": "stdout",
     "output_type": "stream",
     "text": [
      "/kaggle/input/sales-dataset/sales_data.csv\n"
     ]
    }
   ],
   "source": [
    "# This Python 3 environment comes with many helpful analytics libraries installed\n",
    "# It is defined by the kaggle/python Docker image: https://github.com/kaggle/docker-python\n",
    "# For example, here's several helpful packages to load\n",
    "\n",
    "import numpy as np # linear algebra\n",
    "import pandas as pd # data processing, CSV file I/O (e.g. pd.read_csv)\n",
    "\n",
    "# Input data files are available in the read-only \"../input/\" directory\n",
    "# For example, running this (by clicking run or pressing Shift+Enter) will list all files under the input directory\n",
    "\n",
    "import os\n",
    "for dirname, _, filenames in os.walk('/kaggle/input'):\n",
    "    for filename in filenames:\n",
    "        print(os.path.join(dirname, filename))\n",
    "\n",
    "# You can write up to 20GB to the current directory (/kaggle/working/) that gets preserved as output when you create a version using \"Save & Run All\" \n",
    "# You can also write temporary files to /kaggle/temp/, but they won't be saved outside of the current session"
   ]
  },
  {
   "cell_type": "code",
   "execution_count": 2,
   "id": "c204065f",
   "metadata": {
    "execution": {
     "iopub.execute_input": "2025-02-20T00:03:27.341030Z",
     "iopub.status.busy": "2025-02-20T00:03:27.340432Z",
     "iopub.status.idle": "2025-02-20T00:03:32.779941Z",
     "shell.execute_reply": "2025-02-20T00:03:32.778330Z"
    },
    "papermill": {
     "duration": 5.447982,
     "end_time": "2025-02-20T00:03:32.782378",
     "exception": false,
     "start_time": "2025-02-20T00:03:27.334396",
     "status": "completed"
    },
    "tags": []
   },
   "outputs": [
    {
     "name": "stdout",
     "output_type": "stream",
     "text": [
      "Requirement already satisfied: kaggle in /usr/local/lib/python3.10/dist-packages (1.6.17)\r\n",
      "Requirement already satisfied: six>=1.10 in /usr/local/lib/python3.10/dist-packages (from kaggle) (1.17.0)\r\n",
      "Requirement already satisfied: certifi>=2023.7.22 in /usr/local/lib/python3.10/dist-packages (from kaggle) (2025.1.31)\r\n",
      "Requirement already satisfied: python-dateutil in /usr/local/lib/python3.10/dist-packages (from kaggle) (2.9.0.post0)\r\n",
      "Requirement already satisfied: requests in /usr/local/lib/python3.10/dist-packages (from kaggle) (2.32.3)\r\n",
      "Requirement already satisfied: tqdm in /usr/local/lib/python3.10/dist-packages (from kaggle) (4.67.1)\r\n",
      "Requirement already satisfied: python-slugify in /usr/local/lib/python3.10/dist-packages (from kaggle) (8.0.4)\r\n",
      "Requirement already satisfied: urllib3 in /usr/local/lib/python3.10/dist-packages (from kaggle) (2.3.0)\r\n",
      "Requirement already satisfied: bleach in /usr/local/lib/python3.10/dist-packages (from kaggle) (6.2.0)\r\n",
      "Requirement already satisfied: webencodings in /usr/local/lib/python3.10/dist-packages (from bleach->kaggle) (0.5.1)\r\n",
      "Requirement already satisfied: text-unidecode>=1.3 in /usr/local/lib/python3.10/dist-packages (from python-slugify->kaggle) (1.3)\r\n",
      "Requirement already satisfied: charset-normalizer<4,>=2 in /usr/local/lib/python3.10/dist-packages (from requests->kaggle) (3.4.1)\r\n",
      "Requirement already satisfied: idna<4,>=2.5 in /usr/local/lib/python3.10/dist-packages (from requests->kaggle) (3.10)\r\n"
     ]
    }
   ],
   "source": [
    "#Pushing it to github from Kaggle API\n",
    "!pip install kaggle"
   ]
  },
  {
   "cell_type": "code",
   "execution_count": 3,
   "id": "04d87510",
   "metadata": {
    "execution": {
     "iopub.execute_input": "2025-02-20T00:03:32.796953Z",
     "iopub.status.busy": "2025-02-20T00:03:32.796343Z",
     "iopub.status.idle": "2025-02-20T00:03:32.857443Z",
     "shell.execute_reply": "2025-02-20T00:03:32.856299Z"
    },
    "papermill": {
     "duration": 0.07069,
     "end_time": "2025-02-20T00:03:32.859275",
     "exception": false,
     "start_time": "2025-02-20T00:03:32.788585",
     "status": "completed"
    },
    "tags": []
   },
   "outputs": [
    {
     "data": {
      "text/html": [
       "<div>\n",
       "<style scoped>\n",
       "    .dataframe tbody tr th:only-of-type {\n",
       "        vertical-align: middle;\n",
       "    }\n",
       "\n",
       "    .dataframe tbody tr th {\n",
       "        vertical-align: top;\n",
       "    }\n",
       "\n",
       "    .dataframe thead th {\n",
       "        text-align: right;\n",
       "    }\n",
       "</style>\n",
       "<table border=\"1\" class=\"dataframe\">\n",
       "  <thead>\n",
       "    <tr style=\"text-align: right;\">\n",
       "      <th></th>\n",
       "      <th>Product_ID</th>\n",
       "      <th>Sale_Date</th>\n",
       "      <th>Sales_Rep</th>\n",
       "      <th>Region</th>\n",
       "      <th>Sales_Amount</th>\n",
       "      <th>Quantity_Sold</th>\n",
       "      <th>Product_Category</th>\n",
       "      <th>Unit_Cost</th>\n",
       "      <th>Unit_Price</th>\n",
       "      <th>Customer_Type</th>\n",
       "      <th>Discount</th>\n",
       "      <th>Payment_Method</th>\n",
       "      <th>Sales_Channel</th>\n",
       "      <th>Region_and_Sales_Rep</th>\n",
       "    </tr>\n",
       "  </thead>\n",
       "  <tbody>\n",
       "    <tr>\n",
       "      <th>0</th>\n",
       "      <td>1052</td>\n",
       "      <td>2023-02-03</td>\n",
       "      <td>Bob</td>\n",
       "      <td>North</td>\n",
       "      <td>5053.97</td>\n",
       "      <td>18</td>\n",
       "      <td>Furniture</td>\n",
       "      <td>152.75</td>\n",
       "      <td>267.22</td>\n",
       "      <td>Returning</td>\n",
       "      <td>0.09</td>\n",
       "      <td>Cash</td>\n",
       "      <td>Online</td>\n",
       "      <td>North-Bob</td>\n",
       "    </tr>\n",
       "    <tr>\n",
       "      <th>1</th>\n",
       "      <td>1093</td>\n",
       "      <td>2023-04-21</td>\n",
       "      <td>Bob</td>\n",
       "      <td>West</td>\n",
       "      <td>4384.02</td>\n",
       "      <td>17</td>\n",
       "      <td>Furniture</td>\n",
       "      <td>3816.39</td>\n",
       "      <td>4209.44</td>\n",
       "      <td>Returning</td>\n",
       "      <td>0.11</td>\n",
       "      <td>Cash</td>\n",
       "      <td>Retail</td>\n",
       "      <td>West-Bob</td>\n",
       "    </tr>\n",
       "    <tr>\n",
       "      <th>2</th>\n",
       "      <td>1015</td>\n",
       "      <td>2023-09-21</td>\n",
       "      <td>David</td>\n",
       "      <td>South</td>\n",
       "      <td>4631.23</td>\n",
       "      <td>30</td>\n",
       "      <td>Food</td>\n",
       "      <td>261.56</td>\n",
       "      <td>371.40</td>\n",
       "      <td>Returning</td>\n",
       "      <td>0.20</td>\n",
       "      <td>Bank Transfer</td>\n",
       "      <td>Retail</td>\n",
       "      <td>South-David</td>\n",
       "    </tr>\n",
       "    <tr>\n",
       "      <th>3</th>\n",
       "      <td>1072</td>\n",
       "      <td>2023-08-24</td>\n",
       "      <td>Bob</td>\n",
       "      <td>South</td>\n",
       "      <td>2167.94</td>\n",
       "      <td>39</td>\n",
       "      <td>Clothing</td>\n",
       "      <td>4330.03</td>\n",
       "      <td>4467.75</td>\n",
       "      <td>New</td>\n",
       "      <td>0.02</td>\n",
       "      <td>Credit Card</td>\n",
       "      <td>Retail</td>\n",
       "      <td>South-Bob</td>\n",
       "    </tr>\n",
       "    <tr>\n",
       "      <th>4</th>\n",
       "      <td>1061</td>\n",
       "      <td>2023-03-24</td>\n",
       "      <td>Charlie</td>\n",
       "      <td>East</td>\n",
       "      <td>3750.20</td>\n",
       "      <td>13</td>\n",
       "      <td>Electronics</td>\n",
       "      <td>637.37</td>\n",
       "      <td>692.71</td>\n",
       "      <td>New</td>\n",
       "      <td>0.08</td>\n",
       "      <td>Credit Card</td>\n",
       "      <td>Online</td>\n",
       "      <td>East-Charlie</td>\n",
       "    </tr>\n",
       "  </tbody>\n",
       "</table>\n",
       "</div>"
      ],
      "text/plain": [
       "   Product_ID   Sale_Date Sales_Rep Region  Sales_Amount  Quantity_Sold  \\\n",
       "0        1052  2023-02-03       Bob  North       5053.97             18   \n",
       "1        1093  2023-04-21       Bob   West       4384.02             17   \n",
       "2        1015  2023-09-21     David  South       4631.23             30   \n",
       "3        1072  2023-08-24       Bob  South       2167.94             39   \n",
       "4        1061  2023-03-24   Charlie   East       3750.20             13   \n",
       "\n",
       "  Product_Category  Unit_Cost  Unit_Price Customer_Type  Discount  \\\n",
       "0        Furniture     152.75      267.22     Returning      0.09   \n",
       "1        Furniture    3816.39     4209.44     Returning      0.11   \n",
       "2             Food     261.56      371.40     Returning      0.20   \n",
       "3         Clothing    4330.03     4467.75           New      0.02   \n",
       "4      Electronics     637.37      692.71           New      0.08   \n",
       "\n",
       "  Payment_Method Sales_Channel Region_and_Sales_Rep  \n",
       "0           Cash        Online            North-Bob  \n",
       "1           Cash        Retail             West-Bob  \n",
       "2  Bank Transfer        Retail          South-David  \n",
       "3    Credit Card        Retail            South-Bob  \n",
       "4    Credit Card        Online         East-Charlie  "
      ]
     },
     "execution_count": 3,
     "metadata": {},
     "output_type": "execute_result"
    }
   ],
   "source": [
    "df_main=pd.read_csv(\"/kaggle/input/sales-dataset/sales_data.csv\")\n",
    "df_main.head()"
   ]
  },
  {
   "cell_type": "markdown",
   "id": "4a8c8cf8",
   "metadata": {
    "papermill": {
     "duration": 0.005888,
     "end_time": "2025-02-20T00:03:32.871109",
     "exception": false,
     "start_time": "2025-02-20T00:03:32.865221",
     "status": "completed"
    },
    "tags": []
   },
   "source": [
    "**DATA WRANGLING**\n",
    "\n",
    "The following code shows how to clean the dataset, set the index, and check whether any columns have missing values or duplicates. \n"
   ]
  },
  {
   "cell_type": "code",
   "execution_count": 4,
   "id": "edf6ed3a",
   "metadata": {
    "execution": {
     "iopub.execute_input": "2025-02-20T00:03:32.883993Z",
     "iopub.status.busy": "2025-02-20T00:03:32.883568Z",
     "iopub.status.idle": "2025-02-20T00:03:32.888559Z",
     "shell.execute_reply": "2025-02-20T00:03:32.887381Z"
    },
    "papermill": {
     "duration": 0.013556,
     "end_time": "2025-02-20T00:03:32.890438",
     "exception": false,
     "start_time": "2025-02-20T00:03:32.876882",
     "status": "completed"
    },
    "tags": []
   },
   "outputs": [
    {
     "name": "stdout",
     "output_type": "stream",
     "text": [
      "Index(['Product_ID', 'Sale_Date', 'Sales_Rep', 'Region', 'Sales_Amount',\n",
      "       'Quantity_Sold', 'Product_Category', 'Unit_Cost', 'Unit_Price',\n",
      "       'Customer_Type', 'Discount', 'Payment_Method', 'Sales_Channel',\n",
      "       'Region_and_Sales_Rep'],\n",
      "      dtype='object')\n"
     ]
    }
   ],
   "source": [
    "print(df_main.columns)"
   ]
  },
  {
   "cell_type": "code",
   "execution_count": 5,
   "id": "ddc7d546",
   "metadata": {
    "execution": {
     "iopub.execute_input": "2025-02-20T00:03:32.903149Z",
     "iopub.status.busy": "2025-02-20T00:03:32.902609Z",
     "iopub.status.idle": "2025-02-20T00:03:32.933297Z",
     "shell.execute_reply": "2025-02-20T00:03:32.932004Z"
    },
    "papermill": {
     "duration": 0.039038,
     "end_time": "2025-02-20T00:03:32.935132",
     "exception": false,
     "start_time": "2025-02-20T00:03:32.896094",
     "status": "completed"
    },
    "tags": []
   },
   "outputs": [
    {
     "data": {
      "text/html": [
       "<div>\n",
       "<style scoped>\n",
       "    .dataframe tbody tr th:only-of-type {\n",
       "        vertical-align: middle;\n",
       "    }\n",
       "\n",
       "    .dataframe tbody tr th {\n",
       "        vertical-align: top;\n",
       "    }\n",
       "\n",
       "    .dataframe thead th {\n",
       "        text-align: right;\n",
       "    }\n",
       "</style>\n",
       "<table border=\"1\" class=\"dataframe\">\n",
       "  <thead>\n",
       "    <tr style=\"text-align: right;\">\n",
       "      <th></th>\n",
       "      <th>Product_ID</th>\n",
       "      <th>Sales_Amount</th>\n",
       "      <th>Quantity_Sold</th>\n",
       "      <th>Unit_Cost</th>\n",
       "      <th>Unit_Price</th>\n",
       "      <th>Discount</th>\n",
       "    </tr>\n",
       "  </thead>\n",
       "  <tbody>\n",
       "    <tr>\n",
       "      <th>count</th>\n",
       "      <td>1000.000000</td>\n",
       "      <td>1000.000000</td>\n",
       "      <td>1000.000000</td>\n",
       "      <td>1000.000000</td>\n",
       "      <td>1000.000000</td>\n",
       "      <td>1000.00000</td>\n",
       "    </tr>\n",
       "    <tr>\n",
       "      <th>mean</th>\n",
       "      <td>1050.128000</td>\n",
       "      <td>5019.265230</td>\n",
       "      <td>25.355000</td>\n",
       "      <td>2475.304550</td>\n",
       "      <td>2728.440120</td>\n",
       "      <td>0.15239</td>\n",
       "    </tr>\n",
       "    <tr>\n",
       "      <th>std</th>\n",
       "      <td>29.573505</td>\n",
       "      <td>2846.790126</td>\n",
       "      <td>14.159006</td>\n",
       "      <td>1417.872546</td>\n",
       "      <td>1419.399839</td>\n",
       "      <td>0.08720</td>\n",
       "    </tr>\n",
       "    <tr>\n",
       "      <th>min</th>\n",
       "      <td>1001.000000</td>\n",
       "      <td>100.120000</td>\n",
       "      <td>1.000000</td>\n",
       "      <td>60.280000</td>\n",
       "      <td>167.120000</td>\n",
       "      <td>0.00000</td>\n",
       "    </tr>\n",
       "    <tr>\n",
       "      <th>25%</th>\n",
       "      <td>1024.000000</td>\n",
       "      <td>2550.297500</td>\n",
       "      <td>13.000000</td>\n",
       "      <td>1238.380000</td>\n",
       "      <td>1509.085000</td>\n",
       "      <td>0.08000</td>\n",
       "    </tr>\n",
       "    <tr>\n",
       "      <th>50%</th>\n",
       "      <td>1051.000000</td>\n",
       "      <td>5019.300000</td>\n",
       "      <td>25.000000</td>\n",
       "      <td>2467.235000</td>\n",
       "      <td>2696.400000</td>\n",
       "      <td>0.15000</td>\n",
       "    </tr>\n",
       "    <tr>\n",
       "      <th>75%</th>\n",
       "      <td>1075.000000</td>\n",
       "      <td>7507.445000</td>\n",
       "      <td>38.000000</td>\n",
       "      <td>3702.865000</td>\n",
       "      <td>3957.970000</td>\n",
       "      <td>0.23000</td>\n",
       "    </tr>\n",
       "    <tr>\n",
       "      <th>max</th>\n",
       "      <td>1100.000000</td>\n",
       "      <td>9989.040000</td>\n",
       "      <td>49.000000</td>\n",
       "      <td>4995.300000</td>\n",
       "      <td>5442.150000</td>\n",
       "      <td>0.30000</td>\n",
       "    </tr>\n",
       "  </tbody>\n",
       "</table>\n",
       "</div>"
      ],
      "text/plain": [
       "        Product_ID  Sales_Amount  Quantity_Sold    Unit_Cost   Unit_Price  \\\n",
       "count  1000.000000   1000.000000    1000.000000  1000.000000  1000.000000   \n",
       "mean   1050.128000   5019.265230      25.355000  2475.304550  2728.440120   \n",
       "std      29.573505   2846.790126      14.159006  1417.872546  1419.399839   \n",
       "min    1001.000000    100.120000       1.000000    60.280000   167.120000   \n",
       "25%    1024.000000   2550.297500      13.000000  1238.380000  1509.085000   \n",
       "50%    1051.000000   5019.300000      25.000000  2467.235000  2696.400000   \n",
       "75%    1075.000000   7507.445000      38.000000  3702.865000  3957.970000   \n",
       "max    1100.000000   9989.040000      49.000000  4995.300000  5442.150000   \n",
       "\n",
       "         Discount  \n",
       "count  1000.00000  \n",
       "mean      0.15239  \n",
       "std       0.08720  \n",
       "min       0.00000  \n",
       "25%       0.08000  \n",
       "50%       0.15000  \n",
       "75%       0.23000  \n",
       "max       0.30000  "
      ]
     },
     "execution_count": 5,
     "metadata": {},
     "output_type": "execute_result"
    }
   ],
   "source": [
    "df_main.describe()"
   ]
  },
  {
   "cell_type": "code",
   "execution_count": 6,
   "id": "a836fb13",
   "metadata": {
    "execution": {
     "iopub.execute_input": "2025-02-20T00:03:32.948412Z",
     "iopub.status.busy": "2025-02-20T00:03:32.948009Z",
     "iopub.status.idle": "2025-02-20T00:03:32.971718Z",
     "shell.execute_reply": "2025-02-20T00:03:32.970301Z"
    },
    "papermill": {
     "duration": 0.032386,
     "end_time": "2025-02-20T00:03:32.973569",
     "exception": false,
     "start_time": "2025-02-20T00:03:32.941183",
     "status": "completed"
    },
    "tags": []
   },
   "outputs": [
    {
     "name": "stdout",
     "output_type": "stream",
     "text": [
      "<class 'pandas.core.frame.DataFrame'>\n",
      "RangeIndex: 1000 entries, 0 to 999\n",
      "Data columns (total 14 columns):\n",
      " #   Column                Non-Null Count  Dtype  \n",
      "---  ------                --------------  -----  \n",
      " 0   Product_ID            1000 non-null   int64  \n",
      " 1   Sale_Date             1000 non-null   object \n",
      " 2   Sales_Rep             1000 non-null   object \n",
      " 3   Region                1000 non-null   object \n",
      " 4   Sales_Amount          1000 non-null   float64\n",
      " 5   Quantity_Sold         1000 non-null   int64  \n",
      " 6   Product_Category      1000 non-null   object \n",
      " 7   Unit_Cost             1000 non-null   float64\n",
      " 8   Unit_Price            1000 non-null   float64\n",
      " 9   Customer_Type         1000 non-null   object \n",
      " 10  Discount              1000 non-null   float64\n",
      " 11  Payment_Method        1000 non-null   object \n",
      " 12  Sales_Channel         1000 non-null   object \n",
      " 13  Region_and_Sales_Rep  1000 non-null   object \n",
      "dtypes: float64(4), int64(2), object(8)\n",
      "memory usage: 109.5+ KB\n"
     ]
    }
   ],
   "source": [
    "df_main.info()"
   ]
  },
  {
   "cell_type": "code",
   "execution_count": 7,
   "id": "b9c7c84a",
   "metadata": {
    "execution": {
     "iopub.execute_input": "2025-02-20T00:03:32.987098Z",
     "iopub.status.busy": "2025-02-20T00:03:32.986618Z",
     "iopub.status.idle": "2025-02-20T00:03:32.991903Z",
     "shell.execute_reply": "2025-02-20T00:03:32.990805Z"
    },
    "papermill": {
     "duration": 0.013949,
     "end_time": "2025-02-20T00:03:32.993704",
     "exception": false,
     "start_time": "2025-02-20T00:03:32.979755",
     "status": "completed"
    },
    "tags": []
   },
   "outputs": [],
   "source": [
    "df_main.set_index(\"Product_ID\", inplace=True)"
   ]
  },
  {
   "cell_type": "code",
   "execution_count": 8,
   "id": "c5c0b2a5",
   "metadata": {
    "execution": {
     "iopub.execute_input": "2025-02-20T00:03:33.007280Z",
     "iopub.status.busy": "2025-02-20T00:03:33.006875Z",
     "iopub.status.idle": "2025-02-20T00:03:33.023898Z",
     "shell.execute_reply": "2025-02-20T00:03:33.022827Z"
    },
    "papermill": {
     "duration": 0.025858,
     "end_time": "2025-02-20T00:03:33.025680",
     "exception": false,
     "start_time": "2025-02-20T00:03:32.999822",
     "status": "completed"
    },
    "tags": []
   },
   "outputs": [
    {
     "data": {
      "text/html": [
       "<div>\n",
       "<style scoped>\n",
       "    .dataframe tbody tr th:only-of-type {\n",
       "        vertical-align: middle;\n",
       "    }\n",
       "\n",
       "    .dataframe tbody tr th {\n",
       "        vertical-align: top;\n",
       "    }\n",
       "\n",
       "    .dataframe thead th {\n",
       "        text-align: right;\n",
       "    }\n",
       "</style>\n",
       "<table border=\"1\" class=\"dataframe\">\n",
       "  <thead>\n",
       "    <tr style=\"text-align: right;\">\n",
       "      <th></th>\n",
       "      <th>Sale_Date</th>\n",
       "      <th>Sales_Rep</th>\n",
       "      <th>Region</th>\n",
       "      <th>Sales_Amount</th>\n",
       "      <th>Quantity_Sold</th>\n",
       "      <th>Product_Category</th>\n",
       "      <th>Unit_Cost</th>\n",
       "      <th>Unit_Price</th>\n",
       "      <th>Customer_Type</th>\n",
       "      <th>Discount</th>\n",
       "      <th>Payment_Method</th>\n",
       "      <th>Sales_Channel</th>\n",
       "      <th>Region_and_Sales_Rep</th>\n",
       "    </tr>\n",
       "    <tr>\n",
       "      <th>Product_ID</th>\n",
       "      <th></th>\n",
       "      <th></th>\n",
       "      <th></th>\n",
       "      <th></th>\n",
       "      <th></th>\n",
       "      <th></th>\n",
       "      <th></th>\n",
       "      <th></th>\n",
       "      <th></th>\n",
       "      <th></th>\n",
       "      <th></th>\n",
       "      <th></th>\n",
       "      <th></th>\n",
       "    </tr>\n",
       "  </thead>\n",
       "  <tbody>\n",
       "    <tr>\n",
       "      <th>1052</th>\n",
       "      <td>2023-02-03</td>\n",
       "      <td>Bob</td>\n",
       "      <td>North</td>\n",
       "      <td>5053.97</td>\n",
       "      <td>18</td>\n",
       "      <td>Furniture</td>\n",
       "      <td>152.75</td>\n",
       "      <td>267.22</td>\n",
       "      <td>Returning</td>\n",
       "      <td>0.09</td>\n",
       "      <td>Cash</td>\n",
       "      <td>Online</td>\n",
       "      <td>North-Bob</td>\n",
       "    </tr>\n",
       "    <tr>\n",
       "      <th>1093</th>\n",
       "      <td>2023-04-21</td>\n",
       "      <td>Bob</td>\n",
       "      <td>West</td>\n",
       "      <td>4384.02</td>\n",
       "      <td>17</td>\n",
       "      <td>Furniture</td>\n",
       "      <td>3816.39</td>\n",
       "      <td>4209.44</td>\n",
       "      <td>Returning</td>\n",
       "      <td>0.11</td>\n",
       "      <td>Cash</td>\n",
       "      <td>Retail</td>\n",
       "      <td>West-Bob</td>\n",
       "    </tr>\n",
       "    <tr>\n",
       "      <th>1015</th>\n",
       "      <td>2023-09-21</td>\n",
       "      <td>David</td>\n",
       "      <td>South</td>\n",
       "      <td>4631.23</td>\n",
       "      <td>30</td>\n",
       "      <td>Food</td>\n",
       "      <td>261.56</td>\n",
       "      <td>371.40</td>\n",
       "      <td>Returning</td>\n",
       "      <td>0.20</td>\n",
       "      <td>Bank Transfer</td>\n",
       "      <td>Retail</td>\n",
       "      <td>South-David</td>\n",
       "    </tr>\n",
       "    <tr>\n",
       "      <th>1072</th>\n",
       "      <td>2023-08-24</td>\n",
       "      <td>Bob</td>\n",
       "      <td>South</td>\n",
       "      <td>2167.94</td>\n",
       "      <td>39</td>\n",
       "      <td>Clothing</td>\n",
       "      <td>4330.03</td>\n",
       "      <td>4467.75</td>\n",
       "      <td>New</td>\n",
       "      <td>0.02</td>\n",
       "      <td>Credit Card</td>\n",
       "      <td>Retail</td>\n",
       "      <td>South-Bob</td>\n",
       "    </tr>\n",
       "    <tr>\n",
       "      <th>1061</th>\n",
       "      <td>2023-03-24</td>\n",
       "      <td>Charlie</td>\n",
       "      <td>East</td>\n",
       "      <td>3750.20</td>\n",
       "      <td>13</td>\n",
       "      <td>Electronics</td>\n",
       "      <td>637.37</td>\n",
       "      <td>692.71</td>\n",
       "      <td>New</td>\n",
       "      <td>0.08</td>\n",
       "      <td>Credit Card</td>\n",
       "      <td>Online</td>\n",
       "      <td>East-Charlie</td>\n",
       "    </tr>\n",
       "  </tbody>\n",
       "</table>\n",
       "</div>"
      ],
      "text/plain": [
       "             Sale_Date Sales_Rep Region  Sales_Amount  Quantity_Sold  \\\n",
       "Product_ID                                                             \n",
       "1052        2023-02-03       Bob  North       5053.97             18   \n",
       "1093        2023-04-21       Bob   West       4384.02             17   \n",
       "1015        2023-09-21     David  South       4631.23             30   \n",
       "1072        2023-08-24       Bob  South       2167.94             39   \n",
       "1061        2023-03-24   Charlie   East       3750.20             13   \n",
       "\n",
       "           Product_Category  Unit_Cost  Unit_Price Customer_Type  Discount  \\\n",
       "Product_ID                                                                   \n",
       "1052              Furniture     152.75      267.22     Returning      0.09   \n",
       "1093              Furniture    3816.39     4209.44     Returning      0.11   \n",
       "1015                   Food     261.56      371.40     Returning      0.20   \n",
       "1072               Clothing    4330.03     4467.75           New      0.02   \n",
       "1061            Electronics     637.37      692.71           New      0.08   \n",
       "\n",
       "           Payment_Method Sales_Channel Region_and_Sales_Rep  \n",
       "Product_ID                                                    \n",
       "1052                 Cash        Online            North-Bob  \n",
       "1093                 Cash        Retail             West-Bob  \n",
       "1015        Bank Transfer        Retail          South-David  \n",
       "1072          Credit Card        Retail            South-Bob  \n",
       "1061          Credit Card        Online         East-Charlie  "
      ]
     },
     "execution_count": 8,
     "metadata": {},
     "output_type": "execute_result"
    }
   ],
   "source": [
    "df_main.head()"
   ]
  },
  {
   "cell_type": "code",
   "execution_count": 9,
   "id": "b76e2b30",
   "metadata": {
    "execution": {
     "iopub.execute_input": "2025-02-20T00:03:33.039627Z",
     "iopub.status.busy": "2025-02-20T00:03:33.039247Z",
     "iopub.status.idle": "2025-02-20T00:03:33.047748Z",
     "shell.execute_reply": "2025-02-20T00:03:33.046699Z"
    },
    "papermill": {
     "duration": 0.017323,
     "end_time": "2025-02-20T00:03:33.049403",
     "exception": false,
     "start_time": "2025-02-20T00:03:33.032080",
     "status": "completed"
    },
    "tags": []
   },
   "outputs": [
    {
     "data": {
      "text/plain": [
       "Sale_Date               0\n",
       "Sales_Rep               0\n",
       "Region                  0\n",
       "Sales_Amount            0\n",
       "Quantity_Sold           0\n",
       "Product_Category        0\n",
       "Unit_Cost               0\n",
       "Unit_Price              0\n",
       "Customer_Type           0\n",
       "Discount                0\n",
       "Payment_Method          0\n",
       "Sales_Channel           0\n",
       "Region_and_Sales_Rep    0\n",
       "dtype: int64"
      ]
     },
     "execution_count": 9,
     "metadata": {},
     "output_type": "execute_result"
    }
   ],
   "source": [
    "df_main.isnull().sum()"
   ]
  },
  {
   "cell_type": "code",
   "execution_count": 10,
   "id": "f6e17590",
   "metadata": {
    "execution": {
     "iopub.execute_input": "2025-02-20T00:03:33.063528Z",
     "iopub.status.busy": "2025-02-20T00:03:33.063158Z",
     "iopub.status.idle": "2025-02-20T00:03:33.082011Z",
     "shell.execute_reply": "2025-02-20T00:03:33.080951Z"
    },
    "papermill": {
     "duration": 0.027894,
     "end_time": "2025-02-20T00:03:33.083748",
     "exception": false,
     "start_time": "2025-02-20T00:03:33.055854",
     "status": "completed"
    },
    "tags": []
   },
   "outputs": [
    {
     "data": {
      "text/html": [
       "<div>\n",
       "<style scoped>\n",
       "    .dataframe tbody tr th:only-of-type {\n",
       "        vertical-align: middle;\n",
       "    }\n",
       "\n",
       "    .dataframe tbody tr th {\n",
       "        vertical-align: top;\n",
       "    }\n",
       "\n",
       "    .dataframe thead th {\n",
       "        text-align: right;\n",
       "    }\n",
       "</style>\n",
       "<table border=\"1\" class=\"dataframe\">\n",
       "  <thead>\n",
       "    <tr style=\"text-align: right;\">\n",
       "      <th></th>\n",
       "      <th>Sale_Date</th>\n",
       "      <th>Sales_Rep</th>\n",
       "      <th>Region</th>\n",
       "      <th>Sales_Amount</th>\n",
       "      <th>Quantity_Sold</th>\n",
       "      <th>Product_Category</th>\n",
       "      <th>Unit_Cost</th>\n",
       "      <th>Unit_Price</th>\n",
       "      <th>Customer_Type</th>\n",
       "      <th>Discount</th>\n",
       "      <th>Payment_Method</th>\n",
       "      <th>Sales_Channel</th>\n",
       "      <th>Region_and_Sales_Rep</th>\n",
       "    </tr>\n",
       "    <tr>\n",
       "      <th>Product_ID</th>\n",
       "      <th></th>\n",
       "      <th></th>\n",
       "      <th></th>\n",
       "      <th></th>\n",
       "      <th></th>\n",
       "      <th></th>\n",
       "      <th></th>\n",
       "      <th></th>\n",
       "      <th></th>\n",
       "      <th></th>\n",
       "      <th></th>\n",
       "      <th></th>\n",
       "      <th></th>\n",
       "    </tr>\n",
       "  </thead>\n",
       "  <tbody>\n",
       "    <tr>\n",
       "      <th>1052</th>\n",
       "      <td>2023-02-03</td>\n",
       "      <td>Bob</td>\n",
       "      <td>North</td>\n",
       "      <td>5053.97</td>\n",
       "      <td>18</td>\n",
       "      <td>Furniture</td>\n",
       "      <td>152.75</td>\n",
       "      <td>267.22</td>\n",
       "      <td>Returning</td>\n",
       "      <td>0.09</td>\n",
       "      <td>Cash</td>\n",
       "      <td>Online</td>\n",
       "      <td>North-Bob</td>\n",
       "    </tr>\n",
       "    <tr>\n",
       "      <th>1093</th>\n",
       "      <td>2023-04-21</td>\n",
       "      <td>Bob</td>\n",
       "      <td>West</td>\n",
       "      <td>4384.02</td>\n",
       "      <td>17</td>\n",
       "      <td>Furniture</td>\n",
       "      <td>3816.39</td>\n",
       "      <td>4209.44</td>\n",
       "      <td>Returning</td>\n",
       "      <td>0.11</td>\n",
       "      <td>Cash</td>\n",
       "      <td>Retail</td>\n",
       "      <td>West-Bob</td>\n",
       "    </tr>\n",
       "    <tr>\n",
       "      <th>1015</th>\n",
       "      <td>2023-09-21</td>\n",
       "      <td>David</td>\n",
       "      <td>South</td>\n",
       "      <td>4631.23</td>\n",
       "      <td>30</td>\n",
       "      <td>Food</td>\n",
       "      <td>261.56</td>\n",
       "      <td>371.40</td>\n",
       "      <td>Returning</td>\n",
       "      <td>0.20</td>\n",
       "      <td>Bank Transfer</td>\n",
       "      <td>Retail</td>\n",
       "      <td>South-David</td>\n",
       "    </tr>\n",
       "    <tr>\n",
       "      <th>1072</th>\n",
       "      <td>2023-08-24</td>\n",
       "      <td>Bob</td>\n",
       "      <td>South</td>\n",
       "      <td>2167.94</td>\n",
       "      <td>39</td>\n",
       "      <td>Clothing</td>\n",
       "      <td>4330.03</td>\n",
       "      <td>4467.75</td>\n",
       "      <td>New</td>\n",
       "      <td>0.02</td>\n",
       "      <td>Credit Card</td>\n",
       "      <td>Retail</td>\n",
       "      <td>South-Bob</td>\n",
       "    </tr>\n",
       "    <tr>\n",
       "      <th>1061</th>\n",
       "      <td>2023-03-24</td>\n",
       "      <td>Charlie</td>\n",
       "      <td>East</td>\n",
       "      <td>3750.20</td>\n",
       "      <td>13</td>\n",
       "      <td>Electronics</td>\n",
       "      <td>637.37</td>\n",
       "      <td>692.71</td>\n",
       "      <td>New</td>\n",
       "      <td>0.08</td>\n",
       "      <td>Credit Card</td>\n",
       "      <td>Online</td>\n",
       "      <td>East-Charlie</td>\n",
       "    </tr>\n",
       "  </tbody>\n",
       "</table>\n",
       "</div>"
      ],
      "text/plain": [
       "             Sale_Date Sales_Rep Region  Sales_Amount  Quantity_Sold  \\\n",
       "Product_ID                                                             \n",
       "1052        2023-02-03       Bob  North       5053.97             18   \n",
       "1093        2023-04-21       Bob   West       4384.02             17   \n",
       "1015        2023-09-21     David  South       4631.23             30   \n",
       "1072        2023-08-24       Bob  South       2167.94             39   \n",
       "1061        2023-03-24   Charlie   East       3750.20             13   \n",
       "\n",
       "           Product_Category  Unit_Cost  Unit_Price Customer_Type  Discount  \\\n",
       "Product_ID                                                                   \n",
       "1052              Furniture     152.75      267.22     Returning      0.09   \n",
       "1093              Furniture    3816.39     4209.44     Returning      0.11   \n",
       "1015                   Food     261.56      371.40     Returning      0.20   \n",
       "1072               Clothing    4330.03     4467.75           New      0.02   \n",
       "1061            Electronics     637.37      692.71           New      0.08   \n",
       "\n",
       "           Payment_Method Sales_Channel Region_and_Sales_Rep  \n",
       "Product_ID                                                    \n",
       "1052                 Cash        Online            North-Bob  \n",
       "1093                 Cash        Retail             West-Bob  \n",
       "1015        Bank Transfer        Retail          South-David  \n",
       "1072          Credit Card        Retail            South-Bob  \n",
       "1061          Credit Card        Online         East-Charlie  "
      ]
     },
     "execution_count": 10,
     "metadata": {},
     "output_type": "execute_result"
    }
   ],
   "source": [
    "# Replacing the missing values\n",
    "df_main.replace(\"?\", np.nan, inplace=True)\n",
    "df_main.head()"
   ]
  },
  {
   "cell_type": "code",
   "execution_count": 11,
   "id": "f8efaf3b",
   "metadata": {
    "execution": {
     "iopub.execute_input": "2025-02-20T00:03:33.098547Z",
     "iopub.status.busy": "2025-02-20T00:03:33.098189Z",
     "iopub.status.idle": "2025-02-20T00:03:33.106383Z",
     "shell.execute_reply": "2025-02-20T00:03:33.105353Z"
    },
    "papermill": {
     "duration": 0.017713,
     "end_time": "2025-02-20T00:03:33.108266",
     "exception": false,
     "start_time": "2025-02-20T00:03:33.090553",
     "status": "completed"
    },
    "tags": []
   },
   "outputs": [
    {
     "name": "stdout",
     "output_type": "stream",
     "text": [
      "Total Sale is 5019265.23\n",
      "Averag Unit cost is 2475.30455\n",
      "Average Unit Price is 2728.44012\n"
     ]
    }
   ],
   "source": [
    "#calculating the mean/sum of the following columns-> Sales_Amount, Unit_cost, Unit_Price\n",
    "total_sales_amount=df_main[\"Sales_Amount\"].sum(axis=0).astype(float)\n",
    "print(\"Total Sale is\", total_sales_amount)\n",
    "\n",
    "avg_unit_cost=df_main[\"Unit_Cost\"].astype(float).mean(axis=0)\n",
    "print(\"Averag Unit cost is\", avg_unit_cost)\n",
    "\n",
    "avg_unit_price=df_main[\"Unit_Price\"].astype(float).mean(axis=0)\n",
    "print(\"Average Unit Price is\", avg_unit_price)"
   ]
  },
  {
   "cell_type": "code",
   "execution_count": 12,
   "id": "11b97c49",
   "metadata": {
    "execution": {
     "iopub.execute_input": "2025-02-20T00:03:33.122998Z",
     "iopub.status.busy": "2025-02-20T00:03:33.122484Z",
     "iopub.status.idle": "2025-02-20T00:03:33.130240Z",
     "shell.execute_reply": "2025-02-20T00:03:33.129081Z"
    },
    "papermill": {
     "duration": 0.016955,
     "end_time": "2025-02-20T00:03:33.131972",
     "exception": false,
     "start_time": "2025-02-20T00:03:33.115017",
     "status": "completed"
    },
    "tags": []
   },
   "outputs": [
    {
     "name": "stdout",
     "output_type": "stream",
     "text": [
      "Clothing & North-Eve\n"
     ]
    }
   ],
   "source": [
    "#We can see which product category and which region is the most common type\n",
    "a=df_main[\"Product_Category\"].value_counts().idxmax()\n",
    "b=df_main[\"Region_and_Sales_Rep\"].value_counts().idxmax()\n",
    "print(a,\"&\",b)"
   ]
  },
  {
   "cell_type": "code",
   "execution_count": 13,
   "id": "5cef3f4e",
   "metadata": {
    "execution": {
     "iopub.execute_input": "2025-02-20T00:03:33.146662Z",
     "iopub.status.busy": "2025-02-20T00:03:33.146335Z",
     "iopub.status.idle": "2025-02-20T00:03:33.153563Z",
     "shell.execute_reply": "2025-02-20T00:03:33.152638Z"
    },
    "papermill": {
     "duration": 0.016701,
     "end_time": "2025-02-20T00:03:33.155562",
     "exception": false,
     "start_time": "2025-02-20T00:03:33.138861",
     "status": "completed"
    },
    "tags": []
   },
   "outputs": [
    {
     "data": {
      "text/plain": [
       "Sale_Date                object\n",
       "Sales_Rep                object\n",
       "Region                   object\n",
       "Sales_Amount            float64\n",
       "Quantity_Sold             int64\n",
       "Product_Category         object\n",
       "Unit_Cost               float64\n",
       "Unit_Price              float64\n",
       "Customer_Type            object\n",
       "Discount                float64\n",
       "Payment_Method           object\n",
       "Sales_Channel            object\n",
       "Region_and_Sales_Rep     object\n",
       "dtype: object"
      ]
     },
     "execution_count": 13,
     "metadata": {},
     "output_type": "execute_result"
    }
   ],
   "source": [
    "df_main.dtypes"
   ]
  },
  {
   "cell_type": "code",
   "execution_count": 14,
   "id": "1c3777c5",
   "metadata": {
    "execution": {
     "iopub.execute_input": "2025-02-20T00:03:33.171388Z",
     "iopub.status.busy": "2025-02-20T00:03:33.171038Z",
     "iopub.status.idle": "2025-02-20T00:03:33.176491Z",
     "shell.execute_reply": "2025-02-20T00:03:33.175246Z"
    },
    "papermill": {
     "duration": 0.015821,
     "end_time": "2025-02-20T00:03:33.178470",
     "exception": false,
     "start_time": "2025-02-20T00:03:33.162649",
     "status": "completed"
    },
    "tags": []
   },
   "outputs": [],
   "source": [
    "#Normalizing the discount column\n",
    "df_main[\"Discount\"]=df_main[\"Discount\"]/df_main[\"Discount\"].max()"
   ]
  },
  {
   "cell_type": "code",
   "execution_count": 15,
   "id": "dde7cdad",
   "metadata": {
    "execution": {
     "iopub.execute_input": "2025-02-20T00:03:33.194715Z",
     "iopub.status.busy": "2025-02-20T00:03:33.194234Z",
     "iopub.status.idle": "2025-02-20T00:03:33.211086Z",
     "shell.execute_reply": "2025-02-20T00:03:33.209614Z"
    },
    "papermill": {
     "duration": 0.02796,
     "end_time": "2025-02-20T00:03:33.213485",
     "exception": false,
     "start_time": "2025-02-20T00:03:33.185525",
     "status": "completed"
    },
    "tags": []
   },
   "outputs": [
    {
     "data": {
      "text/html": [
       "<div>\n",
       "<style scoped>\n",
       "    .dataframe tbody tr th:only-of-type {\n",
       "        vertical-align: middle;\n",
       "    }\n",
       "\n",
       "    .dataframe tbody tr th {\n",
       "        vertical-align: top;\n",
       "    }\n",
       "\n",
       "    .dataframe thead th {\n",
       "        text-align: right;\n",
       "    }\n",
       "</style>\n",
       "<table border=\"1\" class=\"dataframe\">\n",
       "  <thead>\n",
       "    <tr style=\"text-align: right;\">\n",
       "      <th></th>\n",
       "      <th>Bank Transfer</th>\n",
       "      <th>Cash</th>\n",
       "      <th>Credit Card</th>\n",
       "    </tr>\n",
       "    <tr>\n",
       "      <th>Product_ID</th>\n",
       "      <th></th>\n",
       "      <th></th>\n",
       "      <th></th>\n",
       "    </tr>\n",
       "  </thead>\n",
       "  <tbody>\n",
       "    <tr>\n",
       "      <th>1052</th>\n",
       "      <td>False</td>\n",
       "      <td>True</td>\n",
       "      <td>False</td>\n",
       "    </tr>\n",
       "    <tr>\n",
       "      <th>1093</th>\n",
       "      <td>False</td>\n",
       "      <td>True</td>\n",
       "      <td>False</td>\n",
       "    </tr>\n",
       "    <tr>\n",
       "      <th>1015</th>\n",
       "      <td>True</td>\n",
       "      <td>False</td>\n",
       "      <td>False</td>\n",
       "    </tr>\n",
       "    <tr>\n",
       "      <th>1072</th>\n",
       "      <td>False</td>\n",
       "      <td>False</td>\n",
       "      <td>True</td>\n",
       "    </tr>\n",
       "    <tr>\n",
       "      <th>1061</th>\n",
       "      <td>False</td>\n",
       "      <td>False</td>\n",
       "      <td>True</td>\n",
       "    </tr>\n",
       "  </tbody>\n",
       "</table>\n",
       "</div>"
      ],
      "text/plain": [
       "            Bank Transfer   Cash  Credit Card\n",
       "Product_ID                                   \n",
       "1052                False   True        False\n",
       "1093                False   True        False\n",
       "1015                 True  False        False\n",
       "1072                False  False         True\n",
       "1061                False  False         True"
      ]
     },
     "execution_count": 15,
     "metadata": {},
     "output_type": "execute_result"
    }
   ],
   "source": [
    "dummy_variable_1 = pd.get_dummies(df_main[\"Payment_Method\"])\n",
    "dummy_variable_1.head()"
   ]
  },
  {
   "cell_type": "markdown",
   "id": "184fc036",
   "metadata": {
    "papermill": {
     "duration": 0.008259,
     "end_time": "2025-02-20T00:03:33.232228",
     "exception": false,
     "start_time": "2025-02-20T00:03:33.223969",
     "status": "completed"
    },
    "tags": []
   },
   "source": [
    "**Regression Models**\n",
    "\n",
    "We will try to perform Linear Regression on different columns on this dataset."
   ]
  },
  {
   "cell_type": "code",
   "execution_count": 16,
   "id": "e63784fd",
   "metadata": {
    "execution": {
     "iopub.execute_input": "2025-02-20T00:03:33.250334Z",
     "iopub.status.busy": "2025-02-20T00:03:33.249955Z",
     "iopub.status.idle": "2025-02-20T00:03:33.265750Z",
     "shell.execute_reply": "2025-02-20T00:03:33.264813Z"
    },
    "papermill": {
     "duration": 0.02759,
     "end_time": "2025-02-20T00:03:33.267389",
     "exception": false,
     "start_time": "2025-02-20T00:03:33.239799",
     "status": "completed"
    },
    "tags": []
   },
   "outputs": [
    {
     "data": {
      "text/html": [
       "<div>\n",
       "<style scoped>\n",
       "    .dataframe tbody tr th:only-of-type {\n",
       "        vertical-align: middle;\n",
       "    }\n",
       "\n",
       "    .dataframe tbody tr th {\n",
       "        vertical-align: top;\n",
       "    }\n",
       "\n",
       "    .dataframe thead th {\n",
       "        text-align: right;\n",
       "    }\n",
       "</style>\n",
       "<table border=\"1\" class=\"dataframe\">\n",
       "  <thead>\n",
       "    <tr style=\"text-align: right;\">\n",
       "      <th></th>\n",
       "      <th>Sale_Date</th>\n",
       "      <th>Sales_Rep</th>\n",
       "      <th>Region</th>\n",
       "      <th>Sales_Amount</th>\n",
       "      <th>Quantity_Sold</th>\n",
       "      <th>Product_Category</th>\n",
       "      <th>Unit_Cost</th>\n",
       "      <th>Unit_Price</th>\n",
       "      <th>Customer_Type</th>\n",
       "      <th>Discount</th>\n",
       "      <th>Payment_Method</th>\n",
       "      <th>Sales_Channel</th>\n",
       "      <th>Region_and_Sales_Rep</th>\n",
       "    </tr>\n",
       "    <tr>\n",
       "      <th>Product_ID</th>\n",
       "      <th></th>\n",
       "      <th></th>\n",
       "      <th></th>\n",
       "      <th></th>\n",
       "      <th></th>\n",
       "      <th></th>\n",
       "      <th></th>\n",
       "      <th></th>\n",
       "      <th></th>\n",
       "      <th></th>\n",
       "      <th></th>\n",
       "      <th></th>\n",
       "      <th></th>\n",
       "    </tr>\n",
       "  </thead>\n",
       "  <tbody>\n",
       "    <tr>\n",
       "      <th>1052</th>\n",
       "      <td>2023-02-03</td>\n",
       "      <td>Bob</td>\n",
       "      <td>North</td>\n",
       "      <td>5053.97</td>\n",
       "      <td>18</td>\n",
       "      <td>Furniture</td>\n",
       "      <td>152.75</td>\n",
       "      <td>267.22</td>\n",
       "      <td>Returning</td>\n",
       "      <td>0.300000</td>\n",
       "      <td>Cash</td>\n",
       "      <td>Online</td>\n",
       "      <td>North-Bob</td>\n",
       "    </tr>\n",
       "    <tr>\n",
       "      <th>1093</th>\n",
       "      <td>2023-04-21</td>\n",
       "      <td>Bob</td>\n",
       "      <td>West</td>\n",
       "      <td>4384.02</td>\n",
       "      <td>17</td>\n",
       "      <td>Furniture</td>\n",
       "      <td>3816.39</td>\n",
       "      <td>4209.44</td>\n",
       "      <td>Returning</td>\n",
       "      <td>0.366667</td>\n",
       "      <td>Cash</td>\n",
       "      <td>Retail</td>\n",
       "      <td>West-Bob</td>\n",
       "    </tr>\n",
       "    <tr>\n",
       "      <th>1015</th>\n",
       "      <td>2023-09-21</td>\n",
       "      <td>David</td>\n",
       "      <td>South</td>\n",
       "      <td>4631.23</td>\n",
       "      <td>30</td>\n",
       "      <td>Food</td>\n",
       "      <td>261.56</td>\n",
       "      <td>371.40</td>\n",
       "      <td>Returning</td>\n",
       "      <td>0.666667</td>\n",
       "      <td>Bank Transfer</td>\n",
       "      <td>Retail</td>\n",
       "      <td>South-David</td>\n",
       "    </tr>\n",
       "    <tr>\n",
       "      <th>1072</th>\n",
       "      <td>2023-08-24</td>\n",
       "      <td>Bob</td>\n",
       "      <td>South</td>\n",
       "      <td>2167.94</td>\n",
       "      <td>39</td>\n",
       "      <td>Clothing</td>\n",
       "      <td>4330.03</td>\n",
       "      <td>4467.75</td>\n",
       "      <td>New</td>\n",
       "      <td>0.066667</td>\n",
       "      <td>Credit Card</td>\n",
       "      <td>Retail</td>\n",
       "      <td>South-Bob</td>\n",
       "    </tr>\n",
       "    <tr>\n",
       "      <th>1061</th>\n",
       "      <td>2023-03-24</td>\n",
       "      <td>Charlie</td>\n",
       "      <td>East</td>\n",
       "      <td>3750.20</td>\n",
       "      <td>13</td>\n",
       "      <td>Electronics</td>\n",
       "      <td>637.37</td>\n",
       "      <td>692.71</td>\n",
       "      <td>New</td>\n",
       "      <td>0.266667</td>\n",
       "      <td>Credit Card</td>\n",
       "      <td>Online</td>\n",
       "      <td>East-Charlie</td>\n",
       "    </tr>\n",
       "  </tbody>\n",
       "</table>\n",
       "</div>"
      ],
      "text/plain": [
       "             Sale_Date Sales_Rep Region  Sales_Amount  Quantity_Sold  \\\n",
       "Product_ID                                                             \n",
       "1052        2023-02-03       Bob  North       5053.97             18   \n",
       "1093        2023-04-21       Bob   West       4384.02             17   \n",
       "1015        2023-09-21     David  South       4631.23             30   \n",
       "1072        2023-08-24       Bob  South       2167.94             39   \n",
       "1061        2023-03-24   Charlie   East       3750.20             13   \n",
       "\n",
       "           Product_Category  Unit_Cost  Unit_Price Customer_Type  Discount  \\\n",
       "Product_ID                                                                   \n",
       "1052              Furniture     152.75      267.22     Returning  0.300000   \n",
       "1093              Furniture    3816.39     4209.44     Returning  0.366667   \n",
       "1015                   Food     261.56      371.40     Returning  0.666667   \n",
       "1072               Clothing    4330.03     4467.75           New  0.066667   \n",
       "1061            Electronics     637.37      692.71           New  0.266667   \n",
       "\n",
       "           Payment_Method Sales_Channel Region_and_Sales_Rep  \n",
       "Product_ID                                                    \n",
       "1052                 Cash        Online            North-Bob  \n",
       "1093                 Cash        Retail             West-Bob  \n",
       "1015        Bank Transfer        Retail          South-David  \n",
       "1072          Credit Card        Retail            South-Bob  \n",
       "1061          Credit Card        Online         East-Charlie  "
      ]
     },
     "execution_count": 16,
     "metadata": {},
     "output_type": "execute_result"
    }
   ],
   "source": [
    "df_main.head()"
   ]
  },
  {
   "cell_type": "code",
   "execution_count": 17,
   "id": "9082d750",
   "metadata": {
    "execution": {
     "iopub.execute_input": "2025-02-20T00:03:33.283023Z",
     "iopub.status.busy": "2025-02-20T00:03:33.282591Z",
     "iopub.status.idle": "2025-02-20T00:03:33.296510Z",
     "shell.execute_reply": "2025-02-20T00:03:33.295571Z"
    },
    "papermill": {
     "duration": 0.023651,
     "end_time": "2025-02-20T00:03:33.298300",
     "exception": false,
     "start_time": "2025-02-20T00:03:33.274649",
     "status": "completed"
    },
    "tags": []
   },
   "outputs": [
    {
     "data": {
      "text/html": [
       "<div>\n",
       "<style scoped>\n",
       "    .dataframe tbody tr th:only-of-type {\n",
       "        vertical-align: middle;\n",
       "    }\n",
       "\n",
       "    .dataframe tbody tr th {\n",
       "        vertical-align: top;\n",
       "    }\n",
       "\n",
       "    .dataframe thead th {\n",
       "        text-align: right;\n",
       "    }\n",
       "</style>\n",
       "<table border=\"1\" class=\"dataframe\">\n",
       "  <thead>\n",
       "    <tr style=\"text-align: right;\">\n",
       "      <th></th>\n",
       "      <th>Discount</th>\n",
       "      <th>Sales_Amount</th>\n",
       "    </tr>\n",
       "  </thead>\n",
       "  <tbody>\n",
       "    <tr>\n",
       "      <th>Discount</th>\n",
       "      <td>1.000000</td>\n",
       "      <td>0.023153</td>\n",
       "    </tr>\n",
       "    <tr>\n",
       "      <th>Sales_Amount</th>\n",
       "      <td>0.023153</td>\n",
       "      <td>1.000000</td>\n",
       "    </tr>\n",
       "  </tbody>\n",
       "</table>\n",
       "</div>"
      ],
      "text/plain": [
       "              Discount  Sales_Amount\n",
       "Discount      1.000000      0.023153\n",
       "Sales_Amount  0.023153      1.000000"
      ]
     },
     "execution_count": 17,
     "metadata": {},
     "output_type": "execute_result"
    }
   ],
   "source": [
    "df_main[[\"Discount\", \"Sales_Amount\"]].corr()"
   ]
  },
  {
   "cell_type": "code",
   "execution_count": 18,
   "id": "4705ea5c",
   "metadata": {
    "execution": {
     "iopub.execute_input": "2025-02-20T00:03:33.314939Z",
     "iopub.status.busy": "2025-02-20T00:03:33.314509Z",
     "iopub.status.idle": "2025-02-20T00:03:34.947912Z",
     "shell.execute_reply": "2025-02-20T00:03:34.946767Z"
    },
    "papermill": {
     "duration": 1.643505,
     "end_time": "2025-02-20T00:03:34.949668",
     "exception": false,
     "start_time": "2025-02-20T00:03:33.306163",
     "status": "completed"
    },
    "tags": []
   },
   "outputs": [
    {
     "data": {
      "text/html": [
       "<style>#sk-container-id-1 {color: black;background-color: white;}#sk-container-id-1 pre{padding: 0;}#sk-container-id-1 div.sk-toggleable {background-color: white;}#sk-container-id-1 label.sk-toggleable__label {cursor: pointer;display: block;width: 100%;margin-bottom: 0;padding: 0.3em;box-sizing: border-box;text-align: center;}#sk-container-id-1 label.sk-toggleable__label-arrow:before {content: \"▸\";float: left;margin-right: 0.25em;color: #696969;}#sk-container-id-1 label.sk-toggleable__label-arrow:hover:before {color: black;}#sk-container-id-1 div.sk-estimator:hover label.sk-toggleable__label-arrow:before {color: black;}#sk-container-id-1 div.sk-toggleable__content {max-height: 0;max-width: 0;overflow: hidden;text-align: left;background-color: #f0f8ff;}#sk-container-id-1 div.sk-toggleable__content pre {margin: 0.2em;color: black;border-radius: 0.25em;background-color: #f0f8ff;}#sk-container-id-1 input.sk-toggleable__control:checked~div.sk-toggleable__content {max-height: 200px;max-width: 100%;overflow: auto;}#sk-container-id-1 input.sk-toggleable__control:checked~label.sk-toggleable__label-arrow:before {content: \"▾\";}#sk-container-id-1 div.sk-estimator input.sk-toggleable__control:checked~label.sk-toggleable__label {background-color: #d4ebff;}#sk-container-id-1 div.sk-label input.sk-toggleable__control:checked~label.sk-toggleable__label {background-color: #d4ebff;}#sk-container-id-1 input.sk-hidden--visually {border: 0;clip: rect(1px 1px 1px 1px);clip: rect(1px, 1px, 1px, 1px);height: 1px;margin: -1px;overflow: hidden;padding: 0;position: absolute;width: 1px;}#sk-container-id-1 div.sk-estimator {font-family: monospace;background-color: #f0f8ff;border: 1px dotted black;border-radius: 0.25em;box-sizing: border-box;margin-bottom: 0.5em;}#sk-container-id-1 div.sk-estimator:hover {background-color: #d4ebff;}#sk-container-id-1 div.sk-parallel-item::after {content: \"\";width: 100%;border-bottom: 1px solid gray;flex-grow: 1;}#sk-container-id-1 div.sk-label:hover label.sk-toggleable__label {background-color: #d4ebff;}#sk-container-id-1 div.sk-serial::before {content: \"\";position: absolute;border-left: 1px solid gray;box-sizing: border-box;top: 0;bottom: 0;left: 50%;z-index: 0;}#sk-container-id-1 div.sk-serial {display: flex;flex-direction: column;align-items: center;background-color: white;padding-right: 0.2em;padding-left: 0.2em;position: relative;}#sk-container-id-1 div.sk-item {position: relative;z-index: 1;}#sk-container-id-1 div.sk-parallel {display: flex;align-items: stretch;justify-content: center;background-color: white;position: relative;}#sk-container-id-1 div.sk-item::before, #sk-container-id-1 div.sk-parallel-item::before {content: \"\";position: absolute;border-left: 1px solid gray;box-sizing: border-box;top: 0;bottom: 0;left: 50%;z-index: -1;}#sk-container-id-1 div.sk-parallel-item {display: flex;flex-direction: column;z-index: 1;position: relative;background-color: white;}#sk-container-id-1 div.sk-parallel-item:first-child::after {align-self: flex-end;width: 50%;}#sk-container-id-1 div.sk-parallel-item:last-child::after {align-self: flex-start;width: 50%;}#sk-container-id-1 div.sk-parallel-item:only-child::after {width: 0;}#sk-container-id-1 div.sk-dashed-wrapped {border: 1px dashed gray;margin: 0 0.4em 0.5em 0.4em;box-sizing: border-box;padding-bottom: 0.4em;background-color: white;}#sk-container-id-1 div.sk-label label {font-family: monospace;font-weight: bold;display: inline-block;line-height: 1.2em;}#sk-container-id-1 div.sk-label-container {text-align: center;}#sk-container-id-1 div.sk-container {/* jupyter's `normalize.less` sets `[hidden] { display: none; }` but bootstrap.min.css set `[hidden] { display: none !important; }` so we also need the `!important` here to be able to override the default hidden behavior on the sphinx rendered scikit-learn.org. See: https://github.com/scikit-learn/scikit-learn/issues/21755 */display: inline-block !important;position: relative;}#sk-container-id-1 div.sk-text-repr-fallback {display: none;}</style><div id=\"sk-container-id-1\" class=\"sk-top-container\"><div class=\"sk-text-repr-fallback\"><pre>LinearRegression()</pre><b>In a Jupyter environment, please rerun this cell to show the HTML representation or trust the notebook. <br />On GitHub, the HTML representation is unable to render, please try loading this page with nbviewer.org.</b></div><div class=\"sk-container\" hidden><div class=\"sk-item\"><div class=\"sk-estimator sk-toggleable\"><input class=\"sk-toggleable__control sk-hidden--visually\" id=\"sk-estimator-id-1\" type=\"checkbox\" checked><label for=\"sk-estimator-id-1\" class=\"sk-toggleable__label sk-toggleable__label-arrow\">LinearRegression</label><div class=\"sk-toggleable__content\"><pre>LinearRegression()</pre></div></div></div></div></div>"
      ],
      "text/plain": [
       "LinearRegression()"
      ]
     },
     "execution_count": 18,
     "metadata": {},
     "output_type": "execute_result"
    }
   ],
   "source": [
    "from sklearn.linear_model import LinearRegression\n",
    "lm_1=LinearRegression()\n",
    "lm_1\n"
   ]
  },
  {
   "cell_type": "code",
   "execution_count": 19,
   "id": "bf7baef3",
   "metadata": {
    "execution": {
     "iopub.execute_input": "2025-02-20T00:03:34.968079Z",
     "iopub.status.busy": "2025-02-20T00:03:34.967499Z",
     "iopub.status.idle": "2025-02-20T00:03:35.018966Z",
     "shell.execute_reply": "2025-02-20T00:03:35.017526Z"
    },
    "papermill": {
     "duration": 0.062772,
     "end_time": "2025-02-20T00:03:35.021118",
     "exception": false,
     "start_time": "2025-02-20T00:03:34.958346",
     "status": "completed"
    },
    "tags": []
   },
   "outputs": [
    {
     "name": "stdout",
     "output_type": "stream",
     "text": [
      "Coefficient is: [2.36395991e-06]\n",
      "Intercept is: 0.4961013248892296\n",
      "R square value is: 0.0005360476720054352\n"
     ]
    }
   ],
   "source": [
    "x=df_main[[\"Sales_Amount\"]]\n",
    "y=df_main[\"Discount\"]\n",
    "lm_1.fit(x,y)\n",
    "Y_hat=lm_1.predict(x)\n",
    "a=lm_1.coef_\n",
    "b=lm_1.intercept_\n",
    "print(\"Coefficient is:\",a)\n",
    "print(\"Intercept is:\", b)\n",
    "#Finding the Rsquare value\n",
    "r_squared=lm_1.score(x,y)\n",
    "print(\"R square value is:\", r_squared)\n"
   ]
  },
  {
   "cell_type": "code",
   "execution_count": 20,
   "id": "e8a7d6d1",
   "metadata": {
    "execution": {
     "iopub.execute_input": "2025-02-20T00:03:35.038213Z",
     "iopub.status.busy": "2025-02-20T00:03:35.037825Z",
     "iopub.status.idle": "2025-02-20T00:03:35.963176Z",
     "shell.execute_reply": "2025-02-20T00:03:35.962128Z"
    },
    "papermill": {
     "duration": 0.935905,
     "end_time": "2025-02-20T00:03:35.964993",
     "exception": false,
     "start_time": "2025-02-20T00:03:35.029088",
     "status": "completed"
    },
    "tags": []
   },
   "outputs": [
    {
     "data": {
      "image/png": "[encoded data removed]",
      "text/plain": [
       "<Figure size 500x500 with 1 Axes>"
      ]
     },
     "metadata": {},
     "output_type": "display_data"
    }
   ],
   "source": [
    "#Plotting a regression plot to visualise our Linear Regression model\n",
    "import seaborn as sns\n",
    "import matplotlib.pyplot as plt\n",
    "plt.figure(figsize=(5,5))\n",
    "sns.regplot(x=\"Sales_Amount\", y=\"Discount\", data=df_main)\n",
    "plt.show()"
   ]
  },
  {
   "cell_type": "markdown",
   "id": "f7463d62",
   "metadata": {
    "papermill": {
     "duration": 0.008947,
     "end_time": "2025-02-20T00:03:35.983429",
     "exception": false,
     "start_time": "2025-02-20T00:03:35.974482",
     "status": "completed"
    },
    "tags": []
   },
   "source": [
    "The R squared value is almost equal to zero which shows a weak or no correlation. This means maybe x is not influencing y.\n",
    "\n",
    "Let's try with another two variables"
   ]
  },
  {
   "cell_type": "code",
   "execution_count": 21,
   "id": "dd3a1877",
   "metadata": {
    "execution": {
     "iopub.execute_input": "2025-02-20T00:03:36.003858Z",
     "iopub.status.busy": "2025-02-20T00:03:36.003229Z",
     "iopub.status.idle": "2025-02-20T00:03:36.010173Z",
     "shell.execute_reply": "2025-02-20T00:03:36.008975Z"
    },
    "papermill": {
     "duration": 0.018994,
     "end_time": "2025-02-20T00:03:36.011986",
     "exception": false,
     "start_time": "2025-02-20T00:03:35.992992",
     "status": "completed"
    },
    "tags": []
   },
   "outputs": [
    {
     "data": {
      "text/html": [
       "<style>#sk-container-id-2 {color: black;background-color: white;}#sk-container-id-2 pre{padding: 0;}#sk-container-id-2 div.sk-toggleable {background-color: white;}#sk-container-id-2 label.sk-toggleable__label {cursor: pointer;display: block;width: 100%;margin-bottom: 0;padding: 0.3em;box-sizing: border-box;text-align: center;}#sk-container-id-2 label.sk-toggleable__label-arrow:before {content: \"▸\";float: left;margin-right: 0.25em;color: #696969;}#sk-container-id-2 label.sk-toggleable__label-arrow:hover:before {color: black;}#sk-container-id-2 div.sk-estimator:hover label.sk-toggleable__label-arrow:before {color: black;}#sk-container-id-2 div.sk-toggleable__content {max-height: 0;max-width: 0;overflow: hidden;text-align: left;background-color: #f0f8ff;}#sk-container-id-2 div.sk-toggleable__content pre {margin: 0.2em;color: black;border-radius: 0.25em;background-color: #f0f8ff;}#sk-container-id-2 input.sk-toggleable__control:checked~div.sk-toggleable__content {max-height: 200px;max-width: 100%;overflow: auto;}#sk-container-id-2 input.sk-toggleable__control:checked~label.sk-toggleable__label-arrow:before {content: \"▾\";}#sk-container-id-2 div.sk-estimator input.sk-toggleable__control:checked~label.sk-toggleable__label {background-color: #d4ebff;}#sk-container-id-2 div.sk-label input.sk-toggleable__control:checked~label.sk-toggleable__label {background-color: #d4ebff;}#sk-container-id-2 input.sk-hidden--visually {border: 0;clip: rect(1px 1px 1px 1px);clip: rect(1px, 1px, 1px, 1px);height: 1px;margin: -1px;overflow: hidden;padding: 0;position: absolute;width: 1px;}#sk-container-id-2 div.sk-estimator {font-family: monospace;background-color: #f0f8ff;border: 1px dotted black;border-radius: 0.25em;box-sizing: border-box;margin-bottom: 0.5em;}#sk-container-id-2 div.sk-estimator:hover {background-color: #d4ebff;}#sk-container-id-2 div.sk-parallel-item::after {content: \"\";width: 100%;border-bottom: 1px solid gray;flex-grow: 1;}#sk-container-id-2 div.sk-label:hover label.sk-toggleable__label {background-color: #d4ebff;}#sk-container-id-2 div.sk-serial::before {content: \"\";position: absolute;border-left: 1px solid gray;box-sizing: border-box;top: 0;bottom: 0;left: 50%;z-index: 0;}#sk-container-id-2 div.sk-serial {display: flex;flex-direction: column;align-items: center;background-color: white;padding-right: 0.2em;padding-left: 0.2em;position: relative;}#sk-container-id-2 div.sk-item {position: relative;z-index: 1;}#sk-container-id-2 div.sk-parallel {display: flex;align-items: stretch;justify-content: center;background-color: white;position: relative;}#sk-container-id-2 div.sk-item::before, #sk-container-id-2 div.sk-parallel-item::before {content: \"\";position: absolute;border-left: 1px solid gray;box-sizing: border-box;top: 0;bottom: 0;left: 50%;z-index: -1;}#sk-container-id-2 div.sk-parallel-item {display: flex;flex-direction: column;z-index: 1;position: relative;background-color: white;}#sk-container-id-2 div.sk-parallel-item:first-child::after {align-self: flex-end;width: 50%;}#sk-container-id-2 div.sk-parallel-item:last-child::after {align-self: flex-start;width: 50%;}#sk-container-id-2 div.sk-parallel-item:only-child::after {width: 0;}#sk-container-id-2 div.sk-dashed-wrapped {border: 1px dashed gray;margin: 0 0.4em 0.5em 0.4em;box-sizing: border-box;padding-bottom: 0.4em;background-color: white;}#sk-container-id-2 div.sk-label label {font-family: monospace;font-weight: bold;display: inline-block;line-height: 1.2em;}#sk-container-id-2 div.sk-label-container {text-align: center;}#sk-container-id-2 div.sk-container {/* jupyter's `normalize.less` sets `[hidden] { display: none; }` but bootstrap.min.css set `[hidden] { display: none !important; }` so we also need the `!important` here to be able to override the default hidden behavior on the sphinx rendered scikit-learn.org. See: https://github.com/scikit-learn/scikit-learn/issues/21755 */display: inline-block !important;position: relative;}#sk-container-id-2 div.sk-text-repr-fallback {display: none;}</style><div id=\"sk-container-id-2\" class=\"sk-top-container\"><div class=\"sk-text-repr-fallback\"><pre>LinearRegression()</pre><b>In a Jupyter environment, please rerun this cell to show the HTML representation or trust the notebook. <br />On GitHub, the HTML representation is unable to render, please try loading this page with nbviewer.org.</b></div><div class=\"sk-container\" hidden><div class=\"sk-item\"><div class=\"sk-estimator sk-toggleable\"><input class=\"sk-toggleable__control sk-hidden--visually\" id=\"sk-estimator-id-2\" type=\"checkbox\" checked><label for=\"sk-estimator-id-2\" class=\"sk-toggleable__label sk-toggleable__label-arrow\">LinearRegression</label><div class=\"sk-toggleable__content\"><pre>LinearRegression()</pre></div></div></div></div></div>"
      ],
      "text/plain": [
       "LinearRegression()"
      ]
     },
     "execution_count": 21,
     "metadata": {},
     "output_type": "execute_result"
    }
   ],
   "source": [
    "lm_2=LinearRegression()\n",
    "lm_2"
   ]
  },
  {
   "cell_type": "code",
   "execution_count": 22,
   "id": "9323d4bb",
   "metadata": {
    "execution": {
     "iopub.execute_input": "2025-02-20T00:03:36.032493Z",
     "iopub.status.busy": "2025-02-20T00:03:36.032102Z",
     "iopub.status.idle": "2025-02-20T00:03:36.346535Z",
     "shell.execute_reply": "2025-02-20T00:03:36.345450Z"
    },
    "papermill": {
     "duration": 0.326761,
     "end_time": "2025-02-20T00:03:36.348377",
     "exception": false,
     "start_time": "2025-02-20T00:03:36.021616",
     "status": "completed"
    },
    "tags": []
   },
   "outputs": [
    {
     "name": "stdout",
     "output_type": "stream",
     "text": [
      "Coefficient is: [-8.36377795]\n",
      "Intercept is: 5231.328819827592\n",
      "R square value is: 0.0017304522560817048\n"
     ]
    },
    {
     "data": {
      "image/png": "[encoded data removed]",
      "text/plain": [
       "<Figure size 500x500 with 1 Axes>"
      ]
     },
     "metadata": {},
     "output_type": "display_data"
    }
   ],
   "source": [
    "x=df_main[[\"Quantity_Sold\"]]\n",
    "y=df_main[\"Sales_Amount\"]\n",
    "lm_2.fit(x,y)\n",
    "Y_hat=lm_2.predict(x)\n",
    "a=lm_2.coef_\n",
    "b=lm_2.intercept_\n",
    "print(\"Coefficient is:\",a)\n",
    "print(\"Intercept is:\", b)\n",
    "#Finding the Rsquare value\n",
    "r_squared=lm_2.score(x,y)\n",
    "print(\"R square value is:\", r_squared)\n",
    "plt.figure(figsize=(5,5))\n",
    "sns.regplot(x=\"Quantity_Sold\", y=\"Sales_Amount\", data=df_main)\n",
    "plt.show()"
   ]
  }
 ],
 "metadata": {
  "kaggle": {
   "accelerator": "none",
   "dataSources": [
    {
     "datasetId": 6688404,
     "sourceId": 10779441,
     "sourceType": "datasetVersion"
    }
   ],
   "dockerImageVersionId": 30886,
   "isGpuEnabled": false,
   "isInternetEnabled": true,
   "language": "python",
   "sourceType": "notebook"
  },
  "kernelspec": {
   "display_name": "Python 3",
   "language": "python",
   "name": "python3"
  },
  "language_info": {
   "codemirror_mode": {
    "name": "ipython",
    "version": 3
   },
   "file_extension": ".py",
   "mimetype": "text/x-python",
   "name": "python",
   "nbconvert_exporter": "python",
   "pygments_lexer": "ipython3",
   "version": "3.10.12"
  },
  "papermill": {
   "default_parameters": {},
   "duration": 13.528172,
   "end_time": "2025-02-20T00:03:37.082170",
   "environment_variables": {},
   "exception": null,
   "input_path": "__notebook__.ipynb",
   "output_path": "__notebook__.ipynb",
   "parameters": {},
   "start_time": "2025-02-20T00:03:23.553998",
   "version": "2.6.0"
  }
 },
 "nbformat": 4,
 "nbformat_minor": 5
}
