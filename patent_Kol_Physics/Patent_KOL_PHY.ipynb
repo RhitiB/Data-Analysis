{
 "cells": [
  {
   "cell_type": "code",
   "execution_count": 57,
   "id": "eaa79ab4-c780-4e6a-80d1-221c96cd6294",
   "metadata": {},
   "outputs": [],
   "source": [
    "import pandas as pd\n",
    "import matplotlib.pyplot as plt\n",
    "import numpy as np\n",
    "import seaborn as sns"
   ]
  },
  {
   "cell_type": "code",
   "execution_count": 6,
   "id": "ad593981-5889-4d09-ad39-8e5239fd8295",
   "metadata": {},
   "outputs": [],
   "source": [
    "df_main=pd.read_csv(\"weekly_granted_application_KOL_PHY.csv\")"
   ]
  },
  {
   "cell_type": "code",
   "execution_count": 8,
   "id": "0b48e3ae-67e6-4e92-82a0-576e5d8279aa",
   "metadata": {},
   "outputs": [
    {
     "data": {
      "text/html": [
       "<div>\n",
       "<style scoped>\n",
       "    .dataframe tbody tr th:only-of-type {\n",
       "        vertical-align: middle;\n",
       "    }\n",
       "\n",
       "    .dataframe tbody tr th {\n",
       "        vertical-align: top;\n",
       "    }\n",
       "\n",
       "    .dataframe thead th {\n",
       "        text-align: right;\n",
       "    }\n",
       "</style>\n",
       "<table border=\"1\" class=\"dataframe\">\n",
       "  <thead>\n",
       "    <tr style=\"text-align: right;\">\n",
       "      <th></th>\n",
       "      <th>PUBLICATION_NUMBER</th>\n",
       "      <th>PUBLICATION_DATE</th>\n",
       "      <th>IPO_LOCATION</th>\n",
       "      <th>APPLICATION_TYPE_DESC</th>\n",
       "      <th>APPLICATION_NUMBER</th>\n",
       "      <th>DATE_OF_FILING</th>\n",
       "      <th>TITLE_OF_INVENTION</th>\n",
       "      <th>FIELD_OF_INVENTION</th>\n",
       "      <th>NO_OF_PAGES</th>\n",
       "      <th>NO_OF_CLAIMS</th>\n",
       "    </tr>\n",
       "  </thead>\n",
       "  <tbody>\n",
       "    <tr>\n",
       "      <th>0</th>\n",
       "      <td>01/2016</td>\n",
       "      <td>01/01/2016</td>\n",
       "      <td>Kolkata</td>\n",
       "      <td>PCT NATIONAL PHASE APPLICATION</td>\n",
       "      <td>3298/KOLNP/2009</td>\n",
       "      <td>16/09/2009</td>\n",
       "      <td>LIQUID CRYSTAL DISPLAY DEVICE</td>\n",
       "      <td>PHYSICS</td>\n",
       "      <td>122</td>\n",
       "      <td>33</td>\n",
       "    </tr>\n",
       "    <tr>\n",
       "      <th>1</th>\n",
       "      <td>10/2016</td>\n",
       "      <td>04/03/2016</td>\n",
       "      <td>Kolkata</td>\n",
       "      <td>PCT NATIONAL PHASE APPLICATION</td>\n",
       "      <td>3420/KOLNP/2009</td>\n",
       "      <td>01/10/2009</td>\n",
       "      <td>METHOD AND DEVICE FOR TESTING VALUE DOCUMENTS</td>\n",
       "      <td>PHYSICS</td>\n",
       "      <td>18</td>\n",
       "      <td>24</td>\n",
       "    </tr>\n",
       "    <tr>\n",
       "      <th>2</th>\n",
       "      <td>10/2016</td>\n",
       "      <td>04/03/2016</td>\n",
       "      <td>Kolkata</td>\n",
       "      <td>PCT NATIONAL PHASE APPLICATION</td>\n",
       "      <td>763/KOLNP/2010</td>\n",
       "      <td>01/03/2010</td>\n",
       "      <td>CALIBRATABLE MULTIDIMENSIONAL MAGNETIC POINT S...</td>\n",
       "      <td>PHYSICS</td>\n",
       "      <td>48</td>\n",
       "      <td>27</td>\n",
       "    </tr>\n",
       "    <tr>\n",
       "      <th>3</th>\n",
       "      <td>12/2016</td>\n",
       "      <td>18/03/2016</td>\n",
       "      <td>Kolkata</td>\n",
       "      <td>PCT NATIONAL PHASE APPLICATION</td>\n",
       "      <td>1648/KOLNP/2009</td>\n",
       "      <td>01/05/2009</td>\n",
       "      <td>INTRAOCULAR LENS DELIVERY SYSTEM WITH TEMPERAT...</td>\n",
       "      <td>PHYSICS</td>\n",
       "      <td>40</td>\n",
       "      <td>29</td>\n",
       "    </tr>\n",
       "    <tr>\n",
       "      <th>4</th>\n",
       "      <td>27/2016</td>\n",
       "      <td>01/07/2016</td>\n",
       "      <td>Kolkata</td>\n",
       "      <td>PCT NATIONAL PHASE APPLICATION</td>\n",
       "      <td>31/KOLNP/2009</td>\n",
       "      <td>01/01/2009</td>\n",
       "      <td>COMBINATION WEIGHER</td>\n",
       "      <td>PHYSICS</td>\n",
       "      <td>79</td>\n",
       "      <td>25</td>\n",
       "    </tr>\n",
       "  </tbody>\n",
       "</table>\n",
       "</div>"
      ],
      "text/plain": [
       "  PUBLICATION_NUMBER PUBLICATION_DATE IPO_LOCATION  \\\n",
       "0            01/2016       01/01/2016      Kolkata   \n",
       "1            10/2016       04/03/2016      Kolkata   \n",
       "2            10/2016       04/03/2016      Kolkata   \n",
       "3            12/2016       18/03/2016      Kolkata   \n",
       "4            27/2016       01/07/2016      Kolkata   \n",
       "\n",
       "            APPLICATION_TYPE_DESC APPLICATION_NUMBER DATE_OF_FILING  \\\n",
       "0  PCT NATIONAL PHASE APPLICATION    3298/KOLNP/2009     16/09/2009   \n",
       "1  PCT NATIONAL PHASE APPLICATION    3420/KOLNP/2009     01/10/2009   \n",
       "2  PCT NATIONAL PHASE APPLICATION     763/KOLNP/2010     01/03/2010   \n",
       "3  PCT NATIONAL PHASE APPLICATION    1648/KOLNP/2009     01/05/2009   \n",
       "4  PCT NATIONAL PHASE APPLICATION      31/KOLNP/2009     01/01/2009   \n",
       "\n",
       "                                  TITLE_OF_INVENTION FIELD_OF_INVENTION  \\\n",
       "0                      LIQUID CRYSTAL DISPLAY DEVICE            PHYSICS   \n",
       "1      METHOD AND DEVICE FOR TESTING VALUE DOCUMENTS            PHYSICS   \n",
       "2  CALIBRATABLE MULTIDIMENSIONAL MAGNETIC POINT S...            PHYSICS   \n",
       "3  INTRAOCULAR LENS DELIVERY SYSTEM WITH TEMPERAT...            PHYSICS   \n",
       "4                                COMBINATION WEIGHER            PHYSICS   \n",
       "\n",
       "   NO_OF_PAGES  NO_OF_CLAIMS  \n",
       "0          122            33  \n",
       "1           18            24  \n",
       "2           48            27  \n",
       "3           40            29  \n",
       "4           79            25  "
      ]
     },
     "execution_count": 8,
     "metadata": {},
     "output_type": "execute_result"
    }
   ],
   "source": [
    "df_main.head()"
   ]
  },
  {
   "cell_type": "code",
   "execution_count": 12,
   "id": "4bfc281e-add4-4ad7-a284-913a3aab1e6a",
   "metadata": {},
   "outputs": [
    {
     "data": {
      "text/plain": [
       "PUBLICATION_NUMBER       object\n",
       "PUBLICATION_DATE         object\n",
       "IPO_LOCATION             object\n",
       "APPLICATION_TYPE_DESC    object\n",
       "APPLICATION_NUMBER       object\n",
       "DATE_OF_FILING           object\n",
       "TITLE_OF_INVENTION       object\n",
       "FIELD_OF_INVENTION       object\n",
       "NO_OF_PAGES               int64\n",
       "NO_OF_CLAIMS              int64\n",
       "dtype: object"
      ]
     },
     "execution_count": 12,
     "metadata": {},
     "output_type": "execute_result"
    }
   ],
   "source": [
    "df_main.dtypes"
   ]
  },
  {
   "cell_type": "code",
   "execution_count": 14,
   "id": "dd97a8bc-1bef-45c2-9fd2-e00874363700",
   "metadata": {},
   "outputs": [
    {
     "data": {
      "text/plain": [
       "0       False\n",
       "1       False\n",
       "2       False\n",
       "3       False\n",
       "4       False\n",
       "        ...  \n",
       "1845    False\n",
       "1846    False\n",
       "1847    False\n",
       "1848    False\n",
       "1849    False\n",
       "Length: 1850, dtype: bool"
      ]
     },
     "execution_count": 14,
     "metadata": {},
     "output_type": "execute_result"
    }
   ],
   "source": [
    "df_main.duplicated()"
   ]
  },
  {
   "cell_type": "code",
   "execution_count": 18,
   "id": "989be689-067b-4fe1-a291-62fa57344094",
   "metadata": {},
   "outputs": [
    {
     "name": "stdout",
     "output_type": "stream",
     "text": [
      "<class 'pandas.core.frame.DataFrame'>\n",
      "RangeIndex: 1850 entries, 0 to 1849\n",
      "Data columns (total 10 columns):\n",
      " #   Column                 Non-Null Count  Dtype \n",
      "---  ------                 --------------  ----- \n",
      " 0   PUBLICATION_NUMBER     1850 non-null   object\n",
      " 1   PUBLICATION_DATE       1850 non-null   object\n",
      " 2   IPO_LOCATION           1850 non-null   object\n",
      " 3   APPLICATION_TYPE_DESC  1850 non-null   object\n",
      " 4   APPLICATION_NUMBER     1850 non-null   object\n",
      " 5   DATE_OF_FILING         1850 non-null   object\n",
      " 6   TITLE_OF_INVENTION     1850 non-null   object\n",
      " 7   FIELD_OF_INVENTION     1850 non-null   object\n",
      " 8   NO_OF_PAGES            1850 non-null   int64 \n",
      " 9   NO_OF_CLAIMS           1850 non-null   int64 \n",
      "dtypes: int64(2), object(8)\n",
      "memory usage: 144.7+ KB\n"
     ]
    }
   ],
   "source": [
    "df_main.info()"
   ]
  },
  {
   "cell_type": "code",
   "execution_count": 20,
   "id": "a31703d9-1b9c-404f-85ce-87e10a9c58c9",
   "metadata": {},
   "outputs": [
    {
     "data": {
      "text/plain": [
       "PUBLICATION_NUMBER       0\n",
       "PUBLICATION_DATE         0\n",
       "IPO_LOCATION             0\n",
       "APPLICATION_TYPE_DESC    0\n",
       "APPLICATION_NUMBER       0\n",
       "DATE_OF_FILING           0\n",
       "TITLE_OF_INVENTION       0\n",
       "FIELD_OF_INVENTION       0\n",
       "NO_OF_PAGES              0\n",
       "NO_OF_CLAIMS             0\n",
       "dtype: int64"
      ]
     },
     "execution_count": 20,
     "metadata": {},
     "output_type": "execute_result"
    }
   ],
   "source": [
    "df_main.isnull().sum()"
   ]
  },
  {
   "cell_type": "code",
   "execution_count": 28,
   "id": "75926850-26e2-4e53-a658-b598d378df70",
   "metadata": {},
   "outputs": [],
   "source": [
    "df_main[\"DATE_OF_FILING\"]=pd.to_datetime(df_main[\"DATE_OF_FILING\"])\n",
    "df_main[\"FILLING_YEAR\"]=df_main[\"DATE_OF_FILING\"].dt.year"
   ]
  },
  {
   "cell_type": "code",
   "execution_count": 30,
   "id": "016370d2-17db-4f54-a7d2-4eb88c70662c",
   "metadata": {},
   "outputs": [
    {
     "data": {
      "text/html": [
       "<div>\n",
       "<style scoped>\n",
       "    .dataframe tbody tr th:only-of-type {\n",
       "        vertical-align: middle;\n",
       "    }\n",
       "\n",
       "    .dataframe tbody tr th {\n",
       "        vertical-align: top;\n",
       "    }\n",
       "\n",
       "    .dataframe thead th {\n",
       "        text-align: right;\n",
       "    }\n",
       "</style>\n",
       "<table border=\"1\" class=\"dataframe\">\n",
       "  <thead>\n",
       "    <tr style=\"text-align: right;\">\n",
       "      <th></th>\n",
       "      <th>PUBLICATION_NUMBER</th>\n",
       "      <th>PUBLICATION_DATE</th>\n",
       "      <th>IPO_LOCATION</th>\n",
       "      <th>APPLICATION_TYPE_DESC</th>\n",
       "      <th>APPLICATION_NUMBER</th>\n",
       "      <th>DATE_OF_FILING</th>\n",
       "      <th>TITLE_OF_INVENTION</th>\n",
       "      <th>FIELD_OF_INVENTION</th>\n",
       "      <th>NO_OF_PAGES</th>\n",
       "      <th>NO_OF_CLAIMS</th>\n",
       "      <th>FILLING_YEAR</th>\n",
       "    </tr>\n",
       "  </thead>\n",
       "  <tbody>\n",
       "    <tr>\n",
       "      <th>0</th>\n",
       "      <td>01/2016</td>\n",
       "      <td>01/01/2016</td>\n",
       "      <td>Kolkata</td>\n",
       "      <td>PCT NATIONAL PHASE APPLICATION</td>\n",
       "      <td>3298/KOLNP/2009</td>\n",
       "      <td>2009-09-16</td>\n",
       "      <td>LIQUID CRYSTAL DISPLAY DEVICE</td>\n",
       "      <td>PHYSICS</td>\n",
       "      <td>122</td>\n",
       "      <td>33</td>\n",
       "      <td>2009</td>\n",
       "    </tr>\n",
       "    <tr>\n",
       "      <th>1</th>\n",
       "      <td>10/2016</td>\n",
       "      <td>04/03/2016</td>\n",
       "      <td>Kolkata</td>\n",
       "      <td>PCT NATIONAL PHASE APPLICATION</td>\n",
       "      <td>3420/KOLNP/2009</td>\n",
       "      <td>2009-10-01</td>\n",
       "      <td>METHOD AND DEVICE FOR TESTING VALUE DOCUMENTS</td>\n",
       "      <td>PHYSICS</td>\n",
       "      <td>18</td>\n",
       "      <td>24</td>\n",
       "      <td>2009</td>\n",
       "    </tr>\n",
       "    <tr>\n",
       "      <th>2</th>\n",
       "      <td>10/2016</td>\n",
       "      <td>04/03/2016</td>\n",
       "      <td>Kolkata</td>\n",
       "      <td>PCT NATIONAL PHASE APPLICATION</td>\n",
       "      <td>763/KOLNP/2010</td>\n",
       "      <td>2010-03-01</td>\n",
       "      <td>CALIBRATABLE MULTIDIMENSIONAL MAGNETIC POINT S...</td>\n",
       "      <td>PHYSICS</td>\n",
       "      <td>48</td>\n",
       "      <td>27</td>\n",
       "      <td>2010</td>\n",
       "    </tr>\n",
       "    <tr>\n",
       "      <th>3</th>\n",
       "      <td>12/2016</td>\n",
       "      <td>18/03/2016</td>\n",
       "      <td>Kolkata</td>\n",
       "      <td>PCT NATIONAL PHASE APPLICATION</td>\n",
       "      <td>1648/KOLNP/2009</td>\n",
       "      <td>2009-05-01</td>\n",
       "      <td>INTRAOCULAR LENS DELIVERY SYSTEM WITH TEMPERAT...</td>\n",
       "      <td>PHYSICS</td>\n",
       "      <td>40</td>\n",
       "      <td>29</td>\n",
       "      <td>2009</td>\n",
       "    </tr>\n",
       "    <tr>\n",
       "      <th>4</th>\n",
       "      <td>27/2016</td>\n",
       "      <td>01/07/2016</td>\n",
       "      <td>Kolkata</td>\n",
       "      <td>PCT NATIONAL PHASE APPLICATION</td>\n",
       "      <td>31/KOLNP/2009</td>\n",
       "      <td>2009-01-01</td>\n",
       "      <td>COMBINATION WEIGHER</td>\n",
       "      <td>PHYSICS</td>\n",
       "      <td>79</td>\n",
       "      <td>25</td>\n",
       "      <td>2009</td>\n",
       "    </tr>\n",
       "  </tbody>\n",
       "</table>\n",
       "</div>"
      ],
      "text/plain": [
       "  PUBLICATION_NUMBER PUBLICATION_DATE IPO_LOCATION  \\\n",
       "0            01/2016       01/01/2016      Kolkata   \n",
       "1            10/2016       04/03/2016      Kolkata   \n",
       "2            10/2016       04/03/2016      Kolkata   \n",
       "3            12/2016       18/03/2016      Kolkata   \n",
       "4            27/2016       01/07/2016      Kolkata   \n",
       "\n",
       "            APPLICATION_TYPE_DESC APPLICATION_NUMBER DATE_OF_FILING  \\\n",
       "0  PCT NATIONAL PHASE APPLICATION    3298/KOLNP/2009     2009-09-16   \n",
       "1  PCT NATIONAL PHASE APPLICATION    3420/KOLNP/2009     2009-10-01   \n",
       "2  PCT NATIONAL PHASE APPLICATION     763/KOLNP/2010     2010-03-01   \n",
       "3  PCT NATIONAL PHASE APPLICATION    1648/KOLNP/2009     2009-05-01   \n",
       "4  PCT NATIONAL PHASE APPLICATION      31/KOLNP/2009     2009-01-01   \n",
       "\n",
       "                                  TITLE_OF_INVENTION FIELD_OF_INVENTION  \\\n",
       "0                      LIQUID CRYSTAL DISPLAY DEVICE            PHYSICS   \n",
       "1      METHOD AND DEVICE FOR TESTING VALUE DOCUMENTS            PHYSICS   \n",
       "2  CALIBRATABLE MULTIDIMENSIONAL MAGNETIC POINT S...            PHYSICS   \n",
       "3  INTRAOCULAR LENS DELIVERY SYSTEM WITH TEMPERAT...            PHYSICS   \n",
       "4                                COMBINATION WEIGHER            PHYSICS   \n",
       "\n",
       "   NO_OF_PAGES  NO_OF_CLAIMS  FILLING_YEAR  \n",
       "0          122            33          2009  \n",
       "1           18            24          2009  \n",
       "2           48            27          2010  \n",
       "3           40            29          2009  \n",
       "4           79            25          2009  "
      ]
     },
     "execution_count": 30,
     "metadata": {},
     "output_type": "execute_result"
    }
   ],
   "source": [
    "df_main.head()"
   ]
  },
  {
   "cell_type": "code",
   "execution_count": 34,
   "id": "038af1c6-7be9-48de-83d8-69e1270bb406",
   "metadata": {},
   "outputs": [],
   "source": [
    "df_main.drop([\"FIELD_OF_INVENTION\"],axis=1, inplace=True)"
   ]
  },
  {
   "cell_type": "code",
   "execution_count": 36,
   "id": "eb631b49-4207-489c-a765-59521b29dae6",
   "metadata": {},
   "outputs": [
    {
     "data": {
      "text/html": [
       "<div>\n",
       "<style scoped>\n",
       "    .dataframe tbody tr th:only-of-type {\n",
       "        vertical-align: middle;\n",
       "    }\n",
       "\n",
       "    .dataframe tbody tr th {\n",
       "        vertical-align: top;\n",
       "    }\n",
       "\n",
       "    .dataframe thead th {\n",
       "        text-align: right;\n",
       "    }\n",
       "</style>\n",
       "<table border=\"1\" class=\"dataframe\">\n",
       "  <thead>\n",
       "    <tr style=\"text-align: right;\">\n",
       "      <th></th>\n",
       "      <th>PUBLICATION_NUMBER</th>\n",
       "      <th>PUBLICATION_DATE</th>\n",
       "      <th>IPO_LOCATION</th>\n",
       "      <th>APPLICATION_TYPE_DESC</th>\n",
       "      <th>APPLICATION_NUMBER</th>\n",
       "      <th>DATE_OF_FILING</th>\n",
       "      <th>TITLE_OF_INVENTION</th>\n",
       "      <th>NO_OF_PAGES</th>\n",
       "      <th>NO_OF_CLAIMS</th>\n",
       "      <th>FILLING_YEAR</th>\n",
       "    </tr>\n",
       "  </thead>\n",
       "  <tbody>\n",
       "    <tr>\n",
       "      <th>0</th>\n",
       "      <td>01/2016</td>\n",
       "      <td>01/01/2016</td>\n",
       "      <td>Kolkata</td>\n",
       "      <td>PCT NATIONAL PHASE APPLICATION</td>\n",
       "      <td>3298/KOLNP/2009</td>\n",
       "      <td>2009-09-16</td>\n",
       "      <td>LIQUID CRYSTAL DISPLAY DEVICE</td>\n",
       "      <td>122</td>\n",
       "      <td>33</td>\n",
       "      <td>2009</td>\n",
       "    </tr>\n",
       "    <tr>\n",
       "      <th>1</th>\n",
       "      <td>10/2016</td>\n",
       "      <td>04/03/2016</td>\n",
       "      <td>Kolkata</td>\n",
       "      <td>PCT NATIONAL PHASE APPLICATION</td>\n",
       "      <td>3420/KOLNP/2009</td>\n",
       "      <td>2009-10-01</td>\n",
       "      <td>METHOD AND DEVICE FOR TESTING VALUE DOCUMENTS</td>\n",
       "      <td>18</td>\n",
       "      <td>24</td>\n",
       "      <td>2009</td>\n",
       "    </tr>\n",
       "    <tr>\n",
       "      <th>2</th>\n",
       "      <td>10/2016</td>\n",
       "      <td>04/03/2016</td>\n",
       "      <td>Kolkata</td>\n",
       "      <td>PCT NATIONAL PHASE APPLICATION</td>\n",
       "      <td>763/KOLNP/2010</td>\n",
       "      <td>2010-03-01</td>\n",
       "      <td>CALIBRATABLE MULTIDIMENSIONAL MAGNETIC POINT S...</td>\n",
       "      <td>48</td>\n",
       "      <td>27</td>\n",
       "      <td>2010</td>\n",
       "    </tr>\n",
       "  </tbody>\n",
       "</table>\n",
       "</div>"
      ],
      "text/plain": [
       "  PUBLICATION_NUMBER PUBLICATION_DATE IPO_LOCATION  \\\n",
       "0            01/2016       01/01/2016      Kolkata   \n",
       "1            10/2016       04/03/2016      Kolkata   \n",
       "2            10/2016       04/03/2016      Kolkata   \n",
       "\n",
       "            APPLICATION_TYPE_DESC APPLICATION_NUMBER DATE_OF_FILING  \\\n",
       "0  PCT NATIONAL PHASE APPLICATION    3298/KOLNP/2009     2009-09-16   \n",
       "1  PCT NATIONAL PHASE APPLICATION    3420/KOLNP/2009     2009-10-01   \n",
       "2  PCT NATIONAL PHASE APPLICATION     763/KOLNP/2010     2010-03-01   \n",
       "\n",
       "                                  TITLE_OF_INVENTION  NO_OF_PAGES  \\\n",
       "0                      LIQUID CRYSTAL DISPLAY DEVICE          122   \n",
       "1      METHOD AND DEVICE FOR TESTING VALUE DOCUMENTS           18   \n",
       "2  CALIBRATABLE MULTIDIMENSIONAL MAGNETIC POINT S...           48   \n",
       "\n",
       "   NO_OF_CLAIMS  FILLING_YEAR  \n",
       "0            33          2009  \n",
       "1            24          2009  \n",
       "2            27          2010  "
      ]
     },
     "execution_count": 36,
     "metadata": {},
     "output_type": "execute_result"
    }
   ],
   "source": [
    "df_main.head(3)"
   ]
  },
  {
   "cell_type": "code",
   "execution_count": 40,
   "id": "0debe247-0520-42a8-b934-8a18696ceb22",
   "metadata": {},
   "outputs": [
    {
     "name": "stdout",
     "output_type": "stream",
     "text": [
      "All values are same in the column\n"
     ]
    }
   ],
   "source": [
    "if(df_main[\"IPO_LOCATION\"].nunique()==1):\n",
    "    print(\"All values are same in the column\")\n",
    "else:\n",
    "    print(\"There are different values in the column\")"
   ]
  },
  {
   "cell_type": "code",
   "execution_count": 42,
   "id": "14de3a95-29ba-4c88-a5d2-629decfa5680",
   "metadata": {},
   "outputs": [],
   "source": [
    "df_main.drop([\"IPO_LOCATION\"], axis=1, inplace=True)"
   ]
  },
  {
   "cell_type": "code",
   "execution_count": 44,
   "id": "e78d3cfb-4ab4-4843-a840-b430d722672a",
   "metadata": {},
   "outputs": [
    {
     "data": {
      "text/html": [
       "<div>\n",
       "<style scoped>\n",
       "    .dataframe tbody tr th:only-of-type {\n",
       "        vertical-align: middle;\n",
       "    }\n",
       "\n",
       "    .dataframe tbody tr th {\n",
       "        vertical-align: top;\n",
       "    }\n",
       "\n",
       "    .dataframe thead th {\n",
       "        text-align: right;\n",
       "    }\n",
       "</style>\n",
       "<table border=\"1\" class=\"dataframe\">\n",
       "  <thead>\n",
       "    <tr style=\"text-align: right;\">\n",
       "      <th></th>\n",
       "      <th>PUBLICATION_NUMBER</th>\n",
       "      <th>PUBLICATION_DATE</th>\n",
       "      <th>APPLICATION_TYPE_DESC</th>\n",
       "      <th>APPLICATION_NUMBER</th>\n",
       "      <th>DATE_OF_FILING</th>\n",
       "      <th>TITLE_OF_INVENTION</th>\n",
       "      <th>NO_OF_PAGES</th>\n",
       "      <th>NO_OF_CLAIMS</th>\n",
       "      <th>FILLING_YEAR</th>\n",
       "    </tr>\n",
       "  </thead>\n",
       "  <tbody>\n",
       "    <tr>\n",
       "      <th>0</th>\n",
       "      <td>01/2016</td>\n",
       "      <td>01/01/2016</td>\n",
       "      <td>PCT NATIONAL PHASE APPLICATION</td>\n",
       "      <td>3298/KOLNP/2009</td>\n",
       "      <td>2009-09-16</td>\n",
       "      <td>LIQUID CRYSTAL DISPLAY DEVICE</td>\n",
       "      <td>122</td>\n",
       "      <td>33</td>\n",
       "      <td>2009</td>\n",
       "    </tr>\n",
       "    <tr>\n",
       "      <th>1</th>\n",
       "      <td>10/2016</td>\n",
       "      <td>04/03/2016</td>\n",
       "      <td>PCT NATIONAL PHASE APPLICATION</td>\n",
       "      <td>3420/KOLNP/2009</td>\n",
       "      <td>2009-10-01</td>\n",
       "      <td>METHOD AND DEVICE FOR TESTING VALUE DOCUMENTS</td>\n",
       "      <td>18</td>\n",
       "      <td>24</td>\n",
       "      <td>2009</td>\n",
       "    </tr>\n",
       "    <tr>\n",
       "      <th>2</th>\n",
       "      <td>10/2016</td>\n",
       "      <td>04/03/2016</td>\n",
       "      <td>PCT NATIONAL PHASE APPLICATION</td>\n",
       "      <td>763/KOLNP/2010</td>\n",
       "      <td>2010-03-01</td>\n",
       "      <td>CALIBRATABLE MULTIDIMENSIONAL MAGNETIC POINT S...</td>\n",
       "      <td>48</td>\n",
       "      <td>27</td>\n",
       "      <td>2010</td>\n",
       "    </tr>\n",
       "    <tr>\n",
       "      <th>3</th>\n",
       "      <td>12/2016</td>\n",
       "      <td>18/03/2016</td>\n",
       "      <td>PCT NATIONAL PHASE APPLICATION</td>\n",
       "      <td>1648/KOLNP/2009</td>\n",
       "      <td>2009-05-01</td>\n",
       "      <td>INTRAOCULAR LENS DELIVERY SYSTEM WITH TEMPERAT...</td>\n",
       "      <td>40</td>\n",
       "      <td>29</td>\n",
       "      <td>2009</td>\n",
       "    </tr>\n",
       "    <tr>\n",
       "      <th>4</th>\n",
       "      <td>27/2016</td>\n",
       "      <td>01/07/2016</td>\n",
       "      <td>PCT NATIONAL PHASE APPLICATION</td>\n",
       "      <td>31/KOLNP/2009</td>\n",
       "      <td>2009-01-01</td>\n",
       "      <td>COMBINATION WEIGHER</td>\n",
       "      <td>79</td>\n",
       "      <td>25</td>\n",
       "      <td>2009</td>\n",
       "    </tr>\n",
       "  </tbody>\n",
       "</table>\n",
       "</div>"
      ],
      "text/plain": [
       "  PUBLICATION_NUMBER PUBLICATION_DATE           APPLICATION_TYPE_DESC  \\\n",
       "0            01/2016       01/01/2016  PCT NATIONAL PHASE APPLICATION   \n",
       "1            10/2016       04/03/2016  PCT NATIONAL PHASE APPLICATION   \n",
       "2            10/2016       04/03/2016  PCT NATIONAL PHASE APPLICATION   \n",
       "3            12/2016       18/03/2016  PCT NATIONAL PHASE APPLICATION   \n",
       "4            27/2016       01/07/2016  PCT NATIONAL PHASE APPLICATION   \n",
       "\n",
       "  APPLICATION_NUMBER DATE_OF_FILING  \\\n",
       "0    3298/KOLNP/2009     2009-09-16   \n",
       "1    3420/KOLNP/2009     2009-10-01   \n",
       "2     763/KOLNP/2010     2010-03-01   \n",
       "3    1648/KOLNP/2009     2009-05-01   \n",
       "4      31/KOLNP/2009     2009-01-01   \n",
       "\n",
       "                                  TITLE_OF_INVENTION  NO_OF_PAGES  \\\n",
       "0                      LIQUID CRYSTAL DISPLAY DEVICE          122   \n",
       "1      METHOD AND DEVICE FOR TESTING VALUE DOCUMENTS           18   \n",
       "2  CALIBRATABLE MULTIDIMENSIONAL MAGNETIC POINT S...           48   \n",
       "3  INTRAOCULAR LENS DELIVERY SYSTEM WITH TEMPERAT...           40   \n",
       "4                                COMBINATION WEIGHER           79   \n",
       "\n",
       "   NO_OF_CLAIMS  FILLING_YEAR  \n",
       "0            33          2009  \n",
       "1            24          2009  \n",
       "2            27          2010  \n",
       "3            29          2009  \n",
       "4            25          2009  "
      ]
     },
     "execution_count": 44,
     "metadata": {},
     "output_type": "execute_result"
    }
   ],
   "source": [
    "df_main.head()"
   ]
  },
  {
   "cell_type": "markdown",
   "id": "7f473b59-9b5b-43db-9369-762ee6863be6",
   "metadata": {},
   "source": [
    "We want to check how many patents are filled in a particluar year"
   ]
  },
  {
   "cell_type": "code",
   "execution_count": 53,
   "id": "fbaf25c3-d94d-41bd-a44a-b9e607097e95",
   "metadata": {},
   "outputs": [],
   "source": [
    "df_FC=df_main.groupby(\"FILLING_YEAR\")[\"NO_OF_CLAIMS\"].sum().reset_index()"
   ]
  },
  {
   "cell_type": "code",
   "execution_count": 55,
   "id": "0947f26e-6e87-4400-95e5-65560f7c3f7d",
   "metadata": {},
   "outputs": [
    {
     "data": {
      "text/html": [
       "<div>\n",
       "<style scoped>\n",
       "    .dataframe tbody tr th:only-of-type {\n",
       "        vertical-align: middle;\n",
       "    }\n",
       "\n",
       "    .dataframe tbody tr th {\n",
       "        vertical-align: top;\n",
       "    }\n",
       "\n",
       "    .dataframe thead th {\n",
       "        text-align: right;\n",
       "    }\n",
       "</style>\n",
       "<table border=\"1\" class=\"dataframe\">\n",
       "  <thead>\n",
       "    <tr style=\"text-align: right;\">\n",
       "      <th></th>\n",
       "      <th>FILLING_YEAR</th>\n",
       "      <th>NO_OF_CLAIMS</th>\n",
       "    </tr>\n",
       "  </thead>\n",
       "  <tbody>\n",
       "    <tr>\n",
       "      <th>0</th>\n",
       "      <td>2004</td>\n",
       "      <td>7</td>\n",
       "    </tr>\n",
       "    <tr>\n",
       "      <th>1</th>\n",
       "      <td>2005</td>\n",
       "      <td>167</td>\n",
       "    </tr>\n",
       "    <tr>\n",
       "      <th>2</th>\n",
       "      <td>2006</td>\n",
       "      <td>458</td>\n",
       "    </tr>\n",
       "    <tr>\n",
       "      <th>3</th>\n",
       "      <td>2007</td>\n",
       "      <td>773</td>\n",
       "    </tr>\n",
       "    <tr>\n",
       "      <th>4</th>\n",
       "      <td>2008</td>\n",
       "      <td>1317</td>\n",
       "    </tr>\n",
       "  </tbody>\n",
       "</table>\n",
       "</div>"
      ],
      "text/plain": [
       "   FILLING_YEAR  NO_OF_CLAIMS\n",
       "0          2004             7\n",
       "1          2005           167\n",
       "2          2006           458\n",
       "3          2007           773\n",
       "4          2008          1317"
      ]
     },
     "execution_count": 55,
     "metadata": {},
     "output_type": "execute_result"
    }
   ],
   "source": [
    "df_FC.head()"
   ]
  },
  {
   "cell_type": "code",
   "execution_count": 69,
   "id": "909f48bb-4694-45aa-b21f-2cc2001b1f1d",
   "metadata": {},
   "outputs": [
    {
     "data": {
      "text/html": [
       "<div>\n",
       "<style scoped>\n",
       "    .dataframe tbody tr th:only-of-type {\n",
       "        vertical-align: middle;\n",
       "    }\n",
       "\n",
       "    .dataframe tbody tr th {\n",
       "        vertical-align: top;\n",
       "    }\n",
       "\n",
       "    .dataframe thead th {\n",
       "        text-align: right;\n",
       "    }\n",
       "</style>\n",
       "<table border=\"1\" class=\"dataframe\">\n",
       "  <thead>\n",
       "    <tr style=\"text-align: right;\">\n",
       "      <th></th>\n",
       "      <th>FILLING_YEAR</th>\n",
       "      <th>NO_OF_CLAIMS</th>\n",
       "    </tr>\n",
       "  </thead>\n",
       "  <tbody>\n",
       "    <tr>\n",
       "      <th>0</th>\n",
       "      <td>2004</td>\n",
       "      <td>7</td>\n",
       "    </tr>\n",
       "    <tr>\n",
       "      <th>20</th>\n",
       "      <td>2024</td>\n",
       "      <td>11</td>\n",
       "    </tr>\n",
       "    <tr>\n",
       "      <th>19</th>\n",
       "      <td>2023</td>\n",
       "      <td>69</td>\n",
       "    </tr>\n",
       "    <tr>\n",
       "      <th>1</th>\n",
       "      <td>2005</td>\n",
       "      <td>167</td>\n",
       "    </tr>\n",
       "    <tr>\n",
       "      <th>18</th>\n",
       "      <td>2022</td>\n",
       "      <td>319</td>\n",
       "    </tr>\n",
       "  </tbody>\n",
       "</table>\n",
       "</div>"
      ],
      "text/plain": [
       "    FILLING_YEAR  NO_OF_CLAIMS\n",
       "0           2004             7\n",
       "20          2024            11\n",
       "19          2023            69\n",
       "1           2005           167\n",
       "18          2022           319"
      ]
     },
     "execution_count": 69,
     "metadata": {},
     "output_type": "execute_result"
    }
   ],
   "source": [
    "df_FC_sorted=df_FC.sort_values(\"NO_OF_CLAIMS\", ascending=True)\n",
    "df_FC_sorted.head()"
   ]
  },
  {
   "cell_type": "code",
   "execution_count": 82,
   "id": "5282c089-8f7e-49e1-8952-363e654914bf",
   "metadata": {},
   "outputs": [
    {
     "data": {
      "image/png": "[encoded data removed]",
      "text/plain": [
       "<Figure size 640x480 with 1 Axes>"
      ]
     },
     "metadata": {},
     "output_type": "display_data"
    }
   ],
   "source": [
    "df_FC.plot(kind=\"bar\", x=\"FILLING_YEAR\", y=\"NO_OF_CLAIMS\")\n",
    "plt.title(\"Yearwise claims for Patents\")\n",
    "plt.xticks(rotation=45)\n",
    "plt.show()"
   ]
  },
  {
   "cell_type": "markdown",
   "id": "09ca2ec3-aed3-44b7-8b4d-2550b28de0da",
   "metadata": {},
   "source": [
    "This is the unsorted bar graph. To organize the values properly, we can either sort them in ascending or descending order. We have chosen to sort the values in ascending order. The sorting of the dataframe is being done above. "
   ]
  },
  {
   "cell_type": "code",
   "execution_count": 80,
   "id": "e106971c-73c2-4dd1-b62c-0681827a93f7",
   "metadata": {},
   "outputs": [
    {
     "data": {
      "image/png": "[encoded data removed]",
      "text/plain": [
       "<Figure size 640x480 with 1 Axes>"
      ]
     },
     "metadata": {},
     "output_type": "display_data"
    }
   ],
   "source": [
    "df_FC_sorted.plot(kind=\"bar\", x=\"FILLING_YEAR\", y=\"NO_OF_CLAIMS\", color=\"red\")\n",
    "plt.xticks(rotation=45)\n",
    "plt.title(\"Yearwise claims for Patents\")\n",
    "plt.show()"
   ]
  },
  {
   "cell_type": "markdown",
   "id": "f6cbf6c3-f5c5-49c9-b7b4-fdf0010ba5d8",
   "metadata": {},
   "source": [
    "Therefore we can see that the highest numbers of patents were filled in the year 2015, and then 2017. The filing of the patents were at the lowest in the year 2004."
   ]
  },
  {
   "cell_type": "markdown",
   "id": "9f536bad-5387-46e1-88aa-33dc62b8e012",
   "metadata": {},
   "source": [
    "We also can make a pie chart to visualize the number of claims accroding to the title of invention"
   ]
  },
  {
   "cell_type": "code",
   "execution_count": 90,
   "id": "e3c75962-887b-4b3b-98be-5ed428feb02c",
   "metadata": {},
   "outputs": [
    {
     "data": {
      "text/html": [
       "<div>\n",
       "<style scoped>\n",
       "    .dataframe tbody tr th:only-of-type {\n",
       "        vertical-align: middle;\n",
       "    }\n",
       "\n",
       "    .dataframe tbody tr th {\n",
       "        vertical-align: top;\n",
       "    }\n",
       "\n",
       "    .dataframe thead th {\n",
       "        text-align: right;\n",
       "    }\n",
       "</style>\n",
       "<table border=\"1\" class=\"dataframe\">\n",
       "  <thead>\n",
       "    <tr style=\"text-align: right;\">\n",
       "      <th></th>\n",
       "      <th>TITLE_OF_INVENTION</th>\n",
       "      <th>NO_OF_CLAIMS</th>\n",
       "    </tr>\n",
       "  </thead>\n",
       "  <tbody>\n",
       "    <tr>\n",
       "      <th>1739</th>\n",
       "      <td>“MASS FLOW CONTROLLER (MFC) CALIBRATION SETUP”</td>\n",
       "      <td>2</td>\n",
       "    </tr>\n",
       "    <tr>\n",
       "      <th>1740</th>\n",
       "      <td>“METHOD OF MEASURING THE CONCENTRATION OF A TA...</td>\n",
       "      <td>8</td>\n",
       "    </tr>\n",
       "    <tr>\n",
       "      <th>1741</th>\n",
       "      <td>“OPTICAL IMAGING LENS ASSEMBLY”</td>\n",
       "      <td>34</td>\n",
       "    </tr>\n",
       "    <tr>\n",
       "      <th>1742</th>\n",
       "      <td>“POCKET SOIL MOISTURE SENSOR (P-SMS)”</td>\n",
       "      <td>15</td>\n",
       "    </tr>\n",
       "    <tr>\n",
       "      <th>1743</th>\n",
       "      <td>“SYSTEM FOR SENSING ACCUMULATION OF DUST IN A ...</td>\n",
       "      <td>22</td>\n",
       "    </tr>\n",
       "  </tbody>\n",
       "</table>\n",
       "</div>"
      ],
      "text/plain": [
       "                                     TITLE_OF_INVENTION  NO_OF_CLAIMS\n",
       "1739     “MASS FLOW CONTROLLER (MFC) CALIBRATION SETUP”             2\n",
       "1740  “METHOD OF MEASURING THE CONCENTRATION OF A TA...             8\n",
       "1741                    “OPTICAL IMAGING LENS ASSEMBLY”            34\n",
       "1742              “POCKET SOIL MOISTURE SENSOR (P-SMS)”            15\n",
       "1743  “SYSTEM FOR SENSING ACCUMULATION OF DUST IN A ...            22"
      ]
     },
     "execution_count": 90,
     "metadata": {},
     "output_type": "execute_result"
    }
   ],
   "source": [
    "df_PIE=df_main.groupby(\"TITLE_OF_INVENTION\")[\"NO_OF_CLAIMS\"].sum().reset_index()\n",
    "\n",
    "df_PIE.tail()"
   ]
  },
  {
   "cell_type": "code",
   "execution_count": 93,
   "id": "2ee2c332-582f-432e-8c33-7d3827c1b53e",
   "metadata": {},
   "outputs": [
    {
     "name": "stdout",
     "output_type": "stream",
     "text": [
      "There are different values in the column\n"
     ]
    }
   ],
   "source": [
    "if(df_main[\"APPLICATION_TYPE_DESC\"].nunique()==1):\n",
    "    print(\"All values are same in the column\")\n",
    "else:\n",
    "    print(\"There are different values in the column\")"
   ]
  },
  {
   "cell_type": "code",
   "execution_count": 95,
   "id": "d9e7c03f-ff50-476d-a804-809415b1b33e",
   "metadata": {},
   "outputs": [
    {
     "data": {
      "text/html": [
       "<div>\n",
       "<style scoped>\n",
       "    .dataframe tbody tr th:only-of-type {\n",
       "        vertical-align: middle;\n",
       "    }\n",
       "\n",
       "    .dataframe tbody tr th {\n",
       "        vertical-align: top;\n",
       "    }\n",
       "\n",
       "    .dataframe thead th {\n",
       "        text-align: right;\n",
       "    }\n",
       "</style>\n",
       "<table border=\"1\" class=\"dataframe\">\n",
       "  <thead>\n",
       "    <tr style=\"text-align: right;\">\n",
       "      <th></th>\n",
       "      <th>PUBLICATION_NUMBER</th>\n",
       "      <th>PUBLICATION_DATE</th>\n",
       "      <th>APPLICATION_TYPE_DESC</th>\n",
       "      <th>APPLICATION_NUMBER</th>\n",
       "      <th>DATE_OF_FILING</th>\n",
       "      <th>TITLE_OF_INVENTION</th>\n",
       "      <th>NO_OF_PAGES</th>\n",
       "      <th>NO_OF_CLAIMS</th>\n",
       "      <th>FILLING_YEAR</th>\n",
       "    </tr>\n",
       "  </thead>\n",
       "  <tbody>\n",
       "    <tr>\n",
       "      <th>0</th>\n",
       "      <td>01/2016</td>\n",
       "      <td>01/01/2016</td>\n",
       "      <td>PCT NATIONAL PHASE APPLICATION</td>\n",
       "      <td>3298/KOLNP/2009</td>\n",
       "      <td>2009-09-16</td>\n",
       "      <td>LIQUID CRYSTAL DISPLAY DEVICE</td>\n",
       "      <td>122</td>\n",
       "      <td>33</td>\n",
       "      <td>2009</td>\n",
       "    </tr>\n",
       "    <tr>\n",
       "      <th>1</th>\n",
       "      <td>10/2016</td>\n",
       "      <td>04/03/2016</td>\n",
       "      <td>PCT NATIONAL PHASE APPLICATION</td>\n",
       "      <td>3420/KOLNP/2009</td>\n",
       "      <td>2009-10-01</td>\n",
       "      <td>METHOD AND DEVICE FOR TESTING VALUE DOCUMENTS</td>\n",
       "      <td>18</td>\n",
       "      <td>24</td>\n",
       "      <td>2009</td>\n",
       "    </tr>\n",
       "    <tr>\n",
       "      <th>2</th>\n",
       "      <td>10/2016</td>\n",
       "      <td>04/03/2016</td>\n",
       "      <td>PCT NATIONAL PHASE APPLICATION</td>\n",
       "      <td>763/KOLNP/2010</td>\n",
       "      <td>2010-03-01</td>\n",
       "      <td>CALIBRATABLE MULTIDIMENSIONAL MAGNETIC POINT S...</td>\n",
       "      <td>48</td>\n",
       "      <td>27</td>\n",
       "      <td>2010</td>\n",
       "    </tr>\n",
       "  </tbody>\n",
       "</table>\n",
       "</div>"
      ],
      "text/plain": [
       "  PUBLICATION_NUMBER PUBLICATION_DATE           APPLICATION_TYPE_DESC  \\\n",
       "0            01/2016       01/01/2016  PCT NATIONAL PHASE APPLICATION   \n",
       "1            10/2016       04/03/2016  PCT NATIONAL PHASE APPLICATION   \n",
       "2            10/2016       04/03/2016  PCT NATIONAL PHASE APPLICATION   \n",
       "\n",
       "  APPLICATION_NUMBER DATE_OF_FILING  \\\n",
       "0    3298/KOLNP/2009     2009-09-16   \n",
       "1    3420/KOLNP/2009     2009-10-01   \n",
       "2     763/KOLNP/2010     2010-03-01   \n",
       "\n",
       "                                  TITLE_OF_INVENTION  NO_OF_PAGES  \\\n",
       "0                      LIQUID CRYSTAL DISPLAY DEVICE          122   \n",
       "1      METHOD AND DEVICE FOR TESTING VALUE DOCUMENTS           18   \n",
       "2  CALIBRATABLE MULTIDIMENSIONAL MAGNETIC POINT S...           48   \n",
       "\n",
       "   NO_OF_CLAIMS  FILLING_YEAR  \n",
       "0            33          2009  \n",
       "1            24          2009  \n",
       "2            27          2010  "
      ]
     },
     "execution_count": 95,
     "metadata": {},
     "output_type": "execute_result"
    }
   ],
   "source": [
    "df_main.head(3)"
   ]
  },
  {
   "cell_type": "code",
   "execution_count": 105,
   "id": "39347b84-1075-47bd-89a2-ba9b9125d95d",
   "metadata": {},
   "outputs": [
    {
     "data": {
      "text/html": [
       "<div>\n",
       "<style scoped>\n",
       "    .dataframe tbody tr th:only-of-type {\n",
       "        vertical-align: middle;\n",
       "    }\n",
       "\n",
       "    .dataframe tbody tr th {\n",
       "        vertical-align: top;\n",
       "    }\n",
       "\n",
       "    .dataframe thead th {\n",
       "        text-align: right;\n",
       "    }\n",
       "</style>\n",
       "<table border=\"1\" class=\"dataframe\">\n",
       "  <thead>\n",
       "    <tr style=\"text-align: right;\">\n",
       "      <th></th>\n",
       "      <th>APPLICATION_TYPE_DESC</th>\n",
       "      <th>NO_OF_CLAIMS</th>\n",
       "    </tr>\n",
       "  </thead>\n",
       "  <tbody>\n",
       "    <tr>\n",
       "      <th>4</th>\n",
       "      <td>PATENT OF ADDITION FOR ORDINARY APPLICATION</td>\n",
       "      <td>19</td>\n",
       "    </tr>\n",
       "    <tr>\n",
       "      <th>1</th>\n",
       "      <td>DIVISIONAL CONVENTION APPLICATION</td>\n",
       "      <td>25</td>\n",
       "    </tr>\n",
       "    <tr>\n",
       "      <th>2</th>\n",
       "      <td>DIVISIONAL PCT NATIONAL PHASE APPLICATION</td>\n",
       "      <td>318</td>\n",
       "    </tr>\n",
       "    <tr>\n",
       "      <th>3</th>\n",
       "      <td>ORDINARY APPLICATION</td>\n",
       "      <td>3275</td>\n",
       "    </tr>\n",
       "    <tr>\n",
       "      <th>0</th>\n",
       "      <td>CONVENTION APPLICATION</td>\n",
       "      <td>7230</td>\n",
       "    </tr>\n",
       "  </tbody>\n",
       "</table>\n",
       "</div>"
      ],
      "text/plain": [
       "                         APPLICATION_TYPE_DESC  NO_OF_CLAIMS\n",
       "4  PATENT OF ADDITION FOR ORDINARY APPLICATION            19\n",
       "1            DIVISIONAL CONVENTION APPLICATION            25\n",
       "2    DIVISIONAL PCT NATIONAL PHASE APPLICATION           318\n",
       "3                         ORDINARY APPLICATION          3275\n",
       "0                       CONVENTION APPLICATION          7230"
      ]
     },
     "execution_count": 105,
     "metadata": {},
     "output_type": "execute_result"
    }
   ],
   "source": [
    "df_AT=df_main.groupby(\"APPLICATION_TYPE_DESC\")[\"NO_OF_CLAIMS\"].sum().reset_index()\n",
    "df_AT_sort=df_AT.sort_values(\"NO_OF_CLAIMS\", ascending=True)\n",
    "df_AT_sort.head()"
   ]
  },
  {
   "cell_type": "code",
   "execution_count": 113,
   "id": "b0ad1fb0-542c-4030-ac93-2120306abd47",
   "metadata": {},
   "outputs": [
    {
     "data": {
      "image/png": "[encoded data removed]",
      "text/plain": [
       "<Figure size 600x600 with 1 Axes>"
      ]
     },
     "metadata": {},
     "output_type": "display_data"
    }
   ],
   "source": [
    "#Lollipop Chart\n",
    "plt.figure(figsize=(6,6))\n",
    "plt.hlines(y=df_AT_sort[\"APPLICATION_TYPE_DESC\"], xmin=0, xmax=df_AT_sort[\"NO_OF_CLAIMS\"], color=\"skyblue\", linewidth=2)\n",
    "plt.plot(df_AT_sort[\"NO_OF_CLAIMS\"], df_AT_sort[\"APPLICATION_TYPE_DESC\"], \"o\", markersize=8, color=\"red\")\n",
    "plt.title(\"Number of Claims according to Application Types\")\n",
    "plt.show()"
   ]
  },
  {
   "cell_type": "markdown",
   "id": "19edc920-7aec-4caf-a3c7-6823fbcf4c3d",
   "metadata": {},
   "source": [
    "We can see that most of the application are published in PCT National Phase Application"
   ]
  },
  {
   "cell_type": "code",
   "execution_count": 116,
   "id": "dc54659c-9834-47da-8166-a72bcbba2dbe",
   "metadata": {},
   "outputs": [
    {
     "data": {
      "text/html": [
       "<div>\n",
       "<style scoped>\n",
       "    .dataframe tbody tr th:only-of-type {\n",
       "        vertical-align: middle;\n",
       "    }\n",
       "\n",
       "    .dataframe tbody tr th {\n",
       "        vertical-align: top;\n",
       "    }\n",
       "\n",
       "    .dataframe thead th {\n",
       "        text-align: right;\n",
       "    }\n",
       "</style>\n",
       "<table border=\"1\" class=\"dataframe\">\n",
       "  <thead>\n",
       "    <tr style=\"text-align: right;\">\n",
       "      <th></th>\n",
       "      <th>PUBLICATION_NUMBER</th>\n",
       "      <th>PUBLICATION_DATE</th>\n",
       "      <th>APPLICATION_TYPE_DESC</th>\n",
       "      <th>APPLICATION_NUMBER</th>\n",
       "      <th>DATE_OF_FILING</th>\n",
       "      <th>TITLE_OF_INVENTION</th>\n",
       "      <th>NO_OF_PAGES</th>\n",
       "      <th>NO_OF_CLAIMS</th>\n",
       "      <th>FILLING_YEAR</th>\n",
       "    </tr>\n",
       "  </thead>\n",
       "  <tbody>\n",
       "    <tr>\n",
       "      <th>0</th>\n",
       "      <td>01/2016</td>\n",
       "      <td>01/01/2016</td>\n",
       "      <td>PCT NATIONAL PHASE APPLICATION</td>\n",
       "      <td>3298/KOLNP/2009</td>\n",
       "      <td>2009-09-16</td>\n",
       "      <td>LIQUID CRYSTAL DISPLAY DEVICE</td>\n",
       "      <td>122</td>\n",
       "      <td>33</td>\n",
       "      <td>2009</td>\n",
       "    </tr>\n",
       "    <tr>\n",
       "      <th>1</th>\n",
       "      <td>10/2016</td>\n",
       "      <td>04/03/2016</td>\n",
       "      <td>PCT NATIONAL PHASE APPLICATION</td>\n",
       "      <td>3420/KOLNP/2009</td>\n",
       "      <td>2009-10-01</td>\n",
       "      <td>METHOD AND DEVICE FOR TESTING VALUE DOCUMENTS</td>\n",
       "      <td>18</td>\n",
       "      <td>24</td>\n",
       "      <td>2009</td>\n",
       "    </tr>\n",
       "    <tr>\n",
       "      <th>2</th>\n",
       "      <td>10/2016</td>\n",
       "      <td>04/03/2016</td>\n",
       "      <td>PCT NATIONAL PHASE APPLICATION</td>\n",
       "      <td>763/KOLNP/2010</td>\n",
       "      <td>2010-03-01</td>\n",
       "      <td>CALIBRATABLE MULTIDIMENSIONAL MAGNETIC POINT S...</td>\n",
       "      <td>48</td>\n",
       "      <td>27</td>\n",
       "      <td>2010</td>\n",
       "    </tr>\n",
       "    <tr>\n",
       "      <th>3</th>\n",
       "      <td>12/2016</td>\n",
       "      <td>18/03/2016</td>\n",
       "      <td>PCT NATIONAL PHASE APPLICATION</td>\n",
       "      <td>1648/KOLNP/2009</td>\n",
       "      <td>2009-05-01</td>\n",
       "      <td>INTRAOCULAR LENS DELIVERY SYSTEM WITH TEMPERAT...</td>\n",
       "      <td>40</td>\n",
       "      <td>29</td>\n",
       "      <td>2009</td>\n",
       "    </tr>\n",
       "    <tr>\n",
       "      <th>4</th>\n",
       "      <td>27/2016</td>\n",
       "      <td>01/07/2016</td>\n",
       "      <td>PCT NATIONAL PHASE APPLICATION</td>\n",
       "      <td>31/KOLNP/2009</td>\n",
       "      <td>2009-01-01</td>\n",
       "      <td>COMBINATION WEIGHER</td>\n",
       "      <td>79</td>\n",
       "      <td>25</td>\n",
       "      <td>2009</td>\n",
       "    </tr>\n",
       "  </tbody>\n",
       "</table>\n",
       "</div>"
      ],
      "text/plain": [
       "  PUBLICATION_NUMBER PUBLICATION_DATE           APPLICATION_TYPE_DESC  \\\n",
       "0            01/2016       01/01/2016  PCT NATIONAL PHASE APPLICATION   \n",
       "1            10/2016       04/03/2016  PCT NATIONAL PHASE APPLICATION   \n",
       "2            10/2016       04/03/2016  PCT NATIONAL PHASE APPLICATION   \n",
       "3            12/2016       18/03/2016  PCT NATIONAL PHASE APPLICATION   \n",
       "4            27/2016       01/07/2016  PCT NATIONAL PHASE APPLICATION   \n",
       "\n",
       "  APPLICATION_NUMBER DATE_OF_FILING  \\\n",
       "0    3298/KOLNP/2009     2009-09-16   \n",
       "1    3420/KOLNP/2009     2009-10-01   \n",
       "2     763/KOLNP/2010     2010-03-01   \n",
       "3    1648/KOLNP/2009     2009-05-01   \n",
       "4      31/KOLNP/2009     2009-01-01   \n",
       "\n",
       "                                  TITLE_OF_INVENTION  NO_OF_PAGES  \\\n",
       "0                      LIQUID CRYSTAL DISPLAY DEVICE          122   \n",
       "1      METHOD AND DEVICE FOR TESTING VALUE DOCUMENTS           18   \n",
       "2  CALIBRATABLE MULTIDIMENSIONAL MAGNETIC POINT S...           48   \n",
       "3  INTRAOCULAR LENS DELIVERY SYSTEM WITH TEMPERAT...           40   \n",
       "4                                COMBINATION WEIGHER           79   \n",
       "\n",
       "   NO_OF_CLAIMS  FILLING_YEAR  \n",
       "0            33          2009  \n",
       "1            24          2009  \n",
       "2            27          2010  \n",
       "3            29          2009  \n",
       "4            25          2009  "
      ]
     },
     "execution_count": 116,
     "metadata": {},
     "output_type": "execute_result"
    }
   ],
   "source": [
    "df_main.head()\n"
   ]
  },
  {
   "cell_type": "code",
   "execution_count": 134,
   "id": "0f28a53b-ab90-406a-aa17-93dd2e99829f",
   "metadata": {},
   "outputs": [
    {
     "data": {
      "text/html": [
       "<div>\n",
       "<style scoped>\n",
       "    .dataframe tbody tr th:only-of-type {\n",
       "        vertical-align: middle;\n",
       "    }\n",
       "\n",
       "    .dataframe tbody tr th {\n",
       "        vertical-align: top;\n",
       "    }\n",
       "\n",
       "    .dataframe thead th {\n",
       "        text-align: right;\n",
       "    }\n",
       "</style>\n",
       "<table border=\"1\" class=\"dataframe\">\n",
       "  <thead>\n",
       "    <tr style=\"text-align: right;\">\n",
       "      <th></th>\n",
       "      <th>PUBLICATION_DATE</th>\n",
       "      <th>DATE_OF_FILING</th>\n",
       "      <th>FILLING_YEAR</th>\n",
       "    </tr>\n",
       "  </thead>\n",
       "  <tbody>\n",
       "    <tr>\n",
       "      <th>0</th>\n",
       "      <td>2016-01-01</td>\n",
       "      <td>2009-08-20</td>\n",
       "      <td>2009</td>\n",
       "    </tr>\n",
       "    <tr>\n",
       "      <th>1</th>\n",
       "      <td>2016-01-01</td>\n",
       "      <td>2009-09-16</td>\n",
       "      <td>2009</td>\n",
       "    </tr>\n",
       "    <tr>\n",
       "      <th>2</th>\n",
       "      <td>2021-01-01</td>\n",
       "      <td>2011-04-18</td>\n",
       "      <td>2011</td>\n",
       "    </tr>\n",
       "    <tr>\n",
       "      <th>3</th>\n",
       "      <td>2021-01-01</td>\n",
       "      <td>2014-02-25</td>\n",
       "      <td>2014</td>\n",
       "    </tr>\n",
       "    <tr>\n",
       "      <th>4</th>\n",
       "      <td>2021-01-01</td>\n",
       "      <td>2014-11-25</td>\n",
       "      <td>2014</td>\n",
       "    </tr>\n",
       "  </tbody>\n",
       "</table>\n",
       "</div>"
      ],
      "text/plain": [
       "  PUBLICATION_DATE DATE_OF_FILING  FILLING_YEAR\n",
       "0       2016-01-01     2009-08-20          2009\n",
       "1       2016-01-01     2009-09-16          2009\n",
       "2       2021-01-01     2011-04-18          2011\n",
       "3       2021-01-01     2014-02-25          2014\n",
       "4       2021-01-01     2014-11-25          2014"
      ]
     },
     "execution_count": 134,
     "metadata": {},
     "output_type": "execute_result"
    }
   ],
   "source": [
    "df_Date=df_main.groupby([\"PUBLICATION_DATE\", \"DATE_OF_FILING\"])[\"FILLING_YEAR\"].sum().reset_index()\n",
    "df_Date[\"PUBLICATION_DATE\"]=pd.to_datetime(df_Date[\"PUBLICATION_DATE\"], format='%d/%m/%Y')\n",
    "df_Date[\"DATE_OF_FILING\"]=pd.to_datetime(df_Date[\"DATE_OF_FILING\"], format='%d/%m/%Y')\n",
    "df_Date.head()"
   ]
  },
  {
   "cell_type": "code",
   "execution_count": 136,
   "id": "54b7ce2d-02fb-459f-b4bb-4fcee1b8c9aa",
   "metadata": {},
   "outputs": [
    {
     "data": {
      "image/png": "[encoded data removed]",
      "text/plain": [
       "<Figure size 640x480 with 1 Axes>"
      ]
     },
     "metadata": {},
     "output_type": "display_data"
    }
   ],
   "source": [
    "df_Date.plot(kind=\"scatter\", x=\"PUBLICATION_DATE\", y=\"DATE_OF_FILING\")\n",
    "plt.show()"
   ]
  },
  {
   "cell_type": "markdown",
   "id": "804af221-93dd-4345-b5d3-aa6dd5cac6c7",
   "metadata": {},
   "source": [
    "We can see a linear relationship between the Date of Filing and Publication Date. We can say that it takes 7 years since the year of filling to publish the patent"
   ]
  },
  {
   "cell_type": "code",
   "execution_count": 144,
   "id": "4920773a-91ee-476c-a6c6-85b6ab890078",
   "metadata": {},
   "outputs": [
    {
     "data": {
      "text/html": [
       "<div>\n",
       "<style scoped>\n",
       "    .dataframe tbody tr th:only-of-type {\n",
       "        vertical-align: middle;\n",
       "    }\n",
       "\n",
       "    .dataframe tbody tr th {\n",
       "        vertical-align: top;\n",
       "    }\n",
       "\n",
       "    .dataframe thead th {\n",
       "        text-align: right;\n",
       "    }\n",
       "</style>\n",
       "<table border=\"1\" class=\"dataframe\">\n",
       "  <thead>\n",
       "    <tr style=\"text-align: right;\">\n",
       "      <th></th>\n",
       "      <th>PUBLICATION_DATE</th>\n",
       "      <th>DATE_OF_FILING</th>\n",
       "    </tr>\n",
       "  </thead>\n",
       "  <tbody>\n",
       "    <tr>\n",
       "      <th>PUBLICATION_DATE</th>\n",
       "      <td>1.000000</td>\n",
       "      <td>0.828922</td>\n",
       "    </tr>\n",
       "    <tr>\n",
       "      <th>DATE_OF_FILING</th>\n",
       "      <td>0.828922</td>\n",
       "      <td>1.000000</td>\n",
       "    </tr>\n",
       "  </tbody>\n",
       "</table>\n",
       "</div>"
      ],
      "text/plain": [
       "                  PUBLICATION_DATE  DATE_OF_FILING\n",
       "PUBLICATION_DATE          1.000000        0.828922\n",
       "DATE_OF_FILING            0.828922        1.000000"
      ]
     },
     "execution_count": 144,
     "metadata": {},
     "output_type": "execute_result"
    }
   ],
   "source": [
    "df_Date[[\"PUBLICATION_DATE\", \"DATE_OF_FILING\"]].corr()"
   ]
  },
  {
   "cell_type": "markdown",
   "id": "41d5504e-d668-40ba-990f-3ce5c726d696",
   "metadata": {},
   "source": [
    "Based on the correlation we can see that the columns share strong linear correlation"
   ]
  },
  {
   "cell_type": "markdown",
   "id": "cb434844-851a-474a-929d-5420286a2034",
   "metadata": {},
   "source": [
    "We will do the last and final analyzation which is to find a basic summary statistics of the of the column number of pages"
   ]
  },
  {
   "cell_type": "code",
   "execution_count": 150,
   "id": "ae6a634b-df3f-46fa-96b6-3e2abbb98bce",
   "metadata": {},
   "outputs": [
    {
     "data": {
      "text/html": [
       "<div>\n",
       "<style scoped>\n",
       "    .dataframe tbody tr th:only-of-type {\n",
       "        vertical-align: middle;\n",
       "    }\n",
       "\n",
       "    .dataframe tbody tr th {\n",
       "        vertical-align: top;\n",
       "    }\n",
       "\n",
       "    .dataframe thead th {\n",
       "        text-align: right;\n",
       "    }\n",
       "</style>\n",
       "<table border=\"1\" class=\"dataframe\">\n",
       "  <thead>\n",
       "    <tr style=\"text-align: right;\">\n",
       "      <th></th>\n",
       "      <th>PUBLICATION_NUMBER</th>\n",
       "      <th>PUBLICATION_DATE</th>\n",
       "      <th>APPLICATION_TYPE_DESC</th>\n",
       "      <th>APPLICATION_NUMBER</th>\n",
       "      <th>DATE_OF_FILING</th>\n",
       "      <th>TITLE_OF_INVENTION</th>\n",
       "      <th>NO_OF_PAGES</th>\n",
       "      <th>NO_OF_CLAIMS</th>\n",
       "      <th>FILLING_YEAR</th>\n",
       "    </tr>\n",
       "  </thead>\n",
       "  <tbody>\n",
       "    <tr>\n",
       "      <th>0</th>\n",
       "      <td>01/2016</td>\n",
       "      <td>01/01/2016</td>\n",
       "      <td>PCT NATIONAL PHASE APPLICATION</td>\n",
       "      <td>3298/KOLNP/2009</td>\n",
       "      <td>2009-09-16</td>\n",
       "      <td>LIQUID CRYSTAL DISPLAY DEVICE</td>\n",
       "      <td>122</td>\n",
       "      <td>33</td>\n",
       "      <td>2009</td>\n",
       "    </tr>\n",
       "    <tr>\n",
       "      <th>1</th>\n",
       "      <td>10/2016</td>\n",
       "      <td>04/03/2016</td>\n",
       "      <td>PCT NATIONAL PHASE APPLICATION</td>\n",
       "      <td>3420/KOLNP/2009</td>\n",
       "      <td>2009-10-01</td>\n",
       "      <td>METHOD AND DEVICE FOR TESTING VALUE DOCUMENTS</td>\n",
       "      <td>18</td>\n",
       "      <td>24</td>\n",
       "      <td>2009</td>\n",
       "    </tr>\n",
       "    <tr>\n",
       "      <th>2</th>\n",
       "      <td>10/2016</td>\n",
       "      <td>04/03/2016</td>\n",
       "      <td>PCT NATIONAL PHASE APPLICATION</td>\n",
       "      <td>763/KOLNP/2010</td>\n",
       "      <td>2010-03-01</td>\n",
       "      <td>CALIBRATABLE MULTIDIMENSIONAL MAGNETIC POINT S...</td>\n",
       "      <td>48</td>\n",
       "      <td>27</td>\n",
       "      <td>2010</td>\n",
       "    </tr>\n",
       "  </tbody>\n",
       "</table>\n",
       "</div>"
      ],
      "text/plain": [
       "  PUBLICATION_NUMBER PUBLICATION_DATE           APPLICATION_TYPE_DESC  \\\n",
       "0            01/2016       01/01/2016  PCT NATIONAL PHASE APPLICATION   \n",
       "1            10/2016       04/03/2016  PCT NATIONAL PHASE APPLICATION   \n",
       "2            10/2016       04/03/2016  PCT NATIONAL PHASE APPLICATION   \n",
       "\n",
       "  APPLICATION_NUMBER DATE_OF_FILING  \\\n",
       "0    3298/KOLNP/2009     2009-09-16   \n",
       "1    3420/KOLNP/2009     2009-10-01   \n",
       "2     763/KOLNP/2010     2010-03-01   \n",
       "\n",
       "                                  TITLE_OF_INVENTION  NO_OF_PAGES  \\\n",
       "0                      LIQUID CRYSTAL DISPLAY DEVICE          122   \n",
       "1      METHOD AND DEVICE FOR TESTING VALUE DOCUMENTS           18   \n",
       "2  CALIBRATABLE MULTIDIMENSIONAL MAGNETIC POINT S...           48   \n",
       "\n",
       "   NO_OF_CLAIMS  FILLING_YEAR  \n",
       "0            33          2009  \n",
       "1            24          2009  \n",
       "2            27          2010  "
      ]
     },
     "execution_count": 150,
     "metadata": {},
     "output_type": "execute_result"
    }
   ],
   "source": [
    "df_main.head(3)"
   ]
  },
  {
   "cell_type": "code",
   "execution_count": 158,
   "id": "7b84fd0f-5de0-40d8-80fe-88ae2d6a7e10",
   "metadata": {},
   "outputs": [
    {
     "name": "stdout",
     "output_type": "stream",
     "text": [
      "Mean is: 40.02108108108108\n",
      "Median is: 27.0\n",
      "Mode is: 0    21\n",
      "Name: NO_OF_PAGES, dtype: int64\n",
      "Total pages: 74039\n"
     ]
    }
   ],
   "source": [
    "a=df_main[\"NO_OF_PAGES\"].mean()\n",
    "print(\"Mean is:\",a)\n",
    "b=df_main[\"NO_OF_PAGES\"].median()\n",
    "print(\"Median is:\",b)\n",
    "c=df_main[\"NO_OF_PAGES\"].mode()\n",
    "print(\"Mode is:\",c)\n",
    "d=df_main[\"NO_OF_PAGES\"].sum()\n",
    "print(\"Total pages:\", d)"
   ]
  },
  {
   "cell_type": "code",
   "execution_count": 160,
   "id": "8445b1a9-799d-4863-9f28-afac56cab719",
   "metadata": {},
   "outputs": [
    {
     "data": {
      "text/html": [
       "<div>\n",
       "<style scoped>\n",
       "    .dataframe tbody tr th:only-of-type {\n",
       "        vertical-align: middle;\n",
       "    }\n",
       "\n",
       "    .dataframe tbody tr th {\n",
       "        vertical-align: top;\n",
       "    }\n",
       "\n",
       "    .dataframe thead th {\n",
       "        text-align: right;\n",
       "    }\n",
       "</style>\n",
       "<table border=\"1\" class=\"dataframe\">\n",
       "  <thead>\n",
       "    <tr style=\"text-align: right;\">\n",
       "      <th></th>\n",
       "      <th>APPLICATION_TYPE_DESC</th>\n",
       "      <th>NO_OF_PAGES</th>\n",
       "    </tr>\n",
       "  </thead>\n",
       "  <tbody>\n",
       "    <tr>\n",
       "      <th>0</th>\n",
       "      <td>CONVENTION APPLICATION</td>\n",
       "      <td>24176</td>\n",
       "    </tr>\n",
       "    <tr>\n",
       "      <th>1</th>\n",
       "      <td>DIVISIONAL CONVENTION APPLICATION</td>\n",
       "      <td>181</td>\n",
       "    </tr>\n",
       "    <tr>\n",
       "      <th>2</th>\n",
       "      <td>DIVISIONAL PCT NATIONAL PHASE APPLICATION</td>\n",
       "      <td>923</td>\n",
       "    </tr>\n",
       "  </tbody>\n",
       "</table>\n",
       "</div>"
      ],
      "text/plain": [
       "                       APPLICATION_TYPE_DESC  NO_OF_PAGES\n",
       "0                     CONVENTION APPLICATION        24176\n",
       "1          DIVISIONAL CONVENTION APPLICATION          181\n",
       "2  DIVISIONAL PCT NATIONAL PHASE APPLICATION          923"
      ]
     },
     "execution_count": 160,
     "metadata": {},
     "output_type": "execute_result"
    }
   ],
   "source": [
    "df_PU=df_main.groupby(\"APPLICATION_TYPE_DESC\")[\"NO_OF_PAGES\"].sum().reset_index()\n",
    "df_PU.head(3)"
   ]
  },
  {
   "cell_type": "code",
   "execution_count": 168,
   "id": "4b4dfc85-4e69-4fc1-9408-b8118e03e9de",
   "metadata": {},
   "outputs": [
    {
     "data": {
      "image/png": "[encoded data removed]",
      "text/plain": [
       "<Figure size 640x480 with 1 Axes>"
      ]
     },
     "metadata": {},
     "output_type": "display_data"
    }
   ],
   "source": [
    "df_PU.plot(kind=\"bar\", x=\"APPLICATION_TYPE_DESC\", y=\"NO_OF_PAGES\")\n",
    "#plt.xticks(rotation=45)\n",
    "plt.title(\"Pages according to Publication type\")\n",
    "plt.show()"
   ]
  },
  {
   "cell_type": "code",
   "execution_count": null,
   "id": "7e9ab9ac-63df-49a7-acb6-1ce94549c75d",
   "metadata": {},
   "outputs": [],
   "source": []
  }
 ],
 "metadata": {
  "kernelspec": {
   "display_name": "Python [conda env:base] *",
   "language": "python",
   "name": "conda-base-py"
  },
  "language_info": {
   "codemirror_mode": {
    "name": "ipython",
    "version": 3
   },
   "file_extension": ".py",
   "mimetype": "text/x-python",
   "name": "python",
   "nbconvert_exporter": "python",
   "pygments_lexer": "ipython3",
   "version": "3.12.7"
  }
 },
 "nbformat": 4,
 "nbformat_minor": 5
}
