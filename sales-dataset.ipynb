{
 "cells": [
  {
   "cell_type": "code",
   "execution_count": 1,
   "id": "30a5f3b8",
   "metadata": {
    "_cell_guid": "b1076dfc-b9ad-4769-8c92-a6c4dae69d19",
    "_uuid": "8f2839f25d086af736a60e9eeb907d3b93b6e0e5",
    "execution": {
     "iopub.execute_input": "2025-02-14T21:29:05.550733Z",
     "iopub.status.busy": "2025-02-14T21:29:05.550247Z",
     "iopub.status.idle": "2025-02-14T21:29:06.418116Z",
     "shell.execute_reply": "2025-02-14T21:29:06.416944Z"
    },
    "papermill": {
     "duration": 0.877754,
     "end_time": "2025-02-14T21:29:06.419943",
     "exception": false,
     "start_time": "2025-02-14T21:29:05.542189",
     "status": "completed"
    },
    "tags": []
   },
   "outputs": [
    {
     "name": "stdout",
     "output_type": "stream",
     "text": [
      "/kaggle/input/sales-forecasting/train.csv\n"
     ]
    }
   ],
   "source": [
    "# This Python 3 environment comes with many helpful analytics libraries installed\n",
    "# It is defined by the kaggle/python Docker image: https://github.com/kaggle/docker-python\n",
    "# For example, here's several helpful packages to load\n",
    "\n",
    "import numpy as np # linear algebra\n",
    "import pandas as pd # data processing, CSV file I/O (e.g. pd.read_csv)\n",
    "\n",
    "# Input data files are available in the read-only \"../input/\" directory\n",
    "# For example, running this (by clicking run or pressing Shift+Enter) will list all files under the input directory\n",
    "\n",
    "import os\n",
    "for dirname, _, filenames in os.walk('/kaggle/input'):\n",
    "    for filename in filenames:\n",
    "        print(os.path.join(dirname, filename))\n",
    "\n",
    "# You can write up to 20GB to the current directory (/kaggle/working/) that gets preserved as output when you create a version using \"Save & Run All\" \n",
    "# You can also write temporary files to /kaggle/temp/, but they won't be saved outside of the current session"
   ]
  },
  {
   "cell_type": "markdown",
   "id": "a6227b61",
   "metadata": {
    "papermill": {
     "duration": 0.005734,
     "end_time": "2025-02-14T21:29:06.432257",
     "exception": false,
     "start_time": "2025-02-14T21:29:06.426523",
     "status": "completed"
    },
    "tags": []
   },
   "source": [
    "1.** Viewing the dataset.**"
   ]
  },
  {
   "cell_type": "markdown",
   "id": "38ff87d4",
   "metadata": {
    "papermill": {
     "duration": 0.005607,
     "end_time": "2025-02-14T21:29:06.443926",
     "exception": false,
     "start_time": "2025-02-14T21:29:06.438319",
     "status": "completed"
    },
    "tags": []
   },
   "source": []
  },
  {
   "cell_type": "code",
   "execution_count": 2,
   "id": "c607509a",
   "metadata": {
    "execution": {
     "iopub.execute_input": "2025-02-14T21:29:06.457365Z",
     "iopub.status.busy": "2025-02-14T21:29:06.456803Z",
     "iopub.status.idle": "2025-02-14T21:29:06.551986Z",
     "shell.execute_reply": "2025-02-14T21:29:06.550894Z"
    },
    "papermill": {
     "duration": 0.104068,
     "end_time": "2025-02-14T21:29:06.554033",
     "exception": false,
     "start_time": "2025-02-14T21:29:06.449965",
     "status": "completed"
    },
    "tags": []
   },
   "outputs": [],
   "source": [
    "df = pd.read_csv('/kaggle/input/sales-forecasting/train.csv')\n"
   ]
  },
  {
   "cell_type": "code",
   "execution_count": 3,
   "id": "6791c865",
   "metadata": {
    "execution": {
     "iopub.execute_input": "2025-02-14T21:29:06.567564Z",
     "iopub.status.busy": "2025-02-14T21:29:06.567195Z",
     "iopub.status.idle": "2025-02-14T21:29:06.597736Z",
     "shell.execute_reply": "2025-02-14T21:29:06.596489Z"
    },
    "papermill": {
     "duration": 0.039462,
     "end_time": "2025-02-14T21:29:06.599851",
     "exception": false,
     "start_time": "2025-02-14T21:29:06.560389",
     "status": "completed"
    },
    "tags": []
   },
   "outputs": [
    {
     "data": {
      "text/html": [
       "<div>\n",
       "<style scoped>\n",
       "    .dataframe tbody tr th:only-of-type {\n",
       "        vertical-align: middle;\n",
       "    }\n",
       "\n",
       "    .dataframe tbody tr th {\n",
       "        vertical-align: top;\n",
       "    }\n",
       "\n",
       "    .dataframe thead th {\n",
       "        text-align: right;\n",
       "    }\n",
       "</style>\n",
       "<table border=\"1\" class=\"dataframe\">\n",
       "  <thead>\n",
       "    <tr style=\"text-align: right;\">\n",
       "      <th></th>\n",
       "      <th>Row ID</th>\n",
       "      <th>Order ID</th>\n",
       "      <th>Order Date</th>\n",
       "      <th>Ship Date</th>\n",
       "      <th>Ship Mode</th>\n",
       "      <th>Customer ID</th>\n",
       "      <th>Customer Name</th>\n",
       "      <th>Segment</th>\n",
       "      <th>Country</th>\n",
       "      <th>City</th>\n",
       "      <th>State</th>\n",
       "      <th>Postal Code</th>\n",
       "      <th>Region</th>\n",
       "      <th>Product ID</th>\n",
       "      <th>Category</th>\n",
       "      <th>Sub-Category</th>\n",
       "      <th>Product Name</th>\n",
       "      <th>Sales</th>\n",
       "    </tr>\n",
       "  </thead>\n",
       "  <tbody>\n",
       "    <tr>\n",
       "      <th>0</th>\n",
       "      <td>1</td>\n",
       "      <td>CA-2017-152156</td>\n",
       "      <td>08/11/2017</td>\n",
       "      <td>11/11/2017</td>\n",
       "      <td>Second Class</td>\n",
       "      <td>CG-12520</td>\n",
       "      <td>Claire Gute</td>\n",
       "      <td>Consumer</td>\n",
       "      <td>United States</td>\n",
       "      <td>Henderson</td>\n",
       "      <td>Kentucky</td>\n",
       "      <td>42420.0</td>\n",
       "      <td>South</td>\n",
       "      <td>FUR-BO-10001798</td>\n",
       "      <td>Furniture</td>\n",
       "      <td>Bookcases</td>\n",
       "      <td>Bush Somerset Collection Bookcase</td>\n",
       "      <td>261.96</td>\n",
       "    </tr>\n",
       "    <tr>\n",
       "      <th>1</th>\n",
       "      <td>2</td>\n",
       "      <td>CA-2017-152156</td>\n",
       "      <td>08/11/2017</td>\n",
       "      <td>11/11/2017</td>\n",
       "      <td>Second Class</td>\n",
       "      <td>CG-12520</td>\n",
       "      <td>Claire Gute</td>\n",
       "      <td>Consumer</td>\n",
       "      <td>United States</td>\n",
       "      <td>Henderson</td>\n",
       "      <td>Kentucky</td>\n",
       "      <td>42420.0</td>\n",
       "      <td>South</td>\n",
       "      <td>FUR-CH-10000454</td>\n",
       "      <td>Furniture</td>\n",
       "      <td>Chairs</td>\n",
       "      <td>Hon Deluxe Fabric Upholstered Stacking Chairs,...</td>\n",
       "      <td>731.94</td>\n",
       "    </tr>\n",
       "  </tbody>\n",
       "</table>\n",
       "</div>"
      ],
      "text/plain": [
       "   Row ID        Order ID  Order Date   Ship Date     Ship Mode Customer ID  \\\n",
       "0       1  CA-2017-152156  08/11/2017  11/11/2017  Second Class    CG-12520   \n",
       "1       2  CA-2017-152156  08/11/2017  11/11/2017  Second Class    CG-12520   \n",
       "\n",
       "  Customer Name   Segment        Country       City     State  Postal Code  \\\n",
       "0   Claire Gute  Consumer  United States  Henderson  Kentucky      42420.0   \n",
       "1   Claire Gute  Consumer  United States  Henderson  Kentucky      42420.0   \n",
       "\n",
       "  Region       Product ID   Category Sub-Category  \\\n",
       "0  South  FUR-BO-10001798  Furniture    Bookcases   \n",
       "1  South  FUR-CH-10000454  Furniture       Chairs   \n",
       "\n",
       "                                        Product Name   Sales  \n",
       "0                  Bush Somerset Collection Bookcase  261.96  \n",
       "1  Hon Deluxe Fabric Upholstered Stacking Chairs,...  731.94  "
      ]
     },
     "execution_count": 3,
     "metadata": {},
     "output_type": "execute_result"
    }
   ],
   "source": [
    "df.head(2)"
   ]
  },
  {
   "cell_type": "code",
   "execution_count": 4,
   "id": "f92eb733",
   "metadata": {
    "execution": {
     "iopub.execute_input": "2025-02-14T21:29:06.613896Z",
     "iopub.status.busy": "2025-02-14T21:29:06.613501Z",
     "iopub.status.idle": "2025-02-14T21:29:06.619445Z",
     "shell.execute_reply": "2025-02-14T21:29:06.618407Z"
    },
    "papermill": {
     "duration": 0.014758,
     "end_time": "2025-02-14T21:29:06.621115",
     "exception": false,
     "start_time": "2025-02-14T21:29:06.606357",
     "status": "completed"
    },
    "tags": []
   },
   "outputs": [
    {
     "data": {
      "text/plain": [
       "Index(['Row ID', 'Order ID', 'Order Date', 'Ship Date', 'Ship Mode',\n",
       "       'Customer ID', 'Customer Name', 'Segment', 'Country', 'City', 'State',\n",
       "       'Postal Code', 'Region', 'Product ID', 'Category', 'Sub-Category',\n",
       "       'Product Name', 'Sales'],\n",
       "      dtype='object')"
      ]
     },
     "execution_count": 4,
     "metadata": {},
     "output_type": "execute_result"
    }
   ],
   "source": [
    "df.columns"
   ]
  },
  {
   "cell_type": "code",
   "execution_count": 5,
   "id": "1b08c2bc",
   "metadata": {
    "execution": {
     "iopub.execute_input": "2025-02-14T21:29:06.635205Z",
     "iopub.status.busy": "2025-02-14T21:29:06.634778Z",
     "iopub.status.idle": "2025-02-14T21:29:06.642504Z",
     "shell.execute_reply": "2025-02-14T21:29:06.641332Z"
    },
    "papermill": {
     "duration": 0.016697,
     "end_time": "2025-02-14T21:29:06.644273",
     "exception": false,
     "start_time": "2025-02-14T21:29:06.627576",
     "status": "completed"
    },
    "tags": []
   },
   "outputs": [],
   "source": [
    "#Setting up row ID as the index\n",
    "df.set_index(\"Row ID\", inplace=True)"
   ]
  },
  {
   "cell_type": "code",
   "execution_count": 6,
   "id": "c9085a01",
   "metadata": {
    "execution": {
     "iopub.execute_input": "2025-02-14T21:29:06.658491Z",
     "iopub.status.busy": "2025-02-14T21:29:06.658055Z",
     "iopub.status.idle": "2025-02-14T21:29:06.674934Z",
     "shell.execute_reply": "2025-02-14T21:29:06.673914Z"
    },
    "papermill": {
     "duration": 0.025884,
     "end_time": "2025-02-14T21:29:06.676626",
     "exception": false,
     "start_time": "2025-02-14T21:29:06.650742",
     "status": "completed"
    },
    "tags": []
   },
   "outputs": [
    {
     "data": {
      "text/html": [
       "<div>\n",
       "<style scoped>\n",
       "    .dataframe tbody tr th:only-of-type {\n",
       "        vertical-align: middle;\n",
       "    }\n",
       "\n",
       "    .dataframe tbody tr th {\n",
       "        vertical-align: top;\n",
       "    }\n",
       "\n",
       "    .dataframe thead th {\n",
       "        text-align: right;\n",
       "    }\n",
       "</style>\n",
       "<table border=\"1\" class=\"dataframe\">\n",
       "  <thead>\n",
       "    <tr style=\"text-align: right;\">\n",
       "      <th></th>\n",
       "      <th>Order ID</th>\n",
       "      <th>Order Date</th>\n",
       "      <th>Ship Date</th>\n",
       "      <th>Ship Mode</th>\n",
       "      <th>Customer ID</th>\n",
       "      <th>Customer Name</th>\n",
       "      <th>Segment</th>\n",
       "      <th>Country</th>\n",
       "      <th>City</th>\n",
       "      <th>State</th>\n",
       "      <th>Postal Code</th>\n",
       "      <th>Region</th>\n",
       "      <th>Product ID</th>\n",
       "      <th>Category</th>\n",
       "      <th>Sub-Category</th>\n",
       "      <th>Product Name</th>\n",
       "      <th>Sales</th>\n",
       "    </tr>\n",
       "    <tr>\n",
       "      <th>Row ID</th>\n",
       "      <th></th>\n",
       "      <th></th>\n",
       "      <th></th>\n",
       "      <th></th>\n",
       "      <th></th>\n",
       "      <th></th>\n",
       "      <th></th>\n",
       "      <th></th>\n",
       "      <th></th>\n",
       "      <th></th>\n",
       "      <th></th>\n",
       "      <th></th>\n",
       "      <th></th>\n",
       "      <th></th>\n",
       "      <th></th>\n",
       "      <th></th>\n",
       "      <th></th>\n",
       "    </tr>\n",
       "  </thead>\n",
       "  <tbody>\n",
       "    <tr>\n",
       "      <th>1</th>\n",
       "      <td>CA-2017-152156</td>\n",
       "      <td>08/11/2017</td>\n",
       "      <td>11/11/2017</td>\n",
       "      <td>Second Class</td>\n",
       "      <td>CG-12520</td>\n",
       "      <td>Claire Gute</td>\n",
       "      <td>Consumer</td>\n",
       "      <td>United States</td>\n",
       "      <td>Henderson</td>\n",
       "      <td>Kentucky</td>\n",
       "      <td>42420.0</td>\n",
       "      <td>South</td>\n",
       "      <td>FUR-BO-10001798</td>\n",
       "      <td>Furniture</td>\n",
       "      <td>Bookcases</td>\n",
       "      <td>Bush Somerset Collection Bookcase</td>\n",
       "      <td>261.96</td>\n",
       "    </tr>\n",
       "    <tr>\n",
       "      <th>2</th>\n",
       "      <td>CA-2017-152156</td>\n",
       "      <td>08/11/2017</td>\n",
       "      <td>11/11/2017</td>\n",
       "      <td>Second Class</td>\n",
       "      <td>CG-12520</td>\n",
       "      <td>Claire Gute</td>\n",
       "      <td>Consumer</td>\n",
       "      <td>United States</td>\n",
       "      <td>Henderson</td>\n",
       "      <td>Kentucky</td>\n",
       "      <td>42420.0</td>\n",
       "      <td>South</td>\n",
       "      <td>FUR-CH-10000454</td>\n",
       "      <td>Furniture</td>\n",
       "      <td>Chairs</td>\n",
       "      <td>Hon Deluxe Fabric Upholstered Stacking Chairs,...</td>\n",
       "      <td>731.94</td>\n",
       "    </tr>\n",
       "  </tbody>\n",
       "</table>\n",
       "</div>"
      ],
      "text/plain": [
       "              Order ID  Order Date   Ship Date     Ship Mode Customer ID  \\\n",
       "Row ID                                                                     \n",
       "1       CA-2017-152156  08/11/2017  11/11/2017  Second Class    CG-12520   \n",
       "2       CA-2017-152156  08/11/2017  11/11/2017  Second Class    CG-12520   \n",
       "\n",
       "       Customer Name   Segment        Country       City     State  \\\n",
       "Row ID                                                               \n",
       "1        Claire Gute  Consumer  United States  Henderson  Kentucky   \n",
       "2        Claire Gute  Consumer  United States  Henderson  Kentucky   \n",
       "\n",
       "        Postal Code Region       Product ID   Category Sub-Category  \\\n",
       "Row ID                                                                \n",
       "1           42420.0  South  FUR-BO-10001798  Furniture    Bookcases   \n",
       "2           42420.0  South  FUR-CH-10000454  Furniture       Chairs   \n",
       "\n",
       "                                             Product Name   Sales  \n",
       "Row ID                                                             \n",
       "1                       Bush Somerset Collection Bookcase  261.96  \n",
       "2       Hon Deluxe Fabric Upholstered Stacking Chairs,...  731.94  "
      ]
     },
     "execution_count": 6,
     "metadata": {},
     "output_type": "execute_result"
    }
   ],
   "source": [
    "df.head(2)"
   ]
  },
  {
   "cell_type": "code",
   "execution_count": 7,
   "id": "43c147eb",
   "metadata": {
    "execution": {
     "iopub.execute_input": "2025-02-14T21:29:06.691067Z",
     "iopub.status.busy": "2025-02-14T21:29:06.690677Z",
     "iopub.status.idle": "2025-02-14T21:29:06.707754Z",
     "shell.execute_reply": "2025-02-14T21:29:06.706639Z"
    },
    "papermill": {
     "duration": 0.026671,
     "end_time": "2025-02-14T21:29:06.709962",
     "exception": false,
     "start_time": "2025-02-14T21:29:06.683291",
     "status": "completed"
    },
    "tags": []
   },
   "outputs": [
    {
     "data": {
      "text/plain": [
       "Order ID          0\n",
       "Order Date        0\n",
       "Ship Date         0\n",
       "Ship Mode         0\n",
       "Customer ID       0\n",
       "Customer Name     0\n",
       "Segment           0\n",
       "Country           0\n",
       "City              0\n",
       "State             0\n",
       "Postal Code      11\n",
       "Region            0\n",
       "Product ID        0\n",
       "Category          0\n",
       "Sub-Category      0\n",
       "Product Name      0\n",
       "Sales             0\n",
       "dtype: int64"
      ]
     },
     "execution_count": 7,
     "metadata": {},
     "output_type": "execute_result"
    }
   ],
   "source": [
    "#To find out the null values\n",
    "df.isnull().sum()"
   ]
  },
  {
   "cell_type": "code",
   "execution_count": 8,
   "id": "8144dc6f",
   "metadata": {
    "execution": {
     "iopub.execute_input": "2025-02-14T21:29:06.724525Z",
     "iopub.status.busy": "2025-02-14T21:29:06.724116Z",
     "iopub.status.idle": "2025-02-14T21:29:06.729893Z",
     "shell.execute_reply": "2025-02-14T21:29:06.729025Z"
    },
    "papermill": {
     "duration": 0.014851,
     "end_time": "2025-02-14T21:29:06.731595",
     "exception": false,
     "start_time": "2025-02-14T21:29:06.716744",
     "status": "completed"
    },
    "tags": []
   },
   "outputs": [],
   "source": [
    "df[\"Postal Code\"]=df[\"Postal Code\"].fillna(df[\"Postal Code\"]).mean()"
   ]
  },
  {
   "cell_type": "code",
   "execution_count": 9,
   "id": "919e5705",
   "metadata": {
    "execution": {
     "iopub.execute_input": "2025-02-14T21:29:06.746176Z",
     "iopub.status.busy": "2025-02-14T21:29:06.745780Z",
     "iopub.status.idle": "2025-02-14T21:29:06.761842Z",
     "shell.execute_reply": "2025-02-14T21:29:06.760712Z"
    },
    "papermill": {
     "duration": 0.025276,
     "end_time": "2025-02-14T21:29:06.763598",
     "exception": false,
     "start_time": "2025-02-14T21:29:06.738322",
     "status": "completed"
    },
    "tags": []
   },
   "outputs": [
    {
     "data": {
      "text/plain": [
       "Order ID         0\n",
       "Order Date       0\n",
       "Ship Date        0\n",
       "Ship Mode        0\n",
       "Customer ID      0\n",
       "Customer Name    0\n",
       "Segment          0\n",
       "Country          0\n",
       "City             0\n",
       "State            0\n",
       "Postal Code      0\n",
       "Region           0\n",
       "Product ID       0\n",
       "Category         0\n",
       "Sub-Category     0\n",
       "Product Name     0\n",
       "Sales            0\n",
       "dtype: int64"
      ]
     },
     "execution_count": 9,
     "metadata": {},
     "output_type": "execute_result"
    }
   ],
   "source": [
    "df.isnull().sum()"
   ]
  },
  {
   "cell_type": "code",
   "execution_count": 10,
   "id": "6c6e4d2b",
   "metadata": {
    "execution": {
     "iopub.execute_input": "2025-02-14T21:29:06.778852Z",
     "iopub.status.busy": "2025-02-14T21:29:06.778469Z",
     "iopub.status.idle": "2025-02-14T21:29:06.785152Z",
     "shell.execute_reply": "2025-02-14T21:29:06.784206Z"
    },
    "papermill": {
     "duration": 0.01621,
     "end_time": "2025-02-14T21:29:06.786674",
     "exception": false,
     "start_time": "2025-02-14T21:29:06.770464",
     "status": "completed"
    },
    "tags": []
   },
   "outputs": [
    {
     "data": {
      "text/plain": [
       "Order ID          object\n",
       "Order Date        object\n",
       "Ship Date         object\n",
       "Ship Mode         object\n",
       "Customer ID       object\n",
       "Customer Name     object\n",
       "Segment           object\n",
       "Country           object\n",
       "City              object\n",
       "State             object\n",
       "Postal Code      float64\n",
       "Region            object\n",
       "Product ID        object\n",
       "Category          object\n",
       "Sub-Category      object\n",
       "Product Name      object\n",
       "Sales            float64\n",
       "dtype: object"
      ]
     },
     "execution_count": 10,
     "metadata": {},
     "output_type": "execute_result"
    }
   ],
   "source": [
    "df.dtypes"
   ]
  },
  {
   "cell_type": "code",
   "execution_count": 11,
   "id": "b63fa82a",
   "metadata": {
    "execution": {
     "iopub.execute_input": "2025-02-14T21:29:06.801917Z",
     "iopub.status.busy": "2025-02-14T21:29:06.801523Z",
     "iopub.status.idle": "2025-02-14T21:29:06.808799Z",
     "shell.execute_reply": "2025-02-14T21:29:06.807628Z"
    },
    "papermill": {
     "duration": 0.016719,
     "end_time": "2025-02-14T21:29:06.810520",
     "exception": false,
     "start_time": "2025-02-14T21:29:06.793801",
     "status": "completed"
    },
    "tags": []
   },
   "outputs": [
    {
     "data": {
      "text/plain": [
       "Order ID          object\n",
       "Order Date        object\n",
       "Ship Date         object\n",
       "Ship Mode         object\n",
       "Customer ID       object\n",
       "Customer Name     object\n",
       "Segment           object\n",
       "Country           object\n",
       "City              object\n",
       "State             object\n",
       "Postal Code      float64\n",
       "Region            object\n",
       "Product ID        object\n",
       "Category          object\n",
       "Sub-Category      object\n",
       "Product Name      object\n",
       "Sales            float64\n",
       "dtype: object"
      ]
     },
     "execution_count": 11,
     "metadata": {},
     "output_type": "execute_result"
    }
   ],
   "source": [
    "df.dtypes\n"
   ]
  },
  {
   "cell_type": "code",
   "execution_count": 12,
   "id": "234d158b",
   "metadata": {
    "execution": {
     "iopub.execute_input": "2025-02-14T21:29:06.825878Z",
     "iopub.status.busy": "2025-02-14T21:29:06.825516Z",
     "iopub.status.idle": "2025-02-14T21:29:06.844909Z",
     "shell.execute_reply": "2025-02-14T21:29:06.843935Z"
    },
    "papermill": {
     "duration": 0.029001,
     "end_time": "2025-02-14T21:29:06.846700",
     "exception": false,
     "start_time": "2025-02-14T21:29:06.817699",
     "status": "completed"
    },
    "tags": []
   },
   "outputs": [],
   "source": [
    "# Add a seperate column year to the table\n",
    "df[\"Order Date\"]=pd.to_datetime(df[\"Order Date\"], format='%d/%m/%Y')\n",
    "df[\"Year\"]=df[\"Order Date\"].dt.year"
   ]
  },
  {
   "cell_type": "code",
   "execution_count": 13,
   "id": "8d7c936d",
   "metadata": {
    "execution": {
     "iopub.execute_input": "2025-02-14T21:29:06.862031Z",
     "iopub.status.busy": "2025-02-14T21:29:06.861645Z",
     "iopub.status.idle": "2025-02-14T21:29:06.878432Z",
     "shell.execute_reply": "2025-02-14T21:29:06.877409Z"
    },
    "papermill": {
     "duration": 0.026341,
     "end_time": "2025-02-14T21:29:06.880077",
     "exception": false,
     "start_time": "2025-02-14T21:29:06.853736",
     "status": "completed"
    },
    "tags": []
   },
   "outputs": [
    {
     "data": {
      "text/html": [
       "<div>\n",
       "<style scoped>\n",
       "    .dataframe tbody tr th:only-of-type {\n",
       "        vertical-align: middle;\n",
       "    }\n",
       "\n",
       "    .dataframe tbody tr th {\n",
       "        vertical-align: top;\n",
       "    }\n",
       "\n",
       "    .dataframe thead th {\n",
       "        text-align: right;\n",
       "    }\n",
       "</style>\n",
       "<table border=\"1\" class=\"dataframe\">\n",
       "  <thead>\n",
       "    <tr style=\"text-align: right;\">\n",
       "      <th></th>\n",
       "      <th>Order ID</th>\n",
       "      <th>Order Date</th>\n",
       "      <th>Ship Date</th>\n",
       "      <th>Ship Mode</th>\n",
       "      <th>Customer ID</th>\n",
       "      <th>Customer Name</th>\n",
       "      <th>Segment</th>\n",
       "      <th>Country</th>\n",
       "      <th>City</th>\n",
       "      <th>State</th>\n",
       "      <th>Postal Code</th>\n",
       "      <th>Region</th>\n",
       "      <th>Product ID</th>\n",
       "      <th>Category</th>\n",
       "      <th>Sub-Category</th>\n",
       "      <th>Product Name</th>\n",
       "      <th>Sales</th>\n",
       "      <th>Year</th>\n",
       "    </tr>\n",
       "    <tr>\n",
       "      <th>Row ID</th>\n",
       "      <th></th>\n",
       "      <th></th>\n",
       "      <th></th>\n",
       "      <th></th>\n",
       "      <th></th>\n",
       "      <th></th>\n",
       "      <th></th>\n",
       "      <th></th>\n",
       "      <th></th>\n",
       "      <th></th>\n",
       "      <th></th>\n",
       "      <th></th>\n",
       "      <th></th>\n",
       "      <th></th>\n",
       "      <th></th>\n",
       "      <th></th>\n",
       "      <th></th>\n",
       "      <th></th>\n",
       "    </tr>\n",
       "  </thead>\n",
       "  <tbody>\n",
       "    <tr>\n",
       "      <th>1</th>\n",
       "      <td>CA-2017-152156</td>\n",
       "      <td>2017-11-08</td>\n",
       "      <td>11/11/2017</td>\n",
       "      <td>Second Class</td>\n",
       "      <td>CG-12520</td>\n",
       "      <td>Claire Gute</td>\n",
       "      <td>Consumer</td>\n",
       "      <td>United States</td>\n",
       "      <td>Henderson</td>\n",
       "      <td>Kentucky</td>\n",
       "      <td>55273.322403</td>\n",
       "      <td>South</td>\n",
       "      <td>FUR-BO-10001798</td>\n",
       "      <td>Furniture</td>\n",
       "      <td>Bookcases</td>\n",
       "      <td>Bush Somerset Collection Bookcase</td>\n",
       "      <td>261.96</td>\n",
       "      <td>2017</td>\n",
       "    </tr>\n",
       "    <tr>\n",
       "      <th>2</th>\n",
       "      <td>CA-2017-152156</td>\n",
       "      <td>2017-11-08</td>\n",
       "      <td>11/11/2017</td>\n",
       "      <td>Second Class</td>\n",
       "      <td>CG-12520</td>\n",
       "      <td>Claire Gute</td>\n",
       "      <td>Consumer</td>\n",
       "      <td>United States</td>\n",
       "      <td>Henderson</td>\n",
       "      <td>Kentucky</td>\n",
       "      <td>55273.322403</td>\n",
       "      <td>South</td>\n",
       "      <td>FUR-CH-10000454</td>\n",
       "      <td>Furniture</td>\n",
       "      <td>Chairs</td>\n",
       "      <td>Hon Deluxe Fabric Upholstered Stacking Chairs,...</td>\n",
       "      <td>731.94</td>\n",
       "      <td>2017</td>\n",
       "    </tr>\n",
       "    <tr>\n",
       "      <th>3</th>\n",
       "      <td>CA-2017-138688</td>\n",
       "      <td>2017-06-12</td>\n",
       "      <td>16/06/2017</td>\n",
       "      <td>Second Class</td>\n",
       "      <td>DV-13045</td>\n",
       "      <td>Darrin Van Huff</td>\n",
       "      <td>Corporate</td>\n",
       "      <td>United States</td>\n",
       "      <td>Los Angeles</td>\n",
       "      <td>California</td>\n",
       "      <td>55273.322403</td>\n",
       "      <td>West</td>\n",
       "      <td>OFF-LA-10000240</td>\n",
       "      <td>Office Supplies</td>\n",
       "      <td>Labels</td>\n",
       "      <td>Self-Adhesive Address Labels for Typewriters b...</td>\n",
       "      <td>14.62</td>\n",
       "      <td>2017</td>\n",
       "    </tr>\n",
       "  </tbody>\n",
       "</table>\n",
       "</div>"
      ],
      "text/plain": [
       "              Order ID Order Date   Ship Date     Ship Mode Customer ID  \\\n",
       "Row ID                                                                    \n",
       "1       CA-2017-152156 2017-11-08  11/11/2017  Second Class    CG-12520   \n",
       "2       CA-2017-152156 2017-11-08  11/11/2017  Second Class    CG-12520   \n",
       "3       CA-2017-138688 2017-06-12  16/06/2017  Second Class    DV-13045   \n",
       "\n",
       "          Customer Name    Segment        Country         City       State  \\\n",
       "Row ID                                                                       \n",
       "1           Claire Gute   Consumer  United States    Henderson    Kentucky   \n",
       "2           Claire Gute   Consumer  United States    Henderson    Kentucky   \n",
       "3       Darrin Van Huff  Corporate  United States  Los Angeles  California   \n",
       "\n",
       "         Postal Code Region       Product ID         Category Sub-Category  \\\n",
       "Row ID                                                                       \n",
       "1       55273.322403  South  FUR-BO-10001798        Furniture    Bookcases   \n",
       "2       55273.322403  South  FUR-CH-10000454        Furniture       Chairs   \n",
       "3       55273.322403   West  OFF-LA-10000240  Office Supplies       Labels   \n",
       "\n",
       "                                             Product Name   Sales  Year  \n",
       "Row ID                                                                   \n",
       "1                       Bush Somerset Collection Bookcase  261.96  2017  \n",
       "2       Hon Deluxe Fabric Upholstered Stacking Chairs,...  731.94  2017  \n",
       "3       Self-Adhesive Address Labels for Typewriters b...   14.62  2017  "
      ]
     },
     "execution_count": 13,
     "metadata": {},
     "output_type": "execute_result"
    }
   ],
   "source": [
    "df.head(3)"
   ]
  },
  {
   "cell_type": "code",
   "execution_count": 14,
   "id": "dc4cd406",
   "metadata": {
    "execution": {
     "iopub.execute_input": "2025-02-14T21:29:06.895667Z",
     "iopub.status.busy": "2025-02-14T21:29:06.895333Z",
     "iopub.status.idle": "2025-02-14T21:29:06.902054Z",
     "shell.execute_reply": "2025-02-14T21:29:06.901178Z"
    },
    "papermill": {
     "duration": 0.016375,
     "end_time": "2025-02-14T21:29:06.903708",
     "exception": false,
     "start_time": "2025-02-14T21:29:06.887333",
     "status": "completed"
    },
    "tags": []
   },
   "outputs": [
    {
     "name": "stdout",
     "output_type": "stream",
     "text": [
      "2018\n",
      "2015\n"
     ]
    }
   ],
   "source": [
    "print(df[\"Year\"].max())\n",
    "print(df[\"Year\"].min())"
   ]
  },
  {
   "cell_type": "code",
   "execution_count": 15,
   "id": "70e4d9d8",
   "metadata": {
    "execution": {
     "iopub.execute_input": "2025-02-14T21:29:06.919653Z",
     "iopub.status.busy": "2025-02-14T21:29:06.919326Z",
     "iopub.status.idle": "2025-02-14T21:29:06.933944Z",
     "shell.execute_reply": "2025-02-14T21:29:06.932772Z"
    },
    "papermill": {
     "duration": 0.024596,
     "end_time": "2025-02-14T21:29:06.935736",
     "exception": false,
     "start_time": "2025-02-14T21:29:06.911140",
     "status": "completed"
    },
    "tags": []
   },
   "outputs": [
    {
     "data": {
      "text/html": [
       "<div>\n",
       "<style scoped>\n",
       "    .dataframe tbody tr th:only-of-type {\n",
       "        vertical-align: middle;\n",
       "    }\n",
       "\n",
       "    .dataframe tbody tr th {\n",
       "        vertical-align: top;\n",
       "    }\n",
       "\n",
       "    .dataframe thead th {\n",
       "        text-align: right;\n",
       "    }\n",
       "</style>\n",
       "<table border=\"1\" class=\"dataframe\">\n",
       "  <thead>\n",
       "    <tr style=\"text-align: right;\">\n",
       "      <th></th>\n",
       "      <th>Year</th>\n",
       "      <th>Sales</th>\n",
       "    </tr>\n",
       "  </thead>\n",
       "  <tbody>\n",
       "    <tr>\n",
       "      <th>0</th>\n",
       "      <td>2015</td>\n",
       "      <td>245.702103</td>\n",
       "    </tr>\n",
       "    <tr>\n",
       "      <th>1</th>\n",
       "      <td>2016</td>\n",
       "      <td>223.569832</td>\n",
       "    </tr>\n",
       "    <tr>\n",
       "      <th>2</th>\n",
       "      <td>2017</td>\n",
       "      <td>236.855781</td>\n",
       "    </tr>\n",
       "    <tr>\n",
       "      <th>3</th>\n",
       "      <td>2018</td>\n",
       "      <td>221.624315</td>\n",
       "    </tr>\n",
       "  </tbody>\n",
       "</table>\n",
       "</div>"
      ],
      "text/plain": [
       "   Year       Sales\n",
       "0  2015  245.702103\n",
       "1  2016  223.569832\n",
       "2  2017  236.855781\n",
       "3  2018  221.624315"
      ]
     },
     "execution_count": 15,
     "metadata": {},
     "output_type": "execute_result"
    }
   ],
   "source": [
    "#Grouping the sales with year and creating it in a new dataframe\n",
    "df_SY=df.groupby(\"Year\")[\"Sales\"].mean().reset_index()\n",
    "df_SY"
   ]
  },
  {
   "cell_type": "code",
   "execution_count": 16,
   "id": "85ca6375",
   "metadata": {
    "execution": {
     "iopub.execute_input": "2025-02-14T21:29:06.952010Z",
     "iopub.status.busy": "2025-02-14T21:29:06.951642Z",
     "iopub.status.idle": "2025-02-14T21:29:08.952455Z",
     "shell.execute_reply": "2025-02-14T21:29:08.951276Z"
    },
    "papermill": {
     "duration": 2.01116,
     "end_time": "2025-02-14T21:29:08.954510",
     "exception": false,
     "start_time": "2025-02-14T21:29:06.943350",
     "status": "completed"
    },
    "tags": []
   },
   "outputs": [
    {
     "data": {
      "text/plain": [
       "Text(0.5, 1.0, 'Sales of Furniture Per year')"
      ]
     },
     "execution_count": 16,
     "metadata": {},
     "output_type": "execute_result"
    },
    {
     "data": {
      "image/png": "[encoded data removed]",
      "text/plain": [
       "<Figure size 640x480 with 1 Axes>"
      ]
     },
     "metadata": {},
     "output_type": "display_data"
    }
   ],
   "source": [
    "\n",
    "#To plot how much sales of furniture are done in per year\n",
    "import seaborn as sns\n",
    "import matplotlib.pyplot as plt\n",
    "sns.barplot(data=df_SY,x=\"Year\",y=\"Sales\", color=\"violet\")\n",
    "plt.xlabel(\"Year\")\n",
    "plt.ylabel(\"Yearly sales\")\n",
    "plt.title(\"Sales of Furniture Per year\")"
   ]
  },
  {
   "cell_type": "code",
   "execution_count": 17,
   "id": "6701bd7e",
   "metadata": {
    "execution": {
     "iopub.execute_input": "2025-02-14T21:29:08.972719Z",
     "iopub.status.busy": "2025-02-14T21:29:08.972204Z",
     "iopub.status.idle": "2025-02-14T21:29:08.985736Z",
     "shell.execute_reply": "2025-02-14T21:29:08.984751Z"
    },
    "papermill": {
     "duration": 0.024619,
     "end_time": "2025-02-14T21:29:08.987525",
     "exception": false,
     "start_time": "2025-02-14T21:29:08.962906",
     "status": "completed"
    },
    "tags": []
   },
   "outputs": [
    {
     "data": {
      "text/html": [
       "<div>\n",
       "<style scoped>\n",
       "    .dataframe tbody tr th:only-of-type {\n",
       "        vertical-align: middle;\n",
       "    }\n",
       "\n",
       "    .dataframe tbody tr th {\n",
       "        vertical-align: top;\n",
       "    }\n",
       "\n",
       "    .dataframe thead th {\n",
       "        text-align: right;\n",
       "    }\n",
       "</style>\n",
       "<table border=\"1\" class=\"dataframe\">\n",
       "  <thead>\n",
       "    <tr style=\"text-align: right;\">\n",
       "      <th></th>\n",
       "      <th>Sub-Category</th>\n",
       "      <th>Sales</th>\n",
       "    </tr>\n",
       "  </thead>\n",
       "  <tbody>\n",
       "    <tr>\n",
       "      <th>0</th>\n",
       "      <td>Accessories</td>\n",
       "      <td>217.178175</td>\n",
       "    </tr>\n",
       "    <tr>\n",
       "      <th>1</th>\n",
       "      <td>Appliances</td>\n",
       "      <td>227.926804</td>\n",
       "    </tr>\n",
       "    <tr>\n",
       "      <th>2</th>\n",
       "      <td>Art</td>\n",
       "      <td>34.019631</td>\n",
       "    </tr>\n",
       "    <tr>\n",
       "      <th>3</th>\n",
       "      <td>Binders</td>\n",
       "      <td>134.067550</td>\n",
       "    </tr>\n",
       "    <tr>\n",
       "      <th>4</th>\n",
       "      <td>Bookcases</td>\n",
       "      <td>503.598224</td>\n",
       "    </tr>\n",
       "    <tr>\n",
       "      <th>5</th>\n",
       "      <td>Chairs</td>\n",
       "      <td>531.833165</td>\n",
       "    </tr>\n",
       "    <tr>\n",
       "      <th>6</th>\n",
       "      <td>Copiers</td>\n",
       "      <td>2215.880212</td>\n",
       "    </tr>\n",
       "    <tr>\n",
       "      <th>7</th>\n",
       "      <td>Envelopes</td>\n",
       "      <td>65.032444</td>\n",
       "    </tr>\n",
       "    <tr>\n",
       "      <th>8</th>\n",
       "      <td>Fasteners</td>\n",
       "      <td>14.027850</td>\n",
       "    </tr>\n",
       "    <tr>\n",
       "      <th>9</th>\n",
       "      <td>Furnishings</td>\n",
       "      <td>95.823865</td>\n",
       "    </tr>\n",
       "    <tr>\n",
       "      <th>10</th>\n",
       "      <td>Labels</td>\n",
       "      <td>34.587468</td>\n",
       "    </tr>\n",
       "    <tr>\n",
       "      <th>11</th>\n",
       "      <td>Machines</td>\n",
       "      <td>1645.553313</td>\n",
       "    </tr>\n",
       "    <tr>\n",
       "      <th>12</th>\n",
       "      <td>Paper</td>\n",
       "      <td>57.420257</td>\n",
       "    </tr>\n",
       "    <tr>\n",
       "      <th>13</th>\n",
       "      <td>Phones</td>\n",
       "      <td>374.180877</td>\n",
       "    </tr>\n",
       "    <tr>\n",
       "      <th>14</th>\n",
       "      <td>Storage</td>\n",
       "      <td>263.633885</td>\n",
       "    </tr>\n",
       "    <tr>\n",
       "      <th>15</th>\n",
       "      <td>Supplies</td>\n",
       "      <td>252.284283</td>\n",
       "    </tr>\n",
       "    <tr>\n",
       "      <th>16</th>\n",
       "      <td>Tables</td>\n",
       "      <td>645.893720</td>\n",
       "    </tr>\n",
       "  </tbody>\n",
       "</table>\n",
       "</div>"
      ],
      "text/plain": [
       "   Sub-Category        Sales\n",
       "0   Accessories   217.178175\n",
       "1    Appliances   227.926804\n",
       "2           Art    34.019631\n",
       "3       Binders   134.067550\n",
       "4     Bookcases   503.598224\n",
       "5        Chairs   531.833165\n",
       "6       Copiers  2215.880212\n",
       "7     Envelopes    65.032444\n",
       "8     Fasteners    14.027850\n",
       "9   Furnishings    95.823865\n",
       "10       Labels    34.587468\n",
       "11     Machines  1645.553313\n",
       "12        Paper    57.420257\n",
       "13       Phones   374.180877\n",
       "14      Storage   263.633885\n",
       "15     Supplies   252.284283\n",
       "16       Tables   645.893720"
      ]
     },
     "execution_count": 17,
     "metadata": {},
     "output_type": "execute_result"
    }
   ],
   "source": [
    "#Now creating a dataframe that shows the type of furniture are selling per year\n",
    "df_TYF=df.groupby([\"Sub-Category\"])[\"Sales\"].mean().reset_index()\n",
    "df_TYF"
   ]
  },
  {
   "cell_type": "code",
   "execution_count": 18,
   "id": "dc21ab17",
   "metadata": {
    "execution": {
     "iopub.execute_input": "2025-02-14T21:29:09.005639Z",
     "iopub.status.busy": "2025-02-14T21:29:09.005256Z",
     "iopub.status.idle": "2025-02-14T21:29:09.264076Z",
     "shell.execute_reply": "2025-02-14T21:29:09.262958Z"
    },
    "papermill": {
     "duration": 0.269897,
     "end_time": "2025-02-14T21:29:09.265843",
     "exception": false,
     "start_time": "2025-02-14T21:29:08.995946",
     "status": "completed"
    },
    "tags": []
   },
   "outputs": [
    {
     "data": {
      "image/png": "[encoded data removed]",
      "text/plain": [
       "<Figure size 640x480 with 1 Axes>"
      ]
     },
     "metadata": {},
     "output_type": "display_data"
    }
   ],
   "source": [
    "sns.barplot(data=df_TYF, x=\"Sub-Category\", y=\"Sales\", color=\"red\")\n",
    "#plt.figure(figsize=(10,8))\n",
    "plt.xticks(rotation=45)\n",
    "plt.show()"
   ]
  },
  {
   "cell_type": "markdown",
   "id": "f49e36be",
   "metadata": {
    "papermill": {
     "duration": 0.008485,
     "end_time": "2025-02-14T21:29:09.283384",
     "exception": false,
     "start_time": "2025-02-14T21:29:09.274899",
     "status": "completed"
    },
    "tags": []
   },
   "source": [
    "We can see that Fastners are least sold items among the other"
   ]
  },
  {
   "cell_type": "code",
   "execution_count": 19,
   "id": "dfe571f7",
   "metadata": {
    "execution": {
     "iopub.execute_input": "2025-02-14T21:29:09.302667Z",
     "iopub.status.busy": "2025-02-14T21:29:09.302254Z",
     "iopub.status.idle": "2025-02-14T21:29:09.319965Z",
     "shell.execute_reply": "2025-02-14T21:29:09.318923Z"
    },
    "papermill": {
     "duration": 0.029382,
     "end_time": "2025-02-14T21:29:09.321606",
     "exception": false,
     "start_time": "2025-02-14T21:29:09.292224",
     "status": "completed"
    },
    "tags": []
   },
   "outputs": [
    {
     "data": {
      "text/html": [
       "<div>\n",
       "<style scoped>\n",
       "    .dataframe tbody tr th:only-of-type {\n",
       "        vertical-align: middle;\n",
       "    }\n",
       "\n",
       "    .dataframe tbody tr th {\n",
       "        vertical-align: top;\n",
       "    }\n",
       "\n",
       "    .dataframe thead th {\n",
       "        text-align: right;\n",
       "    }\n",
       "</style>\n",
       "<table border=\"1\" class=\"dataframe\">\n",
       "  <thead>\n",
       "    <tr style=\"text-align: right;\">\n",
       "      <th></th>\n",
       "      <th>Order ID</th>\n",
       "      <th>Order Date</th>\n",
       "      <th>Ship Date</th>\n",
       "      <th>Ship Mode</th>\n",
       "      <th>Customer ID</th>\n",
       "      <th>Customer Name</th>\n",
       "      <th>Segment</th>\n",
       "      <th>Country</th>\n",
       "      <th>City</th>\n",
       "      <th>State</th>\n",
       "      <th>Postal Code</th>\n",
       "      <th>Region</th>\n",
       "      <th>Product ID</th>\n",
       "      <th>Category</th>\n",
       "      <th>Sub-Category</th>\n",
       "      <th>Product Name</th>\n",
       "      <th>Sales</th>\n",
       "      <th>Year</th>\n",
       "    </tr>\n",
       "    <tr>\n",
       "      <th>Row ID</th>\n",
       "      <th></th>\n",
       "      <th></th>\n",
       "      <th></th>\n",
       "      <th></th>\n",
       "      <th></th>\n",
       "      <th></th>\n",
       "      <th></th>\n",
       "      <th></th>\n",
       "      <th></th>\n",
       "      <th></th>\n",
       "      <th></th>\n",
       "      <th></th>\n",
       "      <th></th>\n",
       "      <th></th>\n",
       "      <th></th>\n",
       "      <th></th>\n",
       "      <th></th>\n",
       "      <th></th>\n",
       "    </tr>\n",
       "  </thead>\n",
       "  <tbody>\n",
       "    <tr>\n",
       "      <th>1</th>\n",
       "      <td>CA-2017-152156</td>\n",
       "      <td>2017-11-08</td>\n",
       "      <td>11/11/2017</td>\n",
       "      <td>Second Class</td>\n",
       "      <td>CG-12520</td>\n",
       "      <td>Claire Gute</td>\n",
       "      <td>Consumer</td>\n",
       "      <td>United States</td>\n",
       "      <td>Henderson</td>\n",
       "      <td>Kentucky</td>\n",
       "      <td>55273.322403</td>\n",
       "      <td>South</td>\n",
       "      <td>FUR-BO-10001798</td>\n",
       "      <td>Furniture</td>\n",
       "      <td>Bookcases</td>\n",
       "      <td>Bush Somerset Collection Bookcase</td>\n",
       "      <td>261.9600</td>\n",
       "      <td>2017</td>\n",
       "    </tr>\n",
       "    <tr>\n",
       "      <th>2</th>\n",
       "      <td>CA-2017-152156</td>\n",
       "      <td>2017-11-08</td>\n",
       "      <td>11/11/2017</td>\n",
       "      <td>Second Class</td>\n",
       "      <td>CG-12520</td>\n",
       "      <td>Claire Gute</td>\n",
       "      <td>Consumer</td>\n",
       "      <td>United States</td>\n",
       "      <td>Henderson</td>\n",
       "      <td>Kentucky</td>\n",
       "      <td>55273.322403</td>\n",
       "      <td>South</td>\n",
       "      <td>FUR-CH-10000454</td>\n",
       "      <td>Furniture</td>\n",
       "      <td>Chairs</td>\n",
       "      <td>Hon Deluxe Fabric Upholstered Stacking Chairs,...</td>\n",
       "      <td>731.9400</td>\n",
       "      <td>2017</td>\n",
       "    </tr>\n",
       "    <tr>\n",
       "      <th>3</th>\n",
       "      <td>CA-2017-138688</td>\n",
       "      <td>2017-06-12</td>\n",
       "      <td>16/06/2017</td>\n",
       "      <td>Second Class</td>\n",
       "      <td>DV-13045</td>\n",
       "      <td>Darrin Van Huff</td>\n",
       "      <td>Corporate</td>\n",
       "      <td>United States</td>\n",
       "      <td>Los Angeles</td>\n",
       "      <td>California</td>\n",
       "      <td>55273.322403</td>\n",
       "      <td>West</td>\n",
       "      <td>OFF-LA-10000240</td>\n",
       "      <td>Office Supplies</td>\n",
       "      <td>Labels</td>\n",
       "      <td>Self-Adhesive Address Labels for Typewriters b...</td>\n",
       "      <td>14.6200</td>\n",
       "      <td>2017</td>\n",
       "    </tr>\n",
       "    <tr>\n",
       "      <th>4</th>\n",
       "      <td>US-2016-108966</td>\n",
       "      <td>2016-10-11</td>\n",
       "      <td>18/10/2016</td>\n",
       "      <td>Standard Class</td>\n",
       "      <td>SO-20335</td>\n",
       "      <td>Sean O'Donnell</td>\n",
       "      <td>Consumer</td>\n",
       "      <td>United States</td>\n",
       "      <td>Fort Lauderdale</td>\n",
       "      <td>Florida</td>\n",
       "      <td>55273.322403</td>\n",
       "      <td>South</td>\n",
       "      <td>FUR-TA-10000577</td>\n",
       "      <td>Furniture</td>\n",
       "      <td>Tables</td>\n",
       "      <td>Bretford CR4500 Series Slim Rectangular Table</td>\n",
       "      <td>957.5775</td>\n",
       "      <td>2016</td>\n",
       "    </tr>\n",
       "    <tr>\n",
       "      <th>5</th>\n",
       "      <td>US-2016-108966</td>\n",
       "      <td>2016-10-11</td>\n",
       "      <td>18/10/2016</td>\n",
       "      <td>Standard Class</td>\n",
       "      <td>SO-20335</td>\n",
       "      <td>Sean O'Donnell</td>\n",
       "      <td>Consumer</td>\n",
       "      <td>United States</td>\n",
       "      <td>Fort Lauderdale</td>\n",
       "      <td>Florida</td>\n",
       "      <td>55273.322403</td>\n",
       "      <td>South</td>\n",
       "      <td>OFF-ST-10000760</td>\n",
       "      <td>Office Supplies</td>\n",
       "      <td>Storage</td>\n",
       "      <td>Eldon Fold 'N Roll Cart System</td>\n",
       "      <td>22.3680</td>\n",
       "      <td>2016</td>\n",
       "    </tr>\n",
       "  </tbody>\n",
       "</table>\n",
       "</div>"
      ],
      "text/plain": [
       "              Order ID Order Date   Ship Date       Ship Mode Customer ID  \\\n",
       "Row ID                                                                      \n",
       "1       CA-2017-152156 2017-11-08  11/11/2017    Second Class    CG-12520   \n",
       "2       CA-2017-152156 2017-11-08  11/11/2017    Second Class    CG-12520   \n",
       "3       CA-2017-138688 2017-06-12  16/06/2017    Second Class    DV-13045   \n",
       "4       US-2016-108966 2016-10-11  18/10/2016  Standard Class    SO-20335   \n",
       "5       US-2016-108966 2016-10-11  18/10/2016  Standard Class    SO-20335   \n",
       "\n",
       "          Customer Name    Segment        Country             City  \\\n",
       "Row ID                                                               \n",
       "1           Claire Gute   Consumer  United States        Henderson   \n",
       "2           Claire Gute   Consumer  United States        Henderson   \n",
       "3       Darrin Van Huff  Corporate  United States      Los Angeles   \n",
       "4        Sean O'Donnell   Consumer  United States  Fort Lauderdale   \n",
       "5        Sean O'Donnell   Consumer  United States  Fort Lauderdale   \n",
       "\n",
       "             State   Postal Code Region       Product ID         Category  \\\n",
       "Row ID                                                                      \n",
       "1         Kentucky  55273.322403  South  FUR-BO-10001798        Furniture   \n",
       "2         Kentucky  55273.322403  South  FUR-CH-10000454        Furniture   \n",
       "3       California  55273.322403   West  OFF-LA-10000240  Office Supplies   \n",
       "4          Florida  55273.322403  South  FUR-TA-10000577        Furniture   \n",
       "5          Florida  55273.322403  South  OFF-ST-10000760  Office Supplies   \n",
       "\n",
       "       Sub-Category                                       Product Name  \\\n",
       "Row ID                                                                   \n",
       "1         Bookcases                  Bush Somerset Collection Bookcase   \n",
       "2            Chairs  Hon Deluxe Fabric Upholstered Stacking Chairs,...   \n",
       "3            Labels  Self-Adhesive Address Labels for Typewriters b...   \n",
       "4            Tables      Bretford CR4500 Series Slim Rectangular Table   \n",
       "5           Storage                     Eldon Fold 'N Roll Cart System   \n",
       "\n",
       "           Sales  Year  \n",
       "Row ID                  \n",
       "1       261.9600  2017  \n",
       "2       731.9400  2017  \n",
       "3        14.6200  2017  \n",
       "4       957.5775  2016  \n",
       "5        22.3680  2016  "
      ]
     },
     "execution_count": 19,
     "metadata": {},
     "output_type": "execute_result"
    }
   ],
   "source": [
    "df.head()"
   ]
  },
  {
   "cell_type": "code",
   "execution_count": 20,
   "id": "9329b313",
   "metadata": {
    "execution": {
     "iopub.execute_input": "2025-02-14T21:29:09.342182Z",
     "iopub.status.busy": "2025-02-14T21:29:09.341773Z",
     "iopub.status.idle": "2025-02-14T21:29:09.356177Z",
     "shell.execute_reply": "2025-02-14T21:29:09.355155Z"
    },
    "papermill": {
     "duration": 0.026821,
     "end_time": "2025-02-14T21:29:09.357889",
     "exception": false,
     "start_time": "2025-02-14T21:29:09.331068",
     "status": "completed"
    },
    "tags": []
   },
   "outputs": [
    {
     "data": {
      "text/html": [
       "<div>\n",
       "<style scoped>\n",
       "    .dataframe tbody tr th:only-of-type {\n",
       "        vertical-align: middle;\n",
       "    }\n",
       "\n",
       "    .dataframe tbody tr th {\n",
       "        vertical-align: top;\n",
       "    }\n",
       "\n",
       "    .dataframe thead th {\n",
       "        text-align: right;\n",
       "    }\n",
       "</style>\n",
       "<table border=\"1\" class=\"dataframe\">\n",
       "  <thead>\n",
       "    <tr style=\"text-align: right;\">\n",
       "      <th></th>\n",
       "      <th>Ship Mode</th>\n",
       "      <th>Count</th>\n",
       "    </tr>\n",
       "    <tr>\n",
       "      <th>Country</th>\n",
       "      <th></th>\n",
       "      <th></th>\n",
       "    </tr>\n",
       "  </thead>\n",
       "  <tbody>\n",
       "    <tr>\n",
       "      <th>United States</th>\n",
       "      <td>First Class</td>\n",
       "      <td>1501</td>\n",
       "    </tr>\n",
       "    <tr>\n",
       "      <th>United States</th>\n",
       "      <td>Same Day</td>\n",
       "      <td>538</td>\n",
       "    </tr>\n",
       "    <tr>\n",
       "      <th>United States</th>\n",
       "      <td>Second Class</td>\n",
       "      <td>1902</td>\n",
       "    </tr>\n",
       "    <tr>\n",
       "      <th>United States</th>\n",
       "      <td>Standard Class</td>\n",
       "      <td>5859</td>\n",
       "    </tr>\n",
       "  </tbody>\n",
       "</table>\n",
       "</div>"
      ],
      "text/plain": [
       "                    Ship Mode  Count\n",
       "Country                             \n",
       "United States     First Class   1501\n",
       "United States        Same Day    538\n",
       "United States    Second Class   1902\n",
       "United States  Standard Class   5859"
      ]
     },
     "execution_count": 20,
     "metadata": {},
     "output_type": "execute_result"
    }
   ],
   "source": [
    "#Now we can do a pie chart to see which country has used which type of shipmode\n",
    "df_SHM=df.groupby([\"Country\",\"Ship Mode\"]).size().reset_index(name=\"Count\")\n",
    "df_SHM.set_index(\"Country\", inplace=True)\n",
    "df_SHM"
   ]
  },
  {
   "cell_type": "code",
   "execution_count": 21,
   "id": "6d5570ad",
   "metadata": {
    "execution": {
     "iopub.execute_input": "2025-02-14T21:29:09.378138Z",
     "iopub.status.busy": "2025-02-14T21:29:09.377757Z",
     "iopub.status.idle": "2025-02-14T21:29:09.621719Z",
     "shell.execute_reply": "2025-02-14T21:29:09.620569Z"
    },
    "papermill": {
     "duration": 0.256464,
     "end_time": "2025-02-14T21:29:09.623865",
     "exception": false,
     "start_time": "2025-02-14T21:29:09.367401",
     "status": "completed"
    },
    "tags": []
   },
   "outputs": [
    {
     "data": {
      "image/png": "[encoded data removed]",
      "text/plain": [
       "<Figure size 500x600 with 1 Axes>"
      ]
     },
     "metadata": {},
     "output_type": "display_data"
    }
   ],
   "source": [
    "#Now make a Pie chart to see the variation\n",
    "df_SHM[\"Count\"].plot(kind=\"pie\",startangle=90, figsize=(5,6),autopct='%1.1f%%', legend=True, ylabel='', labels=df_SHM[\"Ship Mode\"])\n",
    "plt.title(\"Different categories of Shipping mode used by US\")\n",
    "plt.show()"
   ]
  },
  {
   "cell_type": "markdown",
   "id": "2be0b9ea",
   "metadata": {
    "papermill": {
     "duration": 0.009889,
     "end_time": "2025-02-14T21:29:09.644121",
     "exception": false,
     "start_time": "2025-02-14T21:29:09.634232",
     "status": "completed"
    },
    "tags": []
   },
   "source": [
    "We can see that the standard class shipping mode has been used maximum by US"
   ]
  },
  {
   "cell_type": "code",
   "execution_count": 22,
   "id": "a491cd46",
   "metadata": {
    "execution": {
     "iopub.execute_input": "2025-02-14T21:29:09.665834Z",
     "iopub.status.busy": "2025-02-14T21:29:09.665466Z",
     "iopub.status.idle": "2025-02-14T21:29:09.683255Z",
     "shell.execute_reply": "2025-02-14T21:29:09.682220Z"
    },
    "papermill": {
     "duration": 0.030578,
     "end_time": "2025-02-14T21:29:09.684931",
     "exception": false,
     "start_time": "2025-02-14T21:29:09.654353",
     "status": "completed"
    },
    "tags": []
   },
   "outputs": [
    {
     "data": {
      "text/html": [
       "<div>\n",
       "<style scoped>\n",
       "    .dataframe tbody tr th:only-of-type {\n",
       "        vertical-align: middle;\n",
       "    }\n",
       "\n",
       "    .dataframe tbody tr th {\n",
       "        vertical-align: top;\n",
       "    }\n",
       "\n",
       "    .dataframe thead th {\n",
       "        text-align: right;\n",
       "    }\n",
       "</style>\n",
       "<table border=\"1\" class=\"dataframe\">\n",
       "  <thead>\n",
       "    <tr style=\"text-align: right;\">\n",
       "      <th></th>\n",
       "      <th>Order ID</th>\n",
       "      <th>Order Date</th>\n",
       "      <th>Ship Date</th>\n",
       "      <th>Ship Mode</th>\n",
       "      <th>Customer ID</th>\n",
       "      <th>Customer Name</th>\n",
       "      <th>Segment</th>\n",
       "      <th>Country</th>\n",
       "      <th>City</th>\n",
       "      <th>State</th>\n",
       "      <th>Postal Code</th>\n",
       "      <th>Region</th>\n",
       "      <th>Product ID</th>\n",
       "      <th>Category</th>\n",
       "      <th>Sub-Category</th>\n",
       "      <th>Product Name</th>\n",
       "      <th>Sales</th>\n",
       "      <th>Year</th>\n",
       "    </tr>\n",
       "    <tr>\n",
       "      <th>Row ID</th>\n",
       "      <th></th>\n",
       "      <th></th>\n",
       "      <th></th>\n",
       "      <th></th>\n",
       "      <th></th>\n",
       "      <th></th>\n",
       "      <th></th>\n",
       "      <th></th>\n",
       "      <th></th>\n",
       "      <th></th>\n",
       "      <th></th>\n",
       "      <th></th>\n",
       "      <th></th>\n",
       "      <th></th>\n",
       "      <th></th>\n",
       "      <th></th>\n",
       "      <th></th>\n",
       "      <th></th>\n",
       "    </tr>\n",
       "  </thead>\n",
       "  <tbody>\n",
       "    <tr>\n",
       "      <th>1</th>\n",
       "      <td>CA-2017-152156</td>\n",
       "      <td>2017-11-08</td>\n",
       "      <td>11/11/2017</td>\n",
       "      <td>Second Class</td>\n",
       "      <td>CG-12520</td>\n",
       "      <td>Claire Gute</td>\n",
       "      <td>Consumer</td>\n",
       "      <td>United States</td>\n",
       "      <td>Henderson</td>\n",
       "      <td>Kentucky</td>\n",
       "      <td>55273.322403</td>\n",
       "      <td>South</td>\n",
       "      <td>FUR-BO-10001798</td>\n",
       "      <td>Furniture</td>\n",
       "      <td>Bookcases</td>\n",
       "      <td>Bush Somerset Collection Bookcase</td>\n",
       "      <td>261.96</td>\n",
       "      <td>2017</td>\n",
       "    </tr>\n",
       "    <tr>\n",
       "      <th>2</th>\n",
       "      <td>CA-2017-152156</td>\n",
       "      <td>2017-11-08</td>\n",
       "      <td>11/11/2017</td>\n",
       "      <td>Second Class</td>\n",
       "      <td>CG-12520</td>\n",
       "      <td>Claire Gute</td>\n",
       "      <td>Consumer</td>\n",
       "      <td>United States</td>\n",
       "      <td>Henderson</td>\n",
       "      <td>Kentucky</td>\n",
       "      <td>55273.322403</td>\n",
       "      <td>South</td>\n",
       "      <td>FUR-CH-10000454</td>\n",
       "      <td>Furniture</td>\n",
       "      <td>Chairs</td>\n",
       "      <td>Hon Deluxe Fabric Upholstered Stacking Chairs,...</td>\n",
       "      <td>731.94</td>\n",
       "      <td>2017</td>\n",
       "    </tr>\n",
       "    <tr>\n",
       "      <th>3</th>\n",
       "      <td>CA-2017-138688</td>\n",
       "      <td>2017-06-12</td>\n",
       "      <td>16/06/2017</td>\n",
       "      <td>Second Class</td>\n",
       "      <td>DV-13045</td>\n",
       "      <td>Darrin Van Huff</td>\n",
       "      <td>Corporate</td>\n",
       "      <td>United States</td>\n",
       "      <td>Los Angeles</td>\n",
       "      <td>California</td>\n",
       "      <td>55273.322403</td>\n",
       "      <td>West</td>\n",
       "      <td>OFF-LA-10000240</td>\n",
       "      <td>Office Supplies</td>\n",
       "      <td>Labels</td>\n",
       "      <td>Self-Adhesive Address Labels for Typewriters b...</td>\n",
       "      <td>14.62</td>\n",
       "      <td>2017</td>\n",
       "    </tr>\n",
       "  </tbody>\n",
       "</table>\n",
       "</div>"
      ],
      "text/plain": [
       "              Order ID Order Date   Ship Date     Ship Mode Customer ID  \\\n",
       "Row ID                                                                    \n",
       "1       CA-2017-152156 2017-11-08  11/11/2017  Second Class    CG-12520   \n",
       "2       CA-2017-152156 2017-11-08  11/11/2017  Second Class    CG-12520   \n",
       "3       CA-2017-138688 2017-06-12  16/06/2017  Second Class    DV-13045   \n",
       "\n",
       "          Customer Name    Segment        Country         City       State  \\\n",
       "Row ID                                                                       \n",
       "1           Claire Gute   Consumer  United States    Henderson    Kentucky   \n",
       "2           Claire Gute   Consumer  United States    Henderson    Kentucky   \n",
       "3       Darrin Van Huff  Corporate  United States  Los Angeles  California   \n",
       "\n",
       "         Postal Code Region       Product ID         Category Sub-Category  \\\n",
       "Row ID                                                                       \n",
       "1       55273.322403  South  FUR-BO-10001798        Furniture    Bookcases   \n",
       "2       55273.322403  South  FUR-CH-10000454        Furniture       Chairs   \n",
       "3       55273.322403   West  OFF-LA-10000240  Office Supplies       Labels   \n",
       "\n",
       "                                             Product Name   Sales  Year  \n",
       "Row ID                                                                   \n",
       "1                       Bush Somerset Collection Bookcase  261.96  2017  \n",
       "2       Hon Deluxe Fabric Upholstered Stacking Chairs,...  731.94  2017  \n",
       "3       Self-Adhesive Address Labels for Typewriters b...   14.62  2017  "
      ]
     },
     "execution_count": 22,
     "metadata": {},
     "output_type": "execute_result"
    }
   ],
   "source": [
    "df.head(3)"
   ]
  },
  {
   "cell_type": "code",
   "execution_count": 23,
   "id": "2d9e7bdc",
   "metadata": {
    "execution": {
     "iopub.execute_input": "2025-02-14T21:29:09.707357Z",
     "iopub.status.busy": "2025-02-14T21:29:09.706996Z",
     "iopub.status.idle": "2025-02-14T21:29:09.737801Z",
     "shell.execute_reply": "2025-02-14T21:29:09.736680Z"
    },
    "papermill": {
     "duration": 0.044,
     "end_time": "2025-02-14T21:29:09.739600",
     "exception": false,
     "start_time": "2025-02-14T21:29:09.695600",
     "status": "completed"
    },
    "tags": []
   },
   "outputs": [
    {
     "data": {
      "text/html": [
       "<div>\n",
       "<style scoped>\n",
       "    .dataframe tbody tr th:only-of-type {\n",
       "        vertical-align: middle;\n",
       "    }\n",
       "\n",
       "    .dataframe tbody tr th {\n",
       "        vertical-align: top;\n",
       "    }\n",
       "\n",
       "    .dataframe thead th {\n",
       "        text-align: right;\n",
       "    }\n",
       "</style>\n",
       "<table border=\"1\" class=\"dataframe\">\n",
       "  <thead>\n",
       "    <tr style=\"text-align: right;\">\n",
       "      <th></th>\n",
       "      <th>Order ID</th>\n",
       "      <th>Order Date</th>\n",
       "      <th>Ship Date</th>\n",
       "      <th>Ship Mode</th>\n",
       "      <th>Customer ID</th>\n",
       "      <th>Customer Name</th>\n",
       "      <th>Segment</th>\n",
       "      <th>Country</th>\n",
       "      <th>City</th>\n",
       "      <th>State</th>\n",
       "      <th>Postal Code</th>\n",
       "      <th>Region</th>\n",
       "      <th>Product ID</th>\n",
       "      <th>Category</th>\n",
       "      <th>Sub-Category</th>\n",
       "      <th>Product Name</th>\n",
       "      <th>Sales</th>\n",
       "      <th>Year</th>\n",
       "    </tr>\n",
       "    <tr>\n",
       "      <th>Row ID</th>\n",
       "      <th></th>\n",
       "      <th></th>\n",
       "      <th></th>\n",
       "      <th></th>\n",
       "      <th></th>\n",
       "      <th></th>\n",
       "      <th></th>\n",
       "      <th></th>\n",
       "      <th></th>\n",
       "      <th></th>\n",
       "      <th></th>\n",
       "      <th></th>\n",
       "      <th></th>\n",
       "      <th></th>\n",
       "      <th></th>\n",
       "      <th></th>\n",
       "      <th></th>\n",
       "      <th></th>\n",
       "    </tr>\n",
       "  </thead>\n",
       "  <tbody>\n",
       "    <tr>\n",
       "      <th>3407</th>\n",
       "      <td>US-2015-150119</td>\n",
       "      <td>2015-04-23</td>\n",
       "      <td>27/04/2015</td>\n",
       "      <td>Standard Class</td>\n",
       "      <td>LB-16795</td>\n",
       "      <td>Laurel Beltran</td>\n",
       "      <td>Home Office</td>\n",
       "      <td>United States</td>\n",
       "      <td>Columbus</td>\n",
       "      <td>Ohio</td>\n",
       "      <td>55273.322403</td>\n",
       "      <td>East</td>\n",
       "      <td>FUR-CH-10002965</td>\n",
       "      <td>Furniture</td>\n",
       "      <td>Chairs</td>\n",
       "      <td>Global Leather Highback Executive Chair with P...</td>\n",
       "      <td>281.372</td>\n",
       "      <td>2015</td>\n",
       "    </tr>\n",
       "  </tbody>\n",
       "</table>\n",
       "</div>"
      ],
      "text/plain": [
       "              Order ID Order Date   Ship Date       Ship Mode Customer ID  \\\n",
       "Row ID                                                                      \n",
       "3407    US-2015-150119 2015-04-23  27/04/2015  Standard Class    LB-16795   \n",
       "\n",
       "         Customer Name      Segment        Country      City State  \\\n",
       "Row ID                                                               \n",
       "3407    Laurel Beltran  Home Office  United States  Columbus  Ohio   \n",
       "\n",
       "         Postal Code Region       Product ID   Category Sub-Category  \\\n",
       "Row ID                                                                 \n",
       "3407    55273.322403   East  FUR-CH-10002965  Furniture       Chairs   \n",
       "\n",
       "                                             Product Name    Sales  Year  \n",
       "Row ID                                                                    \n",
       "3407    Global Leather Highback Executive Chair with P...  281.372  2015  "
      ]
     },
     "execution_count": 23,
     "metadata": {},
     "output_type": "execute_result"
    }
   ],
   "source": [
    "#First we will drop the duplicate values\n",
    "df[df.duplicated()]"
   ]
  },
  {
   "cell_type": "code",
   "execution_count": 24,
   "id": "80bbdc4e",
   "metadata": {
    "execution": {
     "iopub.execute_input": "2025-02-14T21:29:09.762309Z",
     "iopub.status.busy": "2025-02-14T21:29:09.761934Z",
     "iopub.status.idle": "2025-02-14T21:29:09.781274Z",
     "shell.execute_reply": "2025-02-14T21:29:09.780213Z"
    },
    "papermill": {
     "duration": 0.032829,
     "end_time": "2025-02-14T21:29:09.783185",
     "exception": false,
     "start_time": "2025-02-14T21:29:09.750356",
     "status": "completed"
    },
    "tags": []
   },
   "outputs": [],
   "source": [
    "df.drop_duplicates(inplace=True)"
   ]
  },
  {
   "cell_type": "code",
   "execution_count": 25,
   "id": "b9e0e4cc",
   "metadata": {
    "execution": {
     "iopub.execute_input": "2025-02-14T21:29:09.806221Z",
     "iopub.status.busy": "2025-02-14T21:29:09.805864Z",
     "iopub.status.idle": "2025-02-14T21:29:09.817075Z",
     "shell.execute_reply": "2025-02-14T21:29:09.815958Z"
    },
    "papermill": {
     "duration": 0.024766,
     "end_time": "2025-02-14T21:29:09.818942",
     "exception": false,
     "start_time": "2025-02-14T21:29:09.794176",
     "status": "completed"
    },
    "tags": []
   },
   "outputs": [
    {
     "data": {
      "text/html": [
       "<div>\n",
       "<style scoped>\n",
       "    .dataframe tbody tr th:only-of-type {\n",
       "        vertical-align: middle;\n",
       "    }\n",
       "\n",
       "    .dataframe tbody tr th {\n",
       "        vertical-align: top;\n",
       "    }\n",
       "\n",
       "    .dataframe thead th {\n",
       "        text-align: right;\n",
       "    }\n",
       "</style>\n",
       "<table border=\"1\" class=\"dataframe\">\n",
       "  <thead>\n",
       "    <tr style=\"text-align: right;\">\n",
       "      <th></th>\n",
       "      <th>Category</th>\n",
       "      <th>City</th>\n",
       "    </tr>\n",
       "  </thead>\n",
       "  <tbody>\n",
       "    <tr>\n",
       "      <th>0</th>\n",
       "      <td>Furniture</td>\n",
       "      <td>2077</td>\n",
       "    </tr>\n",
       "    <tr>\n",
       "      <th>1</th>\n",
       "      <td>Office Supplies</td>\n",
       "      <td>5909</td>\n",
       "    </tr>\n",
       "    <tr>\n",
       "      <th>2</th>\n",
       "      <td>Technology</td>\n",
       "      <td>1813</td>\n",
       "    </tr>\n",
       "  </tbody>\n",
       "</table>\n",
       "</div>"
      ],
      "text/plain": [
       "          Category  City\n",
       "0        Furniture  2077\n",
       "1  Office Supplies  5909\n",
       "2       Technology  1813"
      ]
     },
     "execution_count": 25,
     "metadata": {},
     "output_type": "execute_result"
    }
   ],
   "source": [
    "#Which city gave the highesct sale\n",
    "df_CS=df.groupby(\"Category\")[\"City\"].size().reset_index()\n",
    "df_CS"
   ]
  },
  {
   "cell_type": "code",
   "execution_count": 26,
   "id": "1b81b30b",
   "metadata": {
    "execution": {
     "iopub.execute_input": "2025-02-14T21:29:09.842494Z",
     "iopub.status.busy": "2025-02-14T21:29:09.842064Z",
     "iopub.status.idle": "2025-02-14T21:29:09.990573Z",
     "shell.execute_reply": "2025-02-14T21:29:09.989463Z"
    },
    "papermill": {
     "duration": 0.162393,
     "end_time": "2025-02-14T21:29:09.992448",
     "exception": false,
     "start_time": "2025-02-14T21:29:09.830055",
     "status": "completed"
    },
    "tags": []
   },
   "outputs": [
    {
     "data": {
      "image/png": "[encoded data removed]",
      "text/plain": [
       "<Figure size 500x600 with 1 Axes>"
      ]
     },
     "metadata": {},
     "output_type": "display_data"
    }
   ],
   "source": [
    "df_CS[\"City\"].plot(kind=\"pie\", startangle=90, figsize=(5,6),autopct='%1.1f%%', legend=True, ylabel='', labels=df_CS[\"Category\"])\n",
    "plt.title(\"Different categroeis according to different cities\")\n",
    "plt.show()"
   ]
  },
  {
   "cell_type": "code",
   "execution_count": null,
   "id": "09a28bf2",
   "metadata": {
    "papermill": {
     "duration": 0.012526,
     "end_time": "2025-02-14T21:29:10.021197",
     "exception": false,
     "start_time": "2025-02-14T21:29:10.008671",
     "status": "completed"
    },
    "tags": []
   },
   "outputs": [],
   "source": []
  }
 ],
 "metadata": {
  "kaggle": {
   "accelerator": "none",
   "dataSources": [
    {
     "datasetId": 835308,
     "sourceId": 1480443,
     "sourceType": "datasetVersion"
    }
   ],
   "dockerImageVersionId": 30886,
   "isGpuEnabled": false,
   "isInternetEnabled": true,
   "language": "python",
   "sourceType": "notebook"
  },
  "kernelspec": {
   "display_name": "Python 3",
   "language": "python",
   "name": "python3"
  },
  "language_info": {
   "codemirror_mode": {
    "name": "ipython",
    "version": 3
   },
   "file_extension": ".py",
   "mimetype": "text/x-python",
   "name": "python",
   "nbconvert_exporter": "python",
   "pygments_lexer": "ipython3",
   "version": "3.10.12"
  },
  "papermill": {
   "default_parameters": {},
   "duration": 8.066647,
   "end_time": "2025-02-14T21:29:10.753245",
   "environment_variables": {},
   "exception": null,
   "input_path": "__notebook__.ipynb",
   "output_path": "__notebook__.ipynb",
   "parameters": {},
   "start_time": "2025-02-14T21:29:02.686598",
   "version": "2.6.0"
  }
 },
 "nbformat": 4,
 "nbformat_minor": 5
}
