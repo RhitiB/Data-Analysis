{
 "cells": [
  {
   "cell_type": "code",
   "execution_count": 1,
   "id": "aea0293d",
   "metadata": {
    "_cell_guid": "b1076dfc-b9ad-4769-8c92-a6c4dae69d19",
    "_uuid": "8f2839f25d086af736a60e9eeb907d3b93b6e0e5",
    "execution": {
     "iopub.execute_input": "2025-02-14T23:13:25.172798Z",
     "iopub.status.busy": "2025-02-14T23:13:25.172377Z",
     "iopub.status.idle": "2025-02-14T23:13:26.438042Z",
     "shell.execute_reply": "2025-02-14T23:13:26.436645Z"
    },
    "papermill": {
     "duration": 1.277442,
     "end_time": "2025-02-14T23:13:26.440460",
     "exception": false,
     "start_time": "2025-02-14T23:13:25.163018",
     "status": "completed"
    },
    "tags": []
   },
   "outputs": [
    {
     "name": "stdout",
     "output_type": "stream",
     "text": [
      "/kaggle/input/sales-forecasting/train.csv\n"
     ]
    }
   ],
   "source": [
    "# This Python 3 environment comes with many helpful analytics libraries installed\n",
    "# It is defined by the kaggle/python Docker image: https://github.com/kaggle/docker-python\n",
    "# For example, here's several helpful packages to load\n",
    "\n",
    "import numpy as np # linear algebra\n",
    "import pandas as pd # data processing, CSV file I/O (e.g. pd.read_csv)\n",
    "\n",
    "# Input data files are available in the read-only \"../input/\" directory\n",
    "# For example, running this (by clicking run or pressing Shift+Enter) will list all files under the input directory\n",
    "\n",
    "import os\n",
    "for dirname, _, filenames in os.walk('/kaggle/input'):\n",
    "    for filename in filenames:\n",
    "        print(os.path.join(dirname, filename))\n",
    "\n",
    "# You can write up to 20GB to the current directory (/kaggle/working/) that gets preserved as output when you create a version using \"Save & Run All\" \n",
    "# You can also write temporary files to /kaggle/temp/, but they won't be saved outside of the current session"
   ]
  },
  {
   "cell_type": "markdown",
   "id": "9bf0e919",
   "metadata": {
    "papermill": {
     "duration": 0.006986,
     "end_time": "2025-02-14T23:13:26.456542",
     "exception": false,
     "start_time": "2025-02-14T23:13:26.449556",
     "status": "completed"
    },
    "tags": []
   },
   "source": [
    "1.** Viewing the dataset.**"
   ]
  },
  {
   "cell_type": "markdown",
   "id": "3bdff090",
   "metadata": {
    "papermill": {
     "duration": 0.006403,
     "end_time": "2025-02-14T23:13:26.469703",
     "exception": false,
     "start_time": "2025-02-14T23:13:26.463300",
     "status": "completed"
    },
    "tags": []
   },
   "source": []
  },
  {
   "cell_type": "code",
   "execution_count": 2,
   "id": "ac0045d5",
   "metadata": {
    "execution": {
     "iopub.execute_input": "2025-02-14T23:13:26.486464Z",
     "iopub.status.busy": "2025-02-14T23:13:26.485914Z",
     "iopub.status.idle": "2025-02-14T23:13:26.593467Z",
     "shell.execute_reply": "2025-02-14T23:13:26.592345Z"
    },
    "papermill": {
     "duration": 0.118706,
     "end_time": "2025-02-14T23:13:26.595463",
     "exception": false,
     "start_time": "2025-02-14T23:13:26.476757",
     "status": "completed"
    },
    "tags": []
   },
   "outputs": [],
   "source": [
    "df = pd.read_csv('/kaggle/input/sales-forecasting/train.csv')\n"
   ]
  },
  {
   "cell_type": "code",
   "execution_count": 3,
   "id": "aa901c81",
   "metadata": {
    "execution": {
     "iopub.execute_input": "2025-02-14T23:13:26.610892Z",
     "iopub.status.busy": "2025-02-14T23:13:26.610497Z",
     "iopub.status.idle": "2025-02-14T23:13:26.646545Z",
     "shell.execute_reply": "2025-02-14T23:13:26.645479Z"
    },
    "papermill": {
     "duration": 0.046409,
     "end_time": "2025-02-14T23:13:26.648769",
     "exception": false,
     "start_time": "2025-02-14T23:13:26.602360",
     "status": "completed"
    },
    "tags": []
   },
   "outputs": [
    {
     "data": {
      "text/html": [
       "<div>\n",
       "<style scoped>\n",
       "    .dataframe tbody tr th:only-of-type {\n",
       "        vertical-align: middle;\n",
       "    }\n",
       "\n",
       "    .dataframe tbody tr th {\n",
       "        vertical-align: top;\n",
       "    }\n",
       "\n",
       "    .dataframe thead th {\n",
       "        text-align: right;\n",
       "    }\n",
       "</style>\n",
       "<table border=\"1\" class=\"dataframe\">\n",
       "  <thead>\n",
       "    <tr style=\"text-align: right;\">\n",
       "      <th></th>\n",
       "      <th>Row ID</th>\n",
       "      <th>Order ID</th>\n",
       "      <th>Order Date</th>\n",
       "      <th>Ship Date</th>\n",
       "      <th>Ship Mode</th>\n",
       "      <th>Customer ID</th>\n",
       "      <th>Customer Name</th>\n",
       "      <th>Segment</th>\n",
       "      <th>Country</th>\n",
       "      <th>City</th>\n",
       "      <th>State</th>\n",
       "      <th>Postal Code</th>\n",
       "      <th>Region</th>\n",
       "      <th>Product ID</th>\n",
       "      <th>Category</th>\n",
       "      <th>Sub-Category</th>\n",
       "      <th>Product Name</th>\n",
       "      <th>Sales</th>\n",
       "    </tr>\n",
       "  </thead>\n",
       "  <tbody>\n",
       "    <tr>\n",
       "      <th>0</th>\n",
       "      <td>1</td>\n",
       "      <td>CA-2017-152156</td>\n",
       "      <td>08/11/2017</td>\n",
       "      <td>11/11/2017</td>\n",
       "      <td>Second Class</td>\n",
       "      <td>CG-12520</td>\n",
       "      <td>Claire Gute</td>\n",
       "      <td>Consumer</td>\n",
       "      <td>United States</td>\n",
       "      <td>Henderson</td>\n",
       "      <td>Kentucky</td>\n",
       "      <td>42420.0</td>\n",
       "      <td>South</td>\n",
       "      <td>FUR-BO-10001798</td>\n",
       "      <td>Furniture</td>\n",
       "      <td>Bookcases</td>\n",
       "      <td>Bush Somerset Collection Bookcase</td>\n",
       "      <td>261.96</td>\n",
       "    </tr>\n",
       "    <tr>\n",
       "      <th>1</th>\n",
       "      <td>2</td>\n",
       "      <td>CA-2017-152156</td>\n",
       "      <td>08/11/2017</td>\n",
       "      <td>11/11/2017</td>\n",
       "      <td>Second Class</td>\n",
       "      <td>CG-12520</td>\n",
       "      <td>Claire Gute</td>\n",
       "      <td>Consumer</td>\n",
       "      <td>United States</td>\n",
       "      <td>Henderson</td>\n",
       "      <td>Kentucky</td>\n",
       "      <td>42420.0</td>\n",
       "      <td>South</td>\n",
       "      <td>FUR-CH-10000454</td>\n",
       "      <td>Furniture</td>\n",
       "      <td>Chairs</td>\n",
       "      <td>Hon Deluxe Fabric Upholstered Stacking Chairs,...</td>\n",
       "      <td>731.94</td>\n",
       "    </tr>\n",
       "  </tbody>\n",
       "</table>\n",
       "</div>"
      ],
      "text/plain": [
       "   Row ID        Order ID  Order Date   Ship Date     Ship Mode Customer ID  \\\n",
       "0       1  CA-2017-152156  08/11/2017  11/11/2017  Second Class    CG-12520   \n",
       "1       2  CA-2017-152156  08/11/2017  11/11/2017  Second Class    CG-12520   \n",
       "\n",
       "  Customer Name   Segment        Country       City     State  Postal Code  \\\n",
       "0   Claire Gute  Consumer  United States  Henderson  Kentucky      42420.0   \n",
       "1   Claire Gute  Consumer  United States  Henderson  Kentucky      42420.0   \n",
       "\n",
       "  Region       Product ID   Category Sub-Category  \\\n",
       "0  South  FUR-BO-10001798  Furniture    Bookcases   \n",
       "1  South  FUR-CH-10000454  Furniture       Chairs   \n",
       "\n",
       "                                        Product Name   Sales  \n",
       "0                  Bush Somerset Collection Bookcase  261.96  \n",
       "1  Hon Deluxe Fabric Upholstered Stacking Chairs,...  731.94  "
      ]
     },
     "execution_count": 3,
     "metadata": {},
     "output_type": "execute_result"
    }
   ],
   "source": [
    "df.head(2)"
   ]
  },
  {
   "cell_type": "code",
   "execution_count": 4,
   "id": "8c3d97e3",
   "metadata": {
    "execution": {
     "iopub.execute_input": "2025-02-14T23:13:26.664931Z",
     "iopub.status.busy": "2025-02-14T23:13:26.664583Z",
     "iopub.status.idle": "2025-02-14T23:13:26.671564Z",
     "shell.execute_reply": "2025-02-14T23:13:26.670249Z"
    },
    "papermill": {
     "duration": 0.016863,
     "end_time": "2025-02-14T23:13:26.673395",
     "exception": false,
     "start_time": "2025-02-14T23:13:26.656532",
     "status": "completed"
    },
    "tags": []
   },
   "outputs": [
    {
     "data": {
      "text/plain": [
       "Index(['Row ID', 'Order ID', 'Order Date', 'Ship Date', 'Ship Mode',\n",
       "       'Customer ID', 'Customer Name', 'Segment', 'Country', 'City', 'State',\n",
       "       'Postal Code', 'Region', 'Product ID', 'Category', 'Sub-Category',\n",
       "       'Product Name', 'Sales'],\n",
       "      dtype='object')"
      ]
     },
     "execution_count": 4,
     "metadata": {},
     "output_type": "execute_result"
    }
   ],
   "source": [
    "df.columns"
   ]
  },
  {
   "cell_type": "code",
   "execution_count": 5,
   "id": "5cf1f1ef",
   "metadata": {
    "execution": {
     "iopub.execute_input": "2025-02-14T23:13:26.689903Z",
     "iopub.status.busy": "2025-02-14T23:13:26.689551Z",
     "iopub.status.idle": "2025-02-14T23:13:26.698222Z",
     "shell.execute_reply": "2025-02-14T23:13:26.696843Z"
    },
    "papermill": {
     "duration": 0.019585,
     "end_time": "2025-02-14T23:13:26.700369",
     "exception": false,
     "start_time": "2025-02-14T23:13:26.680784",
     "status": "completed"
    },
    "tags": []
   },
   "outputs": [],
   "source": [
    "#Setting up row ID as the index\n",
    "df.set_index(\"Row ID\", inplace=True)"
   ]
  },
  {
   "cell_type": "code",
   "execution_count": 6,
   "id": "1217093b",
   "metadata": {
    "execution": {
     "iopub.execute_input": "2025-02-14T23:13:26.716421Z",
     "iopub.status.busy": "2025-02-14T23:13:26.715971Z",
     "iopub.status.idle": "2025-02-14T23:13:26.737571Z",
     "shell.execute_reply": "2025-02-14T23:13:26.736225Z"
    },
    "papermill": {
     "duration": 0.03228,
     "end_time": "2025-02-14T23:13:26.740276",
     "exception": false,
     "start_time": "2025-02-14T23:13:26.707996",
     "status": "completed"
    },
    "tags": []
   },
   "outputs": [
    {
     "data": {
      "text/html": [
       "<div>\n",
       "<style scoped>\n",
       "    .dataframe tbody tr th:only-of-type {\n",
       "        vertical-align: middle;\n",
       "    }\n",
       "\n",
       "    .dataframe tbody tr th {\n",
       "        vertical-align: top;\n",
       "    }\n",
       "\n",
       "    .dataframe thead th {\n",
       "        text-align: right;\n",
       "    }\n",
       "</style>\n",
       "<table border=\"1\" class=\"dataframe\">\n",
       "  <thead>\n",
       "    <tr style=\"text-align: right;\">\n",
       "      <th></th>\n",
       "      <th>Order ID</th>\n",
       "      <th>Order Date</th>\n",
       "      <th>Ship Date</th>\n",
       "      <th>Ship Mode</th>\n",
       "      <th>Customer ID</th>\n",
       "      <th>Customer Name</th>\n",
       "      <th>Segment</th>\n",
       "      <th>Country</th>\n",
       "      <th>City</th>\n",
       "      <th>State</th>\n",
       "      <th>Postal Code</th>\n",
       "      <th>Region</th>\n",
       "      <th>Product ID</th>\n",
       "      <th>Category</th>\n",
       "      <th>Sub-Category</th>\n",
       "      <th>Product Name</th>\n",
       "      <th>Sales</th>\n",
       "    </tr>\n",
       "    <tr>\n",
       "      <th>Row ID</th>\n",
       "      <th></th>\n",
       "      <th></th>\n",
       "      <th></th>\n",
       "      <th></th>\n",
       "      <th></th>\n",
       "      <th></th>\n",
       "      <th></th>\n",
       "      <th></th>\n",
       "      <th></th>\n",
       "      <th></th>\n",
       "      <th></th>\n",
       "      <th></th>\n",
       "      <th></th>\n",
       "      <th></th>\n",
       "      <th></th>\n",
       "      <th></th>\n",
       "      <th></th>\n",
       "    </tr>\n",
       "  </thead>\n",
       "  <tbody>\n",
       "    <tr>\n",
       "      <th>1</th>\n",
       "      <td>CA-2017-152156</td>\n",
       "      <td>08/11/2017</td>\n",
       "      <td>11/11/2017</td>\n",
       "      <td>Second Class</td>\n",
       "      <td>CG-12520</td>\n",
       "      <td>Claire Gute</td>\n",
       "      <td>Consumer</td>\n",
       "      <td>United States</td>\n",
       "      <td>Henderson</td>\n",
       "      <td>Kentucky</td>\n",
       "      <td>42420.0</td>\n",
       "      <td>South</td>\n",
       "      <td>FUR-BO-10001798</td>\n",
       "      <td>Furniture</td>\n",
       "      <td>Bookcases</td>\n",
       "      <td>Bush Somerset Collection Bookcase</td>\n",
       "      <td>261.96</td>\n",
       "    </tr>\n",
       "    <tr>\n",
       "      <th>2</th>\n",
       "      <td>CA-2017-152156</td>\n",
       "      <td>08/11/2017</td>\n",
       "      <td>11/11/2017</td>\n",
       "      <td>Second Class</td>\n",
       "      <td>CG-12520</td>\n",
       "      <td>Claire Gute</td>\n",
       "      <td>Consumer</td>\n",
       "      <td>United States</td>\n",
       "      <td>Henderson</td>\n",
       "      <td>Kentucky</td>\n",
       "      <td>42420.0</td>\n",
       "      <td>South</td>\n",
       "      <td>FUR-CH-10000454</td>\n",
       "      <td>Furniture</td>\n",
       "      <td>Chairs</td>\n",
       "      <td>Hon Deluxe Fabric Upholstered Stacking Chairs,...</td>\n",
       "      <td>731.94</td>\n",
       "    </tr>\n",
       "  </tbody>\n",
       "</table>\n",
       "</div>"
      ],
      "text/plain": [
       "              Order ID  Order Date   Ship Date     Ship Mode Customer ID  \\\n",
       "Row ID                                                                     \n",
       "1       CA-2017-152156  08/11/2017  11/11/2017  Second Class    CG-12520   \n",
       "2       CA-2017-152156  08/11/2017  11/11/2017  Second Class    CG-12520   \n",
       "\n",
       "       Customer Name   Segment        Country       City     State  \\\n",
       "Row ID                                                               \n",
       "1        Claire Gute  Consumer  United States  Henderson  Kentucky   \n",
       "2        Claire Gute  Consumer  United States  Henderson  Kentucky   \n",
       "\n",
       "        Postal Code Region       Product ID   Category Sub-Category  \\\n",
       "Row ID                                                                \n",
       "1           42420.0  South  FUR-BO-10001798  Furniture    Bookcases   \n",
       "2           42420.0  South  FUR-CH-10000454  Furniture       Chairs   \n",
       "\n",
       "                                             Product Name   Sales  \n",
       "Row ID                                                             \n",
       "1                       Bush Somerset Collection Bookcase  261.96  \n",
       "2       Hon Deluxe Fabric Upholstered Stacking Chairs,...  731.94  "
      ]
     },
     "execution_count": 6,
     "metadata": {},
     "output_type": "execute_result"
    }
   ],
   "source": [
    "df.head(2)"
   ]
  },
  {
   "cell_type": "code",
   "execution_count": 7,
   "id": "af8ae8af",
   "metadata": {
    "execution": {
     "iopub.execute_input": "2025-02-14T23:13:26.756927Z",
     "iopub.status.busy": "2025-02-14T23:13:26.756553Z",
     "iopub.status.idle": "2025-02-14T23:13:26.775066Z",
     "shell.execute_reply": "2025-02-14T23:13:26.773468Z"
    },
    "papermill": {
     "duration": 0.029527,
     "end_time": "2025-02-14T23:13:26.777768",
     "exception": false,
     "start_time": "2025-02-14T23:13:26.748241",
     "status": "completed"
    },
    "tags": []
   },
   "outputs": [
    {
     "data": {
      "text/plain": [
       "Order ID          0\n",
       "Order Date        0\n",
       "Ship Date         0\n",
       "Ship Mode         0\n",
       "Customer ID       0\n",
       "Customer Name     0\n",
       "Segment           0\n",
       "Country           0\n",
       "City              0\n",
       "State             0\n",
       "Postal Code      11\n",
       "Region            0\n",
       "Product ID        0\n",
       "Category          0\n",
       "Sub-Category      0\n",
       "Product Name      0\n",
       "Sales             0\n",
       "dtype: int64"
      ]
     },
     "execution_count": 7,
     "metadata": {},
     "output_type": "execute_result"
    }
   ],
   "source": [
    "#To find out the null values\n",
    "df.isnull().sum()"
   ]
  },
  {
   "cell_type": "code",
   "execution_count": 8,
   "id": "e641172b",
   "metadata": {
    "execution": {
     "iopub.execute_input": "2025-02-14T23:13:26.795454Z",
     "iopub.status.busy": "2025-02-14T23:13:26.795028Z",
     "iopub.status.idle": "2025-02-14T23:13:26.801730Z",
     "shell.execute_reply": "2025-02-14T23:13:26.799956Z"
    },
    "papermill": {
     "duration": 0.018733,
     "end_time": "2025-02-14T23:13:26.804354",
     "exception": false,
     "start_time": "2025-02-14T23:13:26.785621",
     "status": "completed"
    },
    "tags": []
   },
   "outputs": [],
   "source": [
    "df[\"Postal Code\"]=df[\"Postal Code\"].fillna(df[\"Postal Code\"]).mean()"
   ]
  },
  {
   "cell_type": "code",
   "execution_count": 9,
   "id": "a3814aed",
   "metadata": {
    "execution": {
     "iopub.execute_input": "2025-02-14T23:13:26.822537Z",
     "iopub.status.busy": "2025-02-14T23:13:26.822126Z",
     "iopub.status.idle": "2025-02-14T23:13:26.839787Z",
     "shell.execute_reply": "2025-02-14T23:13:26.838503Z"
    },
    "papermill": {
     "duration": 0.028568,
     "end_time": "2025-02-14T23:13:26.841961",
     "exception": false,
     "start_time": "2025-02-14T23:13:26.813393",
     "status": "completed"
    },
    "tags": []
   },
   "outputs": [
    {
     "data": {
      "text/plain": [
       "Order ID         0\n",
       "Order Date       0\n",
       "Ship Date        0\n",
       "Ship Mode        0\n",
       "Customer ID      0\n",
       "Customer Name    0\n",
       "Segment          0\n",
       "Country          0\n",
       "City             0\n",
       "State            0\n",
       "Postal Code      0\n",
       "Region           0\n",
       "Product ID       0\n",
       "Category         0\n",
       "Sub-Category     0\n",
       "Product Name     0\n",
       "Sales            0\n",
       "dtype: int64"
      ]
     },
     "execution_count": 9,
     "metadata": {},
     "output_type": "execute_result"
    }
   ],
   "source": [
    "df.isnull().sum()"
   ]
  },
  {
   "cell_type": "code",
   "execution_count": 10,
   "id": "bd9f29c8",
   "metadata": {
    "execution": {
     "iopub.execute_input": "2025-02-14T23:13:26.861477Z",
     "iopub.status.busy": "2025-02-14T23:13:26.861068Z",
     "iopub.status.idle": "2025-02-14T23:13:26.869114Z",
     "shell.execute_reply": "2025-02-14T23:13:26.868010Z"
    },
    "papermill": {
     "duration": 0.019017,
     "end_time": "2025-02-14T23:13:26.870903",
     "exception": false,
     "start_time": "2025-02-14T23:13:26.851886",
     "status": "completed"
    },
    "tags": []
   },
   "outputs": [
    {
     "data": {
      "text/plain": [
       "Order ID          object\n",
       "Order Date        object\n",
       "Ship Date         object\n",
       "Ship Mode         object\n",
       "Customer ID       object\n",
       "Customer Name     object\n",
       "Segment           object\n",
       "Country           object\n",
       "City              object\n",
       "State             object\n",
       "Postal Code      float64\n",
       "Region            object\n",
       "Product ID        object\n",
       "Category          object\n",
       "Sub-Category      object\n",
       "Product Name      object\n",
       "Sales            float64\n",
       "dtype: object"
      ]
     },
     "execution_count": 10,
     "metadata": {},
     "output_type": "execute_result"
    }
   ],
   "source": [
    "df.dtypes"
   ]
  },
  {
   "cell_type": "code",
   "execution_count": 11,
   "id": "8d8e50c1",
   "metadata": {
    "execution": {
     "iopub.execute_input": "2025-02-14T23:13:26.889107Z",
     "iopub.status.busy": "2025-02-14T23:13:26.888755Z",
     "iopub.status.idle": "2025-02-14T23:13:26.896849Z",
     "shell.execute_reply": "2025-02-14T23:13:26.895800Z"
    },
    "papermill": {
     "duration": 0.019471,
     "end_time": "2025-02-14T23:13:26.899041",
     "exception": false,
     "start_time": "2025-02-14T23:13:26.879570",
     "status": "completed"
    },
    "tags": []
   },
   "outputs": [
    {
     "data": {
      "text/plain": [
       "Order ID          object\n",
       "Order Date        object\n",
       "Ship Date         object\n",
       "Ship Mode         object\n",
       "Customer ID       object\n",
       "Customer Name     object\n",
       "Segment           object\n",
       "Country           object\n",
       "City              object\n",
       "State             object\n",
       "Postal Code      float64\n",
       "Region            object\n",
       "Product ID        object\n",
       "Category          object\n",
       "Sub-Category      object\n",
       "Product Name      object\n",
       "Sales            float64\n",
       "dtype: object"
      ]
     },
     "execution_count": 11,
     "metadata": {},
     "output_type": "execute_result"
    }
   ],
   "source": [
    "df.dtypes\n"
   ]
  },
  {
   "cell_type": "code",
   "execution_count": 12,
   "id": "24d85860",
   "metadata": {
    "execution": {
     "iopub.execute_input": "2025-02-14T23:13:26.917854Z",
     "iopub.status.busy": "2025-02-14T23:13:26.917474Z",
     "iopub.status.idle": "2025-02-14T23:13:26.937543Z",
     "shell.execute_reply": "2025-02-14T23:13:26.936366Z"
    },
    "papermill": {
     "duration": 0.032156,
     "end_time": "2025-02-14T23:13:26.939398",
     "exception": false,
     "start_time": "2025-02-14T23:13:26.907242",
     "status": "completed"
    },
    "tags": []
   },
   "outputs": [],
   "source": [
    "# Add a seperate column year to the table\n",
    "df[\"Order Date\"]=pd.to_datetime(df[\"Order Date\"], format='%d/%m/%Y')\n",
    "df[\"Year\"]=df[\"Order Date\"].dt.year"
   ]
  },
  {
   "cell_type": "code",
   "execution_count": 13,
   "id": "c1c4b7e5",
   "metadata": {
    "execution": {
     "iopub.execute_input": "2025-02-14T23:13:26.957380Z",
     "iopub.status.busy": "2025-02-14T23:13:26.956987Z",
     "iopub.status.idle": "2025-02-14T23:13:26.977700Z",
     "shell.execute_reply": "2025-02-14T23:13:26.976404Z"
    },
    "papermill": {
     "duration": 0.032081,
     "end_time": "2025-02-14T23:13:26.979649",
     "exception": false,
     "start_time": "2025-02-14T23:13:26.947568",
     "status": "completed"
    },
    "tags": []
   },
   "outputs": [
    {
     "data": {
      "text/html": [
       "<div>\n",
       "<style scoped>\n",
       "    .dataframe tbody tr th:only-of-type {\n",
       "        vertical-align: middle;\n",
       "    }\n",
       "\n",
       "    .dataframe tbody tr th {\n",
       "        vertical-align: top;\n",
       "    }\n",
       "\n",
       "    .dataframe thead th {\n",
       "        text-align: right;\n",
       "    }\n",
       "</style>\n",
       "<table border=\"1\" class=\"dataframe\">\n",
       "  <thead>\n",
       "    <tr style=\"text-align: right;\">\n",
       "      <th></th>\n",
       "      <th>Order ID</th>\n",
       "      <th>Order Date</th>\n",
       "      <th>Ship Date</th>\n",
       "      <th>Ship Mode</th>\n",
       "      <th>Customer ID</th>\n",
       "      <th>Customer Name</th>\n",
       "      <th>Segment</th>\n",
       "      <th>Country</th>\n",
       "      <th>City</th>\n",
       "      <th>State</th>\n",
       "      <th>Postal Code</th>\n",
       "      <th>Region</th>\n",
       "      <th>Product ID</th>\n",
       "      <th>Category</th>\n",
       "      <th>Sub-Category</th>\n",
       "      <th>Product Name</th>\n",
       "      <th>Sales</th>\n",
       "      <th>Year</th>\n",
       "    </tr>\n",
       "    <tr>\n",
       "      <th>Row ID</th>\n",
       "      <th></th>\n",
       "      <th></th>\n",
       "      <th></th>\n",
       "      <th></th>\n",
       "      <th></th>\n",
       "      <th></th>\n",
       "      <th></th>\n",
       "      <th></th>\n",
       "      <th></th>\n",
       "      <th></th>\n",
       "      <th></th>\n",
       "      <th></th>\n",
       "      <th></th>\n",
       "      <th></th>\n",
       "      <th></th>\n",
       "      <th></th>\n",
       "      <th></th>\n",
       "      <th></th>\n",
       "    </tr>\n",
       "  </thead>\n",
       "  <tbody>\n",
       "    <tr>\n",
       "      <th>1</th>\n",
       "      <td>CA-2017-152156</td>\n",
       "      <td>2017-11-08</td>\n",
       "      <td>11/11/2017</td>\n",
       "      <td>Second Class</td>\n",
       "      <td>CG-12520</td>\n",
       "      <td>Claire Gute</td>\n",
       "      <td>Consumer</td>\n",
       "      <td>United States</td>\n",
       "      <td>Henderson</td>\n",
       "      <td>Kentucky</td>\n",
       "      <td>55273.322403</td>\n",
       "      <td>South</td>\n",
       "      <td>FUR-BO-10001798</td>\n",
       "      <td>Furniture</td>\n",
       "      <td>Bookcases</td>\n",
       "      <td>Bush Somerset Collection Bookcase</td>\n",
       "      <td>261.96</td>\n",
       "      <td>2017</td>\n",
       "    </tr>\n",
       "    <tr>\n",
       "      <th>2</th>\n",
       "      <td>CA-2017-152156</td>\n",
       "      <td>2017-11-08</td>\n",
       "      <td>11/11/2017</td>\n",
       "      <td>Second Class</td>\n",
       "      <td>CG-12520</td>\n",
       "      <td>Claire Gute</td>\n",
       "      <td>Consumer</td>\n",
       "      <td>United States</td>\n",
       "      <td>Henderson</td>\n",
       "      <td>Kentucky</td>\n",
       "      <td>55273.322403</td>\n",
       "      <td>South</td>\n",
       "      <td>FUR-CH-10000454</td>\n",
       "      <td>Furniture</td>\n",
       "      <td>Chairs</td>\n",
       "      <td>Hon Deluxe Fabric Upholstered Stacking Chairs,...</td>\n",
       "      <td>731.94</td>\n",
       "      <td>2017</td>\n",
       "    </tr>\n",
       "    <tr>\n",
       "      <th>3</th>\n",
       "      <td>CA-2017-138688</td>\n",
       "      <td>2017-06-12</td>\n",
       "      <td>16/06/2017</td>\n",
       "      <td>Second Class</td>\n",
       "      <td>DV-13045</td>\n",
       "      <td>Darrin Van Huff</td>\n",
       "      <td>Corporate</td>\n",
       "      <td>United States</td>\n",
       "      <td>Los Angeles</td>\n",
       "      <td>California</td>\n",
       "      <td>55273.322403</td>\n",
       "      <td>West</td>\n",
       "      <td>OFF-LA-10000240</td>\n",
       "      <td>Office Supplies</td>\n",
       "      <td>Labels</td>\n",
       "      <td>Self-Adhesive Address Labels for Typewriters b...</td>\n",
       "      <td>14.62</td>\n",
       "      <td>2017</td>\n",
       "    </tr>\n",
       "  </tbody>\n",
       "</table>\n",
       "</div>"
      ],
      "text/plain": [
       "              Order ID Order Date   Ship Date     Ship Mode Customer ID  \\\n",
       "Row ID                                                                    \n",
       "1       CA-2017-152156 2017-11-08  11/11/2017  Second Class    CG-12520   \n",
       "2       CA-2017-152156 2017-11-08  11/11/2017  Second Class    CG-12520   \n",
       "3       CA-2017-138688 2017-06-12  16/06/2017  Second Class    DV-13045   \n",
       "\n",
       "          Customer Name    Segment        Country         City       State  \\\n",
       "Row ID                                                                       \n",
       "1           Claire Gute   Consumer  United States    Henderson    Kentucky   \n",
       "2           Claire Gute   Consumer  United States    Henderson    Kentucky   \n",
       "3       Darrin Van Huff  Corporate  United States  Los Angeles  California   \n",
       "\n",
       "         Postal Code Region       Product ID         Category Sub-Category  \\\n",
       "Row ID                                                                       \n",
       "1       55273.322403  South  FUR-BO-10001798        Furniture    Bookcases   \n",
       "2       55273.322403  South  FUR-CH-10000454        Furniture       Chairs   \n",
       "3       55273.322403   West  OFF-LA-10000240  Office Supplies       Labels   \n",
       "\n",
       "                                             Product Name   Sales  Year  \n",
       "Row ID                                                                   \n",
       "1                       Bush Somerset Collection Bookcase  261.96  2017  \n",
       "2       Hon Deluxe Fabric Upholstered Stacking Chairs,...  731.94  2017  \n",
       "3       Self-Adhesive Address Labels for Typewriters b...   14.62  2017  "
      ]
     },
     "execution_count": 13,
     "metadata": {},
     "output_type": "execute_result"
    }
   ],
   "source": [
    "df.head(3)"
   ]
  },
  {
   "cell_type": "code",
   "execution_count": 14,
   "id": "38c86558",
   "metadata": {
    "execution": {
     "iopub.execute_input": "2025-02-14T23:13:26.996860Z",
     "iopub.status.busy": "2025-02-14T23:13:26.996453Z",
     "iopub.status.idle": "2025-02-14T23:13:27.004659Z",
     "shell.execute_reply": "2025-02-14T23:13:27.003472Z"
    },
    "papermill": {
     "duration": 0.019341,
     "end_time": "2025-02-14T23:13:27.007019",
     "exception": false,
     "start_time": "2025-02-14T23:13:26.987678",
     "status": "completed"
    },
    "tags": []
   },
   "outputs": [
    {
     "name": "stdout",
     "output_type": "stream",
     "text": [
      "2018\n",
      "2015\n"
     ]
    }
   ],
   "source": [
    "print(df[\"Year\"].max())\n",
    "print(df[\"Year\"].min())"
   ]
  },
  {
   "cell_type": "code",
   "execution_count": 15,
   "id": "df1e70bb",
   "metadata": {
    "execution": {
     "iopub.execute_input": "2025-02-14T23:13:27.024891Z",
     "iopub.status.busy": "2025-02-14T23:13:27.024516Z",
     "iopub.status.idle": "2025-02-14T23:13:27.039509Z",
     "shell.execute_reply": "2025-02-14T23:13:27.038110Z"
    },
    "papermill": {
     "duration": 0.026087,
     "end_time": "2025-02-14T23:13:27.041443",
     "exception": false,
     "start_time": "2025-02-14T23:13:27.015356",
     "status": "completed"
    },
    "tags": []
   },
   "outputs": [
    {
     "data": {
      "text/html": [
       "<div>\n",
       "<style scoped>\n",
       "    .dataframe tbody tr th:only-of-type {\n",
       "        vertical-align: middle;\n",
       "    }\n",
       "\n",
       "    .dataframe tbody tr th {\n",
       "        vertical-align: top;\n",
       "    }\n",
       "\n",
       "    .dataframe thead th {\n",
       "        text-align: right;\n",
       "    }\n",
       "</style>\n",
       "<table border=\"1\" class=\"dataframe\">\n",
       "  <thead>\n",
       "    <tr style=\"text-align: right;\">\n",
       "      <th></th>\n",
       "      <th>Year</th>\n",
       "      <th>Sales</th>\n",
       "    </tr>\n",
       "  </thead>\n",
       "  <tbody>\n",
       "    <tr>\n",
       "      <th>0</th>\n",
       "      <td>2015</td>\n",
       "      <td>245.702103</td>\n",
       "    </tr>\n",
       "    <tr>\n",
       "      <th>1</th>\n",
       "      <td>2016</td>\n",
       "      <td>223.569832</td>\n",
       "    </tr>\n",
       "    <tr>\n",
       "      <th>2</th>\n",
       "      <td>2017</td>\n",
       "      <td>236.855781</td>\n",
       "    </tr>\n",
       "    <tr>\n",
       "      <th>3</th>\n",
       "      <td>2018</td>\n",
       "      <td>221.624315</td>\n",
       "    </tr>\n",
       "  </tbody>\n",
       "</table>\n",
       "</div>"
      ],
      "text/plain": [
       "   Year       Sales\n",
       "0  2015  245.702103\n",
       "1  2016  223.569832\n",
       "2  2017  236.855781\n",
       "3  2018  221.624315"
      ]
     },
     "execution_count": 15,
     "metadata": {},
     "output_type": "execute_result"
    }
   ],
   "source": [
    "#Grouping the sales with year and creating it in a new dataframe\n",
    "df_SY=df.groupby(\"Year\")[\"Sales\"].mean().reset_index()\n",
    "df_SY"
   ]
  },
  {
   "cell_type": "code",
   "execution_count": 16,
   "id": "c9ca05d4",
   "metadata": {
    "execution": {
     "iopub.execute_input": "2025-02-14T23:13:27.059141Z",
     "iopub.status.busy": "2025-02-14T23:13:27.058797Z",
     "iopub.status.idle": "2025-02-14T23:13:29.295307Z",
     "shell.execute_reply": "2025-02-14T23:13:29.294205Z"
    },
    "papermill": {
     "duration": 2.24771,
     "end_time": "2025-02-14T23:13:29.297259",
     "exception": false,
     "start_time": "2025-02-14T23:13:27.049549",
     "status": "completed"
    },
    "tags": []
   },
   "outputs": [
    {
     "data": {
      "text/plain": [
       "Text(0.5, 1.0, 'Sales of Furniture Per year')"
      ]
     },
     "execution_count": 16,
     "metadata": {},
     "output_type": "execute_result"
    },
    {
     "data": {
      "image/png": "[encoded data removed]",
      "text/plain": [
       "<Figure size 640x480 with 1 Axes>"
      ]
     },
     "metadata": {},
     "output_type": "display_data"
    }
   ],
   "source": [
    "\n",
    "#To plot how much sales of furniture are done in per year\n",
    "import seaborn as sns\n",
    "import matplotlib.pyplot as plt\n",
    "sns.barplot(data=df_SY,x=\"Year\",y=\"Sales\", color=\"violet\")\n",
    "plt.xlabel(\"Year\")\n",
    "plt.ylabel(\"Yearly sales\")\n",
    "plt.title(\"Sales of Furniture Per year\")"
   ]
  },
  {
   "cell_type": "code",
   "execution_count": 17,
   "id": "79fc8791",
   "metadata": {
    "execution": {
     "iopub.execute_input": "2025-02-14T23:13:29.315887Z",
     "iopub.status.busy": "2025-02-14T23:13:29.315393Z",
     "iopub.status.idle": "2025-02-14T23:13:29.328554Z",
     "shell.execute_reply": "2025-02-14T23:13:29.327211Z"
    },
    "papermill": {
     "duration": 0.024601,
     "end_time": "2025-02-14T23:13:29.330526",
     "exception": false,
     "start_time": "2025-02-14T23:13:29.305925",
     "status": "completed"
    },
    "tags": []
   },
   "outputs": [
    {
     "data": {
      "text/html": [
       "<div>\n",
       "<style scoped>\n",
       "    .dataframe tbody tr th:only-of-type {\n",
       "        vertical-align: middle;\n",
       "    }\n",
       "\n",
       "    .dataframe tbody tr th {\n",
       "        vertical-align: top;\n",
       "    }\n",
       "\n",
       "    .dataframe thead th {\n",
       "        text-align: right;\n",
       "    }\n",
       "</style>\n",
       "<table border=\"1\" class=\"dataframe\">\n",
       "  <thead>\n",
       "    <tr style=\"text-align: right;\">\n",
       "      <th></th>\n",
       "      <th>Sub-Category</th>\n",
       "      <th>Sales</th>\n",
       "    </tr>\n",
       "  </thead>\n",
       "  <tbody>\n",
       "    <tr>\n",
       "      <th>0</th>\n",
       "      <td>Accessories</td>\n",
       "      <td>217.178175</td>\n",
       "    </tr>\n",
       "    <tr>\n",
       "      <th>1</th>\n",
       "      <td>Appliances</td>\n",
       "      <td>227.926804</td>\n",
       "    </tr>\n",
       "    <tr>\n",
       "      <th>2</th>\n",
       "      <td>Art</td>\n",
       "      <td>34.019631</td>\n",
       "    </tr>\n",
       "    <tr>\n",
       "      <th>3</th>\n",
       "      <td>Binders</td>\n",
       "      <td>134.067550</td>\n",
       "    </tr>\n",
       "    <tr>\n",
       "      <th>4</th>\n",
       "      <td>Bookcases</td>\n",
       "      <td>503.598224</td>\n",
       "    </tr>\n",
       "    <tr>\n",
       "      <th>5</th>\n",
       "      <td>Chairs</td>\n",
       "      <td>531.833165</td>\n",
       "    </tr>\n",
       "    <tr>\n",
       "      <th>6</th>\n",
       "      <td>Copiers</td>\n",
       "      <td>2215.880212</td>\n",
       "    </tr>\n",
       "    <tr>\n",
       "      <th>7</th>\n",
       "      <td>Envelopes</td>\n",
       "      <td>65.032444</td>\n",
       "    </tr>\n",
       "    <tr>\n",
       "      <th>8</th>\n",
       "      <td>Fasteners</td>\n",
       "      <td>14.027850</td>\n",
       "    </tr>\n",
       "    <tr>\n",
       "      <th>9</th>\n",
       "      <td>Furnishings</td>\n",
       "      <td>95.823865</td>\n",
       "    </tr>\n",
       "    <tr>\n",
       "      <th>10</th>\n",
       "      <td>Labels</td>\n",
       "      <td>34.587468</td>\n",
       "    </tr>\n",
       "    <tr>\n",
       "      <th>11</th>\n",
       "      <td>Machines</td>\n",
       "      <td>1645.553313</td>\n",
       "    </tr>\n",
       "    <tr>\n",
       "      <th>12</th>\n",
       "      <td>Paper</td>\n",
       "      <td>57.420257</td>\n",
       "    </tr>\n",
       "    <tr>\n",
       "      <th>13</th>\n",
       "      <td>Phones</td>\n",
       "      <td>374.180877</td>\n",
       "    </tr>\n",
       "    <tr>\n",
       "      <th>14</th>\n",
       "      <td>Storage</td>\n",
       "      <td>263.633885</td>\n",
       "    </tr>\n",
       "    <tr>\n",
       "      <th>15</th>\n",
       "      <td>Supplies</td>\n",
       "      <td>252.284283</td>\n",
       "    </tr>\n",
       "    <tr>\n",
       "      <th>16</th>\n",
       "      <td>Tables</td>\n",
       "      <td>645.893720</td>\n",
       "    </tr>\n",
       "  </tbody>\n",
       "</table>\n",
       "</div>"
      ],
      "text/plain": [
       "   Sub-Category        Sales\n",
       "0   Accessories   217.178175\n",
       "1    Appliances   227.926804\n",
       "2           Art    34.019631\n",
       "3       Binders   134.067550\n",
       "4     Bookcases   503.598224\n",
       "5        Chairs   531.833165\n",
       "6       Copiers  2215.880212\n",
       "7     Envelopes    65.032444\n",
       "8     Fasteners    14.027850\n",
       "9   Furnishings    95.823865\n",
       "10       Labels    34.587468\n",
       "11     Machines  1645.553313\n",
       "12        Paper    57.420257\n",
       "13       Phones   374.180877\n",
       "14      Storage   263.633885\n",
       "15     Supplies   252.284283\n",
       "16       Tables   645.893720"
      ]
     },
     "execution_count": 17,
     "metadata": {},
     "output_type": "execute_result"
    }
   ],
   "source": [
    "#Now creating a dataframe that shows the type of furniture are selling per year\n",
    "df_TYF=df.groupby([\"Sub-Category\"])[\"Sales\"].mean().reset_index()\n",
    "df_TYF"
   ]
  },
  {
   "cell_type": "code",
   "execution_count": 18,
   "id": "fee196f7",
   "metadata": {
    "execution": {
     "iopub.execute_input": "2025-02-14T23:13:29.349406Z",
     "iopub.status.busy": "2025-02-14T23:13:29.349008Z",
     "iopub.status.idle": "2025-02-14T23:13:29.600011Z",
     "shell.execute_reply": "2025-02-14T23:13:29.598873Z"
    },
    "papermill": {
     "duration": 0.262556,
     "end_time": "2025-02-14T23:13:29.602024",
     "exception": false,
     "start_time": "2025-02-14T23:13:29.339468",
     "status": "completed"
    },
    "tags": []
   },
   "outputs": [
    {
     "data": {
      "image/png": "[encoded data removed]",
      "text/plain": [
       "<Figure size 640x480 with 1 Axes>"
      ]
     },
     "metadata": {},
     "output_type": "display_data"
    }
   ],
   "source": [
    "sns.barplot(data=df_TYF, x=\"Sub-Category\", y=\"Sales\", color=\"red\")\n",
    "#plt.figure(figsize=(10,8))\n",
    "plt.xticks(rotation=45)\n",
    "plt.show()"
   ]
  },
  {
   "cell_type": "markdown",
   "id": "03793e93",
   "metadata": {
    "papermill": {
     "duration": 0.009257,
     "end_time": "2025-02-14T23:13:29.621745",
     "exception": false,
     "start_time": "2025-02-14T23:13:29.612488",
     "status": "completed"
    },
    "tags": []
   },
   "source": [
    "We can see that Fastners are least sold items among the other"
   ]
  },
  {
   "cell_type": "code",
   "execution_count": 19,
   "id": "b13ccfbc",
   "metadata": {
    "execution": {
     "iopub.execute_input": "2025-02-14T23:13:29.642843Z",
     "iopub.status.busy": "2025-02-14T23:13:29.642498Z",
     "iopub.status.idle": "2025-02-14T23:13:29.662116Z",
     "shell.execute_reply": "2025-02-14T23:13:29.660862Z"
    },
    "papermill": {
     "duration": 0.032819,
     "end_time": "2025-02-14T23:13:29.664306",
     "exception": false,
     "start_time": "2025-02-14T23:13:29.631487",
     "status": "completed"
    },
    "tags": []
   },
   "outputs": [
    {
     "data": {
      "text/html": [
       "<div>\n",
       "<style scoped>\n",
       "    .dataframe tbody tr th:only-of-type {\n",
       "        vertical-align: middle;\n",
       "    }\n",
       "\n",
       "    .dataframe tbody tr th {\n",
       "        vertical-align: top;\n",
       "    }\n",
       "\n",
       "    .dataframe thead th {\n",
       "        text-align: right;\n",
       "    }\n",
       "</style>\n",
       "<table border=\"1\" class=\"dataframe\">\n",
       "  <thead>\n",
       "    <tr style=\"text-align: right;\">\n",
       "      <th></th>\n",
       "      <th>Order ID</th>\n",
       "      <th>Order Date</th>\n",
       "      <th>Ship Date</th>\n",
       "      <th>Ship Mode</th>\n",
       "      <th>Customer ID</th>\n",
       "      <th>Customer Name</th>\n",
       "      <th>Segment</th>\n",
       "      <th>Country</th>\n",
       "      <th>City</th>\n",
       "      <th>State</th>\n",
       "      <th>Postal Code</th>\n",
       "      <th>Region</th>\n",
       "      <th>Product ID</th>\n",
       "      <th>Category</th>\n",
       "      <th>Sub-Category</th>\n",
       "      <th>Product Name</th>\n",
       "      <th>Sales</th>\n",
       "      <th>Year</th>\n",
       "    </tr>\n",
       "    <tr>\n",
       "      <th>Row ID</th>\n",
       "      <th></th>\n",
       "      <th></th>\n",
       "      <th></th>\n",
       "      <th></th>\n",
       "      <th></th>\n",
       "      <th></th>\n",
       "      <th></th>\n",
       "      <th></th>\n",
       "      <th></th>\n",
       "      <th></th>\n",
       "      <th></th>\n",
       "      <th></th>\n",
       "      <th></th>\n",
       "      <th></th>\n",
       "      <th></th>\n",
       "      <th></th>\n",
       "      <th></th>\n",
       "      <th></th>\n",
       "    </tr>\n",
       "  </thead>\n",
       "  <tbody>\n",
       "    <tr>\n",
       "      <th>1</th>\n",
       "      <td>CA-2017-152156</td>\n",
       "      <td>2017-11-08</td>\n",
       "      <td>11/11/2017</td>\n",
       "      <td>Second Class</td>\n",
       "      <td>CG-12520</td>\n",
       "      <td>Claire Gute</td>\n",
       "      <td>Consumer</td>\n",
       "      <td>United States</td>\n",
       "      <td>Henderson</td>\n",
       "      <td>Kentucky</td>\n",
       "      <td>55273.322403</td>\n",
       "      <td>South</td>\n",
       "      <td>FUR-BO-10001798</td>\n",
       "      <td>Furniture</td>\n",
       "      <td>Bookcases</td>\n",
       "      <td>Bush Somerset Collection Bookcase</td>\n",
       "      <td>261.9600</td>\n",
       "      <td>2017</td>\n",
       "    </tr>\n",
       "    <tr>\n",
       "      <th>2</th>\n",
       "      <td>CA-2017-152156</td>\n",
       "      <td>2017-11-08</td>\n",
       "      <td>11/11/2017</td>\n",
       "      <td>Second Class</td>\n",
       "      <td>CG-12520</td>\n",
       "      <td>Claire Gute</td>\n",
       "      <td>Consumer</td>\n",
       "      <td>United States</td>\n",
       "      <td>Henderson</td>\n",
       "      <td>Kentucky</td>\n",
       "      <td>55273.322403</td>\n",
       "      <td>South</td>\n",
       "      <td>FUR-CH-10000454</td>\n",
       "      <td>Furniture</td>\n",
       "      <td>Chairs</td>\n",
       "      <td>Hon Deluxe Fabric Upholstered Stacking Chairs,...</td>\n",
       "      <td>731.9400</td>\n",
       "      <td>2017</td>\n",
       "    </tr>\n",
       "    <tr>\n",
       "      <th>3</th>\n",
       "      <td>CA-2017-138688</td>\n",
       "      <td>2017-06-12</td>\n",
       "      <td>16/06/2017</td>\n",
       "      <td>Second Class</td>\n",
       "      <td>DV-13045</td>\n",
       "      <td>Darrin Van Huff</td>\n",
       "      <td>Corporate</td>\n",
       "      <td>United States</td>\n",
       "      <td>Los Angeles</td>\n",
       "      <td>California</td>\n",
       "      <td>55273.322403</td>\n",
       "      <td>West</td>\n",
       "      <td>OFF-LA-10000240</td>\n",
       "      <td>Office Supplies</td>\n",
       "      <td>Labels</td>\n",
       "      <td>Self-Adhesive Address Labels for Typewriters b...</td>\n",
       "      <td>14.6200</td>\n",
       "      <td>2017</td>\n",
       "    </tr>\n",
       "    <tr>\n",
       "      <th>4</th>\n",
       "      <td>US-2016-108966</td>\n",
       "      <td>2016-10-11</td>\n",
       "      <td>18/10/2016</td>\n",
       "      <td>Standard Class</td>\n",
       "      <td>SO-20335</td>\n",
       "      <td>Sean O'Donnell</td>\n",
       "      <td>Consumer</td>\n",
       "      <td>United States</td>\n",
       "      <td>Fort Lauderdale</td>\n",
       "      <td>Florida</td>\n",
       "      <td>55273.322403</td>\n",
       "      <td>South</td>\n",
       "      <td>FUR-TA-10000577</td>\n",
       "      <td>Furniture</td>\n",
       "      <td>Tables</td>\n",
       "      <td>Bretford CR4500 Series Slim Rectangular Table</td>\n",
       "      <td>957.5775</td>\n",
       "      <td>2016</td>\n",
       "    </tr>\n",
       "    <tr>\n",
       "      <th>5</th>\n",
       "      <td>US-2016-108966</td>\n",
       "      <td>2016-10-11</td>\n",
       "      <td>18/10/2016</td>\n",
       "      <td>Standard Class</td>\n",
       "      <td>SO-20335</td>\n",
       "      <td>Sean O'Donnell</td>\n",
       "      <td>Consumer</td>\n",
       "      <td>United States</td>\n",
       "      <td>Fort Lauderdale</td>\n",
       "      <td>Florida</td>\n",
       "      <td>55273.322403</td>\n",
       "      <td>South</td>\n",
       "      <td>OFF-ST-10000760</td>\n",
       "      <td>Office Supplies</td>\n",
       "      <td>Storage</td>\n",
       "      <td>Eldon Fold 'N Roll Cart System</td>\n",
       "      <td>22.3680</td>\n",
       "      <td>2016</td>\n",
       "    </tr>\n",
       "  </tbody>\n",
       "</table>\n",
       "</div>"
      ],
      "text/plain": [
       "              Order ID Order Date   Ship Date       Ship Mode Customer ID  \\\n",
       "Row ID                                                                      \n",
       "1       CA-2017-152156 2017-11-08  11/11/2017    Second Class    CG-12520   \n",
       "2       CA-2017-152156 2017-11-08  11/11/2017    Second Class    CG-12520   \n",
       "3       CA-2017-138688 2017-06-12  16/06/2017    Second Class    DV-13045   \n",
       "4       US-2016-108966 2016-10-11  18/10/2016  Standard Class    SO-20335   \n",
       "5       US-2016-108966 2016-10-11  18/10/2016  Standard Class    SO-20335   \n",
       "\n",
       "          Customer Name    Segment        Country             City  \\\n",
       "Row ID                                                               \n",
       "1           Claire Gute   Consumer  United States        Henderson   \n",
       "2           Claire Gute   Consumer  United States        Henderson   \n",
       "3       Darrin Van Huff  Corporate  United States      Los Angeles   \n",
       "4        Sean O'Donnell   Consumer  United States  Fort Lauderdale   \n",
       "5        Sean O'Donnell   Consumer  United States  Fort Lauderdale   \n",
       "\n",
       "             State   Postal Code Region       Product ID         Category  \\\n",
       "Row ID                                                                      \n",
       "1         Kentucky  55273.322403  South  FUR-BO-10001798        Furniture   \n",
       "2         Kentucky  55273.322403  South  FUR-CH-10000454        Furniture   \n",
       "3       California  55273.322403   West  OFF-LA-10000240  Office Supplies   \n",
       "4          Florida  55273.322403  South  FUR-TA-10000577        Furniture   \n",
       "5          Florida  55273.322403  South  OFF-ST-10000760  Office Supplies   \n",
       "\n",
       "       Sub-Category                                       Product Name  \\\n",
       "Row ID                                                                   \n",
       "1         Bookcases                  Bush Somerset Collection Bookcase   \n",
       "2            Chairs  Hon Deluxe Fabric Upholstered Stacking Chairs,...   \n",
       "3            Labels  Self-Adhesive Address Labels for Typewriters b...   \n",
       "4            Tables      Bretford CR4500 Series Slim Rectangular Table   \n",
       "5           Storage                     Eldon Fold 'N Roll Cart System   \n",
       "\n",
       "           Sales  Year  \n",
       "Row ID                  \n",
       "1       261.9600  2017  \n",
       "2       731.9400  2017  \n",
       "3        14.6200  2017  \n",
       "4       957.5775  2016  \n",
       "5        22.3680  2016  "
      ]
     },
     "execution_count": 19,
     "metadata": {},
     "output_type": "execute_result"
    }
   ],
   "source": [
    "df.head()"
   ]
  },
  {
   "cell_type": "code",
   "execution_count": 20,
   "id": "08cfd44a",
   "metadata": {
    "execution": {
     "iopub.execute_input": "2025-02-14T23:13:29.687471Z",
     "iopub.status.busy": "2025-02-14T23:13:29.687033Z",
     "iopub.status.idle": "2025-02-14T23:13:29.702014Z",
     "shell.execute_reply": "2025-02-14T23:13:29.700919Z"
    },
    "papermill": {
     "duration": 0.028598,
     "end_time": "2025-02-14T23:13:29.704536",
     "exception": false,
     "start_time": "2025-02-14T23:13:29.675938",
     "status": "completed"
    },
    "tags": []
   },
   "outputs": [
    {
     "data": {
      "text/html": [
       "<div>\n",
       "<style scoped>\n",
       "    .dataframe tbody tr th:only-of-type {\n",
       "        vertical-align: middle;\n",
       "    }\n",
       "\n",
       "    .dataframe tbody tr th {\n",
       "        vertical-align: top;\n",
       "    }\n",
       "\n",
       "    .dataframe thead th {\n",
       "        text-align: right;\n",
       "    }\n",
       "</style>\n",
       "<table border=\"1\" class=\"dataframe\">\n",
       "  <thead>\n",
       "    <tr style=\"text-align: right;\">\n",
       "      <th></th>\n",
       "      <th>Ship Mode</th>\n",
       "      <th>Count</th>\n",
       "    </tr>\n",
       "    <tr>\n",
       "      <th>Country</th>\n",
       "      <th></th>\n",
       "      <th></th>\n",
       "    </tr>\n",
       "  </thead>\n",
       "  <tbody>\n",
       "    <tr>\n",
       "      <th>United States</th>\n",
       "      <td>First Class</td>\n",
       "      <td>1501</td>\n",
       "    </tr>\n",
       "    <tr>\n",
       "      <th>United States</th>\n",
       "      <td>Same Day</td>\n",
       "      <td>538</td>\n",
       "    </tr>\n",
       "    <tr>\n",
       "      <th>United States</th>\n",
       "      <td>Second Class</td>\n",
       "      <td>1902</td>\n",
       "    </tr>\n",
       "    <tr>\n",
       "      <th>United States</th>\n",
       "      <td>Standard Class</td>\n",
       "      <td>5859</td>\n",
       "    </tr>\n",
       "  </tbody>\n",
       "</table>\n",
       "</div>"
      ],
      "text/plain": [
       "                    Ship Mode  Count\n",
       "Country                             \n",
       "United States     First Class   1501\n",
       "United States        Same Day    538\n",
       "United States    Second Class   1902\n",
       "United States  Standard Class   5859"
      ]
     },
     "execution_count": 20,
     "metadata": {},
     "output_type": "execute_result"
    }
   ],
   "source": [
    "#Now we can do a pie chart to see which country has used which type of shipmode\n",
    "df_SHM=df.groupby([\"Country\",\"Ship Mode\"]).size().reset_index(name=\"Count\")\n",
    "df_SHM.set_index(\"Country\", inplace=True)\n",
    "df_SHM"
   ]
  },
  {
   "cell_type": "code",
   "execution_count": 21,
   "id": "94aed5cd",
   "metadata": {
    "execution": {
     "iopub.execute_input": "2025-02-14T23:13:29.726731Z",
     "iopub.status.busy": "2025-02-14T23:13:29.726290Z",
     "iopub.status.idle": "2025-02-14T23:13:29.980083Z",
     "shell.execute_reply": "2025-02-14T23:13:29.978516Z"
    },
    "papermill": {
     "duration": 0.266807,
     "end_time": "2025-02-14T23:13:29.982189",
     "exception": false,
     "start_time": "2025-02-14T23:13:29.715382",
     "status": "completed"
    },
    "tags": []
   },
   "outputs": [
    {
     "data": {
      "image/png": "[encoded data removed]",
      "text/plain": [
       "<Figure size 500x600 with 1 Axes>"
      ]
     },
     "metadata": {},
     "output_type": "display_data"
    }
   ],
   "source": [
    "#Now make a Pie chart to see the variation\n",
    "df_SHM[\"Count\"].plot(kind=\"pie\",startangle=90, figsize=(5,6),autopct='%1.1f%%', legend=True, ylabel='', labels=df_SHM[\"Ship Mode\"])\n",
    "plt.title(\"Different categories of Shipping mode used by US\")\n",
    "plt.show()"
   ]
  },
  {
   "cell_type": "markdown",
   "id": "55dbe410",
   "metadata": {
    "papermill": {
     "duration": 0.011059,
     "end_time": "2025-02-14T23:13:30.004173",
     "exception": false,
     "start_time": "2025-02-14T23:13:29.993114",
     "status": "completed"
    },
    "tags": []
   },
   "source": [
    "We can see that the standard class shipping mode has been used maximum by US"
   ]
  },
  {
   "cell_type": "code",
   "execution_count": 22,
   "id": "67a28d69",
   "metadata": {
    "execution": {
     "iopub.execute_input": "2025-02-14T23:13:30.027891Z",
     "iopub.status.busy": "2025-02-14T23:13:30.027471Z",
     "iopub.status.idle": "2025-02-14T23:13:30.045748Z",
     "shell.execute_reply": "2025-02-14T23:13:30.044728Z"
    },
    "papermill": {
     "duration": 0.032325,
     "end_time": "2025-02-14T23:13:30.047404",
     "exception": false,
     "start_time": "2025-02-14T23:13:30.015079",
     "status": "completed"
    },
    "tags": []
   },
   "outputs": [
    {
     "data": {
      "text/html": [
       "<div>\n",
       "<style scoped>\n",
       "    .dataframe tbody tr th:only-of-type {\n",
       "        vertical-align: middle;\n",
       "    }\n",
       "\n",
       "    .dataframe tbody tr th {\n",
       "        vertical-align: top;\n",
       "    }\n",
       "\n",
       "    .dataframe thead th {\n",
       "        text-align: right;\n",
       "    }\n",
       "</style>\n",
       "<table border=\"1\" class=\"dataframe\">\n",
       "  <thead>\n",
       "    <tr style=\"text-align: right;\">\n",
       "      <th></th>\n",
       "      <th>Order ID</th>\n",
       "      <th>Order Date</th>\n",
       "      <th>Ship Date</th>\n",
       "      <th>Ship Mode</th>\n",
       "      <th>Customer ID</th>\n",
       "      <th>Customer Name</th>\n",
       "      <th>Segment</th>\n",
       "      <th>Country</th>\n",
       "      <th>City</th>\n",
       "      <th>State</th>\n",
       "      <th>Postal Code</th>\n",
       "      <th>Region</th>\n",
       "      <th>Product ID</th>\n",
       "      <th>Category</th>\n",
       "      <th>Sub-Category</th>\n",
       "      <th>Product Name</th>\n",
       "      <th>Sales</th>\n",
       "      <th>Year</th>\n",
       "    </tr>\n",
       "    <tr>\n",
       "      <th>Row ID</th>\n",
       "      <th></th>\n",
       "      <th></th>\n",
       "      <th></th>\n",
       "      <th></th>\n",
       "      <th></th>\n",
       "      <th></th>\n",
       "      <th></th>\n",
       "      <th></th>\n",
       "      <th></th>\n",
       "      <th></th>\n",
       "      <th></th>\n",
       "      <th></th>\n",
       "      <th></th>\n",
       "      <th></th>\n",
       "      <th></th>\n",
       "      <th></th>\n",
       "      <th></th>\n",
       "      <th></th>\n",
       "    </tr>\n",
       "  </thead>\n",
       "  <tbody>\n",
       "    <tr>\n",
       "      <th>1</th>\n",
       "      <td>CA-2017-152156</td>\n",
       "      <td>2017-11-08</td>\n",
       "      <td>11/11/2017</td>\n",
       "      <td>Second Class</td>\n",
       "      <td>CG-12520</td>\n",
       "      <td>Claire Gute</td>\n",
       "      <td>Consumer</td>\n",
       "      <td>United States</td>\n",
       "      <td>Henderson</td>\n",
       "      <td>Kentucky</td>\n",
       "      <td>55273.322403</td>\n",
       "      <td>South</td>\n",
       "      <td>FUR-BO-10001798</td>\n",
       "      <td>Furniture</td>\n",
       "      <td>Bookcases</td>\n",
       "      <td>Bush Somerset Collection Bookcase</td>\n",
       "      <td>261.96</td>\n",
       "      <td>2017</td>\n",
       "    </tr>\n",
       "    <tr>\n",
       "      <th>2</th>\n",
       "      <td>CA-2017-152156</td>\n",
       "      <td>2017-11-08</td>\n",
       "      <td>11/11/2017</td>\n",
       "      <td>Second Class</td>\n",
       "      <td>CG-12520</td>\n",
       "      <td>Claire Gute</td>\n",
       "      <td>Consumer</td>\n",
       "      <td>United States</td>\n",
       "      <td>Henderson</td>\n",
       "      <td>Kentucky</td>\n",
       "      <td>55273.322403</td>\n",
       "      <td>South</td>\n",
       "      <td>FUR-CH-10000454</td>\n",
       "      <td>Furniture</td>\n",
       "      <td>Chairs</td>\n",
       "      <td>Hon Deluxe Fabric Upholstered Stacking Chairs,...</td>\n",
       "      <td>731.94</td>\n",
       "      <td>2017</td>\n",
       "    </tr>\n",
       "    <tr>\n",
       "      <th>3</th>\n",
       "      <td>CA-2017-138688</td>\n",
       "      <td>2017-06-12</td>\n",
       "      <td>16/06/2017</td>\n",
       "      <td>Second Class</td>\n",
       "      <td>DV-13045</td>\n",
       "      <td>Darrin Van Huff</td>\n",
       "      <td>Corporate</td>\n",
       "      <td>United States</td>\n",
       "      <td>Los Angeles</td>\n",
       "      <td>California</td>\n",
       "      <td>55273.322403</td>\n",
       "      <td>West</td>\n",
       "      <td>OFF-LA-10000240</td>\n",
       "      <td>Office Supplies</td>\n",
       "      <td>Labels</td>\n",
       "      <td>Self-Adhesive Address Labels for Typewriters b...</td>\n",
       "      <td>14.62</td>\n",
       "      <td>2017</td>\n",
       "    </tr>\n",
       "  </tbody>\n",
       "</table>\n",
       "</div>"
      ],
      "text/plain": [
       "              Order ID Order Date   Ship Date     Ship Mode Customer ID  \\\n",
       "Row ID                                                                    \n",
       "1       CA-2017-152156 2017-11-08  11/11/2017  Second Class    CG-12520   \n",
       "2       CA-2017-152156 2017-11-08  11/11/2017  Second Class    CG-12520   \n",
       "3       CA-2017-138688 2017-06-12  16/06/2017  Second Class    DV-13045   \n",
       "\n",
       "          Customer Name    Segment        Country         City       State  \\\n",
       "Row ID                                                                       \n",
       "1           Claire Gute   Consumer  United States    Henderson    Kentucky   \n",
       "2           Claire Gute   Consumer  United States    Henderson    Kentucky   \n",
       "3       Darrin Van Huff  Corporate  United States  Los Angeles  California   \n",
       "\n",
       "         Postal Code Region       Product ID         Category Sub-Category  \\\n",
       "Row ID                                                                       \n",
       "1       55273.322403  South  FUR-BO-10001798        Furniture    Bookcases   \n",
       "2       55273.322403  South  FUR-CH-10000454        Furniture       Chairs   \n",
       "3       55273.322403   West  OFF-LA-10000240  Office Supplies       Labels   \n",
       "\n",
       "                                             Product Name   Sales  Year  \n",
       "Row ID                                                                   \n",
       "1                       Bush Somerset Collection Bookcase  261.96  2017  \n",
       "2       Hon Deluxe Fabric Upholstered Stacking Chairs,...  731.94  2017  \n",
       "3       Self-Adhesive Address Labels for Typewriters b...   14.62  2017  "
      ]
     },
     "execution_count": 22,
     "metadata": {},
     "output_type": "execute_result"
    }
   ],
   "source": [
    "df.head(3)"
   ]
  },
  {
   "cell_type": "code",
   "execution_count": 23,
   "id": "d612a8b5",
   "metadata": {
    "execution": {
     "iopub.execute_input": "2025-02-14T23:13:30.073532Z",
     "iopub.status.busy": "2025-02-14T23:13:30.073125Z",
     "iopub.status.idle": "2025-02-14T23:13:30.105276Z",
     "shell.execute_reply": "2025-02-14T23:13:30.104202Z"
    },
    "papermill": {
     "duration": 0.047678,
     "end_time": "2025-02-14T23:13:30.107099",
     "exception": false,
     "start_time": "2025-02-14T23:13:30.059421",
     "status": "completed"
    },
    "tags": []
   },
   "outputs": [
    {
     "data": {
      "text/html": [
       "<div>\n",
       "<style scoped>\n",
       "    .dataframe tbody tr th:only-of-type {\n",
       "        vertical-align: middle;\n",
       "    }\n",
       "\n",
       "    .dataframe tbody tr th {\n",
       "        vertical-align: top;\n",
       "    }\n",
       "\n",
       "    .dataframe thead th {\n",
       "        text-align: right;\n",
       "    }\n",
       "</style>\n",
       "<table border=\"1\" class=\"dataframe\">\n",
       "  <thead>\n",
       "    <tr style=\"text-align: right;\">\n",
       "      <th></th>\n",
       "      <th>Order ID</th>\n",
       "      <th>Order Date</th>\n",
       "      <th>Ship Date</th>\n",
       "      <th>Ship Mode</th>\n",
       "      <th>Customer ID</th>\n",
       "      <th>Customer Name</th>\n",
       "      <th>Segment</th>\n",
       "      <th>Country</th>\n",
       "      <th>City</th>\n",
       "      <th>State</th>\n",
       "      <th>Postal Code</th>\n",
       "      <th>Region</th>\n",
       "      <th>Product ID</th>\n",
       "      <th>Category</th>\n",
       "      <th>Sub-Category</th>\n",
       "      <th>Product Name</th>\n",
       "      <th>Sales</th>\n",
       "      <th>Year</th>\n",
       "    </tr>\n",
       "    <tr>\n",
       "      <th>Row ID</th>\n",
       "      <th></th>\n",
       "      <th></th>\n",
       "      <th></th>\n",
       "      <th></th>\n",
       "      <th></th>\n",
       "      <th></th>\n",
       "      <th></th>\n",
       "      <th></th>\n",
       "      <th></th>\n",
       "      <th></th>\n",
       "      <th></th>\n",
       "      <th></th>\n",
       "      <th></th>\n",
       "      <th></th>\n",
       "      <th></th>\n",
       "      <th></th>\n",
       "      <th></th>\n",
       "      <th></th>\n",
       "    </tr>\n",
       "  </thead>\n",
       "  <tbody>\n",
       "    <tr>\n",
       "      <th>3407</th>\n",
       "      <td>US-2015-150119</td>\n",
       "      <td>2015-04-23</td>\n",
       "      <td>27/04/2015</td>\n",
       "      <td>Standard Class</td>\n",
       "      <td>LB-16795</td>\n",
       "      <td>Laurel Beltran</td>\n",
       "      <td>Home Office</td>\n",
       "      <td>United States</td>\n",
       "      <td>Columbus</td>\n",
       "      <td>Ohio</td>\n",
       "      <td>55273.322403</td>\n",
       "      <td>East</td>\n",
       "      <td>FUR-CH-10002965</td>\n",
       "      <td>Furniture</td>\n",
       "      <td>Chairs</td>\n",
       "      <td>Global Leather Highback Executive Chair with P...</td>\n",
       "      <td>281.372</td>\n",
       "      <td>2015</td>\n",
       "    </tr>\n",
       "  </tbody>\n",
       "</table>\n",
       "</div>"
      ],
      "text/plain": [
       "              Order ID Order Date   Ship Date       Ship Mode Customer ID  \\\n",
       "Row ID                                                                      \n",
       "3407    US-2015-150119 2015-04-23  27/04/2015  Standard Class    LB-16795   \n",
       "\n",
       "         Customer Name      Segment        Country      City State  \\\n",
       "Row ID                                                               \n",
       "3407    Laurel Beltran  Home Office  United States  Columbus  Ohio   \n",
       "\n",
       "         Postal Code Region       Product ID   Category Sub-Category  \\\n",
       "Row ID                                                                 \n",
       "3407    55273.322403   East  FUR-CH-10002965  Furniture       Chairs   \n",
       "\n",
       "                                             Product Name    Sales  Year  \n",
       "Row ID                                                                    \n",
       "3407    Global Leather Highback Executive Chair with P...  281.372  2015  "
      ]
     },
     "execution_count": 23,
     "metadata": {},
     "output_type": "execute_result"
    }
   ],
   "source": [
    "#First we will drop the duplicate values\n",
    "df[df.duplicated()]"
   ]
  },
  {
   "cell_type": "code",
   "execution_count": 24,
   "id": "b22b26cd",
   "metadata": {
    "execution": {
     "iopub.execute_input": "2025-02-14T23:13:30.131592Z",
     "iopub.status.busy": "2025-02-14T23:13:30.131197Z",
     "iopub.status.idle": "2025-02-14T23:13:30.152968Z",
     "shell.execute_reply": "2025-02-14T23:13:30.151688Z"
    },
    "papermill": {
     "duration": 0.037515,
     "end_time": "2025-02-14T23:13:30.156115",
     "exception": false,
     "start_time": "2025-02-14T23:13:30.118600",
     "status": "completed"
    },
    "tags": []
   },
   "outputs": [],
   "source": [
    "df.drop_duplicates(inplace=True)"
   ]
  },
  {
   "cell_type": "code",
   "execution_count": 25,
   "id": "e6de8df0",
   "metadata": {
    "execution": {
     "iopub.execute_input": "2025-02-14T23:13:30.194866Z",
     "iopub.status.busy": "2025-02-14T23:13:30.194483Z",
     "iopub.status.idle": "2025-02-14T23:13:30.208867Z",
     "shell.execute_reply": "2025-02-14T23:13:30.207639Z"
    },
    "papermill": {
     "duration": 0.037282,
     "end_time": "2025-02-14T23:13:30.210889",
     "exception": false,
     "start_time": "2025-02-14T23:13:30.173607",
     "status": "completed"
    },
    "tags": []
   },
   "outputs": [
    {
     "data": {
      "text/html": [
       "<div>\n",
       "<style scoped>\n",
       "    .dataframe tbody tr th:only-of-type {\n",
       "        vertical-align: middle;\n",
       "    }\n",
       "\n",
       "    .dataframe tbody tr th {\n",
       "        vertical-align: top;\n",
       "    }\n",
       "\n",
       "    .dataframe thead th {\n",
       "        text-align: right;\n",
       "    }\n",
       "</style>\n",
       "<table border=\"1\" class=\"dataframe\">\n",
       "  <thead>\n",
       "    <tr style=\"text-align: right;\">\n",
       "      <th></th>\n",
       "      <th>Category</th>\n",
       "      <th>City</th>\n",
       "    </tr>\n",
       "  </thead>\n",
       "  <tbody>\n",
       "    <tr>\n",
       "      <th>0</th>\n",
       "      <td>Furniture</td>\n",
       "      <td>2077</td>\n",
       "    </tr>\n",
       "    <tr>\n",
       "      <th>1</th>\n",
       "      <td>Office Supplies</td>\n",
       "      <td>5909</td>\n",
       "    </tr>\n",
       "    <tr>\n",
       "      <th>2</th>\n",
       "      <td>Technology</td>\n",
       "      <td>1813</td>\n",
       "    </tr>\n",
       "  </tbody>\n",
       "</table>\n",
       "</div>"
      ],
      "text/plain": [
       "          Category  City\n",
       "0        Furniture  2077\n",
       "1  Office Supplies  5909\n",
       "2       Technology  1813"
      ]
     },
     "execution_count": 25,
     "metadata": {},
     "output_type": "execute_result"
    }
   ],
   "source": [
    "#Which city gave the highesct sale\n",
    "df_CS=df.groupby(\"Category\")[\"City\"].size().reset_index()\n",
    "df_CS"
   ]
  },
  {
   "cell_type": "code",
   "execution_count": 26,
   "id": "dfe959dd",
   "metadata": {
    "execution": {
     "iopub.execute_input": "2025-02-14T23:13:30.237076Z",
     "iopub.status.busy": "2025-02-14T23:13:30.236720Z",
     "iopub.status.idle": "2025-02-14T23:13:30.411520Z",
     "shell.execute_reply": "2025-02-14T23:13:30.410439Z"
    },
    "papermill": {
     "duration": 0.189878,
     "end_time": "2025-02-14T23:13:30.413279",
     "exception": false,
     "start_time": "2025-02-14T23:13:30.223401",
     "status": "completed"
    },
    "tags": []
   },
   "outputs": [
    {
     "data": {
      "image/png": "[encoded data removed]",
      "text/plain": [
       "<Figure size 500x600 with 1 Axes>"
      ]
     },
     "metadata": {},
     "output_type": "display_data"
    }
   ],
   "source": [
    "df_CS[\"City\"].plot(kind=\"pie\", startangle=90, figsize=(5,6),autopct='%1.1f%%', legend=True, ylabel='', labels=df_CS[\"Category\"])\n",
    "plt.title(\"Different categroeis according to different cities\")\n",
    "plt.show()"
   ]
  },
  {
   "cell_type": "code",
   "execution_count": 27,
   "id": "951a0769",
   "metadata": {
    "execution": {
     "iopub.execute_input": "2025-02-14T23:13:30.439214Z",
     "iopub.status.busy": "2025-02-14T23:13:30.438870Z",
     "iopub.status.idle": "2025-02-14T23:13:30.450955Z",
     "shell.execute_reply": "2025-02-14T23:13:30.449891Z"
    },
    "papermill": {
     "duration": 0.026965,
     "end_time": "2025-02-14T23:13:30.452692",
     "exception": false,
     "start_time": "2025-02-14T23:13:30.425727",
     "status": "completed"
    },
    "tags": []
   },
   "outputs": [
    {
     "data": {
      "text/html": [
       "<div>\n",
       "<style scoped>\n",
       "    .dataframe tbody tr th:only-of-type {\n",
       "        vertical-align: middle;\n",
       "    }\n",
       "\n",
       "    .dataframe tbody tr th {\n",
       "        vertical-align: top;\n",
       "    }\n",
       "\n",
       "    .dataframe thead th {\n",
       "        text-align: right;\n",
       "    }\n",
       "</style>\n",
       "<table border=\"1\" class=\"dataframe\">\n",
       "  <thead>\n",
       "    <tr style=\"text-align: right;\">\n",
       "      <th></th>\n",
       "      <th>Category</th>\n",
       "      <th>Customer ID</th>\n",
       "    </tr>\n",
       "  </thead>\n",
       "  <tbody>\n",
       "    <tr>\n",
       "      <th>0</th>\n",
       "      <td>Furniture</td>\n",
       "      <td>2077</td>\n",
       "    </tr>\n",
       "    <tr>\n",
       "      <th>1</th>\n",
       "      <td>Office Supplies</td>\n",
       "      <td>5909</td>\n",
       "    </tr>\n",
       "    <tr>\n",
       "      <th>2</th>\n",
       "      <td>Technology</td>\n",
       "      <td>1813</td>\n",
       "    </tr>\n",
       "  </tbody>\n",
       "</table>\n",
       "</div>"
      ],
      "text/plain": [
       "          Category  Customer ID\n",
       "0        Furniture         2077\n",
       "1  Office Supplies         5909\n",
       "2       Technology         1813"
      ]
     },
     "execution_count": 27,
     "metadata": {},
     "output_type": "execute_result"
    }
   ],
   "source": [
    "#Which customer has ordered which category\n",
    "df_CUS=df.groupby(\"Category\")[\"Customer ID\"].size().reset_index()\n",
    "df_CUS\n"
   ]
  },
  {
   "cell_type": "code",
   "execution_count": 28,
   "id": "2044c943",
   "metadata": {
    "execution": {
     "iopub.execute_input": "2025-02-14T23:13:30.488016Z",
     "iopub.status.busy": "2025-02-14T23:13:30.487532Z",
     "iopub.status.idle": "2025-02-14T23:13:30.695434Z",
     "shell.execute_reply": "2025-02-14T23:13:30.694378Z"
    },
    "papermill": {
     "duration": 0.226986,
     "end_time": "2025-02-14T23:13:30.697195",
     "exception": false,
     "start_time": "2025-02-14T23:13:30.470209",
     "status": "completed"
    },
    "tags": []
   },
   "outputs": [
    {
     "data": {
      "image/png": "[encoded data removed]",
      "text/plain": [
       "<Figure size 640x480 with 1 Axes>"
      ]
     },
     "metadata": {},
     "output_type": "display_data"
    }
   ],
   "source": [
    "df_CUS.plot(kind=\"bar\", x=\"Category\", y=\"Customer ID\", color=\"black\")\n",
    "plt.xlabel(\"Categories\")\n",
    "plt.ylabel(\"Customer ID\")\n",
    "plt. title(\"Category of furniture orderd by Customer ID\")\n",
    "plt.xticks(rotation=30)\n",
    "plt.legend()\n",
    "plt.show()"
   ]
  },
  {
   "cell_type": "markdown",
   "id": "b5c7bf96",
   "metadata": {
    "papermill": {
     "duration": 0.012888,
     "end_time": "2025-02-14T23:13:30.723020",
     "exception": false,
     "start_time": "2025-02-14T23:13:30.710132",
     "status": "completed"
    },
    "tags": []
   },
   "source": [
    "We can see that maximum number of customers ordered office suppliers"
   ]
  },
  {
   "cell_type": "code",
   "execution_count": 29,
   "id": "9e5e1763",
   "metadata": {
    "execution": {
     "iopub.execute_input": "2025-02-14T23:13:30.750696Z",
     "iopub.status.busy": "2025-02-14T23:13:30.750240Z",
     "iopub.status.idle": "2025-02-14T23:13:31.290935Z",
     "shell.execute_reply": "2025-02-14T23:13:31.289859Z"
    },
    "papermill": {
     "duration": 0.556583,
     "end_time": "2025-02-14T23:13:31.292667",
     "exception": false,
     "start_time": "2025-02-14T23:13:30.736084",
     "status": "completed"
    },
    "tags": []
   },
   "outputs": [
    {
     "data": {
      "image/png": "[encoded data removed]",
      "text/plain": [
       "<Figure size 800x600 with 1 Axes>"
      ]
     },
     "metadata": {},
     "output_type": "display_data"
    }
   ],
   "source": [
    "#We plot a histogram to see how many numbers of sub categories are in each category\n",
    "df_grouped = df.groupby([\"Category\", \"Sub-Category\"]).size().unstack()\n",
    "# Plot as a bar chart\n",
    "df_grouped.plot(kind=\"bar\", figsize=(8,6), stacked=True)\n",
    "# Add title\n",
    "plt.title(\"Sub-Category Frequency per Category\")\n",
    "plt.ylabel(\"Count\")\n",
    "plt.show()\n"
   ]
  },
  {
   "cell_type": "code",
   "execution_count": null,
   "id": "ea4f9037",
   "metadata": {
    "papermill": {
     "duration": 0.013956,
     "end_time": "2025-02-14T23:13:31.321216",
     "exception": false,
     "start_time": "2025-02-14T23:13:31.307260",
     "status": "completed"
    },
    "tags": []
   },
   "outputs": [],
   "source": []
  }
 ],
 "metadata": {
  "kaggle": {
   "accelerator": "none",
   "dataSources": [
    {
     "datasetId": 835308,
     "sourceId": 1480443,
     "sourceType": "datasetVersion"
    }
   ],
   "dockerImageVersionId": 30886,
   "isGpuEnabled": false,
   "isInternetEnabled": true,
   "language": "python",
   "sourceType": "notebook"
  },
  "kernelspec": {
   "display_name": "Python 3",
   "language": "python",
   "name": "python3"
  },
  "language_info": {
   "codemirror_mode": {
    "name": "ipython",
    "version": 3
   },
   "file_extension": ".py",
   "mimetype": "text/x-python",
   "name": "python",
   "nbconvert_exporter": "python",
   "pygments_lexer": "ipython3",
   "version": "3.10.12"
  },
  "papermill": {
   "default_parameters": {},
   "duration": 9.864693,
   "end_time": "2025-02-14T23:13:32.056135",
   "environment_variables": {},
   "exception": null,
   "input_path": "__notebook__.ipynb",
   "output_path": "__notebook__.ipynb",
   "parameters": {},
   "start_time": "2025-02-14T23:13:22.191442",
   "version": "2.6.0"
  }
 },
 "nbformat": 4,
 "nbformat_minor": 5
}
